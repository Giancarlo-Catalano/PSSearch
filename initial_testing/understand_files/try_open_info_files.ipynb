{
 "cells": [
  {
   "cell_type": "code",
   "execution_count": 3,
   "id": "initial_id",
   "metadata": {
    "collapsed": true,
    "ExecuteTime": {
     "end_time": "2025-03-20T10:56:02.791038200Z",
     "start_time": "2025-03-20T10:56:02.784390600Z"
    }
   },
   "outputs": [
    {
     "name": "stdout",
     "output_type": "stream",
     "text": [
      "Attempted to find the module numpy._core.multiarray\n",
      "Attempted to find the module numpy\n",
      "Attempted to find the module numpy\n",
      "Success with gzip using custom unpickler.\n",
      "[ 3  4 19 ... 13  5  5]\n"
     ]
    }
   ],
   "source": [
    "from PolishSystem.read_data import get_cluster_info_file_name, read_cluster_info_file\n",
    "\n",
    "vector_size = 20\n",
    "clustering_method = \"qmc\"\n",
    "data_folder = r\"C:\\Users\\gac8\\PycharmProjects\\PSSearch\\data\\retail_forecasting\"\n",
    "\n",
    "cluster_info_path = get_cluster_info_file_name(vector_size = vector_size,\n",
    "                                               clustering_method = clustering_method,\n",
    "                                               data_folder=data_folder)\n",
    "\n",
    "data = read_cluster_info_file(cluster_info_path, user=\"gian\")\n",
    "\n",
    "print(data)"
   ]
  },
  {
   "cell_type": "code",
   "execution_count": 5,
   "outputs": [
    {
     "name": "stdout",
     "output_type": "stream",
     "text": [
      "(91599,)\n"
     ]
    }
   ],
   "source": [
    "print(data.shape)"
   ],
   "metadata": {
    "collapsed": false,
    "ExecuteTime": {
     "end_time": "2025-03-20T10:56:47.089265300Z",
     "start_time": "2025-03-20T10:56:47.069265400Z"
    }
   },
   "id": "593fc1a5e67a9b43"
  }
 ],
 "metadata": {
  "kernelspec": {
   "display_name": "Python 3",
   "language": "python",
   "name": "python3"
  },
  "language_info": {
   "codemirror_mode": {
    "name": "ipython",
    "version": 2
   },
   "file_extension": ".py",
   "mimetype": "text/x-python",
   "name": "python",
   "nbconvert_exporter": "python",
   "pygments_lexer": "ipython2",
   "version": "2.7.6"
  }
 },
 "nbformat": 4,
 "nbformat_minor": 5
}
