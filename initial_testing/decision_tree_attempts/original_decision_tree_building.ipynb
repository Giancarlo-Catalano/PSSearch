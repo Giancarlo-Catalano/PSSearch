{
 "cells": [
  {
   "cell_type": "code",
   "execution_count": 1,
   "id": "initial_id",
   "metadata": {
    "collapsed": true,
    "ExecuteTime": {
     "end_time": "2025-03-20T11:22:24.841685300Z",
     "start_time": "2025-03-20T11:22:22.148953400Z"
    }
   },
   "outputs": [
    {
     "name": "stdout",
     "output_type": "stream",
     "text": [
      "Running the algorithm to generate the PRef using GA......Finished (took 0.817493 seconds)\n"
     ]
    }
   ],
   "source": [
    "\n",
    "\n",
    "from SimplifiedSystem.search_methods import search_local_ps\n",
    "from utils import announce\n",
    "from SimplifiedSystem.PSSearchSettings import get_default_search_settings\n",
    "from Core.FullSolution import FullSolution\n",
    "from Core.PS import PS, contains, STAR\n",
    "from BenchmarkProblems.RoyalRoad import RoyalRoad\n",
    "from Core.get_pRef import get_pRef_from_metaheuristic\n",
    "import pymoo\n",
    "\n",
    "# here we test if we can find pss\n",
    "\n",
    "# first, we make a benchmark problem\n",
    "problem = RoyalRoad(5)\n",
    "\n",
    "# then we make a pRef\n",
    "pRef = get_pRef_from_metaheuristic(problem=problem,\n",
    "                                 sample_size=10000,\n",
    "                                 which_algorithm=\"GA\",\n",
    "                                   unique=True,\n",
    "                                 verbose=True)\n",
    "\n",
    "\n",
    "    "
   ]
  },
  {
   "cell_type": "code",
   "execution_count": 5,
   "outputs": [
    {
     "name": "stdout",
     "output_type": "stream",
     "text": [
      "Splitting a pRef of size 879\n",
      "Splitting a pRef of size 370\n",
      "Splitting a pRef of size 153\n",
      "Splitting a pRef of size 217\n",
      "Splitting a pRef of size 509\n",
      "Splitting a pRef of size 217\n",
      "Splitting a pRef of size 292\n",
      "Root\n",
      "(Branch) \t\n",
      "\t[1 1 1 1 * * * * * * * * * * * * * * * *][-16.000, 16.043, ]\t\n",
      "\tstats:n->879, average->8.200227531285552, variance->22.166962405567396, sd->4.708180370967896, mse->22.166962405567396, mae->3.8045819468550075, min->0.0, max->20.0\n",
      "├── Matching\n",
      "│   (Branch) \t\n",
      "│   \t[* * * * 1 1 1 1 * * * * * * * * * * * *][-16.000, 6.790, ]\t\n",
      "│   \tstats:n->370, average->11.102702702702702, variance->8.319181884587291, sd->2.884299201641066, mse->8.319181884587291, mae->2.2698027757487225, min->4.0, max->20.0\n",
      "│   ├── Matching\n",
      "│   │   (Leaf) LeafNode(prediction = 12.58, mae = 1.66)\n",
      "│   └── NOT matching\n",
      "│       (Leaf) LeafNode(prediction = 10.06, mae = 2.47)\n",
      "└── NOT matching\n",
      "    (Branch) \t\n",
      "    \t[* * * * 1 * * * * * * * * * * * 1 1 * 1][-16.000, 12.291, ]\t\n",
      "    \tstats:n->509, average->6.090373280943026, variance->21.657844457910848, sd->4.653798927533381, mse->21.657844457910848, mae->4.12522724553325, min->0.0, max->16.0\n",
      "    ├── Matching\n",
      "    │   (Leaf) LeafNode(prediction = 9.64, mae = 2.65)\n",
      "    └── NOT matching\n",
      "        (Leaf) LeafNode(prediction = 3.45, mae = 3.12)\n"
     ]
    }
   ],
   "source": [
    "\n",
    "from DecisionTree.PSDecisionTree import PSDecisionTree\n",
    "\n",
    "search_settings = get_default_search_settings()\n",
    "search_settings.verbose = False\n",
    "search_settings.metrics = \"simplicity variance\"\n",
    "tree = PSDecisionTree(maximum_depth=2, search_settings=search_settings)\n",
    "\n",
    "tree.train_from_pRef(pRef)\n",
    "\n",
    "tree.print_ASCII()"
   ],
   "metadata": {
    "collapsed": false,
    "ExecuteTime": {
     "end_time": "2025-03-20T11:24:55.189176900Z",
     "start_time": "2025-03-20T11:24:41.214802400Z"
    }
   },
   "id": "c2ab43c5aa54efa0"
  }
 ],
 "metadata": {
  "kernelspec": {
   "display_name": "Python 3",
   "language": "python",
   "name": "python3"
  },
  "language_info": {
   "codemirror_mode": {
    "name": "ipython",
    "version": 2
   },
   "file_extension": ".py",
   "mimetype": "text/x-python",
   "name": "python",
   "nbconvert_exporter": "python",
   "pygments_lexer": "ipython2",
   "version": "2.7.6"
  }
 },
 "nbformat": 4,
 "nbformat_minor": 5
}
