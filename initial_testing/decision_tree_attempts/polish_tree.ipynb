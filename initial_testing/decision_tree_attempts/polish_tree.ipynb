{
 "cells": [
  {
   "cell_type": "code",
   "execution_count": 1,
   "outputs": [
    {
     "name": "stdout",
     "output_type": "stream",
     "text": [
      "PRef with 52626 samples, mean = 0.88\n"
     ]
    }
   ],
   "source": [
    "import os.path\n",
    "\n",
    "from PolishSystem.read_data import get_pRef_from_vectors, get_vectors_file_name, get_fitness_file_name\n",
    "\n",
    "# this section will generate the search objectives\n",
    "size = 20\n",
    "method = \"qmc\"\n",
    "fitness_column_to_use = 0\n",
    "data_folder = r\"C:\\Users\\gac8\\PycharmProjects\\PSSearch\\data\\retail_forecasting\"\n",
    "\n",
    "sessions = get_pRef_from_vectors(get_vectors_file_name(data_folder, size, method), \n",
    "                                     get_fitness_file_name(data_folder, size, method), fitness_column_to_use)\n",
    "\n",
    "\n",
    "print(sessions)"
   ],
   "metadata": {
    "collapsed": false,
    "ExecuteTime": {
     "end_time": "2025-03-20T13:07:00.824650600Z",
     "start_time": "2025-03-20T13:06:59.082121300Z"
    }
   },
   "id": "c53213f070fd8f45"
  },
  {
   "cell_type": "code",
   "execution_count": 2,
   "outputs": [
    {
     "name": "stdout",
     "output_type": "stream",
     "text": [
      "Splitting a pRef of size 52626\n",
      "=================================================================================\n",
      "n_gen  |  n_eval  |     cv_min    |     cv_avg    |     f_avg     |     f_min    \n",
      "=================================================================================\n",
      "     1 |       61 |  0.000000E+00 |  0.000000E+00 |  0.0341920000 |  0.0340722684\n",
      "     2 |      161 |  0.000000E+00 |  0.000000E+00 |  0.0341848555 |  0.0340722684\n",
      "     3 |      261 |  0.000000E+00 |  0.000000E+00 |  0.0341753352 |  0.0340722684\n",
      "     4 |      361 |  0.000000E+00 |  0.000000E+00 |  0.0341616245 |  0.0340722684\n",
      "     5 |      461 |  0.000000E+00 |  0.000000E+00 |  0.0341473358 |  0.0340722684\n",
      "     6 |      561 |  0.000000E+00 |  0.000000E+00 |  0.0341365455 |  0.0340603232\n",
      "     7 |      661 |  0.000000E+00 |  0.000000E+00 |  0.0341270958 |  0.0340603232\n",
      "WARNING: Mating could not produce the required number of (unique) offsprings!\n",
      "     8 |      760 |  0.000000E+00 |  0.000000E+00 |  0.0341220027 |  0.0340603232\n",
      "     9 |      860 |  0.000000E+00 |  0.000000E+00 |  0.0341202216 |  0.0340603232\n",
      "    10 |      960 |  0.000000E+00 |  0.000000E+00 |  0.0341195243 |  0.0340603232\n",
      "    11 |     1060 |  0.000000E+00 |  0.000000E+00 |  0.0341193154 |  0.0340603232\n",
      "The pss found in the search are \n",
      "\t [* * 1 * * * * * * * * * * 1 * * * * * *][0.034, ]\n",
      "The splitting PS is [* * 1 * * * * * * * * * * 1 * * * * * *][0.034, ]\n",
      "Splitting a pRef of size 6788\n",
      "=================================================================================\n",
      "n_gen  |  n_eval  |     cv_min    |     cv_avg    |     f_avg     |     f_min    \n",
      "=================================================================================\n",
      "     1 |       59 |  0.000000E+00 |  0.000000E+00 |  0.0446901257 |  0.0445522318\n",
      "     2 |      159 |  0.000000E+00 |  0.000000E+00 |  0.0446862406 |  0.0445522318\n",
      "     3 |      259 |  0.000000E+00 |  0.000000E+00 |  0.0446768094 |  0.0445522318\n",
      "     4 |      359 |  0.000000E+00 |  0.000000E+00 |  0.0446669317 |  0.0445522318\n",
      "     5 |      459 |  0.000000E+00 |  0.000000E+00 |  0.0446576494 |  0.0445343458\n",
      "     6 |      559 |  0.000000E+00 |  0.000000E+00 |  0.0446417187 |  0.0445343458\n",
      "     7 |      659 |  0.000000E+00 |  0.000000E+00 |  0.0446270986 |  0.0445343458\n",
      "     8 |      759 |  0.000000E+00 |  0.000000E+00 |  0.0446170952 |  0.0445343458\n",
      "     9 |      859 |  0.000000E+00 |  0.000000E+00 |  0.0446116687 |  0.0445343458\n",
      "    10 |      959 |  0.000000E+00 |  0.000000E+00 |  0.0446091358 |  0.0445343458\n",
      "    11 |     1059 |  0.000000E+00 |  0.000000E+00 |  0.0446083306 |  0.0445343458\n",
      "The pss found in the search are \n",
      "\t [* * 1 * * 1 * * * * 1 * * * * * 1 * * *][0.045, ]\n",
      "The splitting PS is [* * 1 * * 1 * * * * 1 * * * * * 1 * * *][0.045, ]\n",
      "Splitting a pRef of size 1464\n",
      "=================================================================================\n",
      "n_gen  |  n_eval  |     cv_min    |     cv_avg    |     f_avg     |     f_min    \n",
      "=================================================================================\n",
      "     1 |       61 |  0.000000E+00 |  0.000000E+00 |  0.0551240378 |  0.0547835015\n",
      "     2 |      161 |  0.000000E+00 |  0.000000E+00 |  0.0550952560 |  0.0547559721\n",
      "     3 |      261 |  0.000000E+00 |  0.000000E+00 |  0.0550697173 |  0.0547559721\n",
      "     4 |      361 |  0.000000E+00 |  0.000000E+00 |  0.0550276099 |  0.0547559721\n",
      "     5 |      461 |  0.000000E+00 |  0.000000E+00 |  0.0549843951 |  0.0547559721\n",
      "     6 |      561 |  0.000000E+00 |  0.000000E+00 |  0.0549265588 |  0.0547559721\n",
      "     7 |      661 |  0.000000E+00 |  0.000000E+00 |  0.0548910038 |  0.0547559721\n",
      "     8 |      761 |  0.000000E+00 |  0.000000E+00 |  0.0548673567 |  0.0547559721\n",
      "     9 |      861 |  0.000000E+00 |  0.000000E+00 |  0.0548425987 |  0.0547559721\n",
      "    10 |      961 |  0.000000E+00 |  0.000000E+00 |  0.0548194885 |  0.0547559721\n",
      "    11 |     1061 |  0.000000E+00 |  0.000000E+00 |  0.0547813811 |  0.0547559721\n",
      "The pss found in the search are \n",
      "\t [* * * * * * 1 * * * * * * * * 1 * * * *][0.055, ]\n",
      "The splitting PS is [* * * * * * 1 * * * * * * * * 1 * * * *][0.055, ]\n",
      "Splitting a pRef of size 578\n",
      "Splitting a pRef of size 886\n",
      "Splitting a pRef of size 5324\n",
      "=================================================================================\n",
      "n_gen  |  n_eval  |     cv_min    |     cv_avg    |     f_avg     |     f_min    \n",
      "=================================================================================\n",
      "     1 |       57 |  0.000000E+00 |  0.000000E+00 |  0.0415937476 |  0.0415327062\n",
      "     2 |      157 |  0.000000E+00 |  0.000000E+00 |  0.0415879058 |  0.0414985443\n",
      "     3 |      257 |  0.000000E+00 |  0.000000E+00 |  0.0415785148 |  0.0414985443\n",
      "     4 |      357 |  0.000000E+00 |  0.000000E+00 |  0.0415718379 |  0.0414985443\n",
      "     5 |      457 |  0.000000E+00 |  0.000000E+00 |  0.0415650439 |  0.0414985443\n",
      "     6 |      557 |  0.000000E+00 |  0.000000E+00 |  0.0415592890 |  0.0414985443\n",
      "     7 |      657 |  0.000000E+00 |  0.000000E+00 |  0.0415526108 |  0.0414985443\n",
      "     8 |      757 |  0.000000E+00 |  0.000000E+00 |  0.0415479712 |  0.0414985443\n",
      "     9 |      857 |  0.000000E+00 |  0.000000E+00 |  0.0415448298 |  0.0414985443\n",
      "    10 |      957 |  0.000000E+00 |  0.000000E+00 |  0.0415419068 |  0.0414985443\n",
      "    11 |     1057 |  0.000000E+00 |  0.000000E+00 |  0.0415389116 |  0.0414985443\n",
      "The pss found in the search are \n",
      "\t [* 1 1 * 1 1 1 * * * * 1 1 * * 1 1 * * *][0.041, ]\n",
      "The splitting PS is [* 1 1 * 1 1 1 * * * * 1 1 * * 1 1 * * *][0.041, ]\n",
      "Splitting a pRef of size 2\n",
      "Splitting a pRef of size 5322\n",
      "Splitting a pRef of size 45838\n",
      "=================================================================================\n",
      "n_gen  |  n_eval  |     cv_min    |     cv_avg    |     f_avg     |     f_min    \n",
      "=================================================================================\n",
      "     1 |       60 |  0.000000E+00 |  0.000000E+00 |  0.0324802642 |  0.0324589134\n",
      "     2 |      160 |  0.000000E+00 |  0.000000E+00 |  0.0324794516 |  0.0324589134\n",
      "     3 |      260 |  0.000000E+00 |  0.000000E+00 |  0.0324762664 |  0.0324557649\n",
      "     4 |      360 |  0.000000E+00 |  0.000000E+00 |  0.0324721549 |  0.0324557649\n",
      "     5 |      460 |  0.000000E+00 |  0.000000E+00 |  0.0324688776 |  0.0324411456\n",
      "     6 |      560 |  0.000000E+00 |  0.000000E+00 |  0.0324661547 |  0.0324340538\n",
      "     7 |      660 |  0.000000E+00 |  0.000000E+00 |  0.0324648504 |  0.0324340538\n",
      "     8 |      760 |  0.000000E+00 |  0.000000E+00 |  0.0324639587 |  0.0324340538\n",
      "     9 |      860 |  0.000000E+00 |  0.000000E+00 |  0.0324632336 |  0.0324340538\n",
      "    10 |      960 |  0.000000E+00 |  0.000000E+00 |  0.0324622928 |  0.0324340538\n",
      "    11 |     1060 |  0.000000E+00 |  0.000000E+00 |  0.0324620415 |  0.0324340538\n",
      "The pss found in the search are \n",
      "\t [* * * * * * * * * * * * * 1 * * 1 * * *][0.032, ]\n",
      "The splitting PS is [* * * * * * * * * * * * * 1 * * 1 * * *][0.032, ]\n",
      "Splitting a pRef of size 12363\n",
      "=================================================================================\n",
      "n_gen  |  n_eval  |     cv_min    |     cv_avg    |     f_avg     |     f_min    \n",
      "=================================================================================\n",
      "     1 |       65 |  0.000000E+00 |  0.000000E+00 |  0.0360473959 |  0.0359825914\n",
      "     2 |      165 |  0.000000E+00 |  0.000000E+00 |  0.0360442650 |  0.0359825914\n",
      "     3 |      265 |  0.000000E+00 |  0.000000E+00 |  0.0360378910 |  0.0359825914\n",
      "     4 |      365 |  0.000000E+00 |  0.000000E+00 |  0.0360280539 |  0.0359825914\n",
      "     5 |      465 |  0.000000E+00 |  0.000000E+00 |  0.0360172330 |  0.0359825914\n",
      "     6 |      565 |  0.000000E+00 |  0.000000E+00 |  0.0360126919 |  0.0359825914\n",
      "     7 |      665 |  0.000000E+00 |  0.000000E+00 |  0.0360053689 |  0.0359825914\n",
      "     8 |      765 |  0.000000E+00 |  0.000000E+00 |  0.0360001069 |  0.0359825914\n",
      "     9 |      865 |  0.000000E+00 |  0.000000E+00 |  0.0359960840 |  0.0359825914\n",
      "    10 |      965 |  0.000000E+00 |  0.000000E+00 |  0.0359942487 |  0.0359825914\n",
      "    11 |     1065 |  0.000000E+00 |  0.000000E+00 |  0.0359934139 |  0.0359825914\n",
      "The pss found in the search are \n",
      "\t [* * * * * * * 1 * * 1 * 1 * * * * 1 * *][0.036, ]\n",
      "The splitting PS is [* * * * * * * 1 * * 1 * 1 * * * * 1 * *][0.036, ]\n",
      "Splitting a pRef of size 4\n",
      "Splitting a pRef of size 12359\n",
      "Splitting a pRef of size 33475\n",
      "=================================================================================\n",
      "n_gen  |  n_eval  |     cv_min    |     cv_avg    |     f_avg     |     f_min    \n",
      "=================================================================================\n",
      "     1 |       67 |  0.000000E+00 |  0.000000E+00 |  0.0310948979 |  0.0310748633\n",
      "     2 |      167 |  0.000000E+00 |  0.000000E+00 |  0.0310928212 |  0.0310748633\n",
      "     3 |      267 |  0.000000E+00 |  0.000000E+00 |  0.0310901180 |  0.0310739039\n",
      "     4 |      367 |  0.000000E+00 |  0.000000E+00 |  0.0310869359 |  0.0310739039\n",
      "     5 |      467 |  0.000000E+00 |  0.000000E+00 |  0.0310830451 |  0.0310739039\n",
      "     6 |      567 |  0.000000E+00 |  0.000000E+00 |  0.0310826959 |  0.0310739039\n",
      "     7 |      667 |  0.000000E+00 |  0.000000E+00 |  0.0310824679 |  0.0310739039\n",
      "     8 |      767 |  0.000000E+00 |  0.000000E+00 |  0.0310824430 |  0.0310739039\n",
      "     9 |      867 |  0.000000E+00 |  0.000000E+00 |  0.0310823674 |  0.0310739039\n",
      "    10 |      967 |  0.000000E+00 |  0.000000E+00 |  0.0310823302 |  0.0310739039\n",
      "    11 |     1067 |  0.000000E+00 |  0.000000E+00 |  0.0310823302 |  0.0310739039\n",
      "The pss found in the search are \n",
      "\t [* * 1 * * * * * 1 * * * * * 1 1 * * 1 *][0.031, ]\n",
      "The splitting PS is [* * 1 * * * * * 1 * * * * * 1 1 * * 1 *][0.031, ]\n",
      "Splitting a pRef of size 3\n",
      "Splitting a pRef of size 33472\n"
     ]
    }
   ],
   "source": [
    "\n",
    "\n",
    "from Core.PS import PS\n",
    "from SimplifiedSystem.ps_search_utils import get_metric_function\n",
    "from Core.PRef import PRef\n",
    "from PolishSystem.PolishPSDecisionTree import PolishPSDecisionTree\n",
    "from SimplifiedSystem.PSSearchSettings import get_default_search_settings\n",
    "\n",
    "search_settings = get_default_search_settings()\n",
    "search_settings.verbose = True\n",
    "search_settings.ps_search_budget=1000   # the recommended quantity is 5000 (this is per split)\n",
    "\n",
    "\n",
    "def get_objectives_for_partition(pRef: PRef):\n",
    "    \n",
    "    # get_metric_function(\"sample_count\", sessions) to count how many sessions are covered by a pattern\n",
    "    \n",
    "    def reject_if_overly_specific(ps: PS):\n",
    "        match_count = len(pRef.fitnesses_of_observations(ps))\n",
    "        if match_count < 1:\n",
    "            return 100\n",
    "        else:\n",
    "            return 0\n",
    "        \n",
    "    return [get_metric_function(\"variance\", pRef)] # PS-SW\n",
    "    #return [get_metric_function(\"consistency\", pRef), reject_if_overly_specific]\n",
    "\n",
    "\n",
    "tree = PolishPSDecisionTree(maximum_depth=3, \n",
    "                            search_settings=search_settings,\n",
    "                            get_objectives_for_partition=get_objectives_for_partition)\n",
    "\n",
    "tree.train_from_pRef(sessions)"
   ],
   "metadata": {
    "collapsed": false,
    "ExecuteTime": {
     "end_time": "2025-03-20T12:52:00.300924500Z",
     "start_time": "2025-03-20T12:51:51.020307200Z"
    }
   },
   "id": "initial_id"
  },
  {
   "cell_type": "code",
   "execution_count": 3,
   "outputs": [
    {
     "name": "stdout",
     "output_type": "stream",
     "text": [
      "Root\n",
      "(Branch) \t\n",
      "\t[* * 1 * * * * * * * * * * 1 * * * * * *][0.034, ]\t\n",
      "\tstats:n->52626, average->0.8756650999718619, variance->0.034203744445680306, sd->0.18494254363363857, mse->0.034203744445680306, mae->0.13565800144060147, min->0.0007308570784516633, max->1.0\n",
      "├── Matching\n",
      "│   (Branch) \t\n",
      "│   \t[* * 1 * * 1 * * * * 1 * * * * * 1 * * *][0.045, ]\t\n",
      "│   \tstats:n->6788, average->0.844544448861014, variance->0.044702861752257364, sd->0.21143051282219735, mse->0.044702861752257364, mae->0.1629103521049833, min->0.0035843465011566877, max->1.0\n",
      "│   ├── Matching\n",
      "│   │   (Branch) \t\n",
      "│   │   \t[* * * * * * 1 * * * * * * * * 1 * * * *][0.055, ]\t\n",
      "│   │   \tstats:n->1464, average->0.8197891021849043, variance->0.05517101354954125, sd->0.23488510712589092, mse->0.05517101354954125, mae->0.18620126771611445, min->0.004234409425407648, max->1.0\n",
      "│   │   ├── Matching\n",
      "│   │   │   (Leaf) stats:n->578, average->0.8450122147429554, variance->0.04946068207282306, sd->0.22239757658936632, mse->0.04946068207282306, mae->0.16876567664910946, min->0.004234409425407648, max->1.0\n",
      "│   │   └── NOT matching\n",
      "│   │       (Leaf) stats:n->886, average->0.8033342951210741, variance->0.058210461528920496, sd->0.24126844287830204, mse->0.058210461528920496, mae->0.19617408865416774, min->0.02631666325032711, max->1.0\n",
      "│   └── NOT matching\n",
      "│       (Branch) \t\n",
      "│       \t[* 1 1 * 1 1 1 * * * * 1 1 * * 1 1 * * *][0.041, ]\t\n",
      "│       \tstats:n->5324, average->0.8513517042204851, variance->0.04160946193807332, sd->0.20398397470897883, mse->0.04160946193807332, mae->0.15601172278152897, min->0.0035843465011566877, max->1.0\n",
      "│       ├── Matching\n",
      "│       │   (Leaf) stats:n->2, average->0.308072954416275, variance->0.0006041032381212119, sd->0.024578511714935303, mse->0.0006041032381212119, mae->0.024578511714935303, min->0.2834944427013397, max->0.3326514661312103\n",
      "│       └── NOT matching\n",
      "│           (Leaf) stats:n->5322, average->0.8515558675988407, variance->0.0415139123856818, sd->0.203749631620972, mse->0.0415139123856818, mae->0.15579361073498643, min->0.0035843465011566877, max->1.0\n",
      "└── NOT matching\n",
      "    (Branch) \t\n",
      "    \t[* * * * * * * * * * * * * 1 * * 1 * * *][0.032, ]\t\n",
      "    \tstats:n->45838, average->0.8802736557496104, variance->0.03248430434530982, sd->0.18023402660238666, mse->0.03248430434530982, mae->0.13115027404582477, min->0.0007308570784516633, max->1.0\n",
      "    ├── Matching\n",
      "    │   (Branch) \t\n",
      "    │   \t[* * * * * * * 1 * * 1 * 1 * * * * 1 * *][0.036, ]\t\n",
      "    │   \tstats:n->12363, average->0.8686090886706164, variance->0.03605359593431341, sd->0.1898778447695081, mse->0.03605359593431341, mae->0.14139979888918905, min->0.0036188149824738503, max->1.0\n",
      "    │   ├── Matching\n",
      "    │   │   (Leaf) stats:n->4, average->0.4002220630645752, variance->0.11145036367548267, sd->0.3338418243352421, mse->0.11145036367548267, mae->0.28834885358810425, min->0.18065842986106873, max->0.9769197702407837\n",
      "    │   └── NOT matching\n",
      "    │       (Leaf) stats:n->12359, average->0.8687606824971739, variance->0.03595816614935386, sd->0.18962638568868484, mse->0.03595816614935386, mae->0.14121809548716513, min->0.0036188149824738503, max->1.0\n",
      "    └── NOT matching\n",
      "        (Branch) \t\n",
      "        \t[* * 1 * * * * * 1 * * * * * 1 1 * * 1 *][0.031, ]\t\n",
      "        \tstats:n->33475, average->0.8845816181931534, variance->0.031097283132214895, sd->0.17634421774533718, mse->0.031097283132214895, mae->0.12713829567028873, min->0.0007308570784516633, max->1.0\n",
      "        ├── Matching\n",
      "        │   (Leaf) stats:n->3, average->0.3738471356530984, variance->0.0750838607771737, sd->0.2740143441084311, mse->0.0750838607771737, mae->0.23395597355233297, min->0.05604320392012596, max->0.7247810959815979\n",
      "        └── NOT matching\n",
      "            (Leaf) stats:n->33472, average->0.8846273938697673, variance->0.031069959428655182, sd->0.1762667280817772, mse->0.031069959428655182, mae->0.12708499590800834, min->0.0007308570784516633, max->1.0\n"
     ]
    }
   ],
   "source": [
    "tree.print_ASCII()"
   ],
   "metadata": {
    "collapsed": false,
    "ExecuteTime": {
     "end_time": "2025-03-20T12:52:00.301924100Z",
     "start_time": "2025-03-20T12:52:00.296509600Z"
    }
   },
   "id": "35762acbaad2974d"
  },
  {
   "cell_type": "code",
   "execution_count": 7,
   "outputs": [],
   "source": [
    "import numpy as np\n",
    "from DecisionTree.PSDecisionTree import PSDecisionTreeNode\n",
    "\n",
    "\n",
    "def repr_95_confidence_interval(node: PSDecisionTreeNode):\n",
    "    fitnesses = node.fitnesses\n",
    "    \n",
    "    if len(fitnesses) < 2:\n",
    "        return f\"{fitnesses}\"\n",
    "    mean = np.average(fitnesses)\n",
    "    a, b = np.percentile(fitnesses, [2.5, 97.5])\n",
    "\n",
    "    return f\"(Branch), n = {len(fitnesses)}, {mean = :.2f},  confidence interval = [{a:.3f}, {b:.3f}]\"\n",
    "\n",
    "tree.print_ASCII(custom_partition_repr=repr_95_confidence_interval)\n",
    "    "
   ],
   "metadata": {
    "collapsed": false,
    "ExecuteTime": {
     "end_time": "2025-03-20T13:07:47.714088800Z",
     "start_time": "2025-03-20T13:07:47.711467900Z"
    }
   },
   "id": "a065718dac20e500"
  },
  {
   "cell_type": "code",
   "execution_count": 2,
   "outputs": [],
   "source": [
    "import os\n",
    "filename = os.path.join(r\"C:\\Users\\gac8\\PycharmProjects\\PSSearch\\initial_testing\\decision_tree_attempts\", \"decision_tree.json\")"
   ],
   "metadata": {
    "collapsed": false,
    "ExecuteTime": {
     "end_time": "2025-03-20T13:07:10.388142500Z",
     "start_time": "2025-03-20T13:07:10.383142500Z"
    }
   },
   "id": "be35440955f3542b"
  },
  {
   "cell_type": "code",
   "execution_count": null,
   "outputs": [],
   "source": [
    "tree.to_file(filename)"
   ],
   "metadata": {
    "collapsed": false
   },
   "id": "3c6ed47a2f2188eb"
  },
  {
   "cell_type": "code",
   "execution_count": 11,
   "outputs": [
    {
     "name": "stdout",
     "output_type": "stream",
     "text": [
      "Root\n",
      "(Branch) \t\n",
      "\t[* * 1 * * * * * * * * * * 1 * * * * * *]\t\n",
      "\t(Branch), n = 52626, mean = 0.88,  confidence interval = [0.318, 1.000]\n",
      "├── Matching\n",
      "│   (Branch) \t\n",
      "│   \t[* * 1 * * 1 * * * * 1 * * * * * 1 * * *]\t\n",
      "│   \t(Branch), n = 6788, mean = 0.84,  confidence interval = [0.243, 1.000]\n",
      "│   ├── Matching\n",
      "│   │   (Branch) \t\n",
      "│   │   \t[* * * * * * 1 * * * * * * * * 1 * * * *]\t\n",
      "│   │   \t(Branch), n = 1464, mean = 0.82,  confidence interval = [0.167, 1.000]\n",
      "│   │   ├── Matching\n",
      "│   │   │   (Leaf) (Branch), n = 578, mean = 0.85,  confidence interval = [0.186, 1.000]\n",
      "│   │   └── NOT matching\n",
      "│   │       (Leaf) (Branch), n = 886, mean = 0.80,  confidence interval = [0.165, 1.000]\n",
      "│   └── NOT matching\n",
      "│       (Branch) \t\n",
      "│       \t[* 1 1 * 1 1 1 * * * * 1 1 * * 1 1 * * *]\t\n",
      "│       \t(Branch), n = 5324, mean = 0.85,  confidence interval = [0.267, 1.000]\n",
      "│       ├── Matching\n",
      "│       │   (Leaf) (Branch), n = 2, mean = 0.31,  confidence interval = [0.285, 0.331]\n",
      "│       └── NOT matching\n",
      "│           (Leaf) (Branch), n = 5322, mean = 0.85,  confidence interval = [0.266, 1.000]\n",
      "└── NOT matching\n",
      "    (Branch) \t\n",
      "    \t[* * * * * * * * * * * * * 1 * * 1 * * *]\t\n",
      "    \t(Branch), n = 45838, mean = 0.88,  confidence interval = [0.337, 1.000]\n",
      "    ├── Matching\n",
      "    │   (Branch) \t\n",
      "    │   \t[* * * * * * * 1 * * 1 * 1 * * * * 1 * *]\t\n",
      "    │   \t(Branch), n = 12363, mean = 0.87,  confidence interval = [0.303, 1.000]\n",
      "    │   ├── Matching\n",
      "    │   │   (Leaf) (Branch), n = 4, mean = 0.40,  confidence interval = [0.182, 0.922]\n",
      "    │   └── NOT matching\n",
      "    │       (Leaf) (Branch), n = 12359, mean = 0.87,  confidence interval = [0.305, 1.000]\n",
      "    └── NOT matching\n",
      "        (Branch) \t\n",
      "        \t[* * 1 * * * * * 1 * * * * * 1 1 * * 1 *]\t\n",
      "        \t(Branch), n = 33475, mean = 0.88,  confidence interval = [0.352, 1.000]\n",
      "        ├── Matching\n",
      "        │   (Leaf) (Branch), n = 3, mean = 0.37,  confidence interval = [0.070, 0.706]\n",
      "        └── NOT matching\n",
      "            (Leaf) (Branch), n = 33472, mean = 0.88,  confidence interval = [0.352, 1.000]\n"
     ]
    }
   ],
   "source": [
    "from DecisionTree.PSDecisionTree import PSDecisionTree\n",
    "\n",
    "# NOTE: since PolishPSDecisionTree is a subclass of PSDecision tree, we can use the original class to read it\n",
    "# At the moment I don't have a custom way of importing the polish trees...\n",
    "\n",
    "other_tree = PSDecisionTree.from_file(filename)\n",
    "\n",
    "# note that right after the tree was built, each node had the partition fitnesses, but these are not stored in the json (that is a lot of data!)\n",
    "# to put them back into the tree, call this vvvv\n",
    "other_tree.post_hoc_set_fitnesses(sessions)\n",
    "\n",
    "other_tree.print_ASCII(custom_partition_repr=repr_95_confidence_interval)"
   ],
   "metadata": {
    "collapsed": false,
    "ExecuteTime": {
     "end_time": "2025-03-20T13:09:14.922854800Z",
     "start_time": "2025-03-20T13:09:14.885427400Z"
    }
   },
   "id": "6b9abe97cd397e"
  }
 ],
 "metadata": {
  "kernelspec": {
   "display_name": "Python 3",
   "language": "python",
   "name": "python3"
  },
  "language_info": {
   "codemirror_mode": {
    "name": "ipython",
    "version": 2
   },
   "file_extension": ".py",
   "mimetype": "text/x-python",
   "name": "python",
   "nbconvert_exporter": "python",
   "pygments_lexer": "ipython2",
   "version": "2.7.6"
  }
 },
 "nbformat": 4,
 "nbformat_minor": 5
}
