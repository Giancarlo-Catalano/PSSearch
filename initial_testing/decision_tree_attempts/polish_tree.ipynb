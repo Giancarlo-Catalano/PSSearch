{
 "cells": [
  {
   "cell_type": "code",
   "execution_count": 1,
   "outputs": [
    {
     "name": "stdout",
     "output_type": "stream",
     "text": [
      "PRef with 52626 samples, mean = 0.88\n"
     ]
    }
   ],
   "source": [
    "from PolishSystem.read_data import get_pRef_from_vectors, get_vectors_file_name, get_fitness_file_name\n",
    "\n",
    "# this section will generate the search objectives\n",
    "size = 20\n",
    "method = \"qmc\"\n",
    "fitness_column_to_use = 0\n",
    "data_folder = r\"C:\\Users\\gac8\\PycharmProjects\\PSSearch\\data\\retail_forecasting\"\n",
    "\n",
    "sessions = get_pRef_from_vectors(get_vectors_file_name(data_folder, size, method), \n",
    "                                     get_fitness_file_name(data_folder, size, method), fitness_column_to_use)\n",
    "\n",
    "\n",
    "print(sessions)"
   ],
   "metadata": {
    "collapsed": false,
    "ExecuteTime": {
     "end_time": "2025-03-20T12:04:14.257928800Z",
     "start_time": "2025-03-20T12:04:13.388817600Z"
    }
   },
   "id": "c53213f070fd8f45"
  },
  {
   "cell_type": "code",
   "execution_count": null,
   "outputs": [],
   "source": [
    "\n",
    "\n",
    "from Core.PS import PS\n",
    "from SimplifiedSystem.ps_search_utils import get_metric_function\n",
    "from Core.PRef import PRef\n",
    "from PolishSystem.PolishPSDecisionTree import PolishPSDecisionTree\n",
    "from SimplifiedSystem.PSSearchSettings import get_default_search_settings\n",
    "\n",
    "search_settings = get_default_search_settings()\n",
    "search_settings.verbose = True\n",
    "search_settings.ps_search_budget=1000 \n",
    "\n",
    "\n",
    "def get_objectives_for_partition(pRef: PRef):\n",
    "    \n",
    "    # get_metric_function(\"sample_count\", sessions) to count how many sessions are covered by a pattern\n",
    "        \n",
    "    # return [get_metric_function(\"simplicity\"), get_metric_function(\"variance\", pRef)] # PS-SW\n",
    "    return [get_metric_function(\"variance\", pRef), get_metric_function(\"sample_count\", sessions)]\n",
    "\n",
    "\n",
    "tree = PolishPSDecisionTree(maximum_depth=3, \n",
    "                            search_settings=search_settings,\n",
    "                            get_objectives_for_partition=get_objectives_for_partition)\n",
    "\n",
    "tree.train_from_pRef(sessions)"
   ],
   "metadata": {
    "collapsed": false
   },
   "id": "initial_id"
  },
  {
   "cell_type": "code",
   "execution_count": 3,
   "outputs": [
    {
     "name": "stdout",
     "output_type": "stream",
     "text": [
      "Root\n",
      "(Branch) \t\n",
      "\t[* * * * * 1 * * * * * * * 1 * * 1 * * *][0.034, -13360.000, ]\t\n",
      "\tstats:n->52626, average->0.8756650999718619, variance->0.034203744445680306, sd->0.18494254363363857, mse->0.034203744445680306, mae->0.13565800144060147, min->0.0007308570784516633, max->1.0\n",
      "├── Matching\n",
      "│   (Branch) \t\n",
      "│   \t[* * * * * 1 * * * * * * * 1 * * 1 * * *][0.034, -13360.000, ]\t\n",
      "│   \tstats:n->13360, average->0.8576769783881334, variance->0.04011050537270586, sd->0.20027607289116156, mse->0.04011050537270586, mae->0.1520256673240885, min->0.004234409425407648, max->1.0\n",
      "│   ├── Matching\n",
      "│   │   (Branch) \t\n",
      "│   │   \t[* * * * * 1 * * * * * * * 1 * * 1 * * *][0.034, -13360.000, ]\t\n",
      "│   │   \tstats:n->13360, average->0.8576769783881334, variance->0.04011050537270586, sd->0.20027607289116156, mse->0.04011050537270586, mae->0.1520256673240885, min->0.004234409425407648, max->1.0\n",
      "│   │   ├── Matching\n",
      "│   │   │   (Leaf) stats:n->13360, average->0.8576769783881334, variance->0.04011050537270586, sd->0.20027607289116156, mse->0.04011050537270586, mae->0.1520256673240885, min->0.004234409425407648, max->1.0\n",
      "│   │   └── NOT matching\n",
      "│   │       (Leaf) stats:n->0\n",
      "│   └── NOT matching\n",
      "│       (Leaf) stats:n->0\n",
      "└── NOT matching\n",
      "    (Branch) \t\n",
      "    \t[* * * * * 1 * * * * * * * 1 * * 1 * * *][0.034, -13360.000, ]\t\n",
      "    \tstats:n->39266, average->0.8817854408356782, variance->0.03204645561752017, sd->0.17901523850644718, mse->0.03204645561752017, mae->0.12965533614195474, min->0.0007308570784516633, max->1.0\n",
      "    ├── Matching\n",
      "    │   (Leaf) stats:n->0\n",
      "    └── NOT matching\n",
      "        (Branch) \t\n",
      "        \t[* * * * * 1 * * * * * * * 1 * * 1 * * *][0.034, -13360.000, ]\t\n",
      "        \tstats:n->39266, average->0.8817854408356782, variance->0.03204645561752017, sd->0.17901523850644718, mse->0.03204645561752017, mae->0.12965533614195474, min->0.0007308570784516633, max->1.0\n",
      "        ├── Matching\n",
      "        │   (Leaf) stats:n->0\n",
      "        └── NOT matching\n",
      "            (Leaf) stats:n->39266, average->0.8817854408356782, variance->0.03204645561752017, sd->0.17901523850644718, mse->0.03204645561752017, mae->0.12965533614195474, min->0.0007308570784516633, max->1.0\n"
     ]
    }
   ],
   "source": [
    "tree.print_ASCII()"
   ],
   "metadata": {
    "collapsed": false,
    "ExecuteTime": {
     "end_time": "2025-03-20T12:05:47.325474300Z",
     "start_time": "2025-03-20T12:05:47.316815800Z"
    }
   },
   "id": "35762acbaad2974d"
  }
 ],
 "metadata": {
  "kernelspec": {
   "display_name": "Python 3",
   "language": "python",
   "name": "python3"
  },
  "language_info": {
   "codemirror_mode": {
    "name": "ipython",
    "version": 2
   },
   "file_extension": ".py",
   "mimetype": "text/x-python",
   "name": "python",
   "nbconvert_exporter": "python",
   "pygments_lexer": "ipython2",
   "version": "2.7.6"
  }
 },
 "nbformat": 4,
 "nbformat_minor": 5
}
