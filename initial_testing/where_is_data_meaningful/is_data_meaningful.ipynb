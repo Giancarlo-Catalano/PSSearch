{
 "cells": [
  {
   "cell_type": "code",
   "execution_count": 5,
   "id": "initial_id",
   "metadata": {
    "collapsed": true,
    "ExecuteTime": {
     "end_time": "2025-03-27T10:44:02.251905200Z",
     "start_time": "2025-03-27T10:44:02.233675200Z"
    }
   },
   "outputs": [],
   "source": [
    "\n",
    "\n",
    "# this section will generate the search objectives\n",
    "data_folder = r\"C:\\Users\\gac8\\PycharmProjects\\PSSearch\\data\\retail_forecasting\""
   ]
  },
  {
   "cell_type": "code",
   "execution_count": 6,
   "outputs": [],
   "source": [
    "from sklearn.metrics import r2_score, mean_squared_error, mean_absolute_error\n",
    "from sklearn.tree import DecisionTreeRegressor\n",
    "from Core.PRef import PRef\n",
    "from PolishSystem.read_data import get_vectors_file_name, get_pRef_from_vectors, get_fitness_file_name\n",
    "\n",
    "def make_decision_tree(train_pRef, max_depth=5, min_samples_leaf=10):\n",
    "    # Extract the training data\n",
    "    X = train_pRef.full_solution_matrix\n",
    "    y = train_pRef.fitness_array\n",
    "\n",
    "    # Initialize the regression tree with given parameters\n",
    "    tree = DecisionTreeRegressor(max_depth=max_depth, min_samples_leaf=min_samples_leaf)\n",
    "    \n",
    "    # Fit the tree to the data\n",
    "    tree.fit(X, y)\n",
    "    \n",
    "    return tree\n",
    "\n",
    "\n",
    "def evaluate_decision_tree(decision_tree: DecisionTreeRegressor, test_pRef: PRef) -> dict[str, float]:\n",
    "    # Extract the training data\n",
    "    X = test_pRef.full_solution_matrix\n",
    "    y = test_pRef.fitness_array\n",
    "    \n",
    "    y_pred = decision_tree.predict(X)\n",
    "\n",
    "    # Compute various scores\n",
    "    r2 = r2_score(y, y_pred)  # R^2 score\n",
    "    mse = mean_squared_error(y, y_pred)  # Mean Squared Error\n",
    "    mae = mean_absolute_error(y, y_pred)  # Mean Absolute Error\n",
    "\n",
    "    print(f\"Training R^2 score: {r2:.3f}\")\n",
    "    print(f\"Training MSE: {mse:.3f}\")\n",
    "    print(f\"Training MAE: {mae:.3f}\")\n",
    "\n",
    "    scores = {\n",
    "        \"R2\": r2,\n",
    "        \"MSE\": mse,\n",
    "        \"MAE\": mae,\n",
    "    }\n",
    "    return scores\n",
    "\n",
    "\n",
    "\n",
    "def get_row_of_data(vector_size, clustering_method, fitness_column) -> dict:\n",
    "    print(f\"Getting data for {vector_size = }, {clustering_method = }, {fitness_column =}\")\n",
    "    pRef = get_pRef_from_vectors(get_vectors_file_name(data_folder, vector_size, clustering_method),\n",
    "             get_fitness_file_name(data_folder, vector_size, clustering_method), fitness_column)\n",
    "    train_pRef, test_pRef = pRef.train_test_split(test_size=0.2)\n",
    "    tree = make_decision_tree(train_pRef, max_depth=10, min_samples_leaf=10)\n",
    "    results =  evaluate_decision_tree(tree, test_pRef)\n",
    "    settings = {\"vector_size\": vector_size,\n",
    "                \"clustering_method\": clustering_method,\n",
    "                \"fitness_column\": fitness_column}\n",
    "    \n",
    "    return results | settings\n",
    "\n",
    "\n",
    "\n",
    "    \n"
   ],
   "metadata": {
    "collapsed": false,
    "ExecuteTime": {
     "end_time": "2025-03-27T10:44:02.263897300Z",
     "start_time": "2025-03-27T10:44:02.246178800Z"
    }
   },
   "id": "2db921706d2b3b9c"
  },
  {
   "cell_type": "code",
   "execution_count": 7,
   "outputs": [
    {
     "name": "stdout",
     "output_type": "stream",
     "text": [
      "Getting data for vector_size = 20, clustering_method = 'random', fitness_column =0\n",
      "Training R^2 score: -0.020\n",
      "Training MSE: 0.036\n",
      "Training MAE: 0.137\n",
      "Getting data for vector_size = 20, clustering_method = 'random', fitness_column =1\n",
      "Training R^2 score: -0.038\n",
      "Training MSE: 0.000\n",
      "Training MAE: 0.001\n",
      "Getting data for vector_size = 20, clustering_method = 'random', fitness_column =2\n",
      "Training R^2 score: -0.016\n",
      "Training MSE: 6.817\n",
      "Training MAE: 2.084\n",
      "Getting data for vector_size = 20, clustering_method = 'kmeans', fitness_column =0\n",
      "Training R^2 score: -0.015\n",
      "Training MSE: 0.035\n",
      "Training MAE: 0.135\n",
      "Getting data for vector_size = 20, clustering_method = 'kmeans', fitness_column =1\n",
      "Training R^2 score: -0.038\n",
      "Training MSE: 0.000\n",
      "Training MAE: 0.001\n",
      "Getting data for vector_size = 20, clustering_method = 'kmeans', fitness_column =2\n",
      "Training R^2 score: 0.006\n",
      "Training MSE: 6.695\n",
      "Training MAE: 2.064\n",
      "Getting data for vector_size = 20, clustering_method = 'qmc', fitness_column =0\n",
      "Training R^2 score: -0.017\n",
      "Training MSE: 0.034\n",
      "Training MAE: 0.134\n",
      "Getting data for vector_size = 20, clustering_method = 'qmc', fitness_column =1\n",
      "Training R^2 score: -0.009\n",
      "Training MSE: 0.000\n",
      "Training MAE: 0.001\n",
      "Getting data for vector_size = 20, clustering_method = 'qmc', fitness_column =2\n",
      "Training R^2 score: -0.014\n",
      "Training MSE: 6.954\n",
      "Training MAE: 2.113\n",
      "Getting data for vector_size = 50, clustering_method = 'random', fitness_column =0\n",
      "Training R^2 score: -0.008\n",
      "Training MSE: 0.034\n",
      "Training MAE: 0.134\n",
      "Getting data for vector_size = 50, clustering_method = 'random', fitness_column =1\n",
      "Training R^2 score: -0.022\n",
      "Training MSE: 0.000\n",
      "Training MAE: 0.001\n",
      "Getting data for vector_size = 50, clustering_method = 'random', fitness_column =2\n",
      "Training R^2 score: 0.002\n",
      "Training MSE: 6.769\n",
      "Training MAE: 2.074\n",
      "Getting data for vector_size = 50, clustering_method = 'kmeans', fitness_column =0\n",
      "Training R^2 score: 0.009\n",
      "Training MSE: 0.035\n",
      "Training MAE: 0.134\n",
      "Getting data for vector_size = 50, clustering_method = 'kmeans', fitness_column =1\n",
      "Training R^2 score: -0.012\n",
      "Training MSE: 0.000\n",
      "Training MAE: 0.001\n",
      "Getting data for vector_size = 50, clustering_method = 'kmeans', fitness_column =2\n",
      "Training R^2 score: 0.034\n",
      "Training MSE: 6.570\n",
      "Training MAE: 2.039\n",
      "Getting data for vector_size = 50, clustering_method = 'qmc', fitness_column =0\n",
      "Training R^2 score: -0.027\n",
      "Training MSE: 0.035\n",
      "Training MAE: 0.137\n",
      "Getting data for vector_size = 50, clustering_method = 'qmc', fitness_column =1\n",
      "Training R^2 score: -0.032\n",
      "Training MSE: 0.000\n",
      "Training MAE: 0.001\n",
      "Getting data for vector_size = 50, clustering_method = 'qmc', fitness_column =2\n",
      "Training R^2 score: -0.018\n",
      "Training MSE: 6.918\n",
      "Training MAE: 2.107\n",
      "Getting data for vector_size = 100, clustering_method = 'random', fitness_column =0\n",
      "Training R^2 score: -0.003\n",
      "Training MSE: 0.034\n",
      "Training MAE: 0.134\n",
      "Getting data for vector_size = 100, clustering_method = 'random', fitness_column =1\n",
      "Training R^2 score: -0.236\n",
      "Training MSE: 0.000\n",
      "Training MAE: 0.001\n",
      "Getting data for vector_size = 100, clustering_method = 'random', fitness_column =2\n",
      "Training R^2 score: 0.016\n",
      "Training MSE: 6.815\n",
      "Training MAE: 2.070\n",
      "Getting data for vector_size = 100, clustering_method = 'kmeans', fitness_column =0\n",
      "Training R^2 score: 0.005\n",
      "Training MSE: 0.035\n",
      "Training MAE: 0.134\n",
      "Getting data for vector_size = 100, clustering_method = 'kmeans', fitness_column =1\n",
      "Training R^2 score: -0.039\n",
      "Training MSE: 0.000\n",
      "Training MAE: 0.001\n",
      "Getting data for vector_size = 100, clustering_method = 'kmeans', fitness_column =2\n",
      "Training R^2 score: 0.028\n",
      "Training MSE: 6.400\n",
      "Training MAE: 2.008\n",
      "Getting data for vector_size = 100, clustering_method = 'qmc', fitness_column =0\n",
      "Training R^2 score: -0.016\n",
      "Training MSE: 0.035\n",
      "Training MAE: 0.136\n",
      "Getting data for vector_size = 100, clustering_method = 'qmc', fitness_column =1\n",
      "Training R^2 score: -0.025\n",
      "Training MSE: 0.000\n",
      "Training MAE: 0.001\n",
      "Getting data for vector_size = 100, clustering_method = 'qmc', fitness_column =2\n",
      "Training R^2 score: -0.022\n",
      "Training MSE: 6.915\n",
      "Training MAE: 2.096\n"
     ]
    },
    {
     "data": {
      "text/plain": "          R2       MSE       MAE  vector_size clustering_method  \\\n0  -0.020347  0.036167  0.137490           20            random   \n1  -0.037803  0.000010  0.000791           20            random   \n2  -0.015682  6.816919  2.084344           20            random   \n3  -0.015346  0.035182  0.135173           20            kmeans   \n4  -0.037535  0.000012  0.000793           20            kmeans   \n5   0.005752  6.694829  2.064282           20            kmeans   \n6  -0.017231  0.033988  0.134367           20               qmc   \n7  -0.009253  0.000063  0.000903           20               qmc   \n8  -0.014242  6.953765  2.112838           20               qmc   \n9  -0.008360  0.034118  0.133647           50            random   \n10 -0.022162  0.000046  0.000854           50            random   \n11  0.001583  6.768639  2.073546           50            random   \n12  0.008999  0.034710  0.133606           50            kmeans   \n13 -0.012169  0.000063  0.000912           50            kmeans   \n14  0.033680  6.570479  2.038932           50            kmeans   \n15 -0.026548  0.034981  0.136776           50               qmc   \n16 -0.031545  0.000040  0.000861           50               qmc   \n17 -0.017816  6.918060  2.106791           50               qmc   \n18 -0.002572  0.034405  0.133977          100            random   \n19 -0.235825  0.000012  0.000818          100            random   \n20  0.015901  6.814710  2.069785          100            random   \n21  0.004847  0.034636  0.133652          100            kmeans   \n22 -0.039251  0.000017  0.000790          100            kmeans   \n23  0.028071  6.399541  2.008212          100            kmeans   \n24 -0.016174  0.035173  0.136275          100               qmc   \n25 -0.025386  0.000036  0.000855          100               qmc   \n26 -0.022427  6.915197  2.096189          100               qmc   \n\n    fitness_column  \n0                0  \n1                1  \n2                2  \n3                0  \n4                1  \n5                2  \n6                0  \n7                1  \n8                2  \n9                0  \n10               1  \n11               2  \n12               0  \n13               1  \n14               2  \n15               0  \n16               1  \n17               2  \n18               0  \n19               1  \n20               2  \n21               0  \n22               1  \n23               2  \n24               0  \n25               1  \n26               2  ",
      "text/html": "<div>\n<style scoped>\n    .dataframe tbody tr th:only-of-type {\n        vertical-align: middle;\n    }\n\n    .dataframe tbody tr th {\n        vertical-align: top;\n    }\n\n    .dataframe thead th {\n        text-align: right;\n    }\n</style>\n<table border=\"1\" class=\"dataframe\">\n  <thead>\n    <tr style=\"text-align: right;\">\n      <th></th>\n      <th>R2</th>\n      <th>MSE</th>\n      <th>MAE</th>\n      <th>vector_size</th>\n      <th>clustering_method</th>\n      <th>fitness_column</th>\n    </tr>\n  </thead>\n  <tbody>\n    <tr>\n      <th>0</th>\n      <td>-0.020347</td>\n      <td>0.036167</td>\n      <td>0.137490</td>\n      <td>20</td>\n      <td>random</td>\n      <td>0</td>\n    </tr>\n    <tr>\n      <th>1</th>\n      <td>-0.037803</td>\n      <td>0.000010</td>\n      <td>0.000791</td>\n      <td>20</td>\n      <td>random</td>\n      <td>1</td>\n    </tr>\n    <tr>\n      <th>2</th>\n      <td>-0.015682</td>\n      <td>6.816919</td>\n      <td>2.084344</td>\n      <td>20</td>\n      <td>random</td>\n      <td>2</td>\n    </tr>\n    <tr>\n      <th>3</th>\n      <td>-0.015346</td>\n      <td>0.035182</td>\n      <td>0.135173</td>\n      <td>20</td>\n      <td>kmeans</td>\n      <td>0</td>\n    </tr>\n    <tr>\n      <th>4</th>\n      <td>-0.037535</td>\n      <td>0.000012</td>\n      <td>0.000793</td>\n      <td>20</td>\n      <td>kmeans</td>\n      <td>1</td>\n    </tr>\n    <tr>\n      <th>5</th>\n      <td>0.005752</td>\n      <td>6.694829</td>\n      <td>2.064282</td>\n      <td>20</td>\n      <td>kmeans</td>\n      <td>2</td>\n    </tr>\n    <tr>\n      <th>6</th>\n      <td>-0.017231</td>\n      <td>0.033988</td>\n      <td>0.134367</td>\n      <td>20</td>\n      <td>qmc</td>\n      <td>0</td>\n    </tr>\n    <tr>\n      <th>7</th>\n      <td>-0.009253</td>\n      <td>0.000063</td>\n      <td>0.000903</td>\n      <td>20</td>\n      <td>qmc</td>\n      <td>1</td>\n    </tr>\n    <tr>\n      <th>8</th>\n      <td>-0.014242</td>\n      <td>6.953765</td>\n      <td>2.112838</td>\n      <td>20</td>\n      <td>qmc</td>\n      <td>2</td>\n    </tr>\n    <tr>\n      <th>9</th>\n      <td>-0.008360</td>\n      <td>0.034118</td>\n      <td>0.133647</td>\n      <td>50</td>\n      <td>random</td>\n      <td>0</td>\n    </tr>\n    <tr>\n      <th>10</th>\n      <td>-0.022162</td>\n      <td>0.000046</td>\n      <td>0.000854</td>\n      <td>50</td>\n      <td>random</td>\n      <td>1</td>\n    </tr>\n    <tr>\n      <th>11</th>\n      <td>0.001583</td>\n      <td>6.768639</td>\n      <td>2.073546</td>\n      <td>50</td>\n      <td>random</td>\n      <td>2</td>\n    </tr>\n    <tr>\n      <th>12</th>\n      <td>0.008999</td>\n      <td>0.034710</td>\n      <td>0.133606</td>\n      <td>50</td>\n      <td>kmeans</td>\n      <td>0</td>\n    </tr>\n    <tr>\n      <th>13</th>\n      <td>-0.012169</td>\n      <td>0.000063</td>\n      <td>0.000912</td>\n      <td>50</td>\n      <td>kmeans</td>\n      <td>1</td>\n    </tr>\n    <tr>\n      <th>14</th>\n      <td>0.033680</td>\n      <td>6.570479</td>\n      <td>2.038932</td>\n      <td>50</td>\n      <td>kmeans</td>\n      <td>2</td>\n    </tr>\n    <tr>\n      <th>15</th>\n      <td>-0.026548</td>\n      <td>0.034981</td>\n      <td>0.136776</td>\n      <td>50</td>\n      <td>qmc</td>\n      <td>0</td>\n    </tr>\n    <tr>\n      <th>16</th>\n      <td>-0.031545</td>\n      <td>0.000040</td>\n      <td>0.000861</td>\n      <td>50</td>\n      <td>qmc</td>\n      <td>1</td>\n    </tr>\n    <tr>\n      <th>17</th>\n      <td>-0.017816</td>\n      <td>6.918060</td>\n      <td>2.106791</td>\n      <td>50</td>\n      <td>qmc</td>\n      <td>2</td>\n    </tr>\n    <tr>\n      <th>18</th>\n      <td>-0.002572</td>\n      <td>0.034405</td>\n      <td>0.133977</td>\n      <td>100</td>\n      <td>random</td>\n      <td>0</td>\n    </tr>\n    <tr>\n      <th>19</th>\n      <td>-0.235825</td>\n      <td>0.000012</td>\n      <td>0.000818</td>\n      <td>100</td>\n      <td>random</td>\n      <td>1</td>\n    </tr>\n    <tr>\n      <th>20</th>\n      <td>0.015901</td>\n      <td>6.814710</td>\n      <td>2.069785</td>\n      <td>100</td>\n      <td>random</td>\n      <td>2</td>\n    </tr>\n    <tr>\n      <th>21</th>\n      <td>0.004847</td>\n      <td>0.034636</td>\n      <td>0.133652</td>\n      <td>100</td>\n      <td>kmeans</td>\n      <td>0</td>\n    </tr>\n    <tr>\n      <th>22</th>\n      <td>-0.039251</td>\n      <td>0.000017</td>\n      <td>0.000790</td>\n      <td>100</td>\n      <td>kmeans</td>\n      <td>1</td>\n    </tr>\n    <tr>\n      <th>23</th>\n      <td>0.028071</td>\n      <td>6.399541</td>\n      <td>2.008212</td>\n      <td>100</td>\n      <td>kmeans</td>\n      <td>2</td>\n    </tr>\n    <tr>\n      <th>24</th>\n      <td>-0.016174</td>\n      <td>0.035173</td>\n      <td>0.136275</td>\n      <td>100</td>\n      <td>qmc</td>\n      <td>0</td>\n    </tr>\n    <tr>\n      <th>25</th>\n      <td>-0.025386</td>\n      <td>0.000036</td>\n      <td>0.000855</td>\n      <td>100</td>\n      <td>qmc</td>\n      <td>1</td>\n    </tr>\n    <tr>\n      <th>26</th>\n      <td>-0.022427</td>\n      <td>6.915197</td>\n      <td>2.096189</td>\n      <td>100</td>\n      <td>qmc</td>\n      <td>2</td>\n    </tr>\n  </tbody>\n</table>\n</div>"
     },
     "metadata": {},
     "output_type": "display_data"
    }
   ],
   "source": [
    "import pandas as pd\n",
    "\n",
    "rows = [get_row_of_data(vector_size, clustering_method, fitness_column)\n",
    "        for vector_size in [20, 50, 100]\n",
    "        for clustering_method in [\"random\", \"kmeans\", \"qmc\"]\n",
    "        for fitness_column in [0, 1, 2]]\n",
    "\n",
    "\n",
    "df = pd.DataFrame(rows)\n",
    "\n",
    "display(df)"
   ],
   "metadata": {
    "collapsed": false,
    "ExecuteTime": {
     "end_time": "2025-03-27T10:44:24.567984100Z",
     "start_time": "2025-03-27T10:44:02.255904600Z"
    }
   },
   "id": "bd2f5704b0dc0d83"
  },
  {
   "cell_type": "code",
   "execution_count": 15,
   "outputs": [
    {
     "data": {
      "text/plain": "          R2       MSE       MAE  vector_size clustering_method  \\\n2  -0.015682  6.816919  2.084344           20            random   \n5   0.005752  6.694829  2.064282           20            kmeans   \n8  -0.014242  6.953765  2.112838           20               qmc   \n11  0.001583  6.768639  2.073546           50            random   \n14  0.033680  6.570479  2.038932           50            kmeans   \n17 -0.017816  6.918060  2.106791           50               qmc   \n20  0.015901  6.814710  2.069785          100            random   \n23  0.028071  6.399541  2.008212          100            kmeans   \n26 -0.022427  6.915197  2.096189          100               qmc   \n\n    fitness_column  \n2                2  \n5                2  \n8                2  \n11               2  \n14               2  \n17               2  \n20               2  \n23               2  \n26               2  ",
      "text/html": "<div>\n<style scoped>\n    .dataframe tbody tr th:only-of-type {\n        vertical-align: middle;\n    }\n\n    .dataframe tbody tr th {\n        vertical-align: top;\n    }\n\n    .dataframe thead th {\n        text-align: right;\n    }\n</style>\n<table border=\"1\" class=\"dataframe\">\n  <thead>\n    <tr style=\"text-align: right;\">\n      <th></th>\n      <th>R2</th>\n      <th>MSE</th>\n      <th>MAE</th>\n      <th>vector_size</th>\n      <th>clustering_method</th>\n      <th>fitness_column</th>\n    </tr>\n  </thead>\n  <tbody>\n    <tr>\n      <th>2</th>\n      <td>-0.015682</td>\n      <td>6.816919</td>\n      <td>2.084344</td>\n      <td>20</td>\n      <td>random</td>\n      <td>2</td>\n    </tr>\n    <tr>\n      <th>5</th>\n      <td>0.005752</td>\n      <td>6.694829</td>\n      <td>2.064282</td>\n      <td>20</td>\n      <td>kmeans</td>\n      <td>2</td>\n    </tr>\n    <tr>\n      <th>8</th>\n      <td>-0.014242</td>\n      <td>6.953765</td>\n      <td>2.112838</td>\n      <td>20</td>\n      <td>qmc</td>\n      <td>2</td>\n    </tr>\n    <tr>\n      <th>11</th>\n      <td>0.001583</td>\n      <td>6.768639</td>\n      <td>2.073546</td>\n      <td>50</td>\n      <td>random</td>\n      <td>2</td>\n    </tr>\n    <tr>\n      <th>14</th>\n      <td>0.033680</td>\n      <td>6.570479</td>\n      <td>2.038932</td>\n      <td>50</td>\n      <td>kmeans</td>\n      <td>2</td>\n    </tr>\n    <tr>\n      <th>17</th>\n      <td>-0.017816</td>\n      <td>6.918060</td>\n      <td>2.106791</td>\n      <td>50</td>\n      <td>qmc</td>\n      <td>2</td>\n    </tr>\n    <tr>\n      <th>20</th>\n      <td>0.015901</td>\n      <td>6.814710</td>\n      <td>2.069785</td>\n      <td>100</td>\n      <td>random</td>\n      <td>2</td>\n    </tr>\n    <tr>\n      <th>23</th>\n      <td>0.028071</td>\n      <td>6.399541</td>\n      <td>2.008212</td>\n      <td>100</td>\n      <td>kmeans</td>\n      <td>2</td>\n    </tr>\n    <tr>\n      <th>26</th>\n      <td>-0.022427</td>\n      <td>6.915197</td>\n      <td>2.096189</td>\n      <td>100</td>\n      <td>qmc</td>\n      <td>2</td>\n    </tr>\n  </tbody>\n</table>\n</div>"
     },
     "metadata": {},
     "output_type": "display_data"
    }
   ],
   "source": [
    "display(df[df[\"fitness_column\"]==2])"
   ],
   "metadata": {
    "collapsed": false,
    "ExecuteTime": {
     "end_time": "2025-03-27T10:47:23.497788700Z",
     "start_time": "2025-03-27T10:47:23.480743400Z"
    }
   },
   "id": "57fcf07bd4e5371"
  }
 ],
 "metadata": {
  "kernelspec": {
   "display_name": "Python 3",
   "language": "python",
   "name": "python3"
  },
  "language_info": {
   "codemirror_mode": {
    "name": "ipython",
    "version": 2
   },
   "file_extension": ".py",
   "mimetype": "text/x-python",
   "name": "python",
   "nbconvert_exporter": "python",
   "pygments_lexer": "ipython2",
   "version": "2.7.6"
  }
 },
 "nbformat": 4,
 "nbformat_minor": 5
}
