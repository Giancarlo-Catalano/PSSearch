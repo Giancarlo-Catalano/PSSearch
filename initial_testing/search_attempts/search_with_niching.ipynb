{
 "cells": [
  {
   "cell_type": "code",
   "execution_count": 1,
   "id": "initial_id",
   "metadata": {
    "collapsed": true,
    "ExecuteTime": {
     "end_time": "2025-03-25T12:01:54.137118500Z",
     "start_time": "2025-03-25T12:01:53.225437600Z"
    }
   },
   "outputs": [],
   "source": [
    "\n",
    "from Core.PS import PS\n",
    "from Core.PSMetric.Linkage.Atomicity import Atomicity\n",
    "from PolishSystem.read_data import get_pRef_from_vectors, get_vectors_file_name, get_fitness_file_name\n",
    "from SimplifiedSystem.ps_search_utils import get_metric_function\n",
    "\n",
    "# this section will generate the search objectives\n",
    "size = 20\n",
    "method = \"qmc\"\n",
    "fitness_column_to_use = 0\n",
    "data_folder = r\"C:\\Users\\gac8\\PycharmProjects\\PSSearch\\data\\retail_forecasting\"\n",
    "\n",
    "pRef = get_pRef_from_vectors(get_vectors_file_name(data_folder, size, method), \n",
    "                             get_fitness_file_name(data_folder, size, method), fitness_column_to_use)\n",
    "\n",
    "simplicity = get_metric_function(\"simplicity\")\n",
    "mean_fitness = get_metric_function(\"mean_fitness\", pRef=pRef)\n",
    "\n",
    "atomicity_evaluator = Atomicity()\n",
    "atomicity_evaluator.set_pRef(pRef)\n",
    "\n",
    "def atomicity(ps: PS):\n",
    "    return atomicity_evaluator.get_single_score(ps)\n",
    "\n"
   ]
  },
  {
   "cell_type": "code",
   "execution_count": 1,
   "outputs": [],
   "source": [],
   "metadata": {
    "collapsed": false,
    "ExecuteTime": {
     "end_time": "2025-03-25T12:01:54.141495600Z",
     "start_time": "2025-03-25T12:01:54.141495600Z"
    }
   },
   "id": "d91a6a9c88f5289f"
  },
  {
   "cell_type": "code",
   "execution_count": 2,
   "outputs": [
    {
     "name": "stdout",
     "output_type": "stream",
     "text": [
      "Searching for a PS globally in the polish style..."
     ]
    },
    {
     "name": "stderr",
     "output_type": "stream",
     "text": [
      "C:\\Users\\gac8\\AppData\\Local\\anaconda3\\Lib\\site-packages\\numpy\\lib\\function_base.py:518: RuntimeWarning: Mean of empty slice.\n",
      "  avg = a.mean(axis, **keepdims_kw)\n",
      "C:\\Users\\gac8\\AppData\\Local\\anaconda3\\Lib\\site-packages\\numpy\\core\\_methods.py:192: RuntimeWarning: invalid value encountered in scalar divide\n",
      "  ret = ret.dtype.type(ret / rcount)\n"
     ]
    },
    {
     "name": "stdout",
     "output_type": "stream",
     "text": [
      "==========================================================================================\n",
      "n_gen  |  n_eval  | n_nds  |     cv_min    |     cv_avg    |      eps      |   indicator  \n",
      "==========================================================================================\n",
      "     1 |       70 |      6 |  0.000000E+00 |  0.000000E+00 |             - |             -\n",
      "     2 |      170 |      6 |  0.000000E+00 |  0.000000E+00 |  0.2279263264 |         nadir\n",
      "     3 |      270 |      8 |  0.000000E+00 |  0.000000E+00 |  0.2000000000 |         nadir\n",
      "     4 |      370 |      8 |  0.000000E+00 |  0.000000E+00 |  0.000000E+00 |             f\n",
      "     5 |      470 |      7 |  0.000000E+00 |  0.000000E+00 |  0.0289357190 |             f\n",
      "     6 |      570 |      7 |  0.000000E+00 |  0.000000E+00 |  0.000000E+00 |             f\n",
      "     7 |      670 |      5 |  0.000000E+00 |  0.000000E+00 |  0.2500000000 |         nadir\n",
      "     8 |      770 |      5 |  0.000000E+00 |  0.000000E+00 |  0.000000E+00 |             f\n",
      "     9 |      870 |      5 |  0.000000E+00 |  0.000000E+00 |  0.000000E+00 |             f\n",
      "    10 |      970 |      5 |  0.000000E+00 |  0.000000E+00 |  0.000000E+00 |             f\n",
      "    11 |     1070 |      5 |  0.000000E+00 |  0.000000E+00 |  0.000000E+00 |             f\n",
      "    12 |     1170 |      5 |  0.000000E+00 |  0.000000E+00 |  0.000000E+00 |             f\n",
      "    13 |     1270 |      5 |  0.000000E+00 |  0.000000E+00 |  0.000000E+00 |             f\n",
      "    14 |     1370 |      5 |  0.000000E+00 |  0.000000E+00 |  0.000000E+00 |             f\n",
      "    15 |     1470 |      5 |  0.000000E+00 |  0.000000E+00 |  0.000000E+00 |             f\n",
      "    16 |     1570 |      6 |  0.000000E+00 |  0.000000E+00 |  0.0835084294 |             f\n",
      "    17 |     1670 |      6 |  0.000000E+00 |  0.000000E+00 |  0.000000E+00 |             f\n",
      "    18 |     1770 |      7 |  0.000000E+00 |  0.000000E+00 |  0.0939350352 |         ideal\n",
      "    19 |     1870 |      7 |  0.000000E+00 |  0.000000E+00 |  0.000000E+00 |             f\n",
      "    20 |     1970 |      7 |  0.000000E+00 |  0.000000E+00 |  0.000000E+00 |             f\n",
      "    21 |     2070 |      8 |  0.000000E+00 |  0.000000E+00 |  0.000000E+00 |             f\n",
      "    22 |     2170 |      8 |  0.000000E+00 |  0.000000E+00 |  0.000000E+00 |             f\n",
      "    23 |     2270 |     10 |  0.000000E+00 |  0.000000E+00 |  0.000000E+00 |             f\n",
      "    24 |     2370 |     10 |  0.000000E+00 |  0.000000E+00 |  0.000000E+00 |             f\n",
      "    25 |     2470 |     10 |  0.000000E+00 |  0.000000E+00 |  0.000000E+00 |             f\n",
      "    26 |     2570 |     10 |  0.000000E+00 |  0.000000E+00 |  0.000000E+00 |             f\n",
      "    27 |     2670 |     11 |  0.000000E+00 |  0.000000E+00 |  0.000000E+00 |             f\n",
      "    28 |     2770 |     11 |  0.000000E+00 |  0.000000E+00 |  0.000000E+00 |             f\n",
      "    29 |     2870 |     11 |  0.000000E+00 |  0.000000E+00 |  0.000000E+00 |             f\n",
      "    30 |     2970 |     11 |  0.000000E+00 |  0.000000E+00 |  0.000000E+00 |             f\n",
      "    31 |     3070 |     11 |  0.000000E+00 |  0.000000E+00 |  0.000000E+00 |             f\n",
      "    32 |     3170 |     11 |  0.000000E+00 |  0.000000E+00 |  0.000000E+00 |             f\n",
      "    33 |     3270 |     12 |  0.000000E+00 |  0.000000E+00 |  0.000000E+00 |             f\n",
      "    34 |     3370 |     13 |  0.000000E+00 |  0.000000E+00 |  0.000000E+00 |             f\n",
      "    35 |     3470 |     13 |  0.000000E+00 |  0.000000E+00 |  0.000000E+00 |             f\n",
      "    36 |     3570 |     13 |  0.000000E+00 |  0.000000E+00 |  0.000000E+00 |             f\n",
      "    37 |     3670 |     15 |  0.000000E+00 |  0.000000E+00 |  0.9619627512 |         ideal\n",
      "    38 |     3770 |      7 |  0.000000E+00 |  0.000000E+00 |  0.0001560657 |             f\n",
      "    39 |     3870 |      7 |  0.000000E+00 |  0.000000E+00 |  0.0001560657 |             f\n",
      "    40 |     3970 |      7 |  0.000000E+00 |  0.000000E+00 |  0.0001560657 |             f\n",
      "    41 |     4070 |      7 |  0.000000E+00 |  0.000000E+00 |  0.0001560657 |             f\n",
      "    42 |     4170 |      7 |  0.000000E+00 |  0.000000E+00 |  0.0001560657 |             f\n",
      "    43 |     4270 |      7 |  0.000000E+00 |  0.000000E+00 |  0.0001560657 |             f\n",
      "    44 |     4370 |      7 |  0.000000E+00 |  0.000000E+00 |  0.0001560657 |             f\n",
      "    45 |     4470 |      7 |  0.000000E+00 |  0.000000E+00 |  0.0001560657 |             f\n",
      "    46 |     4570 |      7 |  0.000000E+00 |  0.000000E+00 |  0.0001560657 |             f\n",
      "    47 |     4670 |      7 |  0.000000E+00 |  0.000000E+00 |  0.0001560657 |             f\n",
      "    48 |     4770 |      7 |  0.000000E+00 |  0.000000E+00 |  0.0001560657 |             f\n",
      "    49 |     4870 |      7 |  0.000000E+00 |  0.000000E+00 |  0.0001560657 |             f\n",
      "    50 |     4970 |      7 |  0.000000E+00 |  0.000000E+00 |  0.0001560657 |             f\n",
      "    51 |     5070 |      7 |  0.000000E+00 |  0.000000E+00 |  0.0001560657 |             f\n",
      "The pss found in the search are \n",
      "\t [* * * * * * * * * * * * * * * * * * * *][-20.000, -0.876, 0.000, ]\n",
      "\t [* * * * * * * * * * * * 1 * * * * * * *][-19.000, -0.877, 0.000, ]\n",
      "\t [* * * * * * * * * 1 * * * * * * * * * 1][-18.000, -0.994, 0.000, ]\n",
      "\t [* * * 1 * * 1 * * * * * * * * 1 * 1 * *][-16.000, -1.000, -0.000, ]\n",
      "\t [* * * 1 * * 1 * * * * * * * * * * 1 * *][-17.000, -0.993, -0.000, ]\n",
      "\t [* * * * * 1 * * * * * * * * * * 1 * * *][-18.000, -0.864, -0.002, ]\n",
      "\t [* * * 1 * * 1 * * 1 * * * * * * * * * *][-17.000, -1.000, -0.000, ]\n",
      "Found the following pss:\n",
      "\t[* * * * * * * * * * * * * * * * * * * *][-20.000, -0.876, 0.000, ], scores = [-20.         -0.8756651   0.       ]\n",
      "\t[* * * * * * * * * * * * 1 * * * * * * *][-19.000, -0.877, 0.000, ], scores = [-19.         -0.8772837   0.       ]\n",
      "\t[* * * * * * * * * 1 * * * * * * * * * 1][-18.000, -0.994, 0.000, ], scores = [-1.80000000e+01 -9.94284630e-01  8.27297621e-05]\n",
      "\t[* * * 1 * * 1 * * * * * * * * 1 * 1 * *][-16.000, -1.000, -0.000, ], scores = [-1.60000000e+01 -9.99990761e-01 -1.10685472e-05]\n",
      "\t[* * * 1 * * 1 * * * * * * * * * * 1 * *][-17.000, -0.993, -0.000, ], scores = [-1.70000000e+01 -9.93164931e-01 -4.63973691e-06]\n",
      "\t[* * * * * 1 * * * * * * * * * * 1 * * *][-18.000, -0.864, -0.002, ], scores = [-1.80000000e+01 -8.64130932e-01 -2.38322959e-03]\n",
      "\t[* * * 1 * * 1 * * 1 * * * * * * * * * *][-17.000, -1.000, -0.000, ], scores = [-1.70000000e+01 -1.00000000e+00 -2.25759971e-06]\n",
      "The crowdings are \n",
      "[* * * * * * * * * * * * * * * * * * * *][-20.000, -0.876, 0.000, ]  -> average crowding  1.6538783111009767\n",
      "[* * * * * * * * * * * * 1 * * * * * * *][-19.000, -0.877, 0.000, ]  -> average crowding  2.4398527490796815\n",
      "[* * * * * * * * * 1 * * * * * * * * * 1][-18.000, -0.994, 0.000, ]  -> average crowding  4.0\n",
      "[* * * 1 * * 1 * * * * * * * * 1 * 1 * *][-16.000, -1.000, -0.000, ]  -> average crowding  5.5\n",
      "[* * * 1 * * 1 * * * * * * * * * * 1 * *][-17.000, -0.993, -0.000, ]  -> average crowding  3.857142857142857\n",
      "[* * * * * 1 * * * * * * * * * * 1 * * *][-18.000, -0.864, -0.002, ]  -> average crowding  2.421874109940188\n",
      "[* * * 1 * * 1 * * 1 * * * * * * * * * *][-17.000, -1.000, -0.000, ]  -> average crowding  6.0\n",
      "...Finished (took 46.615898 seconds)\n"
     ]
    }
   ],
   "source": [
    "\n",
    "from Niching.NichingOperators import AverageToeSteppingNiching, JaccardNiching\n",
    "from PolishSystem.polish_search_methods import search_global_polish_ps\n",
    "from utils import announce\n",
    "from SimplifiedSystem.PSSearchSettings import get_default_search_settings\n",
    "\n",
    "\n",
    "search_settings = get_default_search_settings()\n",
    "search_settings.verbose = True\n",
    "search_settings.culling_method = None\n",
    "#search_settings.niching_operator = JaccardNiching(pRef)\n",
    "search_settings.niching_operator = AverageToeSteppingNiching(pRef)\n",
    "with announce(\"Searching for a PS globally in the polish style\"):\n",
    "    new_pss = search_global_polish_ps(original_problem_search_space=pRef.search_space,\n",
    "                                      objectives = [simplicity, mean_fitness, atomicity],\n",
    "                                      search_settings=search_settings)\n",
    "    print(f\"Found the following pss:\")\n",
    "    for ps in new_pss:\n",
    "        print(f\"\\t{ps}, scores = {ps.metric_scores}\")\n",
    "        \n",
    "        \n",
    "    print(\"The crowdings are \")\n",
    "    toestepper_counter = AverageToeSteppingNiching(pRef)\n",
    "    toestepping = toestepper_counter.get_average_coverage_count(new_pss)\n",
    "    for toestepping, ps in zip(toestepping, new_pss):\n",
    "        print(ps, \" -> average crowding \", toestepping)\n",
    "    "
   ],
   "metadata": {
    "collapsed": false,
    "ExecuteTime": {
     "end_time": "2025-03-25T12:02:40.824705400Z",
     "start_time": "2025-03-25T12:01:54.141495600Z"
    }
   },
   "id": "2e2747d3df8372f8"
  },
  {
   "cell_type": "code",
   "execution_count": 2,
   "outputs": [],
   "source": [],
   "metadata": {
    "collapsed": false,
    "ExecuteTime": {
     "end_time": "2025-03-25T12:02:40.824705400Z",
     "start_time": "2025-03-25T12:02:40.820397800Z"
    }
   },
   "id": "f018d77252f33081"
  },
  {
   "cell_type": "code",
   "execution_count": 2,
   "outputs": [],
   "source": [],
   "metadata": {
    "collapsed": false,
    "ExecuteTime": {
     "end_time": "2025-03-25T12:02:40.824705400Z",
     "start_time": "2025-03-25T12:02:40.824705400Z"
    }
   },
   "id": "ece412fa25bdac4"
  }
 ],
 "metadata": {
  "kernelspec": {
   "display_name": "Python 3",
   "language": "python",
   "name": "python3"
  },
  "language_info": {
   "codemirror_mode": {
    "name": "ipython",
    "version": 2
   },
   "file_extension": ".py",
   "mimetype": "text/x-python",
   "name": "python",
   "nbconvert_exporter": "python",
   "pygments_lexer": "ipython2",
   "version": "2.7.6"
  }
 },
 "nbformat": 4,
 "nbformat_minor": 5
}
