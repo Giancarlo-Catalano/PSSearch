{
 "cells": [
  {
   "cell_type": "code",
   "execution_count": 1,
   "id": "initial_id",
   "metadata": {
    "collapsed": true,
    "ExecuteTime": {
     "end_time": "2025-03-25T11:43:02.733188100Z",
     "start_time": "2025-03-25T11:43:01.646772700Z"
    }
   },
   "outputs": [],
   "source": [
    "\n",
    "from Core.PSMetric.Linkage.Atomicity import Atomicity\n",
    "from PolishSystem.read_data import get_pRef_from_vectors, get_vectors_file_name, get_fitness_file_name\n",
    "from SimplifiedSystem.ps_search_utils import get_metric_function\n",
    "\n",
    "# this section will generate the search objectives\n",
    "size = 20\n",
    "method = \"qmc\"\n",
    "fitness_column_to_use = 0\n",
    "data_folder = r\"C:\\Users\\gac8\\PycharmProjects\\PSSearch\\data\\retail_forecasting\"\n",
    "\n",
    "pRef = get_pRef_from_vectors(get_vectors_file_name(data_folder, size, method), \n",
    "                             get_fitness_file_name(data_folder, size, method), fitness_column_to_use)\n",
    "\n",
    "simplicity = get_metric_function(\"simplicity\")\n",
    "mean_fitness = get_metric_function(\"mean_fitness\", pRef=pRef)\n",
    "\n",
    "atomicity = Atomicity()\n",
    "atomicity.set_pRef(pRef)\n",
    "\n"
   ]
  },
  {
   "cell_type": "code",
   "execution_count": 1,
   "outputs": [],
   "source": [],
   "metadata": {
    "collapsed": false,
    "ExecuteTime": {
     "end_time": "2025-03-25T11:43:02.733188100Z",
     "start_time": "2025-03-25T11:43:02.726639500Z"
    }
   },
   "id": "d91a6a9c88f5289f"
  },
  {
   "cell_type": "code",
   "execution_count": 2,
   "outputs": [
    {
     "name": "stdout",
     "output_type": "stream",
     "text": [
      "Searching for a PS globally in the polish style..."
     ]
    },
    {
     "name": "stderr",
     "output_type": "stream",
     "text": [
      "C:\\Users\\gac8\\AppData\\Local\\anaconda3\\Lib\\site-packages\\numpy\\lib\\function_base.py:518: RuntimeWarning: Mean of empty slice.\n",
      "  avg = a.mean(axis, **keepdims_kw)\n",
      "C:\\Users\\gac8\\AppData\\Local\\anaconda3\\Lib\\site-packages\\numpy\\core\\_methods.py:192: RuntimeWarning: invalid value encountered in scalar divide\n",
      "  ret = ret.dtype.type(ret / rcount)\n"
     ]
    },
    {
     "name": "stdout",
     "output_type": "stream",
     "text": [
      "==========================================================================================\n",
      "n_gen  |  n_eval  | n_nds  |     cv_min    |     cv_avg    |      eps      |   indicator  \n",
      "==========================================================================================\n",
      "     1 |       67 |      6 |  0.000000E+00 |  0.000000E+00 |             - |             -\n",
      "     2 |      167 |      5 |  0.000000E+00 |  0.000000E+00 |  0.1666666667 |         nadir\n",
      "     3 |      267 |      6 |  0.000000E+00 |  0.000000E+00 |  0.2000000000 |         nadir\n",
      "     4 |      367 |      7 |  0.000000E+00 |  0.000000E+00 |  0.0285714305 |             f\n",
      "     5 |      467 |      8 |  0.000000E+00 |  0.000000E+00 |  0.000000E+00 |             f\n",
      "     6 |      567 |      8 |  0.000000E+00 |  0.000000E+00 |  0.000000E+00 |             f\n",
      "     7 |      667 |      8 |  0.000000E+00 |  0.000000E+00 |  0.000000E+00 |             f\n",
      "     8 |      767 |      8 |  0.000000E+00 |  0.000000E+00 |  0.000000E+00 |             f\n",
      "     9 |      867 |      8 |  0.000000E+00 |  0.000000E+00 |  0.000000E+00 |             f\n",
      "    10 |      967 |     10 |  0.000000E+00 |  0.000000E+00 |  0.000000E+00 |             f\n",
      "    11 |     1067 |     10 |  0.000000E+00 |  0.000000E+00 |  0.000000E+00 |             f\n",
      "    12 |     1167 |     10 |  0.000000E+00 |  0.000000E+00 |  0.000000E+00 |             f\n",
      "    13 |     1267 |     10 |  0.000000E+00 |  0.000000E+00 |  0.000000E+00 |             f\n",
      "    14 |     1367 |     10 |  0.000000E+00 |  0.000000E+00 |  0.000000E+00 |             f\n",
      "    15 |     1467 |      6 |  0.000000E+00 |  0.000000E+00 |  0.2500000000 |         nadir\n",
      "    16 |     1567 |      6 |  0.000000E+00 |  0.000000E+00 |  0.000000E+00 |             f\n",
      "    17 |     1667 |      6 |  0.000000E+00 |  0.000000E+00 |  0.000000E+00 |             f\n",
      "    18 |     1767 |      6 |  0.000000E+00 |  0.000000E+00 |  0.000000E+00 |             f\n",
      "    19 |     1867 |      6 |  0.000000E+00 |  0.000000E+00 |  0.000000E+00 |             f\n",
      "    20 |     1967 |      6 |  0.000000E+00 |  0.000000E+00 |  0.000000E+00 |             f\n",
      "    21 |     2067 |      6 |  0.000000E+00 |  0.000000E+00 |  0.000000E+00 |             f\n",
      "    22 |     2167 |      6 |  0.000000E+00 |  0.000000E+00 |  0.000000E+00 |             f\n",
      "    23 |     2267 |      6 |  0.000000E+00 |  0.000000E+00 |  0.000000E+00 |             f\n",
      "    24 |     2367 |      7 |  0.000000E+00 |  0.000000E+00 |  0.000000E+00 |             f\n",
      "    25 |     2467 |      7 |  0.000000E+00 |  0.000000E+00 |  0.000000E+00 |             f\n",
      "    26 |     2567 |      7 |  0.000000E+00 |  0.000000E+00 |  0.000000E+00 |             f\n",
      "    27 |     2667 |      7 |  0.000000E+00 |  0.000000E+00 |  0.000000E+00 |             f\n",
      "    28 |     2767 |      7 |  0.000000E+00 |  0.000000E+00 |  0.000000E+00 |             f\n",
      "    29 |     2867 |      8 |  0.000000E+00 |  0.000000E+00 |  0.000000E+00 |             f\n",
      "    30 |     2967 |      9 |  0.000000E+00 |  0.000000E+00 |  0.000000E+00 |             f\n",
      "    31 |     3067 |     10 |  0.000000E+00 |  0.000000E+00 |  0.000000E+00 |             f\n",
      "    32 |     3167 |     11 |  0.000000E+00 |  0.000000E+00 |  0.000000E+00 |             f\n",
      "    33 |     3267 |     12 |  0.000000E+00 |  0.000000E+00 |  0.000000E+00 |             f\n",
      "    34 |     3367 |     13 |  0.000000E+00 |  0.000000E+00 |  0.000000E+00 |             f\n",
      "    35 |     3467 |     13 |  0.000000E+00 |  0.000000E+00 |  0.000000E+00 |             f\n",
      "    36 |     3567 |     13 |  0.000000E+00 |  0.000000E+00 |  0.000000E+00 |             f\n",
      "    37 |     3667 |      4 |  0.000000E+00 |  0.000000E+00 |  0.3333333333 |         nadir\n",
      "    38 |     3767 |      4 |  0.000000E+00 |  0.000000E+00 |  0.000000E+00 |             f\n",
      "    39 |     3867 |      4 |  0.000000E+00 |  0.000000E+00 |  0.000000E+00 |             f\n",
      "    40 |     3967 |      4 |  0.000000E+00 |  0.000000E+00 |  0.000000E+00 |             f\n",
      "    41 |     4067 |      4 |  0.000000E+00 |  0.000000E+00 |  0.000000E+00 |             f\n",
      "    42 |     4167 |      4 |  0.000000E+00 |  0.000000E+00 |  0.000000E+00 |             f\n",
      "    43 |     4267 |      4 |  0.000000E+00 |  0.000000E+00 |  0.000000E+00 |             f\n",
      "    44 |     4367 |      4 |  0.000000E+00 |  0.000000E+00 |  0.000000E+00 |             f\n",
      "    45 |     4467 |      5 |  0.000000E+00 |  0.000000E+00 |  0.000000E+00 |             f\n",
      "    46 |     4567 |      5 |  0.000000E+00 |  0.000000E+00 |  0.000000E+00 |             f\n",
      "    47 |     4667 |      5 |  0.000000E+00 |  0.000000E+00 |  0.000000E+00 |             f\n",
      "    48 |     4767 |      5 |  0.000000E+00 |  0.000000E+00 |  0.000000E+00 |             f\n",
      "    49 |     4867 |      5 |  0.000000E+00 |  0.000000E+00 |  0.000000E+00 |             f\n",
      "    50 |     4967 |      5 |  0.000000E+00 |  0.000000E+00 |  0.000000E+00 |             f\n",
      "    51 |     5067 |      5 |  0.000000E+00 |  0.000000E+00 |  0.000000E+00 |             f\n",
      "The pss found in the search are \n",
      "\t [* * * * * * * * * * * * * * * * * * * *][-20.000, -0.876, ]\n",
      "\t [* * * * * * * * 1 * * * * * * * * * * *][-19.000, -0.876, ]\n",
      "\t [* * * 1 * * * * * * * * * * * * * * * 1][-18.000, -0.904, ]\n",
      "\t [* * * 1 * * * * * 1 * * * * * 1 * * * *][-17.000, -1.000, ]\n",
      "\t [* * * 1 * * * * * 1 * 1 * * * * * * * *][-17.000, -1.000, ]\n",
      "Found the following pss:\n",
      "\t[* * * * * * * * * * * * * * * * * * * *][-20.000, -0.876, ], scores = [-20.         -0.8756651]\n",
      "\t[* * * * * * * * 1 * * * * * * * * * * *][-19.000, -0.876, ], scores = [-19.          -0.87642397]\n",
      "\t[* * * 1 * * * * * * * * * * * * * * * 1][-18.000, -0.904, ], scores = [-18.          -0.90364301]\n",
      "\t[* * * 1 * * * * * 1 * * * * * 1 * * * *][-17.000, -1.000, ], scores = [-17.  -1.]\n",
      "\t[* * * 1 * * * * * 1 * 1 * * * * * * * *][-17.000, -1.000, ], scores = [-17.  -1.]\n",
      "The crowdings are \n",
      "[* * * * * * * * * * * * * * * * * * * *][-20.000, -0.876, ]  -> average crowding  1.2224375783833086\n",
      "[* * * * * * * * 1 * * * * * * * * * * *][-19.000, -0.876, ]  -> average crowding  2.0003418511238356\n",
      "[* * * 1 * * * * * * * * * * * * * * * 1][-18.000, -0.904, ]  -> average crowding  2.6666666666666665\n",
      "[* * * 1 * * * * * 1 * * * * * 1 * * * *][-17.000, -1.000, ]  -> average crowding  4.0\n",
      "[* * * 1 * * * * * 1 * 1 * * * * * * * *][-17.000, -1.000, ]  -> average crowding  4.0\n",
      "...Finished (took 21.673918 seconds)\n"
     ]
    }
   ],
   "source": [
    "\n",
    "from Niching.NichingOperators import AverageToeSteppingNiching\n",
    "from PolishSystem.polish_search_methods import search_global_polish_ps\n",
    "from utils import announce\n",
    "from SimplifiedSystem.PSSearchSettings import get_default_search_settings\n",
    "\n",
    "\n",
    "search_settings = get_default_search_settings()\n",
    "search_settings.verbose = True\n",
    "search_settings.culling_method = None\n",
    "search_settings.niching_operator = AverageToeSteppingNiching(pRef)\n",
    "with announce(\"Searching for a PS globally in the polish style\"):\n",
    "    new_pss = search_global_polish_ps(original_problem_search_space=pRef.search_space,\n",
    "                                        objectives = [simplicity, mean_fitness],\n",
    "                                      search_settings=search_settings)\n",
    "    print(f\"Found the following pss:\")\n",
    "    for ps in new_pss:\n",
    "        print(f\"\\t{ps}, scores = {ps.metric_scores}\")\n",
    "        \n",
    "        \n",
    "    print(\"The crowdings are \")\n",
    "    toestepping = search_settings.niching_operator.get_average_coverage_count(new_pss)\n",
    "    for toestepping, ps in zip(toestepping, new_pss):\n",
    "        print(ps, \" -> average crowding \", toestepping)\n",
    "    "
   ],
   "metadata": {
    "collapsed": false,
    "ExecuteTime": {
     "end_time": "2025-03-25T11:43:24.477469700Z",
     "start_time": "2025-03-25T11:43:02.730144900Z"
    }
   },
   "id": "2e2747d3df8372f8"
  },
  {
   "cell_type": "code",
   "execution_count": 2,
   "outputs": [],
   "source": [],
   "metadata": {
    "collapsed": false,
    "ExecuteTime": {
     "end_time": "2025-03-25T11:43:24.477469700Z",
     "start_time": "2025-03-25T11:43:24.468692Z"
    }
   },
   "id": "f018d77252f33081"
  },
  {
   "cell_type": "code",
   "execution_count": 2,
   "outputs": [],
   "source": [],
   "metadata": {
    "collapsed": false,
    "ExecuteTime": {
     "end_time": "2025-03-25T11:43:24.477972200Z",
     "start_time": "2025-03-25T11:43:24.475435400Z"
    }
   },
   "id": "ece412fa25bdac4"
  }
 ],
 "metadata": {
  "kernelspec": {
   "display_name": "Python 3",
   "language": "python",
   "name": "python3"
  },
  "language_info": {
   "codemirror_mode": {
    "name": "ipython",
    "version": 2
   },
   "file_extension": ".py",
   "mimetype": "text/x-python",
   "name": "python",
   "nbconvert_exporter": "python",
   "pygments_lexer": "ipython2",
   "version": "2.7.6"
  }
 },
 "nbformat": 4,
 "nbformat_minor": 5
}
