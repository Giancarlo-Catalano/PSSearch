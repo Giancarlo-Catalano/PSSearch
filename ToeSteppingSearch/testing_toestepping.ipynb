{
 "cells": [
  {
   "cell_type": "code",
   "execution_count": 1,
   "outputs": [
    {
     "name": "stdout",
     "output_type": "stream",
     "text": [
      "Running the algorithm to generate the PRef using GA......Finished (took 0.797618 seconds)\n"
     ]
    }
   ],
   "source": [
    "\n",
    "from BenchmarkProblems.RoyalRoad import RoyalRoad\n",
    "# check if the metrics work\n",
    "from Core.get_pRef import get_pRef_from_metaheuristic\n",
    "\n",
    "# Check that reference populations and metrics work as intended\n",
    "\n",
    "# first, we make a benchmark problem\n",
    "problem = RoyalRoad(5)\n",
    "\n",
    "# then we make a pRef\n",
    "pRef = get_pRef_from_metaheuristic(problem=problem,\n",
    "                                 sample_size=10000,\n",
    "                                 which_algorithm=\"GA\",\n",
    "                                   unique=True,\n",
    "                                 verbose=True)"
   ],
   "metadata": {
    "collapsed": false,
    "ExecuteTime": {
     "end_time": "2025-03-26T16:21:53.192867500Z",
     "start_time": "2025-03-26T16:21:49.989317700Z"
    }
   },
   "id": "ae76e64925189412"
  },
  {
   "cell_type": "code",
   "execution_count": 16,
   "outputs": [
    {
     "name": "stdout",
     "output_type": "stream",
     "text": [
      "Searcing for a PS globally using toe steps...==========================================================================================\n",
      "n_gen  |  n_eval  | n_nds  |     cv_min    |     cv_avg    |      eps      |   indicator  \n",
      "==========================================================================================\n",
      "     1 |      655 |     10 |  0.000000E+00 |  0.000000E+00 |             - |             -\n",
      "     2 |     1655 |     11 |  0.000000E+00 |  0.000000E+00 |  0.0601953719 |         ideal\n",
      "     3 |     2655 |     11 |  0.000000E+00 |  0.000000E+00 |  0.000000E+00 |             f\n",
      "     4 |     3655 |     12 |  0.000000E+00 |  0.000000E+00 |  0.1389498751 |         ideal\n",
      "     5 |     4655 |     12 |  0.000000E+00 |  0.000000E+00 |  0.0121927233 |         nadir\n",
      "     6 |     5655 |     16 |  0.000000E+00 |  0.000000E+00 |  0.0999552057 |         ideal\n",
      "     7 |     6655 |     15 |  0.000000E+00 |  0.000000E+00 |  0.0048778859 |             f\n",
      "     8 |     7655 |     15 |  0.000000E+00 |  0.000000E+00 |  0.000000E+00 |             f\n",
      "     9 |     8655 |     17 |  0.000000E+00 |  0.000000E+00 |  0.0006013348 |             f\n",
      "    10 |     9655 |     17 |  0.000000E+00 |  0.000000E+00 |  0.0034388096 |             f\n",
      "    11 |    10655 |     18 |  0.000000E+00 |  0.000000E+00 |  0.0468870895 |         ideal\n",
      "    12 |    11655 |     18 |  0.000000E+00 |  0.000000E+00 |  0.000000E+00 |             f\n",
      "    13 |    12655 |     19 |  0.000000E+00 |  0.000000E+00 |  0.0011904477 |             f\n",
      "    14 |    13655 |     19 |  0.000000E+00 |  0.000000E+00 |  0.0011904477 |             f\n",
      "    15 |    14655 |     19 |  0.000000E+00 |  0.000000E+00 |  0.0011904477 |             f\n",
      "    16 |    15655 |     20 |  0.000000E+00 |  0.000000E+00 |  0.0015943565 |             f\n",
      "    17 |    16655 |     21 |  0.000000E+00 |  0.000000E+00 |  0.0015184347 |             f\n",
      "    18 |    17655 |     21 |  0.000000E+00 |  0.000000E+00 |  0.0015184347 |             f\n",
      "    19 |    18655 |     21 |  0.000000E+00 |  0.000000E+00 |  0.0015184347 |             f\n",
      "    20 |    19655 |     21 |  0.000000E+00 |  0.000000E+00 |  0.0015184347 |             f\n",
      "    21 |    20655 |     23 |  0.000000E+00 |  0.000000E+00 |  0.0017107496 |             f\n",
      "The pss found in the search are \n",
      "\t [* * * * * * * * * * 0 * * * * * * * * 0][19.027, 72.536, ]\n",
      "\t [* * * * * * * * * * * * * * * * * * * 0][19.126, 72.508, ]\n",
      "\t [* * * * * * 0 * * * * * * * * * * * * 0][18.828, 73.443, ]\n",
      "\t [* * * * * * * * * * * 1 * * * 0 * * * 0][20.337, 71.045, ]\n",
      "\t [* 1 * 1 * * * * * * * * * * * * * * * 1][17.151, 76.779, ]\n",
      "\t [* * * * * * * * * * * * * * * * 1 * 1 *][17.286, 75.892, ]\n",
      "\t [* * * * * * 1 * * 1 * 1 * * * * 1 * * *][17.629, 74.099, ]\n",
      "\t [* * * * * * 1 * * * * * * * * * * 1 * 1][16.869, 91.211, ]\n",
      "\t [* * * * * * * * * * * * * * * * * 1 1 1][16.114, 128.366, ]\n",
      "\t [* 1 * * 0 * * * * * * 0 * * * * * 0 * *][21.019, 66.250, ]\n",
      "\t [* * * * * * 0 * * * * * * * * * 0 * 0 1][21.177, 65.222, ]\n",
      "\t [* * * * * 0 * 0 * 0 0 * 0 * * * 0 * * *][21.657, 53.000, ]\n",
      "\t [* * * * * * * * * * * * 0 * * * 0 * 0 *][20.626, 66.895, ]\n",
      "\t [* * * * * * * * * * 0 * * 0 * 0 0 * 0 *][21.560, 55.000, ]\n",
      "\t [* * * 0 * * * * * * * * * * 0 * 0 * 0 *][21.396, 60.833, ]\n",
      "\t [* * * * * * * * * * * * * * 0 * 0 * 0 *][20.539, 68.143, ]\n",
      "\t [* * 0 1 0 * * * * * 0 * * * * * * 0 * *][21.487, 59.000, ]\n",
      "\t [* * * * * * * * * * * * * * * * 1 1 1 1][15.841, 238.253, ]\n",
      "\t [0 * * * * * * * * 0 * * * * * 0 * * * 0][21.265, 61.000, ]\n",
      "\t [* 0 * * * * * * * * 0 * * * * * * 0 * 1][20.967, 66.600, ]\n",
      "\t [0 * 0 * * * * * * * * 0 * * 0 * * * * 0][21.657, 53.000, ]\n",
      "\t [* * * * 0 * * 0 * 0 * * * * * * * 0 * 0][21.552, 55.667, ]\n",
      "\t [* * * * * * * * * 0 0 * * 0 * * * 0 * *][21.177, 65.889, ]\n",
      "Found the following pss:\n",
      "[* * * *  * * * *  * * 0 *  * * * *  * * * 0], scores = [19.02700824 72.53571429]\n",
      "[* * * *  * * * *  * * * *  * * * *  * * * 0], scores = [19.12575342 72.50837989]\n",
      "[* * * *  * * 0 *  * * * *  * * * *  * * * 0], scores = [18.82773547 73.44303797]\n",
      "[* * * *  * * * *  * * * 1  * * * 0  * * * 0], scores = [20.33708076 71.04545455]\n",
      "[* 1 * 1  * * * *  * * * *  * * * *  * * * 1], scores = [17.15129238 76.77912621]\n",
      "[* * * *  * * * *  * * * *  * * * *  1 * 1 *], scores = [17.28586207 75.89236111]\n",
      "[* * * *  * * 1 *  * 1 * 1  * * * *  1 * * *], scores = [17.6286898  74.09935897]\n",
      "[* * * *  * * 1 *  * * * *  * * * *  * 1 * 1], scores = [16.86940361 91.21138211]\n",
      "[* * * *  * * * *  * * * *  * * * *  * 1 1 1], scores = [ 16.11371237 128.36619718]\n",
      "[* 1 * *  0 * * *  * * * 0  * * * *  * 0 * *], scores = [21.01948954 66.25      ]\n",
      "[* * * *  * * 0 *  * * * *  * * * *  0 * 0 1], scores = [21.177238   65.22222222]\n",
      "[* * * *  * 0 * 0  * 0 0 *  0 * * *  0 * * *], scores = [21.65725327 53.        ]\n",
      "[* * * *  * * * *  * * * *  0 * * *  0 * 0 *], scores = [20.62577758 66.89473684]\n",
      "[* * * *  * * * *  * * 0 *  * 0 * 0  0 * 0 *], scores = [21.56044418 55.        ]\n",
      "[* * * 0  * * * *  * * * *  * * 0 *  0 * 0 *], scores = [21.39631574 60.83333333]\n",
      "[* * * *  * * * *  * * * *  * * 0 *  0 * 0 *], scores = [20.53915069 68.14285714]\n",
      "[* * 0 1  0 * * *  * * 0 *  * * * *  * 0 * *], scores = [21.48678879 59.        ]\n",
      "[* * * *  * * * *  * * * *  * * * *  1 1 1 1], scores = [ 15.84100544 238.2529274 ]\n",
      "[0 * * *  * * * *  * 0 * *  * * * 0  * * * 0], scores = [21.264865 61.      ]\n",
      "[* 0 * *  * * * *  * * 0 *  * * * *  * 0 * 1], scores = [20.96671278 66.6       ]\n",
      "[0 * 0 *  * * * *  * * * 0  * * 0 *  * * * 0], scores = [21.65725327 53.        ]\n",
      "[* * * *  0 * * 0  * 0 * *  * * * *  * 0 * 0], scores = [21.55230122 55.66666667]\n",
      "[* * * *  * * * *  * 0 0 *  * 0 * *  * 0 * *], scores = [21.177238   65.88888889]\n",
      "...Finished (took 18.524453 seconds)\n"
     ]
    }
   ],
   "source": [
    "from Core.PSMetric.Linkage.ValueSpecificMutualInformation import FasterSolutionSpecificMutualInformation\n",
    "from Core.PSMetric.FitnessQuality.SplitVariance import SplitVariance\n",
    "from SimplifiedSystem.GlobalPSSearchTask import find_ps_in_problem\n",
    "from Core.PSMetric.FitnessQuality.MeanFitness import MeanFitness\n",
    "from ToeSteppingSearch.GlobalToeSteppingSearch import find_ps_in_problem_with_toe_steps\n",
    "from Core.PSMetric.FitnessQuality.SignificantlyHighAverage import MannWhitneyU\n",
    "from utils import announce\n",
    "from Core.PSMetric.Linkage.Atomicity import Atomicity\n",
    "from Core.PSMetric.Simplicity import Simplicity\n",
    "\n",
    "from Core.PS import PS\n",
    "\n",
    "simplicity_evaluator = Simplicity()\n",
    "good_fitness_evaluator = MeanFitness()\n",
    "atomicity_evaluator = FasterSolutionSpecificMutualInformation()\n",
    "atomicity_evaluator.set_pRef(pRef)\n",
    "atomicity_evaluator.set_solution(pRef.get_best_solution())\n",
    "\n",
    "good_fitness_evaluator.set_pRef(pRef)\n",
    "\n",
    "variance_evaluator = SplitVariance(pRef)\n",
    "\n",
    "\n",
    "    \n",
    "def simplicity(ps: PS):\n",
    "    return -simplicity_evaluator.get_single_score(ps)\n",
    "\n",
    "def good_fitness(ps: PS):\n",
    "    return -good_fitness_evaluator.get_single_score(ps) \n",
    "\n",
    "def atomicity(ps: PS):\n",
    "    return -atomicity_evaluator.get_single_score(ps)\n",
    "\n",
    "def variance(ps: PS):\n",
    "    return variance_evaluator.get_single_score(ps)\n",
    "    \n",
    "\n",
    "with announce(\"Searcing for a PS globally using toe steps\"):\n",
    "    new_pss = find_ps_in_problem_with_toe_steps(original_problem_search_space=problem.search_space,\n",
    "                                                pRef=pRef,\n",
    "                                                objectives=[variance],\n",
    "                                                #metrics = \"variance\",\n",
    "                                                ps_budget=20000,\n",
    "                                                culling_method=None,\n",
    "                                                population_size=1000,\n",
    "                                                verbose=True)\n",
    "    print(f\"Found the following pss:\")\n",
    "    for ps in new_pss:\n",
    "        print(f\"{problem.repr_ps(ps)}, scores = {ps.metric_scores}\")\n",
    "\n"
   ],
   "metadata": {
    "collapsed": false,
    "ExecuteTime": {
     "end_time": "2025-03-26T16:28:33.268946800Z",
     "start_time": "2025-03-26T16:28:14.671531900Z"
    }
   },
   "id": "93c1e7a22ce55870"
  },
  {
   "cell_type": "code",
   "execution_count": 2,
   "outputs": [],
   "source": [],
   "metadata": {
    "collapsed": false,
    "ExecuteTime": {
     "end_time": "2025-03-26T16:21:56.856425200Z",
     "start_time": "2025-03-26T16:21:56.850380500Z"
    }
   },
   "id": "16cd8e782bdf60b9"
  }
 ],
 "metadata": {
  "kernelspec": {
   "display_name": "Python 3",
   "language": "python",
   "name": "python3"
  },
  "language_info": {
   "codemirror_mode": {
    "name": "ipython",
    "version": 2
   },
   "file_extension": ".py",
   "mimetype": "text/x-python",
   "name": "python",
   "nbconvert_exporter": "python",
   "pygments_lexer": "ipython2",
   "version": "2.7.6"
  }
 },
 "nbformat": 4,
 "nbformat_minor": 5
}
