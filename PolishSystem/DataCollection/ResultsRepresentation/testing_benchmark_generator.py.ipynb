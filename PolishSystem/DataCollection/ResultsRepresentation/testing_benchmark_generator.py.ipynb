{
 "cells": [
  {
   "cell_type": "code",
   "execution_count": null,
   "id": "initial_id",
   "metadata": {
    "collapsed": true,
    "ExecuteTime": {
     "end_time": "2025-03-21T16:24:32.361732200Z",
     "start_time": "2025-03-21T16:24:32.361227600Z"
    }
   },
   "outputs": [],
   "source": []
  },
  {
   "cell_type": "code",
   "execution_count": 3,
   "outputs": [],
   "source": [
    "from pymoo.operators.mutation.bitflip import BitflipMutation\n",
    "from pymoo.operators.crossover.sbx import SimulatedBinaryCrossover\n",
    "from SimplifiedSystem.Operators.Sampling import LocalPSGeometricSampling\n",
    "from SimplifiedSystem.PSSearchSettings import get_default_search_settings\n",
    "from PolishSystem.DataCollection.ResultsRepresentation.GianPSBenchmarkDataGenerator import GianPSBenchmarkDataGenerator\n",
    "from PolishSystem.DataCollection.ResultsRepresentation.BenchmarkDataGeneratorInterface import User, DataSet\n",
    "\n",
    "user = User.GIAN\n",
    "\n",
    "dataset = DataSet(vector_size=20, \n",
    "                  clustering_method=\"qmc\", \n",
    "                  fitness_column=0, \n",
    "                  user=user,\n",
    "                  which=\"general\")\n",
    "\n",
    "search_settings = get_default_search_settings()\n",
    "search_settings.metrics = \"-simplicity -mean_fitness\"\n",
    "\n",
    "search_settings.mutation_operator_name = \"BitflipMutation\"\n",
    "search_settings.crossover_operator_name = \"SimulatedBinaryCrossover\"\n",
    "search_settings.sampling_operator_name = \"LocalPSGeometricSampling\"\n",
    "\n",
    "search_settings.sampling_operator = LocalPSGeometricSampling() \n",
    "search_settings.crossover_operator = SimulatedBinaryCrossover(prob=0.3)\n",
    "search_settings.mutation_operator = BitflipMutation(prob=1 / dataset.vector_size)\n",
    "\n",
    "benchmarker = GianPSBenchmarkDataGenerator(user=user,\n",
    "                                           search_settings=search_settings,\n",
    "                                           dataset=dataset)\n",
    "\n",
    "\n"
   ],
   "metadata": {
    "collapsed": false,
    "ExecuteTime": {
     "end_time": "2025-03-21T16:25:37.007401300Z",
     "start_time": "2025-03-21T16:25:36.998471200Z"
    }
   },
   "id": "1c428003ac0e8d72"
  },
  {
   "cell_type": "code",
   "execution_count": 4,
   "outputs": [
    {
     "name": "stdout",
     "output_type": "stream",
     "text": [
      "Running the benchmark...==========================================================================================\n",
      "n_gen  |  n_eval  | n_nds  |     cv_min    |     cv_avg    |      eps      |   indicator  \n",
      "==========================================================================================\n",
      "     1 |       63 |      8 |  0.000000E+00 |  0.000000E+00 |             - |             -\n",
      "     2 |      163 |      8 |  0.000000E+00 |  0.000000E+00 |  0.0388307469 |             f\n",
      "     3 |      263 |     13 |  0.000000E+00 |  0.000000E+00 |  0.000000E+00 |             f\n",
      "     4 |      363 |      5 |  0.000000E+00 |  0.000000E+00 |  0.2500000000 |         nadir\n",
      "     5 |      463 |      4 |  0.000000E+00 |  0.000000E+00 |  0.3333333333 |         nadir\n",
      "     6 |      563 |      4 |  0.000000E+00 |  0.000000E+00 |  0.000000E+00 |             f\n",
      "     7 |      663 |      6 |  0.000000E+00 |  0.000000E+00 |  0.000000E+00 |             f\n",
      "     8 |      763 |      8 |  0.000000E+00 |  0.000000E+00 |  0.000000E+00 |             f\n",
      "     9 |      863 |     10 |  0.000000E+00 |  0.000000E+00 |  0.000000E+00 |             f\n",
      "    10 |      963 |     10 |  0.000000E+00 |  0.000000E+00 |  0.000000E+00 |             f\n",
      "    11 |     1063 |     10 |  0.000000E+00 |  0.000000E+00 |  0.000000E+00 |             f\n",
      "    12 |     1163 |     10 |  0.000000E+00 |  0.000000E+00 |  0.000000E+00 |             f\n",
      "    13 |     1263 |     10 |  0.000000E+00 |  0.000000E+00 |  0.000000E+00 |             f\n",
      "    14 |     1363 |     10 |  0.000000E+00 |  0.000000E+00 |  0.000000E+00 |             f\n",
      "    15 |     1463 |     11 |  0.000000E+00 |  0.000000E+00 |  0.000000E+00 |             f\n",
      "    16 |     1563 |     11 |  0.000000E+00 |  0.000000E+00 |  0.000000E+00 |             f\n",
      "    17 |     1663 |     11 |  0.000000E+00 |  0.000000E+00 |  0.000000E+00 |             f\n",
      "    18 |     1763 |     11 |  0.000000E+00 |  0.000000E+00 |  0.000000E+00 |             f\n",
      "    19 |     1863 |     11 |  0.000000E+00 |  0.000000E+00 |  0.000000E+00 |             f\n",
      "    20 |     1963 |     11 |  0.000000E+00 |  0.000000E+00 |  0.000000E+00 |             f\n",
      "    21 |     2063 |     11 |  0.000000E+00 |  0.000000E+00 |  0.000000E+00 |             f\n",
      "    22 |     2163 |     11 |  0.000000E+00 |  0.000000E+00 |  0.000000E+00 |             f\n",
      "    23 |     2263 |     12 |  0.000000E+00 |  0.000000E+00 |  0.000000E+00 |             f\n",
      "    24 |     2363 |     13 |  0.000000E+00 |  0.000000E+00 |  0.000000E+00 |             f\n",
      "    25 |     2463 |     13 |  0.000000E+00 |  0.000000E+00 |  0.000000E+00 |             f\n",
      "    26 |     2563 |     13 |  0.000000E+00 |  0.000000E+00 |  0.000000E+00 |             f\n",
      "    27 |     2663 |     13 |  0.000000E+00 |  0.000000E+00 |  0.000000E+00 |             f\n",
      "    28 |     2763 |     13 |  0.000000E+00 |  0.000000E+00 |  0.000000E+00 |             f\n",
      "    29 |     2863 |     13 |  0.000000E+00 |  0.000000E+00 |  0.000000E+00 |             f\n",
      "    30 |     2963 |     13 |  0.000000E+00 |  0.000000E+00 |  0.000000E+00 |             f\n",
      "    31 |     3063 |     13 |  0.000000E+00 |  0.000000E+00 |  0.000000E+00 |             f\n",
      "    32 |     3163 |     13 |  0.000000E+00 |  0.000000E+00 |  0.000000E+00 |             f\n",
      "    33 |     3263 |     13 |  0.000000E+00 |  0.000000E+00 |  0.000000E+00 |             f\n",
      "    34 |     3363 |     13 |  0.000000E+00 |  0.000000E+00 |  0.000000E+00 |             f\n",
      "    35 |     3463 |     13 |  0.000000E+00 |  0.000000E+00 |  0.000000E+00 |             f\n",
      "    36 |     3563 |     13 |  0.000000E+00 |  0.000000E+00 |  0.000000E+00 |             f\n",
      "    37 |     3663 |     13 |  0.000000E+00 |  0.000000E+00 |  0.000000E+00 |             f\n",
      "    38 |     3763 |     13 |  0.000000E+00 |  0.000000E+00 |  0.000000E+00 |             f\n",
      "    39 |     3863 |     13 |  0.000000E+00 |  0.000000E+00 |  0.000000E+00 |             f\n",
      "    40 |     3963 |     13 |  0.000000E+00 |  0.000000E+00 |  0.000000E+00 |             f\n",
      "    41 |     4063 |     13 |  0.000000E+00 |  0.000000E+00 |  0.000000E+00 |             f\n",
      "    42 |     4163 |     13 |  0.000000E+00 |  0.000000E+00 |  0.000000E+00 |             f\n",
      "    43 |     4263 |     13 |  0.000000E+00 |  0.000000E+00 |  0.000000E+00 |             f\n",
      "    44 |     4363 |     13 |  0.000000E+00 |  0.000000E+00 |  0.000000E+00 |             f\n",
      "    45 |     4463 |     13 |  0.000000E+00 |  0.000000E+00 |  0.000000E+00 |             f\n",
      "    46 |     4563 |     13 |  0.000000E+00 |  0.000000E+00 |  0.000000E+00 |             f\n",
      "    47 |     4663 |     13 |  0.000000E+00 |  0.000000E+00 |  0.000000E+00 |             f\n",
      "    48 |     4763 |     13 |  0.000000E+00 |  0.000000E+00 |  0.000000E+00 |             f\n",
      "    49 |     4863 |     13 |  0.000000E+00 |  0.000000E+00 |  0.000000E+00 |             f\n",
      "    50 |     4963 |     13 |  0.000000E+00 |  0.000000E+00 |  0.000000E+00 |             f\n",
      "    51 |     5063 |     13 |  0.000000E+00 |  0.000000E+00 |  0.000000E+00 |             f\n",
      "The pss found in the search are \n",
      "\t [* * * * * * * * * * * * * * * * * * * *][-20.000, -1.470, ]\n",
      "\t [* * * 1 * * * * * * * * * * * * * * * *][-19.000, -1.659, ]\n",
      "\t [* * * 1 * * * * * 1 * * * * * * * * * *][-18.000, -4.812, ]\n",
      "\t [* * * 1 * * * * * 1 * 1 * * * * * * * *][-17.000, -9.144, ]\n",
      "\t [* * 1 1 * * * * * 1 * * * * * * * * * *][-17.000, -9.144, ]\n",
      "\t [* * * 1 * * 1 * * 1 * * * * * * * * * *][-17.000, -9.144, ]\n",
      "\t [* * * 1 * * * * * * * 1 * * * * * 1 * *][-17.000, -9.144, ]\n",
      "\t [1 * * 1 * * * * * * * * * * * * * 1 * *][-17.000, -9.144, ]\n",
      "\t [* * * 1 * * * * * 1 * * * * * 1 * * * *][-17.000, -9.144, ]\n",
      "\t [1 * * 1 * * * * * 1 * * * * * * * * * *][-17.000, -9.144, ]\n",
      "\t [1 * * 1 * * * 1 * * * * * * * * * * * *][-17.000, -9.144, ]\n",
      "\t [* * * 1 * * * * * 1 * * 1 * * * * * * *][-17.000, -9.144, ]\n",
      "\t [* * * 1 * * * 1 * 1 * * * * * * * * * *][-17.000, -9.144, ]\n",
      "...Finished (took 6.918260 seconds)\n"
     ]
    }
   ],
   "source": [
    "benchmarker.run()"
   ],
   "metadata": {
    "collapsed": false,
    "ExecuteTime": {
     "end_time": "2025-03-21T16:25:47.043725500Z",
     "start_time": "2025-03-21T16:25:40.136353700Z"
    }
   },
   "id": "3a2b8ba8dc2def86"
  },
  {
   "cell_type": "code",
   "execution_count": 5,
   "outputs": [
    {
     "data": {
      "text/plain": "{'provided_by': 'GC',\n 'date': \"03-21-H16'm'25's54\",\n 'input': {'vector_size': 20,\n  'clustering_method': 'qmc',\n  'fitness_column': 0,\n  'which': 'general',\n  'user': 'GC'},\n 'parameters': {'n_gen': None,\n  'pop_size': 100,\n  'n_offsprings': 100,\n  'crossover': 'SimulatedBinaryCrossover',\n  'initial_population': 'LocalPSGeometricSampling',\n  'mutation': 'BitflipMutation',\n  'algorithm': 'NSGA2',\n  'objectives': ['-simplicity', '-mean_fitness']},\n 'results': {'results': [[False,\n    False,\n    False,\n    False,\n    False,\n    False,\n    False,\n    False,\n    False,\n    False,\n    False,\n    False,\n    False,\n    False,\n    False,\n    False,\n    False,\n    False,\n    False,\n    False],\n   [False,\n    False,\n    False,\n    True,\n    False,\n    False,\n    False,\n    False,\n    False,\n    False,\n    False,\n    False,\n    False,\n    False,\n    False,\n    False,\n    False,\n    False,\n    False,\n    False],\n   [False,\n    False,\n    False,\n    True,\n    False,\n    False,\n    False,\n    False,\n    False,\n    True,\n    False,\n    False,\n    False,\n    False,\n    False,\n    False,\n    False,\n    False,\n    False,\n    False],\n   [False,\n    False,\n    False,\n    True,\n    False,\n    False,\n    False,\n    False,\n    False,\n    True,\n    False,\n    True,\n    False,\n    False,\n    False,\n    False,\n    False,\n    False,\n    False,\n    False],\n   [False,\n    False,\n    True,\n    True,\n    False,\n    False,\n    False,\n    False,\n    False,\n    True,\n    False,\n    False,\n    False,\n    False,\n    False,\n    False,\n    False,\n    False,\n    False,\n    False],\n   [False,\n    False,\n    False,\n    True,\n    False,\n    False,\n    True,\n    False,\n    False,\n    True,\n    False,\n    False,\n    False,\n    False,\n    False,\n    False,\n    False,\n    False,\n    False,\n    False],\n   [False,\n    False,\n    False,\n    True,\n    False,\n    False,\n    False,\n    False,\n    False,\n    False,\n    False,\n    True,\n    False,\n    False,\n    False,\n    False,\n    False,\n    True,\n    False,\n    False],\n   [True,\n    False,\n    False,\n    True,\n    False,\n    False,\n    False,\n    False,\n    False,\n    False,\n    False,\n    False,\n    False,\n    False,\n    False,\n    False,\n    False,\n    True,\n    False,\n    False],\n   [False,\n    False,\n    False,\n    True,\n    False,\n    False,\n    False,\n    False,\n    False,\n    True,\n    False,\n    False,\n    False,\n    False,\n    False,\n    True,\n    False,\n    False,\n    False,\n    False],\n   [True,\n    False,\n    False,\n    True,\n    False,\n    False,\n    False,\n    False,\n    False,\n    True,\n    False,\n    False,\n    False,\n    False,\n    False,\n    False,\n    False,\n    False,\n    False,\n    False],\n   [True,\n    False,\n    False,\n    True,\n    False,\n    False,\n    False,\n    True,\n    False,\n    False,\n    False,\n    False,\n    False,\n    False,\n    False,\n    False,\n    False,\n    False,\n    False,\n    False],\n   [False,\n    False,\n    False,\n    True,\n    False,\n    False,\n    False,\n    False,\n    False,\n    True,\n    False,\n    False,\n    True,\n    False,\n    False,\n    False,\n    False,\n    False,\n    False,\n    False],\n   [False,\n    False,\n    False,\n    True,\n    False,\n    False,\n    False,\n    True,\n    False,\n    True,\n    False,\n    False,\n    False,\n    False,\n    False,\n    False,\n    False,\n    False,\n    False,\n    False]]}}"
     },
     "execution_count": 5,
     "metadata": {},
     "output_type": "execute_result"
    }
   ],
   "source": [
    "benchmarker.to_klaudia_dict()"
   ],
   "metadata": {
    "collapsed": false,
    "ExecuteTime": {
     "end_time": "2025-03-21T16:25:54.706941100Z",
     "start_time": "2025-03-21T16:25:54.673419900Z"
    }
   },
   "id": "d0d7a80cf0ab5779"
  }
 ],
 "metadata": {
  "kernelspec": {
   "display_name": "Python 3",
   "language": "python",
   "name": "python3"
  },
  "language_info": {
   "codemirror_mode": {
    "name": "ipython",
    "version": 2
   },
   "file_extension": ".py",
   "mimetype": "text/x-python",
   "name": "python",
   "nbconvert_exporter": "python",
   "pygments_lexer": "ipython2",
   "version": "2.7.6"
  }
 },
 "nbformat": 4,
 "nbformat_minor": 5
}
