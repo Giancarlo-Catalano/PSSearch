{
 "cells": [
  {
   "cell_type": "code",
   "execution_count": null,
   "id": "initial_id",
   "metadata": {
    "collapsed": true,
    "ExecuteTime": {
     "end_time": "2025-03-21T16:24:32.361732200Z",
     "start_time": "2025-03-21T16:24:32.361227600Z"
    }
   },
   "outputs": [],
   "source": []
  },
  {
   "cell_type": "code",
   "execution_count": 3,
   "outputs": [],
   "source": [
    "import os.path\n",
    "\n",
    "from pymoo.operators.mutation.bitflip import BitflipMutation\n",
    "from pymoo.operators.crossover.sbx import SimulatedBinaryCrossover\n",
    "from SimplifiedSystem.Operators.Sampling import LocalPSGeometricSampling\n",
    "from SimplifiedSystem.PSSearchSettings import get_default_search_settings\n",
    "from PolishSystem.DataCollection.ResultsRepresentation.GianPSBenchmarkDataGenerator import GianPSBenchmarkDataGenerator\n",
    "from PolishSystem.DataCollection.ResultsRepresentation.BenchmarkDataGeneratorInterface import User, DataSet\n",
    "\n",
    "user = User.GIAN\n",
    "\n",
    "dataset = DataSet(vector_size=20, \n",
    "                  clustering_method=\"qmc\", \n",
    "                  fitness_column=0, \n",
    "                  user=user,\n",
    "                  which=\"general\")\n",
    "\n",
    "search_settings = get_default_search_settings()\n",
    "search_settings.metrics = \"-simplicity -mean_fitness\"\n",
    "\n",
    "search_settings.mutation_operator_name = \"BitflipMutation\"\n",
    "search_settings.crossover_operator_name = \"SimulatedBinaryCrossover\"\n",
    "search_settings.sampling_operator_name = \"LocalPSGeometricSampling\"\n",
    "\n",
    "search_settings.sampling_operator = LocalPSGeometricSampling() \n",
    "search_settings.crossover_operator = SimulatedBinaryCrossover(prob=0.3)\n",
    "search_settings.mutation_operator = BitflipMutation(prob=1 / dataset.vector_size)\n",
    "\n",
    "benchmarker = GianPSBenchmarkDataGenerator(user=user,\n",
    "                                           search_settings=search_settings,\n",
    "                                           dataset=dataset)\n",
    "\n",
    "\n"
   ],
   "metadata": {
    "collapsed": false,
    "ExecuteTime": {
     "end_time": "2025-03-21T16:25:37.007401300Z",
     "start_time": "2025-03-21T16:25:36.998471200Z"
    }
   },
   "id": "1c428003ac0e8d72"
  },
  {
   "cell_type": "code",
   "execution_count": 4,
   "outputs": [
    {
     "name": "stdout",
     "output_type": "stream",
     "text": [
      "Running the benchmark...==========================================================================================\n",
      "n_gen  |  n_eval  | n_nds  |     cv_min    |     cv_avg    |      eps      |   indicator  \n",
      "==========================================================================================\n",
      "     1 |       63 |      8 |  0.000000E+00 |  0.000000E+00 |             - |             -\n",
      "     2 |      163 |      8 |  0.000000E+00 |  0.000000E+00 |  0.0388307469 |             f\n",
      "     3 |      263 |     13 |  0.000000E+00 |  0.000000E+00 |  0.000000E+00 |             f\n",
      "     4 |      363 |      5 |  0.000000E+00 |  0.000000E+00 |  0.2500000000 |         nadir\n",
      "     5 |      463 |      4 |  0.000000E+00 |  0.000000E+00 |  0.3333333333 |         nadir\n",
      "     6 |      563 |      4 |  0.000000E+00 |  0.000000E+00 |  0.000000E+00 |             f\n",
      "     7 |      663 |      6 |  0.000000E+00 |  0.000000E+00 |  0.000000E+00 |             f\n",
      "     8 |      763 |      8 |  0.000000E+00 |  0.000000E+00 |  0.000000E+00 |             f\n",
      "     9 |      863 |     10 |  0.000000E+00 |  0.000000E+00 |  0.000000E+00 |             f\n",
      "    10 |      963 |     10 |  0.000000E+00 |  0.000000E+00 |  0.000000E+00 |             f\n",
      "    11 |     1063 |     10 |  0.000000E+00 |  0.000000E+00 |  0.000000E+00 |             f\n",
      "    12 |     1163 |     10 |  0.000000E+00 |  0.000000E+00 |  0.000000E+00 |             f\n",
      "    13 |     1263 |     10 |  0.000000E+00 |  0.000000E+00 |  0.000000E+00 |             f\n",
      "    14 |     1363 |     10 |  0.000000E+00 |  0.000000E+00 |  0.000000E+00 |             f\n",
      "    15 |     1463 |     11 |  0.000000E+00 |  0.000000E+00 |  0.000000E+00 |             f\n",
      "    16 |     1563 |     11 |  0.000000E+00 |  0.000000E+00 |  0.000000E+00 |             f\n",
      "    17 |     1663 |     11 |  0.000000E+00 |  0.000000E+00 |  0.000000E+00 |             f\n",
      "    18 |     1763 |     11 |  0.000000E+00 |  0.000000E+00 |  0.000000E+00 |             f\n",
      "    19 |     1863 |     11 |  0.000000E+00 |  0.000000E+00 |  0.000000E+00 |             f\n",
      "    20 |     1963 |     11 |  0.000000E+00 |  0.000000E+00 |  0.000000E+00 |             f\n",
      "    21 |     2063 |     11 |  0.000000E+00 |  0.000000E+00 |  0.000000E+00 |             f\n",
      "    22 |     2163 |     11 |  0.000000E+00 |  0.000000E+00 |  0.000000E+00 |             f\n",
      "    23 |     2263 |     12 |  0.000000E+00 |  0.000000E+00 |  0.000000E+00 |             f\n",
      "    24 |     2363 |     13 |  0.000000E+00 |  0.000000E+00 |  0.000000E+00 |             f\n",
      "    25 |     2463 |     13 |  0.000000E+00 |  0.000000E+00 |  0.000000E+00 |             f\n",
      "    26 |     2563 |     13 |  0.000000E+00 |  0.000000E+00 |  0.000000E+00 |             f\n",
      "    27 |     2663 |     13 |  0.000000E+00 |  0.000000E+00 |  0.000000E+00 |             f\n",
      "    28 |     2763 |     13 |  0.000000E+00 |  0.000000E+00 |  0.000000E+00 |             f\n",
      "    29 |     2863 |     13 |  0.000000E+00 |  0.000000E+00 |  0.000000E+00 |             f\n",
      "    30 |     2963 |     13 |  0.000000E+00 |  0.000000E+00 |  0.000000E+00 |             f\n",
      "    31 |     3063 |     13 |  0.000000E+00 |  0.000000E+00 |  0.000000E+00 |             f\n",
      "    32 |     3163 |     13 |  0.000000E+00 |  0.000000E+00 |  0.000000E+00 |             f\n",
      "    33 |     3263 |     13 |  0.000000E+00 |  0.000000E+00 |  0.000000E+00 |             f\n",
      "    34 |     3363 |     13 |  0.000000E+00 |  0.000000E+00 |  0.000000E+00 |             f\n",
      "    35 |     3463 |     13 |  0.000000E+00 |  0.000000E+00 |  0.000000E+00 |             f\n",
      "    36 |     3563 |     13 |  0.000000E+00 |  0.000000E+00 |  0.000000E+00 |             f\n",
      "    37 |     3663 |     13 |  0.000000E+00 |  0.000000E+00 |  0.000000E+00 |             f\n",
      "    38 |     3763 |     13 |  0.000000E+00 |  0.000000E+00 |  0.000000E+00 |             f\n",
      "    39 |     3863 |     13 |  0.000000E+00 |  0.000000E+00 |  0.000000E+00 |             f\n",
      "    40 |     3963 |     13 |  0.000000E+00 |  0.000000E+00 |  0.000000E+00 |             f\n",
      "    41 |     4063 |     13 |  0.000000E+00 |  0.000000E+00 |  0.000000E+00 |             f\n",
      "    42 |     4163 |     13 |  0.000000E+00 |  0.000000E+00 |  0.000000E+00 |             f\n",
      "    43 |     4263 |     13 |  0.000000E+00 |  0.000000E+00 |  0.000000E+00 |             f\n",
      "    44 |     4363 |     13 |  0.000000E+00 |  0.000000E+00 |  0.000000E+00 |             f\n",
      "    45 |     4463 |     13 |  0.000000E+00 |  0.000000E+00 |  0.000000E+00 |             f\n",
      "    46 |     4563 |     13 |  0.000000E+00 |  0.000000E+00 |  0.000000E+00 |             f\n",
      "    47 |     4663 |     13 |  0.000000E+00 |  0.000000E+00 |  0.000000E+00 |             f\n",
      "    48 |     4763 |     13 |  0.000000E+00 |  0.000000E+00 |  0.000000E+00 |             f\n",
      "    49 |     4863 |     13 |  0.000000E+00 |  0.000000E+00 |  0.000000E+00 |             f\n",
      "    50 |     4963 |     13 |  0.000000E+00 |  0.000000E+00 |  0.000000E+00 |             f\n",
      "    51 |     5063 |     13 |  0.000000E+00 |  0.000000E+00 |  0.000000E+00 |             f\n",
      "The pss found in the search are \n",
      "\t [* * * * * * * * * * * * * * * * * * * *][-20.000, -1.470, ]\n",
      "\t [* * * 1 * * * * * * * * * * * * * * * *][-19.000, -1.659, ]\n",
      "\t [* * * 1 * * * * * 1 * * * * * * * * * *][-18.000, -4.812, ]\n",
      "\t [* * * 1 * * * * * 1 * 1 * * * * * * * *][-17.000, -9.144, ]\n",
      "\t [* * 1 1 * * * * * 1 * * * * * * * * * *][-17.000, -9.144, ]\n",
      "\t [* * * 1 * * 1 * * 1 * * * * * * * * * *][-17.000, -9.144, ]\n",
      "\t [* * * 1 * * * * * * * 1 * * * * * 1 * *][-17.000, -9.144, ]\n",
      "\t [1 * * 1 * * * * * * * * * * * * * 1 * *][-17.000, -9.144, ]\n",
      "\t [* * * 1 * * * * * 1 * * * * * 1 * * * *][-17.000, -9.144, ]\n",
      "\t [1 * * 1 * * * * * 1 * * * * * * * * * *][-17.000, -9.144, ]\n",
      "\t [1 * * 1 * * * 1 * * * * * * * * * * * *][-17.000, -9.144, ]\n",
      "\t [* * * 1 * * * * * 1 * * 1 * * * * * * *][-17.000, -9.144, ]\n",
      "\t [* * * 1 * * * 1 * 1 * * * * * * * * * *][-17.000, -9.144, ]\n",
      "...Finished (took 6.918260 seconds)\n"
     ]
    }
   ],
   "source": [
    "#benchmarker.run()"
   ],
   "metadata": {
    "collapsed": false,
    "ExecuteTime": {
     "end_time": "2025-03-21T16:25:47.043725500Z",
     "start_time": "2025-03-21T16:25:40.136353700Z"
    }
   },
   "id": "3a2b8ba8dc2def86"
  },
  {
   "cell_type": "code",
   "execution_count": 5,
   "outputs": [
    {
     "data": {
      "text/plain": "{'provided_by': 'GC',\n 'date': \"03-21-H16'm'25's54\",\n 'input': {'vector_size': 20,\n  'clustering_method': 'qmc',\n  'fitness_column': 0,\n  'which': 'general',\n  'user': 'GC'},\n 'parameters': {'n_gen': None,\n  'pop_size': 100,\n  'n_offsprings': 100,\n  'crossover': 'SimulatedBinaryCrossover',\n  'initial_population': 'LocalPSGeometricSampling',\n  'mutation': 'BitflipMutation',\n  'algorithm': 'NSGA2',\n  'objectives': ['-simplicity', '-mean_fitness']},\n 'results': {'results': [[False,\n    False,\n    False,\n    False,\n    False,\n    False,\n    False,\n    False,\n    False,\n    False,\n    False,\n    False,\n    False,\n    False,\n    False,\n    False,\n    False,\n    False,\n    False,\n    False],\n   [False,\n    False,\n    False,\n    True,\n    False,\n    False,\n    False,\n    False,\n    False,\n    False,\n    False,\n    False,\n    False,\n    False,\n    False,\n    False,\n    False,\n    False,\n    False,\n    False],\n   [False,\n    False,\n    False,\n    True,\n    False,\n    False,\n    False,\n    False,\n    False,\n    True,\n    False,\n    False,\n    False,\n    False,\n    False,\n    False,\n    False,\n    False,\n    False,\n    False],\n   [False,\n    False,\n    False,\n    True,\n    False,\n    False,\n    False,\n    False,\n    False,\n    True,\n    False,\n    True,\n    False,\n    False,\n    False,\n    False,\n    False,\n    False,\n    False,\n    False],\n   [False,\n    False,\n    True,\n    True,\n    False,\n    False,\n    False,\n    False,\n    False,\n    True,\n    False,\n    False,\n    False,\n    False,\n    False,\n    False,\n    False,\n    False,\n    False,\n    False],\n   [False,\n    False,\n    False,\n    True,\n    False,\n    False,\n    True,\n    False,\n    False,\n    True,\n    False,\n    False,\n    False,\n    False,\n    False,\n    False,\n    False,\n    False,\n    False,\n    False],\n   [False,\n    False,\n    False,\n    True,\n    False,\n    False,\n    False,\n    False,\n    False,\n    False,\n    False,\n    True,\n    False,\n    False,\n    False,\n    False,\n    False,\n    True,\n    False,\n    False],\n   [True,\n    False,\n    False,\n    True,\n    False,\n    False,\n    False,\n    False,\n    False,\n    False,\n    False,\n    False,\n    False,\n    False,\n    False,\n    False,\n    False,\n    True,\n    False,\n    False],\n   [False,\n    False,\n    False,\n    True,\n    False,\n    False,\n    False,\n    False,\n    False,\n    True,\n    False,\n    False,\n    False,\n    False,\n    False,\n    True,\n    False,\n    False,\n    False,\n    False],\n   [True,\n    False,\n    False,\n    True,\n    False,\n    False,\n    False,\n    False,\n    False,\n    True,\n    False,\n    False,\n    False,\n    False,\n    False,\n    False,\n    False,\n    False,\n    False,\n    False],\n   [True,\n    False,\n    False,\n    True,\n    False,\n    False,\n    False,\n    True,\n    False,\n    False,\n    False,\n    False,\n    False,\n    False,\n    False,\n    False,\n    False,\n    False,\n    False,\n    False],\n   [False,\n    False,\n    False,\n    True,\n    False,\n    False,\n    False,\n    False,\n    False,\n    True,\n    False,\n    False,\n    True,\n    False,\n    False,\n    False,\n    False,\n    False,\n    False,\n    False],\n   [False,\n    False,\n    False,\n    True,\n    False,\n    False,\n    False,\n    True,\n    False,\n    True,\n    False,\n    False,\n    False,\n    False,\n    False,\n    False,\n    False,\n    False,\n    False,\n    False]]}}"
     },
     "execution_count": 5,
     "metadata": {},
     "output_type": "execute_result"
    }
   ],
   "source": [
    "#benchmarker.to_klaudia_dict()"
   ],
   "metadata": {
    "collapsed": false,
    "ExecuteTime": {
     "end_time": "2025-03-21T16:25:54.706941100Z",
     "start_time": "2025-03-21T16:25:54.673419900Z"
    }
   },
   "id": "d0d7a80cf0ab5779"
  },
  {
   "cell_type": "code",
   "execution_count": 3,
   "outputs": [
    {
     "name": "stdout",
     "output_type": "stream",
     "text": [
      "Running the benchmark...==========================================================================================\n",
      "n_gen  |  n_eval  | n_nds  |     cv_min    |     cv_avg    |      eps      |   indicator  \n",
      "==========================================================================================\n",
      "     1 |       63 |      6 |  0.000000E+00 |  0.000000E+00 |             - |             -\n",
      "     2 |      163 |      4 |  0.000000E+00 |  0.000000E+00 |  1.3333333333 |         nadir\n",
      "     3 |      263 |      4 |  0.000000E+00 |  0.000000E+00 |  0.000000E+00 |             f\n",
      "     4 |      363 |      4 |  0.000000E+00 |  0.000000E+00 |  0.000000E+00 |             f\n",
      "     5 |      463 |      6 |  0.000000E+00 |  0.000000E+00 |  0.000000E+00 |             f\n",
      "     6 |      563 |      6 |  0.000000E+00 |  0.000000E+00 |  0.000000E+00 |             f\n",
      "     7 |      663 |      7 |  0.000000E+00 |  0.000000E+00 |  0.000000E+00 |             f\n",
      "     8 |      763 |      7 |  0.000000E+00 |  0.000000E+00 |  0.0274299201 |             f\n",
      "     9 |      863 |      9 |  0.000000E+00 |  0.000000E+00 |  0.000000E+00 |             f\n",
      "    10 |      963 |      9 |  0.000000E+00 |  0.000000E+00 |  0.000000E+00 |             f\n",
      "    11 |     1063 |      9 |  0.000000E+00 |  0.000000E+00 |  0.000000E+00 |             f\n",
      "    12 |     1163 |      9 |  0.000000E+00 |  0.000000E+00 |  0.000000E+00 |             f\n",
      "    13 |     1263 |      9 |  0.000000E+00 |  0.000000E+00 |  0.000000E+00 |             f\n",
      "    14 |     1363 |     11 |  0.000000E+00 |  0.000000E+00 |  0.000000E+00 |             f\n",
      "    15 |     1463 |     11 |  0.000000E+00 |  0.000000E+00 |  0.000000E+00 |             f\n",
      "    16 |     1563 |     11 |  0.000000E+00 |  0.000000E+00 |  0.000000E+00 |             f\n",
      "    17 |     1663 |     11 |  0.000000E+00 |  0.000000E+00 |  0.000000E+00 |             f\n",
      "    18 |     1763 |     12 |  0.000000E+00 |  0.000000E+00 |  0.000000E+00 |             f\n",
      "    19 |     1863 |     12 |  0.000000E+00 |  0.000000E+00 |  0.000000E+00 |             f\n",
      "    20 |     1963 |     12 |  0.000000E+00 |  0.000000E+00 |  0.000000E+00 |             f\n",
      "    21 |     2063 |     12 |  0.000000E+00 |  0.000000E+00 |  0.000000E+00 |             f\n",
      "    22 |     2163 |     13 |  0.000000E+00 |  0.000000E+00 |  0.000000E+00 |             f\n",
      "    23 |     2263 |     13 |  0.000000E+00 |  0.000000E+00 |  0.000000E+00 |             f\n",
      "    24 |     2363 |     13 |  0.000000E+00 |  0.000000E+00 |  0.000000E+00 |             f\n",
      "    25 |     2463 |     13 |  0.000000E+00 |  0.000000E+00 |  0.000000E+00 |             f\n",
      "    26 |     2563 |     13 |  0.000000E+00 |  0.000000E+00 |  0.000000E+00 |             f\n",
      "    27 |     2663 |     13 |  0.000000E+00 |  0.000000E+00 |  0.000000E+00 |             f\n",
      "    28 |     2763 |     13 |  0.000000E+00 |  0.000000E+00 |  0.000000E+00 |             f\n",
      "    29 |     2863 |     13 |  0.000000E+00 |  0.000000E+00 |  0.000000E+00 |             f\n",
      "    30 |     2963 |     13 |  0.000000E+00 |  0.000000E+00 |  0.000000E+00 |             f\n",
      "    31 |     3063 |     13 |  0.000000E+00 |  0.000000E+00 |  0.000000E+00 |             f\n",
      "    32 |     3163 |     13 |  0.000000E+00 |  0.000000E+00 |  0.000000E+00 |             f\n",
      "    33 |     3263 |     13 |  0.000000E+00 |  0.000000E+00 |  0.000000E+00 |             f\n",
      "    34 |     3363 |     13 |  0.000000E+00 |  0.000000E+00 |  0.000000E+00 |             f\n",
      "    35 |     3463 |     13 |  0.000000E+00 |  0.000000E+00 |  0.000000E+00 |             f\n",
      "    36 |     3563 |     13 |  0.000000E+00 |  0.000000E+00 |  0.000000E+00 |             f\n",
      "    37 |     3663 |     13 |  0.000000E+00 |  0.000000E+00 |  0.000000E+00 |             f\n",
      "    38 |     3763 |     13 |  0.000000E+00 |  0.000000E+00 |  0.000000E+00 |             f\n",
      "    39 |     3863 |     13 |  0.000000E+00 |  0.000000E+00 |  0.000000E+00 |             f\n",
      "    40 |     3963 |     13 |  0.000000E+00 |  0.000000E+00 |  0.000000E+00 |             f\n",
      "    41 |     4063 |     13 |  0.000000E+00 |  0.000000E+00 |  0.000000E+00 |             f\n",
      "    42 |     4163 |     13 |  0.000000E+00 |  0.000000E+00 |  0.000000E+00 |             f\n",
      "    43 |     4263 |     13 |  0.000000E+00 |  0.000000E+00 |  0.000000E+00 |             f\n",
      "    44 |     4363 |     13 |  0.000000E+00 |  0.000000E+00 |  0.000000E+00 |             f\n",
      "    45 |     4463 |     13 |  0.000000E+00 |  0.000000E+00 |  0.000000E+00 |             f\n",
      "    46 |     4563 |     13 |  0.000000E+00 |  0.000000E+00 |  0.000000E+00 |             f\n",
      "    47 |     4663 |     13 |  0.000000E+00 |  0.000000E+00 |  0.000000E+00 |             f\n",
      "    48 |     4763 |     13 |  0.000000E+00 |  0.000000E+00 |  0.000000E+00 |             f\n",
      "    49 |     4863 |     13 |  0.000000E+00 |  0.000000E+00 |  0.000000E+00 |             f\n",
      "    50 |     4963 |     13 |  0.000000E+00 |  0.000000E+00 |  0.000000E+00 |             f\n",
      "    51 |     5063 |     13 |  0.000000E+00 |  0.000000E+00 |  0.000000E+00 |             f\n",
      "The pss found in the search are \n",
      "\t [* * * * * * * * * * * * * * * * * * * *][-20.000, -1.470, ]\n",
      "\t [* * * * * * * * * * * * * * * * * * * 1][-19.000, -1.692, ]\n",
      "\t [1 * * 1 * * * * * 1 * * * * * * * * * *][-17.000, -9.144, ]\n",
      "\t [* * * 1 * * * * * 1 * 1 * * * * * * * *][-17.000, -9.144, ]\n",
      "\t [* * * 1 * * * * * 1 * * 1 * * * * * * *][-17.000, -9.144, ]\n",
      "\t [1 * * 1 * * * 1 * * * * * * * * * * * *][-17.000, -9.144, ]\n",
      "\t [* * * 1 * * * * * 1 * * * * * * * * * *][-18.000, -4.812, ]\n",
      "\t [1 * * 1 * * * * * * * * * * * * * 1 * *][-17.000, -9.144, ]\n",
      "\t [* * * 1 * * * 1 * 1 * * * * * * * * * *][-17.000, -9.144, ]\n",
      "\t [* * 1 1 * * * * * 1 * * * * * * * * * *][-17.000, -9.144, ]\n",
      "\t [* * * 1 * * * * * * * 1 * * * * * 1 * *][-17.000, -9.144, ]\n",
      "\t [* * * 1 * * * * * 1 * * * * * 1 * * * *][-17.000, -9.144, ]\n",
      "\t [* * * 1 * * 1 * * 1 * * * * * * * * * *][-17.000, -9.144, ]\n",
      "...Finished (took 7.075276 seconds)\n"
     ]
    },
    {
     "ename": "PermissionError",
     "evalue": "[Errno 13] Permission denied: 'C:\\\\Users\\\\gac8\\\\PycharmProjects\\\\PSSearch\\\\PolishSystem\\\\DataCollection\\\\results'",
     "output_type": "error",
     "traceback": [
      "\u001B[1;31m---------------------------------------------------------------------------\u001B[0m",
      "\u001B[1;31mPermissionError\u001B[0m                           Traceback (most recent call last)",
      "Cell \u001B[1;32mIn[3], line 43\u001B[0m\n\u001B[0;32m     41\u001B[0m data \u001B[38;5;241m=\u001B[39m benchmarker\u001B[38;5;241m.\u001B[39mget_result_dict()\n\u001B[0;32m     42\u001B[0m path \u001B[38;5;241m=\u001B[39m os\u001B[38;5;241m.\u001B[39mpath\u001B[38;5;241m.\u001B[39mjoin(results_folder)\n\u001B[1;32m---> 43\u001B[0m \u001B[38;5;28;01mwith\u001B[39;00m \u001B[38;5;28mopen\u001B[39m(path, \u001B[38;5;124m\"\u001B[39m\u001B[38;5;124mw\u001B[39m\u001B[38;5;124m\"\u001B[39m) \u001B[38;5;28;01mas\u001B[39;00m file:\n\u001B[0;32m     44\u001B[0m     json\u001B[38;5;241m.\u001B[39mdump(data, file, indent\u001B[38;5;241m=\u001B[39m\u001B[38;5;241m4\u001B[39m)\n",
      "File \u001B[1;32m~\\AppData\\Local\\anaconda3\\Lib\\site-packages\\IPython\\core\\interactiveshell.py:286\u001B[0m, in \u001B[0;36m_modified_open\u001B[1;34m(file, *args, **kwargs)\u001B[0m\n\u001B[0;32m    279\u001B[0m \u001B[38;5;28;01mif\u001B[39;00m file \u001B[38;5;129;01min\u001B[39;00m {\u001B[38;5;241m0\u001B[39m, \u001B[38;5;241m1\u001B[39m, \u001B[38;5;241m2\u001B[39m}:\n\u001B[0;32m    280\u001B[0m     \u001B[38;5;28;01mraise\u001B[39;00m \u001B[38;5;167;01mValueError\u001B[39;00m(\n\u001B[0;32m    281\u001B[0m         \u001B[38;5;124mf\u001B[39m\u001B[38;5;124m\"\u001B[39m\u001B[38;5;124mIPython won\u001B[39m\u001B[38;5;124m'\u001B[39m\u001B[38;5;124mt let you open fd=\u001B[39m\u001B[38;5;132;01m{\u001B[39;00mfile\u001B[38;5;132;01m}\u001B[39;00m\u001B[38;5;124m by default \u001B[39m\u001B[38;5;124m\"\u001B[39m\n\u001B[0;32m    282\u001B[0m         \u001B[38;5;124m\"\u001B[39m\u001B[38;5;124mas it is likely to crash IPython. If you know what you are doing, \u001B[39m\u001B[38;5;124m\"\u001B[39m\n\u001B[0;32m    283\u001B[0m         \u001B[38;5;124m\"\u001B[39m\u001B[38;5;124myou can use builtins\u001B[39m\u001B[38;5;124m'\u001B[39m\u001B[38;5;124m open.\u001B[39m\u001B[38;5;124m\"\u001B[39m\n\u001B[0;32m    284\u001B[0m     )\n\u001B[1;32m--> 286\u001B[0m \u001B[38;5;28;01mreturn\u001B[39;00m io_open(file, \u001B[38;5;241m*\u001B[39margs, \u001B[38;5;241m*\u001B[39m\u001B[38;5;241m*\u001B[39mkwargs)\n",
      "\u001B[1;31mPermissionError\u001B[0m: [Errno 13] Permission denied: 'C:\\\\Users\\\\gac8\\\\PycharmProjects\\\\PSSearch\\\\PolishSystem\\\\DataCollection\\\\results'"
     ]
    }
   ],
   "source": [
    "import json\n",
    "from pymoo.operators.mutation.bitflip import BitflipMutation\n",
    "from pymoo.operators.crossover.sbx import SimulatedBinaryCrossover\n",
    "from SimplifiedSystem.Operators.Sampling import LocalPSGeometricSampling\n",
    "from SimplifiedSystem.PSSearchSettings import get_default_search_settings\n",
    "from PolishSystem.DataCollection.ResultsRepresentation.GianPSBenchmarkDataGenerator import GianPSBenchmarkDataGenerator\n",
    "from PolishSystem.DataCollection.ResultsRepresentation.BenchmarkDataGeneratorInterface import User, DataSet\n",
    "import os\n",
    "\n",
    "user = User.GIAN\n",
    "def get_search_settings(metrics):\n",
    "    search_settings = get_default_search_settings()\n",
    "    search_settings.metrics = metrics\n",
    "    \n",
    "    search_settings.mutation_operator_name = \"BitflipMutation\"\n",
    "    search_settings.crossover_operator_name = \"SimulatedBinaryCrossover\"\n",
    "    search_settings.sampling_operator_name = \"LocalPSGeometricSampling\"\n",
    "\n",
    "    search_settings.sampling_operator = LocalPSGeometricSampling() \n",
    "    search_settings.crossover_operator = SimulatedBinaryCrossover(prob=0.3)\n",
    "    search_settings.mutation_operator = BitflipMutation(prob=1 / dataset.vector_size) \n",
    "    return search_settings\n",
    "\n",
    "metrics_combinations = [\"-simplicity -mean_fitness\", \"-simplicity variance\"]\n",
    "datasets = [DataSet(vector_size=vector_size, \n",
    "                  clustering_method=\"qmc\", \n",
    "                  fitness_column=0, \n",
    "                  user=user,\n",
    "                  which=\"general\") for vector_size in [20, 50, 100]]\n",
    "\n",
    "results_folder = r\"C:\\Users\\gac8\\PycharmProjects\\PSSearch\\PolishSystem\\DataCollection\\results\"\n",
    "\n",
    "for metric_combination in metrics_combinations:\n",
    "    for dataset in datasets:\n",
    "        search_settings = get_search_settings(metric_combination)\n",
    "        benchmarker = GianPSBenchmarkDataGenerator(user=user,\n",
    "                                           search_settings=search_settings,\n",
    "                                           dataset=dataset)\n",
    "        \n",
    "        benchmarker.run()\n",
    "        data = benchmarker.get_result_dict()\n",
    "        path = os.path.join(results_folder)\n",
    "        with open(path, \"w\") as file:\n",
    "            json.dump(data, file, indent=4)\n",
    "        \n",
    "        "
   ],
   "metadata": {
    "collapsed": false,
    "ExecuteTime": {
     "end_time": "2025-03-25T10:33:53.795108300Z",
     "start_time": "2025-03-25T10:33:46.596410900Z"
    }
   },
   "id": "c32827db89eab119"
  },
  {
   "cell_type": "code",
   "execution_count": null,
   "outputs": [],
   "source": [],
   "metadata": {
    "collapsed": false
   },
   "id": "67474550ce2a4588"
  }
 ],
 "metadata": {
  "kernelspec": {
   "display_name": "Python 3",
   "language": "python",
   "name": "python3"
  },
  "language_info": {
   "codemirror_mode": {
    "name": "ipython",
    "version": 2
   },
   "file_extension": ".py",
   "mimetype": "text/x-python",
   "name": "python",
   "nbconvert_exporter": "python",
   "pygments_lexer": "ipython2",
   "version": "2.7.6"
  }
 },
 "nbformat": 4,
 "nbformat_minor": 5
}
