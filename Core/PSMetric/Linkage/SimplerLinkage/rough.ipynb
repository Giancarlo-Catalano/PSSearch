{
 "cells": [
  {
   "cell_type": "code",
   "execution_count": 1,
   "outputs": [],
   "source": [
    "import itertools\n",
    "\n",
    "from matplotlib import pyplot as plt\n",
    "\n",
    "\n",
    "# general utils\n",
    "def display_table_with_colours(table):\n",
    "    plt.imshow(table, cmap='coolwarm', interpolation='nearest')\n",
    "    plt.colorbar()\n",
    "    plt.show()"
   ],
   "metadata": {
    "collapsed": false,
    "ExecuteTime": {
     "end_time": "2025-03-12T13:03:46.590769300Z",
     "start_time": "2025-03-12T13:03:46.589264Z"
    }
   },
   "id": "fb271c38b22cad8a"
  },
  {
   "cell_type": "code",
   "execution_count": 27,
   "outputs": [],
   "source": [
    "from typing import Optional\n",
    "\n",
    "import numpy as np\n",
    "\n",
    "from Core.EvaluatedFS import EvaluatedFS\n",
    "from Core.FullSolution import FullSolution\n",
    "from Core.PRef import PRef\n",
    "from Core.PS import PS\n",
    "from Core.PSMetric.Metric import Metric\n",
    "from Core.SearchSpace import SearchSpace\n",
    "import itertools\n",
    "from sklearn.linear_model import LinearRegression\n",
    "\n",
    "\n",
    "\n",
    "# first we make some classes, and gradually complete them\n",
    "\n",
    "\n",
    "class LocalBivariateLinkageMetric(Metric):\n",
    "    linkage_table: Optional[np.ndarray]\n",
    "    original_pRef: Optional[PRef]\n",
    "    local_pRef: Optional[PRef]\n",
    "    solution: Optional[EvaluatedFS]\n",
    "\n",
    "    def __init__(self):\n",
    "        super().__init__()\n",
    "        self.linkage_table = None\n",
    "        self.original_pRef = None\n",
    "        self.local_pRef = None\n",
    "\n",
    "    def get_atomicity(self, ps: PS) -> float:\n",
    "        fixed_vars = ps.get_fixed_variable_positions()\n",
    "        if len(fixed_vars) >= 1:\n",
    "            return self.linkage_table[fixed_vars][fixed_vars]\n",
    "        else:\n",
    "            return 0\n",
    "\n",
    "    def get_single_score(self, ps: PS) -> float:\n",
    "        return self.get_atomicity(ps)\n",
    "\n",
    "    def set_pRef(self, pRef: PRef):\n",
    "        self.original_pRef = pRef\n",
    "\n",
    "    def set_solution(self, solution: EvaluatedFS):\n",
    "        # this is where the heavy calculation goes\n",
    "        self.solution = solution\n",
    "        self.local_pRef = LocalBivariateLinkageMetric.get_local_pRef(self.original_pRef, self.solution)\n",
    "        self.linkage_table = self.calculate_linkage_table()\n",
    "\n",
    "    @classmethod\n",
    "    def get_local_pRef(cls, original_pRef: PRef, solution: FullSolution):\n",
    "        # all solutions are written in terms of [same var value as solution or not?]\n",
    "        new_search_space = SearchSpace([2 for variable in original_pRef.search_space.cardinalities])\n",
    "        full_solution_matrix = np.array(original_pRef.full_solution_matrix == solution.values, dtype=int)\n",
    "        return PRef(fitness_array=original_pRef.fitness_array,\n",
    "                    full_solution_matrix = full_solution_matrix,\n",
    "                    search_space=new_search_space)#\n",
    "    \n",
    "    \n",
    "    def display_linkage(self):\n",
    "        display_table_with_colours(self.linkage_table)\n",
    "        \n",
    "        \n",
    "    def make_input_table_with_interactions(self):\n",
    "        transposed_fsm = self.local_pRef.full_solution_matrix.T\n",
    "        original_columns = (column for column in transposed_fsm)\n",
    "        paired_columns = (np.logical_and(col_a, col_b) for col_a, col_b in itertools.combinations(transposed_fsm, r=2))\n",
    "        \n",
    "        return np.array(list(itertools.chain(original_columns, paired_columns))).T\n",
    "    \n",
    "    \n",
    "    def get_linear_model_with_interactions(self):\n",
    "        vals_and_combinations = self.make_input_table_with_interactions()\n",
    "\n",
    "        # Initialize and fit the linear model\n",
    "        model = LinearRegression()  # i might change some settings here\n",
    "        model.fit(vals_and_combinations, self.local_pRef.fitness_array)  \n",
    "        \n",
    "        return model\n",
    "    \n",
    "    def place_model_coefficients_in_table(self, model: LinearRegression):\n",
    "        n:int = self.local_pRef.search_space.amount_of_parameters\n",
    "        coefficients = model.coef_\n",
    "        result = np.zeros(shape=(n, n), dtype=float)\n",
    "        \n",
    "        # note that first we set the \"off diagonal\", mirror it, and then set the diagonal\n",
    "        result[np.triu_indices(n, 1)] = coefficients[n:]  # this relies on the order of columns produced by make_input_table_with_interactions\n",
    "        result += result.T\n",
    "        np.fill_diagonal(result, coefficients[:n])\n",
    "        \n",
    "        return result\n",
    "\n",
    "    def calculate_linkage_table(self):\n",
    "        linear_model = self.get_linear_model_with_interactions()\n",
    "        return self.place_model_coefficients_in_table(linear_model)\n",
    "        \n",
    "        \n",
    "import sys\n",
    "import numpy\n",
    "numpy.set_printoptions(threshold=sys.maxsize)\n",
    "\n",
    "\n",
    "def display_np(array):\n",
    "    print(f\"The shape is {array.shape}\")\n",
    "    display(array[:10])\n",
    "    "
   ],
   "metadata": {
    "collapsed": false,
    "ExecuteTime": {
     "end_time": "2025-03-12T13:19:59.666735500Z",
     "start_time": "2025-03-12T13:19:59.653569200Z"
    }
   },
   "id": "initial_id"
  },
  {
   "cell_type": "code",
   "execution_count": 2,
   "outputs": [],
   "source": [],
   "metadata": {
    "collapsed": false,
    "ExecuteTime": {
     "end_time": "2025-03-12T13:03:47.117955100Z",
     "start_time": "2025-03-12T13:03:47.110738700Z"
    }
   },
   "id": "f84bcb622799e235"
  },
  {
   "cell_type": "code",
   "execution_count": 34,
   "outputs": [
    {
     "name": "stdout",
     "output_type": "stream",
     "text": [
      "Running the algorithm to generate the PRef using GA......Finished (took 1.026324 seconds)\n",
      "the best solution is \n",
      "[0 1 0 1]\n",
      "[1 0 1 0]\n",
      "[0 1 0 1]\n",
      "[1 0 1 0]\n"
     ]
    }
   ],
   "source": [
    "from BenchmarkProblems.Checkerboard import CheckerBoard\n",
    "\n",
    "# testing block, preparation\n",
    "\n",
    "from Core.get_pRef import get_pRef_from_metaheuristic\n",
    "# Check that reference populations and metrics work as intended\n",
    "\n",
    "from Core.FullSolution import FullSolution\n",
    "from Core.PS import PS, contains, STAR\n",
    "from BenchmarkProblems.RoyalRoad import RoyalRoad\n",
    "\n",
    "# first, we make a benchmark problem\n",
    "problem = CheckerBoard(columns=4, rows=4)\n",
    "\n",
    "\n",
    "# then we make a pRef\n",
    "pRef = get_pRef_from_metaheuristic(problem=problem,\n",
    "                                 sample_size=10000,\n",
    "                                 which_algorithm=\"GA\",\n",
    "                                   unique=True,\n",
    "                                 verbose=True)\n",
    "\n",
    "best_solution = pRef.get_best_solution()\n",
    "print(\"the best solution is \")\n",
    "print(problem.repr_fs(best_solution))"
   ],
   "metadata": {
    "collapsed": false,
    "ExecuteTime": {
     "end_time": "2025-03-12T13:24:35.083606800Z",
     "start_time": "2025-03-12T13:24:33.813095100Z"
    }
   },
   "id": "cfbc7767aaeadc40"
  },
  {
   "cell_type": "code",
   "execution_count": 37,
   "outputs": [
    {
     "name": "stdout",
     "output_type": "stream",
     "text": [
      "The shape is (762, 16)\n"
     ]
    },
    {
     "data": {
      "text/plain": "array([[1, 0, 0, 1, 1, 0, 1, 1, 0, 1, 0, 0, 1, 0, 1, 0],\n       [0, 0, 1, 0, 1, 0, 1, 0, 0, 0, 1, 1, 1, 1, 0, 0],\n       [0, 1, 0, 1, 1, 0, 1, 0, 1, 1, 0, 1, 1, 0, 0, 0],\n       [0, 1, 0, 1, 1, 0, 1, 1, 1, 0, 1, 0, 0, 1, 0, 1],\n       [1, 0, 0, 1, 1, 0, 1, 1, 1, 0, 1, 1, 1, 0, 0, 1],\n       [0, 0, 1, 0, 0, 1, 0, 0, 0, 0, 1, 0, 0, 1, 0, 1],\n       [0, 1, 0, 1, 1, 0, 1, 1, 0, 1, 0, 1, 0, 1, 0, 1],\n       [0, 1, 0, 1, 1, 0, 1, 0, 1, 1, 0, 1, 1, 0, 1, 1],\n       [1, 0, 1, 1, 1, 1, 0, 1, 1, 0, 1, 0, 0, 1, 0, 1],\n       [1, 0, 1, 1, 0, 1, 0, 1, 0, 1, 1, 1, 1, 1, 0, 0]])"
     },
     "metadata": {},
     "output_type": "display_data"
    },
    {
     "name": "stdout",
     "output_type": "stream",
     "text": [
      "The shape is (762, 16)\n"
     ]
    },
    {
     "data": {
      "text/plain": "array([[0, 0, 1, 1, 1, 1, 1, 0, 1, 1, 1, 0, 1, 1, 1, 1],\n       [1, 0, 0, 0, 1, 1, 1, 1, 1, 0, 0, 1, 1, 0, 0, 1],\n       [1, 1, 1, 1, 1, 1, 1, 1, 0, 1, 1, 1, 1, 1, 0, 1],\n       [1, 1, 1, 1, 1, 1, 1, 0, 0, 0, 0, 0, 0, 0, 0, 0],\n       [0, 0, 1, 1, 1, 1, 1, 0, 0, 0, 0, 1, 1, 1, 0, 0],\n       [1, 0, 0, 0, 0, 0, 0, 1, 1, 0, 0, 0, 0, 0, 0, 0],\n       [1, 1, 1, 1, 1, 1, 1, 0, 1, 1, 1, 1, 0, 0, 0, 0],\n       [1, 1, 1, 1, 1, 1, 1, 1, 0, 1, 1, 1, 1, 1, 1, 0],\n       [0, 0, 0, 1, 1, 0, 0, 0, 0, 0, 0, 0, 0, 0, 0, 0],\n       [0, 0, 0, 1, 0, 0, 0, 0, 1, 1, 0, 1, 1, 0, 0, 1]])"
     },
     "metadata": {},
     "output_type": "display_data"
    },
    {
     "data": {
      "text/plain": "<Figure size 640x480 with 2 Axes>",
      "image/png": "[encoded data removed]"
     },
     "metadata": {},
     "output_type": "display_data"
    }
   ],
   "source": [
    "from Core.PSMetric.Linkage.DifferenceFromLinear import DifferenceFromLinear\n",
    "\n",
    "general_model = DifferenceFromLinear()\n",
    "general_model.set_pRef(pRef)\n",
    "general_model.set_solution(best_solution)\n",
    "\n",
    "\n",
    "display_np(general_model.original_pRef.full_solution_matrix)\n",
    "display_np(general_model.local_pRef.full_solution_matrix)\n",
    "\n",
    "\n",
    "display_table_with_colours(general_model.linkage_table)"
   ],
   "metadata": {
    "collapsed": false,
    "ExecuteTime": {
     "end_time": "2025-03-12T13:43:54.110321200Z",
     "start_time": "2025-03-12T13:43:53.576538900Z"
    }
   },
   "id": "8ac71665054865ce"
  }
 ],
 "metadata": {
  "kernelspec": {
   "display_name": "Python 3",
   "language": "python",
   "name": "python3"
  },
  "language_info": {
   "codemirror_mode": {
    "name": "ipython",
    "version": 2
   },
   "file_extension": ".py",
   "mimetype": "text/x-python",
   "name": "python",
   "nbconvert_exporter": "python",
   "pygments_lexer": "ipython2",
   "version": "2.7.6"
  }
 },
 "nbformat": 4,
 "nbformat_minor": 5
}
