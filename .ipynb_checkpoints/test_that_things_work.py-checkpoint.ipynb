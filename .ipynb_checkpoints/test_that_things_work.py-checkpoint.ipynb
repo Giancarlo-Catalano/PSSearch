{
 "cells": [
  {
   "cell_type": "code",
   "execution_count": 4,
   "id": "initial_id",
   "metadata": {
    "ExecuteTime": {
     "end_time": "2025-03-10T11:51:19.514852900Z",
     "start_time": "2025-03-10T11:51:19.498621Z"
    },
    "collapsed": true
   },
   "outputs": [
    {
     "name": "stdout",
     "output_type": "stream",
     "text": [
      "The problem has search space SearchSpace(2, 2, 2, 2, 2, 2, 2, 2, 2, 2, 2, 2, 2, 2, 2, 2, 2, 2, 2, 2)\n",
      "Generated a PS, it is [0 1 0 1 0 1 0 0 1 1 0 0 * 0 1 1 1 * * 1]\n",
      "The problem itself can print it as [0 1 0 1  0 1 0 0  1 1 0 0  * 0 1 1  1 * * 1]\n",
      "We generated a solution, it is (0 0 1 0 1 0 0 0 1 0 1 0 1 0 0 1 1 1 1 0)\n",
      "contains(solution, ps) = False\n",
      "The solution is now (0 1 0 1 0 1 0 0 1 1 0 0 1 0 1 1 1 1 1 1)\n",
      "contains(forced_solution, ps) = True\n"
     ]
    }
   ],
   "source": [
    "from Core.FullSolution import FullSolution\n",
    "from Core.PS import PS, contains, STAR\n",
    "from BenchmarkProblems.RoyalRoad import RoyalRoad\n",
    "\n",
    "# check if a partial Solution can be constructed\n",
    "\n",
    "# first, we make a benchmark problem\n",
    "problem = RoyalRoad(5)\n",
    "print(f\"The problem has search space {problem.search_space}\")\n",
    "\n",
    "# from the problem, we generate a PS at random\n",
    "ps = PS.random(problem.search_space)\n",
    "print(f\"Generated a PS, it is {ps}\")\n",
    "print(f\"The problem itself can print it as {problem.repr_ps(ps)}\")\n",
    "\n",
    "# then, we generate a solution\n",
    "solution = FullSolution.random(problem.search_space)\n",
    "print(f\"We generated a solution, it is {problem.repr_full_solution(solution)}\")\n",
    "\n",
    "# we can check if the pattern in present in the solution\n",
    "print(f\"{contains(solution, ps) = }\")\n",
    "\n",
    "\n",
    "# we can force the pattern to go inside as well (this part is less important)\n",
    "forced_solution_values = solution.values.copy()\n",
    "forced_solution_values[ps.values != STAR] = ps.values[ps.values != STAR]\n",
    "forced_solution = FullSolution(forced_solution_values)\n",
    "print(f\"The solution is now {problem.repr_full_solution(forced_solution)}\")\n",
    "print(f\"{contains(forced_solution, ps) = }\")"
   ]
  },
  {
   "cell_type": "code",
   "execution_count": 1,
   "id": "736284d4c51c794d",
   "metadata": {
    "ExecuteTime": {
     "end_time": "2025-03-10T12:04:43.369968200Z",
     "start_time": "2025-03-10T12:04:40.192728200Z"
    }
   },
   "outputs": [
    {
     "name": "stdout",
     "output_type": "stream",
     "text": [
      "Running the algorithm to generate the PRef using GA......Finished (took 0.817431 seconds)\n",
      "Generated the PRef: PRef with 885 samples, mean = 8.04\n",
      "(1 1 1 1 1 1 1 1 1 1 1 1 1 1 1 1 1 1 1 1), fs score = 20.00\n",
      "(1 1 1 1 1 1 0 1 1 1 1 1 1 1 1 1 1 1 1 1), fs score = 16.00\n",
      "(1 1 1 1 1 1 1 1 1 1 1 1 1 1 1 1 0 0 0 0), fs score = 16.00\n"
     ]
    }
   ],
   "source": [
    "from Core.get_pRef import get_pRef_from_metaheuristic\n",
    "# Check that reference populations and metrics work as intended\n",
    "\n",
    "from Core.FullSolution import FullSolution\n",
    "from Core.PS import PS, contains, STAR\n",
    "from BenchmarkProblems.RoyalRoad import RoyalRoad\n",
    "\n",
    "# first, we make a benchmark problem\n",
    "problem = RoyalRoad(5)\n",
    "\n",
    "\n",
    "# then we make a pRef\n",
    "pRef = get_pRef_from_metaheuristic(problem=problem,\n",
    "                                 sample_size=10000,\n",
    "                                 which_algorithm=\"GA\",\n",
    "                                   unique=True,\n",
    "                                 verbose=True)\n",
    "\n",
    "# we can remove duplicated_entries (recommended)\n",
    "\n",
    "\n",
    "print(f\"Generated the PRef: {pRef}\")\n",
    "\n",
    "# we can get the best 3 solutions from the pRef\n",
    "top_3 = pRef.get_top_n_solutions(3)\n",
    "for solution in top_3:\n",
    "    print(problem.repr_full_solution(solution))"
   ]
  },
  {
   "cell_type": "code",
   "execution_count": 3,
   "id": "93cc446a0e40374f",
   "metadata": {
    "ExecuteTime": {
     "end_time": "2025-03-10T12:15:38.239985200Z",
     "start_time": "2025-03-10T12:15:36.955561600Z"
    }
   },
   "outputs": [
    {
     "name": "stdout",
     "output_type": "stream",
     "text": [
      "Running the algorithm to generate the PRef using GA......Finished (took 0.838418 seconds)\n",
      "We will investigate (1 1 1 1 1 1 1 1 1 1 1 1 1 1 1 1 1 1 1 1), fs score = 20.00\n",
      "For the ps [* * * *  * * 1 1  * * 1 1  1 1 * 1  * 1 1 *], the metrics are\n",
      "\tsimplicity = 11.00\n",
      "\tmean_fitness = 12.35\n",
      "\tatomicity = -0.0087\n",
      "For the ps [* 1 * 1  1 * * *  * * 1 *  1 1 1 *  * * * 1], the metrics are\n",
      "\tsimplicity = 12.00\n",
      "\tmean_fitness = 11.70\n",
      "\tatomicity = -0.0102\n",
      "For the ps [1 * 1 1  * * * *  * 1 1 1  * 1 1 1  * * 1 *], the metrics are\n",
      "\tsimplicity = 10.00\n",
      "\tmean_fitness = 12.51\n",
      "\tatomicity = -0.0084\n",
      "For the ps [* 1 * 1  1 * * 1  * * 1 *  * 1 * 1  1 1 * *], the metrics are\n",
      "\tsimplicity = 11.00\n",
      "\tmean_fitness = 11.63\n",
      "\tatomicity = -0.0093\n",
      "For the ps [* * 1 *  * 1 * *  1 1 1 1  1 1 * 1  * * * 1], the metrics are\n",
      "\tsimplicity = 10.00\n",
      "\tmean_fitness = 12.77\n",
      "\tatomicity = -0.0099\n",
      "For the ps [* 1 * 1  1 * * *  * * * 1  * 1 * *  1 * 1 *], the metrics are\n",
      "\tsimplicity = 13.00\n",
      "\tmean_fitness = 10.65\n",
      "\tatomicity = -0.0087\n"
     ]
    }
   ],
   "source": [
    "from Core.PSMetric.Linkage.ValueSpecificMutualInformation import FasterSolutionSpecificMutualInformation\n",
    "from Core.PSMetric.FitnessQuality.MeanFitness import MeanFitness\n",
    "from Core.PSMetric.Simplicity import Simplicity\n",
    "# check if the metrics work\n",
    "from Core.get_pRef import get_pRef_from_metaheuristic\n",
    "# Check that reference populations and metrics work as intended\n",
    "\n",
    "from Core.FullSolution import FullSolution\n",
    "from Core.PS import PS, contains, STAR\n",
    "from BenchmarkProblems.RoyalRoad import RoyalRoad\n",
    "\n",
    "# first, we make a benchmark problem\n",
    "problem = RoyalRoad(5)\n",
    "\n",
    "# then we make a pRef\n",
    "pRef = get_pRef_from_metaheuristic(problem=problem,\n",
    "                                 sample_size=10000,\n",
    "                                 which_algorithm=\"GA\",\n",
    "                                   unique=True,\n",
    "                                 verbose=True)\n",
    "\n",
    "solution_to_explain = pRef.get_best_solution()\n",
    "print(f\"We will investigate {problem.repr_full_solution(solution_to_explain)}\")\n",
    "\n",
    "# generate some random PSs to evaluate\n",
    "pss = [PS.random_subset(solution_to_explain) for _ in range(6)]\n",
    "\n",
    "\n",
    "# generate the metrics (these all implement Metric)\n",
    "simplicity = Simplicity()\n",
    "mean_fitness = MeanFitness()\n",
    "atomicity = FasterSolutionSpecificMutualInformation()\n",
    "\n",
    "\n",
    "# we have to set the pRef for them to work\n",
    "for metric in [simplicity, mean_fitness, atomicity]:\n",
    "    metric.set_pRef(pRef)\n",
    "    \n",
    "# additionally, linkage is solution specific. This step can be quite slow...\n",
    "atomicity.set_solution(solution_to_explain)\n",
    "\n",
    "\n",
    "\n",
    "# then, we evaluate the PSs\n",
    "for ps in pss:\n",
    "    simplicity_value = simplicity.get_single_score(ps)\n",
    "    mean_fitness_value = mean_fitness.get_single_score(ps)\n",
    "    atomicity_value = atomicity.get_atomicity(ps)\n",
    "    \n",
    "    print(f\"For the ps {problem.repr_ps(ps)}, the metrics are\")\n",
    "    print(f\"\\tsimplicity = {simplicity_value:.2f}\")\n",
    "    print(f\"\\tmean_fitness = {mean_fitness_value:.2f}\")\n",
    "    print(f\"\\tatomicity = {atomicity_value:.4f}\")\n"
   ]
  },
  {
   "cell_type": "code",
   "execution_count": 1,
   "id": "f1803eac76140862",
   "metadata": {
    "ExecuteTime": {
     "end_time": "2025-03-10T12:28:45.289368100Z",
     "start_time": "2025-03-10T12:28:42.471496300Z"
    }
   },
   "outputs": [
    {
     "ename": "ModuleNotFoundError",
     "evalue": "No module named 'pymoo'",
     "output_type": "error",
     "traceback": [
      "\u001b[1;31m---------------------------------------------------------------------------\u001b[0m",
      "\u001b[1;31mModuleNotFoundError\u001b[0m                       Traceback (most recent call last)",
      "Cell \u001b[1;32mIn[1], line 1\u001b[0m\n\u001b[1;32m----> 1\u001b[0m \u001b[38;5;28;01mfrom\u001b[39;00m \u001b[38;5;21;01mSimplifiedSystem\u001b[39;00m\u001b[38;5;21;01m.\u001b[39;00m\u001b[38;5;21;01msearch_methods\u001b[39;00m \u001b[38;5;28;01mimport\u001b[39;00m search_local_ps\n\u001b[0;32m      2\u001b[0m \u001b[38;5;28;01mfrom\u001b[39;00m \u001b[38;5;21;01mutils\u001b[39;00m \u001b[38;5;28;01mimport\u001b[39;00m announce\n\u001b[0;32m      3\u001b[0m \u001b[38;5;28;01mfrom\u001b[39;00m \u001b[38;5;21;01mSimplifiedSystem\u001b[39;00m\u001b[38;5;21;01m.\u001b[39;00m\u001b[38;5;21;01mPSSearchSettings\u001b[39;00m \u001b[38;5;28;01mimport\u001b[39;00m get_default_search_settings\n",
      "File \u001b[1;32m~\\PycharmProjects\\PSSearch\\SimplifiedSystem\\search_methods.py:9\u001b[0m\n\u001b[0;32m      7\u001b[0m \u001b[38;5;28;01mfrom\u001b[39;00m \u001b[38;5;21;01mCore\u001b[39;00m\u001b[38;5;21;01m.\u001b[39;00m\u001b[38;5;21;01mPS\u001b[39;00m \u001b[38;5;28;01mimport\u001b[39;00m PS, STAR\n\u001b[0;32m      8\u001b[0m \u001b[38;5;28;01mfrom\u001b[39;00m \u001b[38;5;21;01mCore\u001b[39;00m\u001b[38;5;21;01m.\u001b[39;00m\u001b[38;5;21;01mSearchSpace\u001b[39;00m \u001b[38;5;28;01mimport\u001b[39;00m SearchSpace\n\u001b[1;32m----> 9\u001b[0m \u001b[38;5;28;01mfrom\u001b[39;00m \u001b[38;5;21;01mSimplifiedSystem\u001b[39;00m\u001b[38;5;21;01m.\u001b[39;00m\u001b[38;5;21;01mGlobalPSSearchTask\u001b[39;00m \u001b[38;5;28;01mimport\u001b[39;00m find_ps_in_problem\n\u001b[0;32m     10\u001b[0m \u001b[38;5;28;01mfrom\u001b[39;00m \u001b[38;5;21;01mSimplifiedSystem\u001b[39;00m\u001b[38;5;21;01m.\u001b[39;00m\u001b[38;5;21;01mLocalPSSearchTask\u001b[39;00m \u001b[38;5;28;01mimport\u001b[39;00m find_ps_in_solution\n\u001b[0;32m     11\u001b[0m \u001b[38;5;28;01mfrom\u001b[39;00m \u001b[38;5;21;01mSimplifiedSystem\u001b[39;00m\u001b[38;5;21;01m.\u001b[39;00m\u001b[38;5;21;01mPSSearchSettings\u001b[39;00m \u001b[38;5;28;01mimport\u001b[39;00m PSSearchSettings\n",
      "File \u001b[1;32m~\\PycharmProjects\\PSSearch\\SimplifiedSystem\\GlobalPSSearchTask.py:4\u001b[0m\n\u001b[0;32m      1\u001b[0m \u001b[38;5;28;01mfrom\u001b[39;00m \u001b[38;5;21;01mtyping\u001b[39;00m \u001b[38;5;28;01mimport\u001b[39;00m Optional, Literal, Callable, TypeAlias\n\u001b[0;32m      3\u001b[0m \u001b[38;5;28;01mimport\u001b[39;00m \u001b[38;5;21;01mnumpy\u001b[39;00m \u001b[38;5;28;01mas\u001b[39;00m \u001b[38;5;21;01mnp\u001b[39;00m\n\u001b[1;32m----> 4\u001b[0m \u001b[38;5;28;01mfrom\u001b[39;00m \u001b[38;5;21;01mpymoo\u001b[39;00m\u001b[38;5;21;01m.\u001b[39;00m\u001b[38;5;21;01malgorithms\u001b[39;00m\u001b[38;5;21;01m.\u001b[39;00m\u001b[38;5;21;01mmoo\u001b[39;00m\u001b[38;5;21;01m.\u001b[39;00m\u001b[38;5;21;01mnsga2\u001b[39;00m \u001b[38;5;28;01mimport\u001b[39;00m NSGA2\n\u001b[0;32m      5\u001b[0m \u001b[38;5;28;01mfrom\u001b[39;00m \u001b[38;5;21;01mpymoo\u001b[39;00m\u001b[38;5;21;01m.\u001b[39;00m\u001b[38;5;21;01malgorithms\u001b[39;00m\u001b[38;5;21;01m.\u001b[39;00m\u001b[38;5;21;01msoo\u001b[39;00m\u001b[38;5;21;01m.\u001b[39;00m\u001b[38;5;21;01mnonconvex\u001b[39;00m\u001b[38;5;21;01m.\u001b[39;00m\u001b[38;5;21;01mga\u001b[39;00m \u001b[38;5;28;01mimport\u001b[39;00m GA\n\u001b[0;32m      6\u001b[0m \u001b[38;5;28;01mfrom\u001b[39;00m \u001b[38;5;21;01mpymoo\u001b[39;00m\u001b[38;5;21;01m.\u001b[39;00m\u001b[38;5;21;01mcore\u001b[39;00m\u001b[38;5;21;01m.\u001b[39;00m\u001b[38;5;21;01mproblem\u001b[39;00m \u001b[38;5;28;01mimport\u001b[39;00m Problem\n",
      "\u001b[1;31mModuleNotFoundError\u001b[0m: No module named 'pymoo'"
     ]
    }
   ],
   "source": [
    "from SimplifiedSystem.search_methods import search_local_ps\n",
    "from utils import announce\n",
    "from SimplifiedSystem.PSSearchSettings import get_default_search_settings\n",
    "import pymoo\n",
    "\n",
    "# here we test if we can find pss\n",
    "\n",
    "# first, we make a benchmark problem\n",
    "problem = RoyalRoad(5)\n",
    "\n",
    "# then we make a pRef\n",
    "pRef = get_pRef_from_metaheuristic(problem=problem,\n",
    "                                 sample_size=10000,\n",
    "                                 which_algorithm=\"GA\",\n",
    "                                   unique=True,\n",
    "                                 verbose=True)\n",
    "\n",
    "best_solution = pRef.get_best_solution()\n",
    "\n",
    "# searching for the PSs locally within the best solution\n",
    "\n",
    "found_pss = []\n",
    "quantity_desired = 5\n",
    "\n",
    "\n",
    "search_settings = get_default_search_settings()\n",
    "search_settings.metrics = \"simplicity variance ground_truth_atomicity\"\n",
    "search_settings.culling_method = \"biggest\"\n",
    "search_settings.original_problem = problem\n",
    "search_settings.verbose = True\n",
    "for iteration in range(quantity_desired):\n",
    "    with announce(\"Searcing for a PS locally\"):\n",
    "        new_pss = search_local_ps(solution_to_explain=best_solution,\n",
    "                                  search_settings=search_settings,\n",
    "                                  backgroundInformation=pRef,\n",
    "                                  to_avoid = found_pss)\n",
    "        new_pss.sort(key=lambda ps: ps.metric_scores[2])\n",
    "        print(f\"Found the following pss:\")\n",
    "        for ps in new_pss:\n",
    "            print(f\"{problem.repr_ps(ps)}, scores = {ps.metric_scores}\")\n",
    "    found_pss.append(new_pss[0])\n",
    "    if len(new_pss) == 1 and new_pss[0].is_empty():\n",
    "        print(\"The empty ps was found, so terminating\")\n",
    "        break\n",
    "\n",
    "\n",
    "print(\"At the end, the following PSs were found\")\n",
    "for ps in found_pss:\n",
    "    print(problem.repr_ps(ps))\n",
    "\n",
    "    "
   ]
  },
  {
   "cell_type": "code",
   "execution_count": 1,
   "id": "2ec6a953475a58f9",
   "metadata": {
    "ExecuteTime": {
     "end_time": "2025-03-10T12:22:22.383998200Z",
     "start_time": "2025-03-10T12:22:22.368664300Z"
    }
   },
   "outputs": [],
   "source": []
  },
  {
   "cell_type": "code",
   "execution_count": null,
   "id": "8c1f04ba5606fc1f",
   "metadata": {},
   "outputs": [],
   "source": []
  }
 ],
 "metadata": {
  "kernelspec": {
   "display_name": "Python 3 (ipykernel)",
   "language": "python",
   "name": "python3"
  },
  "language_info": {
   "codemirror_mode": {
    "name": "ipython",
    "version": 3
   },
   "file_extension": ".py",
   "mimetype": "text/x-python",
   "name": "python",
   "nbconvert_exporter": "python",
   "pygments_lexer": "ipython3",
   "version": "3.11.5"
  }
 },
 "nbformat": 4,
 "nbformat_minor": 5
}
