{
 "cells": [
  {
   "cell_type": "code",
   "execution_count": 10,
   "id": "initial_id",
   "metadata": {
    "collapsed": true,
    "ExecuteTime": {
     "end_time": "2025-05-19T12:03:47.391511300Z",
     "start_time": "2025-05-19T12:03:45.297776600Z"
    }
   },
   "outputs": [],
   "source": [
    "from PolishSystem.OperatorsBasedOnSimilarities.similarities_utils import gian_get_similarities\n",
    "from PolishSystem.read_data import get_pRef_from_vectors\n",
    "import os\n",
    "\n",
    "dir_250 = r\"C:\\Users\\gac8\\PycharmProjects\\PSSearch\\data\\retail_forecasting\\250\"\n",
    "\n",
    "def in_250(path):\n",
    "    return os.path.join(dir_250, path)\n",
    "\n",
    "genome_size = 250\n",
    "clustering_method = \"kmeans\"\n",
    "\n",
    "pRef = get_pRef_from_vectors(name_of_vectors_file=in_250(f\"hierarchical\\\\many_hot_vectors_{genome_size}_{clustering_method}.csv\"),\n",
    "                             name_of_fitness_file=in_250(f\"hierarchical\\\\fitness_{genome_size}_{clustering_method}.csv\"),\n",
    "                             column_in_fitness_file=2)\n",
    "\n",
    "train_pRef, test_pRef = pRef.train_test_split(test_size=0.2)\n",
    "cluster_info_file_name = in_250(f\"cluster_info_250_qmc.pkl\")\n",
    "similarities = gian_get_similarities(cluster_info_file_name)"
   ]
  },
  {
   "cell_type": "code",
   "execution_count": 13,
   "outputs": [
    {
     "name": "stdout",
     "output_type": "stream",
     "text": [
      "Training Linear Regression......Finished (took 0.573989 seconds)\n",
      "Testing Linear Regression......Finished (took 0.000000 seconds)\n",
      "Linear Regression Performance:\n",
      "  R² Score: 0.0685\n",
      "  MSE: 6.3714\n",
      "\n",
      "Training Decision Tree......Finished (took 5.715582 seconds)\n",
      "Testing Decision Tree......Finished (took 0.000000 seconds)\n",
      "Decision Tree Performance:\n",
      "  R² Score: -0.7578\n",
      "  MSE: 12.0232\n",
      "\n",
      "Training XGBoost......Finished (took 3.954611 seconds)\n",
      "Testing XGBoost......Finished (took 0.008010 seconds)\n",
      "XGBoost Performance:\n",
      "  R² Score: 0.0692\n",
      "  MSE: 6.3666\n",
      "\n",
      "Training Neural Network......Finished (took 29.901798 seconds)\n",
      "Testing Neural Network......Finished (took 0.000000 seconds)\n",
      "Neural Network Performance:\n",
      "  R² Score: -0.3612\n",
      "  MSE: 9.3106\n"
     ]
    },
    {
     "name": "stderr",
     "output_type": "stream",
     "text": [
      "C:\\Users\\gac8\\AppData\\Local\\anaconda3\\Lib\\site-packages\\sklearn\\neural_network\\_multilayer_perceptron.py:691: ConvergenceWarning: Stochastic Optimizer: Maximum iterations (100) reached and the optimization hasn't converged yet.\n",
      "  warnings.warn(\n"
     ]
    }
   ],
   "source": [
    "import utils\n",
    "import numpy as np\n",
    "from sklearn.model_selection import train_test_split\n",
    "from sklearn.metrics import r2_score, mean_squared_error\n",
    "\n",
    "from sklearn.neural_network import MLPRegressor\n",
    "from sklearn.tree import DecisionTreeRegressor\n",
    "from sklearn.ensemble import RandomForestRegressor\n",
    "from sklearn.linear_model import LinearRegression\n",
    "\n",
    "# XGBoost requires separate install: pip install xgboost\n",
    "from xgboost import XGBRegressor\n",
    "\n",
    "X = pRef.full_solution_matrix\n",
    "y = pRef.fitness_array\n",
    "\n",
    "datapoint_quantity, genome_size = X.shape\n",
    "\n",
    "\n",
    "\n",
    "# Assume X and y are already defined numpy arrays\n",
    "# X: shape (n_samples, 250), values are 0 or 1\n",
    "# y: shape (n_samples,)\n",
    "\n",
    "# Train-test split\n",
    "X_train, X_test, y_train, y_test = train_test_split(X, y, test_size=0.3, random_state=42)\n",
    "\n",
    "# Define models\n",
    "models = {\n",
    "    \"Linear Regression\": LinearRegression(),\n",
    "    \"Decision Tree\": DecisionTreeRegressor(random_state=42),\n",
    "    #\"Random Forest\": RandomForestRegressor(n_estimators=100, random_state=42),\n",
    "    \"XGBoost\": XGBRegressor(n_estimators=100, learning_rate=0.1, max_depth=3, random_state=42, verbosity=0),\n",
    "    \"Neural Network\": MLPRegressor(hidden_layer_sizes=(100,), activation='relu', solver='adam', max_iter=100, random_state=42),\n",
    "    \n",
    "}\n",
    "\n",
    "# Train and evaluate models\n",
    "for name, model in models.items():\n",
    "    with utils.announce(f\"Training {name}\"):\n",
    "        model.fit(X_train, y_train)\n",
    "    y_pred = model.predict(X_test)\n",
    "\n",
    "    r2 = r2_score(y_test, y_pred)\n",
    "    with utils.announce(f\"Testing {name}\"):\n",
    "        mse = mean_squared_error(y_test, y_pred)\n",
    "\n",
    "    print(f\"{name} Performance:\")\n",
    "    print(f\"  R² Score: {r2:.4f}\")\n",
    "    print(f\"  MSE: {mse:.4f}\\n\")\n",
    "\n"
   ],
   "metadata": {
    "collapsed": false,
    "ExecuteTime": {
     "end_time": "2025-05-19T12:10:26.155439900Z",
     "start_time": "2025-05-19T12:09:45.847608300Z"
    }
   },
   "id": "18da7025a62dd65d"
  },
  {
   "cell_type": "code",
   "execution_count": null,
   "outputs": [],
   "source": [],
   "metadata": {
    "collapsed": false
   },
   "id": "1e86ca8b9c3d7145"
  }
 ],
 "metadata": {
  "kernelspec": {
   "display_name": "Python 3",
   "language": "python",
   "name": "python3"
  },
  "language_info": {
   "codemirror_mode": {
    "name": "ipython",
    "version": 2
   },
   "file_extension": ".py",
   "mimetype": "text/x-python",
   "name": "python",
   "nbconvert_exporter": "python",
   "pygments_lexer": "ipython2",
   "version": "2.7.6"
  }
 },
 "nbformat": 4,
 "nbformat_minor": 5
}
