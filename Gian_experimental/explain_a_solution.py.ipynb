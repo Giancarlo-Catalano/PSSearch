{
 "cells": [
  {
   "cell_type": "code",
   "execution_count": 24,
   "id": "initial_id",
   "metadata": {
    "collapsed": true,
    "ExecuteTime": {
     "end_time": "2025-04-28T14:43:38.689692Z",
     "start_time": "2025-04-28T14:43:37.274626600Z"
    }
   },
   "outputs": [
    {
     "name": "stdout",
     "output_type": "stream",
     "text": [
      "The best solution is \n",
      "[0 0 0 1 1 1 1 1 1 1 1 1 1 1 1 1 1 1 1 1 1 0 0 0 0]\n"
     ]
    }
   ],
   "source": [
    "\n",
    "from BenchmarkProblems.ToyAmalgam import ToyAmalgam\n",
    "from BenchmarkProblems.GraphColouring import GraphColouring\n",
    "from BenchmarkProblems.Checkerboard import CheckerBoard\n",
    "from BenchmarkProblems.Trapk import Trapk\n",
    "from BenchmarkProblems.RoyalRoad import RoyalRoad\n",
    "from Core.PS import PS\n",
    "from Core.get_pRef import get_pRef_from_metaheuristic\n",
    "\n",
    "problem = ToyAmalgam(toy_problems=\"PORTX\", clique_size=5)\n",
    "\n",
    "pRef = get_pRef_from_metaheuristic(problem=problem,\n",
    "                                   sample_size=10000,\n",
    "                                   which_algorithm=\"GA\",\n",
    "                                   unique=True)\n",
    "\n",
    "best_solution = pRef.get_best_solution()\n",
    "\n",
    "print(f\"The best solution is \\n{problem.repr_ps(PS.from_FS(best_solution))}\")\n",
    "\n",
    "del pRef"
   ]
  },
  {
   "cell_type": "code",
   "execution_count": 26,
   "outputs": [
    {
     "name": "stdout",
     "output_type": "stream",
     "text": [
      "==========================================================================================\n",
      "n_gen  |  n_eval  | n_nds  |     cv_min    |     cv_avg    |      eps      |   indicator  \n",
      "==========================================================================================\n",
      "     1 |       62 |     10 |  0.000000E+00 |  0.0080645161 |             - |             -\n",
      "     2 |      162 |     14 |  0.000000E+00 |  0.000000E+00 |  0.000000E+00 |             f\n",
      "     3 |      262 |     21 |  0.000000E+00 |  0.000000E+00 |  0.000000E+00 |             f\n",
      "     4 |      362 |     37 |  0.000000E+00 |  0.000000E+00 |  0.000000E+00 |             f\n",
      "     5 |      462 |     63 |  0.000000E+00 |  0.000000E+00 |  0.000000E+00 |             f\n",
      "     6 |      562 |    100 |  0.000000E+00 |  0.000000E+00 |  0.000000E+00 |             f\n",
      "     7 |      662 |    100 |  0.000000E+00 |  0.000000E+00 |  0.000000E+00 |             f\n",
      "     8 |      762 |    100 |  0.000000E+00 |  0.000000E+00 |  0.000000E+00 |             f\n",
      "     9 |      862 |    100 |  0.000000E+00 |  0.000000E+00 |  0.000000E+00 |             f\n",
      "    10 |      962 |    100 |  0.000000E+00 |  0.000000E+00 |  0.000000E+00 |             f\n",
      "    11 |     1062 |    100 |  0.000000E+00 |  0.000000E+00 |  0.000000E+00 |             f\n",
      "    12 |     1162 |    100 |  0.000000E+00 |  0.000000E+00 |  0.000000E+00 |             f\n",
      "    13 |     1262 |    100 |  0.000000E+00 |  0.000000E+00 |  0.000000E+00 |             f\n",
      "    14 |     1362 |    100 |  0.000000E+00 |  0.000000E+00 |  0.000000E+00 |             f\n",
      "    15 |     1462 |    100 |  0.000000E+00 |  0.000000E+00 |  0.000000E+00 |             f\n",
      "    16 |     1562 |    100 |  0.000000E+00 |  0.000000E+00 |  0.000000E+00 |             f\n",
      "    17 |     1662 |    100 |  0.000000E+00 |  0.000000E+00 |  0.000000E+00 |             f\n",
      "WARNING: Mating could not produce the required number of (unique) offsprings!\n",
      "    18 |     1761 |    100 |  0.000000E+00 |  0.000000E+00 |  0.000000E+00 |             f\n",
      "    19 |     1861 |    100 |  0.000000E+00 |  0.000000E+00 |  0.000000E+00 |             f\n",
      "WARNING: Mating could not produce the required number of (unique) offsprings!\n",
      "    20 |     1960 |    100 |  0.000000E+00 |  0.000000E+00 |  0.000000E+00 |             f\n",
      "    21 |     2060 |    100 |  0.000000E+00 |  0.000000E+00 |  0.000000E+00 |             f\n",
      "    22 |     2160 |    100 |  0.000000E+00 |  0.000000E+00 |  0.000000E+00 |             f\n",
      "    23 |     2260 |    100 |  0.000000E+00 |  0.000000E+00 |  0.000000E+00 |             f\n",
      "    24 |     2360 |    100 |  0.000000E+00 |  0.000000E+00 |  0.000000E+00 |             f\n",
      "    25 |     2460 |    100 |  0.000000E+00 |  0.000000E+00 |  0.000000E+00 |             f\n",
      "    26 |     2560 |    100 |  0.000000E+00 |  0.000000E+00 |  0.000000E+00 |             f\n",
      "    27 |     2660 |    100 |  0.000000E+00 |  0.000000E+00 |  0.000000E+00 |             f\n",
      "WARNING: Mating could not produce the required number of (unique) offsprings!\n",
      "    28 |     2759 |    100 |  0.000000E+00 |  0.000000E+00 |  0.000000E+00 |             f\n",
      "    29 |     2859 |    100 |  0.000000E+00 |  0.000000E+00 |  0.000000E+00 |             f\n",
      "WARNING: Mating could not produce the required number of (unique) offsprings!\n",
      "    30 |     2958 |    100 |  0.000000E+00 |  0.000000E+00 |  0.000000E+00 |             f\n",
      "    31 |     3058 |    100 |  0.000000E+00 |  0.000000E+00 |  0.000000E+00 |             f\n",
      "    32 |     3158 |    100 |  0.000000E+00 |  0.000000E+00 |  0.000000E+00 |             f\n",
      "WARNING: Mating could not produce the required number of (unique) offsprings!\n",
      "    33 |     3257 |    100 |  0.000000E+00 |  0.000000E+00 |  0.000000E+00 |             f\n",
      "    34 |     3357 |    100 |  0.000000E+00 |  0.000000E+00 |  0.000000E+00 |             f\n",
      "    35 |     3457 |    100 |  0.000000E+00 |  0.000000E+00 |  0.000000E+00 |             f\n",
      "    36 |     3557 |    100 |  0.000000E+00 |  0.000000E+00 |  0.000000E+00 |             f\n",
      "    37 |     3657 |    100 |  0.000000E+00 |  0.000000E+00 |  0.000000E+00 |             f\n",
      "    38 |     3757 |    100 |  0.000000E+00 |  0.000000E+00 |  0.000000E+00 |             f\n",
      "    39 |     3857 |    100 |  0.000000E+00 |  0.000000E+00 |  0.000000E+00 |             f\n",
      "    40 |     3957 |    100 |  0.000000E+00 |  0.000000E+00 |  0.000000E+00 |             f\n",
      "WARNING: Mating could not produce the required number of (unique) offsprings!\n",
      "    41 |     4056 |    100 |  0.000000E+00 |  0.000000E+00 |  0.000000E+00 |             f\n",
      "    42 |     4156 |    100 |  0.000000E+00 |  0.000000E+00 |  0.000000E+00 |             f\n",
      "    43 |     4256 |    100 |  0.000000E+00 |  0.000000E+00 |  0.000000E+00 |             f\n",
      "    44 |     4356 |    100 |  0.000000E+00 |  0.000000E+00 |  0.000000E+00 |             f\n",
      "    45 |     4456 |    100 |  0.000000E+00 |  0.000000E+00 |  0.000000E+00 |             f\n",
      "    46 |     4556 |    100 |  0.000000E+00 |  0.000000E+00 |  0.000000E+00 |             f\n",
      "    47 |     4656 |    100 |  0.000000E+00 |  0.000000E+00 |  0.000000E+00 |             f\n",
      "    48 |     4756 |    100 |  0.000000E+00 |  0.000000E+00 |  0.000000E+00 |             f\n",
      "    49 |     4856 |    100 |  0.000000E+00 |  0.000000E+00 |  0.000000E+00 |             f\n",
      "    50 |     4956 |    100 |  0.000000E+00 |  0.000000E+00 |  0.000000E+00 |             f\n",
      "WARNING: Mating could not produce the required number of (unique) offsprings!\n",
      "    51 |     5055 |    100 |  0.000000E+00 |  0.000000E+00 |  0.000000E+00 |             f\n",
      "    52 |     5155 |    100 |  0.000000E+00 |  0.000000E+00 |  0.000000E+00 |             f\n",
      "    53 |     5255 |    100 |  0.000000E+00 |  0.000000E+00 |  0.000000E+00 |             f\n",
      "    54 |     5355 |    100 |  0.000000E+00 |  0.000000E+00 |  0.000000E+00 |             f\n",
      "    55 |     5455 |    100 |  0.000000E+00 |  0.000000E+00 |  0.000000E+00 |             f\n",
      "    56 |     5555 |    100 |  0.000000E+00 |  0.000000E+00 |  0.000000E+00 |             f\n",
      "    57 |     5655 |    100 |  0.000000E+00 |  0.000000E+00 |  0.000000E+00 |             f\n",
      "    58 |     5755 |      1 |  0.000000E+00 |  0.000000E+00 |  5.0000000000 |         nadir\n",
      "    59 |     5855 |      1 |  0.000000E+00 |  0.000000E+00 |  0.000000E+00 |             f\n",
      "    60 |     5955 |      1 |  0.000000E+00 |  0.000000E+00 |  0.000000E+00 |             f\n",
      "    61 |     6055 |      1 |  0.000000E+00 |  0.000000E+00 |  0.000000E+00 |             f\n",
      "    62 |     6155 |      1 |  0.000000E+00 |  0.000000E+00 |  0.000000E+00 |             f\n",
      "    63 |     6255 |      1 |  0.000000E+00 |  0.000000E+00 |  0.000000E+00 |             f\n",
      "    64 |     6355 |      1 |  0.000000E+00 |  0.000000E+00 |  0.000000E+00 |             f\n",
      "    65 |     6455 |      1 |  0.000000E+00 |  0.000000E+00 |  0.000000E+00 |             f\n",
      "    66 |     6555 |      1 |  0.000000E+00 |  0.000000E+00 |  0.000000E+00 |             f\n",
      "    67 |     6655 |      1 |  0.000000E+00 |  0.000000E+00 |  0.000000E+00 |             f\n",
      "    68 |     6755 |      1 |  0.000000E+00 |  0.000000E+00 |  0.000000E+00 |             f\n",
      "    69 |     6855 |      1 |  0.000000E+00 |  0.000000E+00 |  0.000000E+00 |             f\n",
      "    70 |     6955 |      1 |  0.000000E+00 |  0.000000E+00 |  0.000000E+00 |             f\n",
      "    71 |     7055 |      1 |  0.000000E+00 |  0.000000E+00 |  0.000000E+00 |             f\n",
      "    72 |     7155 |      1 |  0.000000E+00 |  0.000000E+00 |  0.000000E+00 |             f\n",
      "    73 |     7255 |      1 |  0.000000E+00 |  0.000000E+00 |  0.000000E+00 |             f\n",
      "    74 |     7355 |      1 |  0.000000E+00 |  0.000000E+00 |  0.000000E+00 |             f\n",
      "    75 |     7455 |      1 |  0.000000E+00 |  0.000000E+00 |  0.000000E+00 |             f\n",
      "    76 |     7555 |      1 |  0.000000E+00 |  0.000000E+00 |  0.000000E+00 |             f\n",
      "    77 |     7655 |      1 |  0.000000E+00 |  0.000000E+00 |  0.000000E+00 |             f\n",
      "    78 |     7755 |      1 |  0.000000E+00 |  0.000000E+00 |  0.000000E+00 |             f\n",
      "    79 |     7855 |      1 |  0.000000E+00 |  0.000000E+00 |  0.000000E+00 |             f\n",
      "    80 |     7955 |      1 |  0.000000E+00 |  0.000000E+00 |  0.000000E+00 |             f\n",
      "    81 |     8055 |      1 |  0.000000E+00 |  0.000000E+00 |  0.000000E+00 |             f\n",
      "    82 |     8155 |      1 |  0.000000E+00 |  0.000000E+00 |  0.000000E+00 |             f\n",
      "    83 |     8255 |      1 |  0.000000E+00 |  0.000000E+00 |  0.000000E+00 |             f\n",
      "    84 |     8355 |      1 |  0.000000E+00 |  0.000000E+00 |  0.000000E+00 |             f\n",
      "    85 |     8455 |      1 |  0.000000E+00 |  0.000000E+00 |  0.000000E+00 |             f\n",
      "    86 |     8555 |      1 |  0.000000E+00 |  0.000000E+00 |  0.000000E+00 |             f\n",
      "    87 |     8655 |      1 |  0.000000E+00 |  0.000000E+00 |  0.000000E+00 |             f\n",
      "    88 |     8755 |      1 |  0.000000E+00 |  0.000000E+00 |  0.000000E+00 |             f\n",
      "    89 |     8855 |      1 |  0.000000E+00 |  0.000000E+00 |  0.000000E+00 |             f\n",
      "    90 |     8955 |      1 |  0.000000E+00 |  0.000000E+00 |  0.000000E+00 |             f\n",
      "    91 |     9055 |      1 |  0.000000E+00 |  0.000000E+00 |  0.000000E+00 |             f\n",
      "    92 |     9155 |      1 |  0.000000E+00 |  0.000000E+00 |  0.000000E+00 |             f\n",
      "    93 |     9255 |      1 |  0.000000E+00 |  0.000000E+00 |  0.000000E+00 |             f\n",
      "    94 |     9355 |      1 |  0.000000E+00 |  0.000000E+00 |  0.000000E+00 |             f\n",
      "    95 |     9455 |      1 |  0.000000E+00 |  0.000000E+00 |  0.000000E+00 |             f\n",
      "    96 |     9555 |      1 |  0.000000E+00 |  0.000000E+00 |  0.000000E+00 |             f\n",
      "    97 |     9655 |      1 |  0.000000E+00 |  0.000000E+00 |  0.000000E+00 |             f\n",
      "    98 |     9755 |      1 |  0.000000E+00 |  0.000000E+00 |  0.000000E+00 |             f\n",
      "    99 |     9855 |      1 |  0.000000E+00 |  0.000000E+00 |  0.000000E+00 |             f\n",
      "   100 |     9955 |      1 |  0.000000E+00 |  0.000000E+00 |  0.000000E+00 |             f\n",
      "   101 |    10055 |      1 |  0.000000E+00 |  0.000000E+00 |  0.000000E+00 |             f\n",
      "The pss found in the search are \n",
      "\t [* * * * * * * * * * 1 1 1 1 1 * * * * * * * * * *][-5.000, 0.000, ]\n",
      "[* * * * * * * * * * 1 1 1 1 1 * * * * * * * * * *][-5.000, 0.000, ]\n"
     ]
    }
   ],
   "source": [
    "\n",
    "\n",
    "from Core.PS import PS\n",
    "from Core.PSMetric.Linkage.TraditionalPerturbationLinkage import TraditionalPerturbationLinkage\n",
    "from SimplifiedSystem.ps_search_utils import run_pymoo_algorithm_with_checks\n",
    "from pymoo.algorithms.moo.nsga2 import NSGA2\n",
    "from pymoo.algorithms.soo.nonconvex.ga import GA\n",
    "from pymoo.operators.mutation.bitflip import BitflipMutation\n",
    "from pymoo.operators.crossover.sbx import SimulatedBinaryCrossover\n",
    "from SimplifiedSystem.Operators.Sampling import LocalPSGeometricSampling\n",
    "from SimplifiedSystem.LocalPSSearchTask import LocalPSSearchTask\n",
    "\n",
    "\n",
    "def explain_solution(to_explain, budget):\n",
    "    atomicity_metric = TraditionalPerturbationLinkage(problem)\n",
    "    atomicity_metric.set_solution(to_explain)\n",
    "\n",
    "    \n",
    "    def atomicity(ps):\n",
    "        if ps.fixed_count() == 1:\n",
    "            return float(0)\n",
    "        return -atomicity_metric.get_atomicity(ps)\n",
    "    \n",
    "    \n",
    "    def dependence(ps):\n",
    "        return atomicity_metric.get_dependence(ps)\n",
    "\n",
    "    objectives = [atomicity, dependence]\n",
    "    population_size = 100\n",
    "    \n",
    "    ga_problem = LocalPSSearchTask(solution_to_explain=to_explain,\n",
    "                                    objectives=objectives,\n",
    "                                    # unexplained_mask=None,\n",
    "                                    proportion_unexplained_that_needs_used=0.01,\n",
    "                                    proportion_used_that_should_be_unexplained=0.01)\n",
    "    \n",
    "    # if there are no operators given, we have these defaults\n",
    "    sampling_operator = LocalPSGeometricSampling()\n",
    "    crossover_operator = SimulatedBinaryCrossover(prob=0.3)\n",
    "    mutation_operator = BitflipMutation(prob=1 / ga_problem.n_var)\n",
    "    \n",
    "    # the next line of code is a bit odd, but it works! It uses a GA if there is one objective\n",
    "    algorithm = (GA if len(objectives) < 2 else NSGA2)(pop_size=population_size,\n",
    "                                                       sampling=sampling_operator,\n",
    "                                                       crossover=crossover_operator,\n",
    "                                                       mutation=mutation_operator,\n",
    "                                                       eliminate_duplicates=True)\n",
    "    \n",
    "    pss = run_pymoo_algorithm_with_checks(pymoo_problem=ga_problem,\n",
    "                                          algorithm=algorithm,\n",
    "                                          reattempts_when_fail=5,\n",
    "                                          ps_budget = budget,\n",
    "                                          verbose=True)\n",
    "    \n",
    "    return pss\n",
    "    \n",
    "    \n",
    "pss = explain_solution(best_solution, budget=10000)\n",
    "for ps in pss:\n",
    "    print(problem.repr_ps(ps))\n",
    "    print()\n",
    "    \n",
    "    \n"
   ],
   "metadata": {
    "collapsed": false,
    "ExecuteTime": {
     "end_time": "2025-04-28T14:45:08.783295100Z",
     "start_time": "2025-04-28T14:44:52.683830800Z"
    }
   },
   "id": "e7d22fc1ddf8b21d"
  },
  {
   "cell_type": "code",
   "execution_count": 25,
   "outputs": [
    {
     "data": {
      "text/plain": "<Figure size 1000x1000 with 2 Axes>",
      "image/png": "[encoded data removed]"
     },
     "metadata": {},
     "output_type": "display_data"
    }
   ],
   "source": [
    "import utils\n",
    "\n",
    "atomicity_metric = TraditionalPerturbationLinkage(problem)\n",
    "atomicity_metric.set_solution(best_solution)\n",
    "\n",
    "utils.show_matrix_with_colours(atomicity_metric.linkage_table)"
   ],
   "metadata": {
    "collapsed": false,
    "ExecuteTime": {
     "end_time": "2025-04-28T14:43:51.517381300Z",
     "start_time": "2025-04-28T14:43:50.532536200Z"
    }
   },
   "id": "22373c7190d80a15"
  },
  {
   "cell_type": "code",
   "execution_count": 20,
   "outputs": [
    {
     "data": {
      "text/plain": "[(0, 5),\n (0, 8),\n (1, 5),\n (1, 9),\n (1, 11),\n (2, 4),\n (2, 11),\n (3, 6),\n (3, 10),\n (4, 9),\n (4, 10),\n (5, 9),\n (5, 11),\n (10, 11)]"
     },
     "execution_count": 20,
     "metadata": {},
     "output_type": "execute_result"
    }
   ],
   "source": [
    "problem.connections"
   ],
   "metadata": {
    "collapsed": false,
    "ExecuteTime": {
     "end_time": "2025-04-28T14:40:46.088375Z",
     "start_time": "2025-04-28T14:40:46.066474500Z"
    }
   },
   "id": "79f8858c2241f7f1"
  },
  {
   "cell_type": "code",
   "execution_count": null,
   "outputs": [],
   "source": [],
   "metadata": {
    "collapsed": false
   },
   "id": "1e2d826f5cc0da18"
  },
  {
   "cell_type": "code",
   "execution_count": null,
   "outputs": [],
   "source": [
    "# linkage from examples"
   ],
   "metadata": {
    "collapsed": false
   },
   "id": "2bf57c5d90b0e479"
  }
 ],
 "metadata": {
  "kernelspec": {
   "display_name": "Python 3",
   "language": "python",
   "name": "python3"
  },
  "language_info": {
   "codemirror_mode": {
    "name": "ipython",
    "version": 2
   },
   "file_extension": ".py",
   "mimetype": "text/x-python",
   "name": "python",
   "nbconvert_exporter": "python",
   "pygments_lexer": "ipython2",
   "version": "2.7.6"
  }
 },
 "nbformat": 4,
 "nbformat_minor": 5
}
