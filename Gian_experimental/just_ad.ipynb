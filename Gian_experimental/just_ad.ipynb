{
 "cells": [
  {
   "cell_type": "code",
   "execution_count": 18,
   "id": "initial_id",
   "metadata": {
    "collapsed": true,
    "ExecuteTime": {
     "end_time": "2025-04-28T15:54:56.272310600Z",
     "start_time": "2025-04-28T15:54:55.464981100Z"
    }
   },
   "outputs": [
    {
     "name": "stdout",
     "output_type": "stream",
     "text": [
      "PRef with 1043 samples, mean = 8.15\n"
     ]
    }
   ],
   "source": [
    "\n",
    "from BenchmarkProblems.RoyalRoad import RoyalRoad\n",
    "from Core.get_pRef import get_pRef_from_metaheuristic\n",
    "from Core.PS import PS\n",
    "\n",
    "problem = RoyalRoad(5)\n",
    "\n",
    "pRef = get_pRef_from_metaheuristic(problem=problem,\n",
    "                                   sample_size=10000,\n",
    "                                   which_algorithm=\"GA\",\n",
    "                                   unique=True)\n",
    "print(pRef)\n",
    "to_explain = PS.from_string(\"1\"*20)"
   ]
  },
  {
   "cell_type": "code",
   "execution_count": 19,
   "outputs": [
    {
     "name": "stdout",
     "output_type": "stream",
     "text": [
      "-4.0 0.0\n",
      "-0.0 4.0\n"
     ]
    }
   ],
   "source": [
    "\n",
    "\n",
    "from Core.PS import PS\n",
    "from Core.PSMetric.Linkage.TraditionalPerturbationLinkage import TraditionalPerturbationLinkage\n",
    "\n",
    "pattern_1 = PS.from_string(\"1\"*4 + \"*\" * 16)\n",
    "pattern_2 = PS.from_string(\"1\"*2 + \"*\"*2 +\"1\"*2 + \"*\"*2 + \"*\" * 12)\n",
    "\n",
    "\n",
    "\n",
    "\n",
    "atomicity_metric = TraditionalPerturbationLinkage(problem)\n",
    "atomicity_metric.set_solution(to_explain)\n",
    "\n",
    "\n",
    "def atomicity(ps):\n",
    "    return -atomicity_metric.get_atomicity(ps)\n",
    "\n",
    "\n",
    "def dependence(ps):\n",
    "    return atomicity_metric.get_dependence(ps)\n",
    "\n",
    "print( atomicity(pattern_1), dependence(pattern_1))\n",
    "print( atomicity(pattern_2), dependence(pattern_2))"
   ],
   "metadata": {
    "collapsed": false,
    "ExecuteTime": {
     "end_time": "2025-04-28T15:54:58.758325300Z",
     "start_time": "2025-04-28T15:54:58.715007300Z"
    }
   },
   "id": "913b6acf6779c340"
  },
  {
   "cell_type": "code",
   "execution_count": 3,
   "outputs": [
    {
     "name": "stdout",
     "output_type": "stream",
     "text": [
      "==========================================================================================\n",
      "n_gen  |  n_eval  | n_nds  |     cv_min    |     cv_avg    |      eps      |   indicator  \n",
      "==========================================================================================\n",
      "     1 |       62 |     17 |  0.000000E+00 |  0.0080645161 |             - |             -\n",
      "     2 |      162 |     19 |  0.000000E+00 |  0.000000E+00 |  0.1428571429 |         ideal\n",
      "     3 |      262 |     22 |  0.000000E+00 |  0.000000E+00 |  0.000000E+00 |             f\n",
      "     4 |      362 |     22 |  0.000000E+00 |  0.000000E+00 |  0.2500000000 |         ideal\n",
      "     5 |      462 |     24 |  0.000000E+00 |  0.000000E+00 |  0.1111111111 |         ideal\n",
      "     6 |      562 |     24 |  0.000000E+00 |  0.000000E+00 |  0.000000E+00 |             f\n",
      "     7 |      662 |      1 |  0.000000E+00 |  0.000000E+00 |  4.0000000000 |         nadir\n",
      "     8 |      762 |      1 |  0.000000E+00 |  0.000000E+00 |  0.000000E+00 |             f\n",
      "     9 |      862 |      1 |  0.000000E+00 |  0.000000E+00 |  0.000000E+00 |             f\n",
      "    10 |      962 |      1 |  0.000000E+00 |  0.000000E+00 |  0.000000E+00 |             f\n",
      "    11 |     1062 |      1 |  0.000000E+00 |  0.000000E+00 |  0.000000E+00 |             f\n",
      "    12 |     1162 |      1 |  0.000000E+00 |  0.000000E+00 |  0.000000E+00 |             f\n",
      "    13 |     1262 |      2 |  0.000000E+00 |  0.000000E+00 |  0.000000E+00 |             f\n",
      "    14 |     1362 |      2 |  0.000000E+00 |  0.000000E+00 |  0.000000E+00 |             f\n",
      "    15 |     1462 |      2 |  0.000000E+00 |  0.000000E+00 |  0.000000E+00 |             f\n",
      "    16 |     1562 |      2 |  0.000000E+00 |  0.000000E+00 |  0.000000E+00 |             f\n",
      "    17 |     1662 |      2 |  0.000000E+00 |  0.000000E+00 |  0.000000E+00 |             f\n",
      "    18 |     1762 |      2 |  0.000000E+00 |  0.000000E+00 |  0.000000E+00 |             f\n",
      "    19 |     1862 |      3 |  0.000000E+00 |  0.000000E+00 |  0.000000E+00 |             f\n",
      "    20 |     1962 |      3 |  0.000000E+00 |  0.000000E+00 |  0.000000E+00 |             f\n",
      "    21 |     2062 |      3 |  0.000000E+00 |  0.000000E+00 |  0.000000E+00 |             f\n",
      "    22 |     2162 |      3 |  0.000000E+00 |  0.000000E+00 |  0.000000E+00 |             f\n",
      "    23 |     2262 |      3 |  0.000000E+00 |  0.000000E+00 |  0.000000E+00 |             f\n",
      "    24 |     2362 |      3 |  0.000000E+00 |  0.000000E+00 |  0.000000E+00 |             f\n",
      "    25 |     2462 |      3 |  0.000000E+00 |  0.000000E+00 |  0.000000E+00 |             f\n",
      "    26 |     2562 |      3 |  0.000000E+00 |  0.000000E+00 |  0.000000E+00 |             f\n",
      "    27 |     2662 |      3 |  0.000000E+00 |  0.000000E+00 |  0.000000E+00 |             f\n",
      "    28 |     2762 |      3 |  0.000000E+00 |  0.000000E+00 |  0.000000E+00 |             f\n",
      "    29 |     2862 |      3 |  0.000000E+00 |  0.000000E+00 |  0.000000E+00 |             f\n",
      "    30 |     2962 |      3 |  0.000000E+00 |  0.000000E+00 |  0.000000E+00 |             f\n",
      "    31 |     3062 |      3 |  0.000000E+00 |  0.000000E+00 |  0.000000E+00 |             f\n",
      "    32 |     3162 |      3 |  0.000000E+00 |  0.000000E+00 |  0.000000E+00 |             f\n",
      "    33 |     3262 |      3 |  0.000000E+00 |  0.000000E+00 |  0.000000E+00 |             f\n",
      "    34 |     3362 |      3 |  0.000000E+00 |  0.000000E+00 |  0.000000E+00 |             f\n",
      "    35 |     3462 |      3 |  0.000000E+00 |  0.000000E+00 |  0.000000E+00 |             f\n",
      "    36 |     3562 |      3 |  0.000000E+00 |  0.000000E+00 |  0.000000E+00 |             f\n",
      "    37 |     3662 |      3 |  0.000000E+00 |  0.000000E+00 |  0.000000E+00 |             f\n",
      "    38 |     3762 |      3 |  0.000000E+00 |  0.000000E+00 |  0.000000E+00 |             f\n",
      "    39 |     3862 |      3 |  0.000000E+00 |  0.000000E+00 |  0.000000E+00 |             f\n",
      "    40 |     3962 |      3 |  0.000000E+00 |  0.000000E+00 |  0.000000E+00 |             f\n",
      "    41 |     4062 |      3 |  0.000000E+00 |  0.000000E+00 |  0.000000E+00 |             f\n",
      "    42 |     4162 |      3 |  0.000000E+00 |  0.000000E+00 |  0.000000E+00 |             f\n",
      "    43 |     4262 |      4 |  0.000000E+00 |  0.000000E+00 |  0.000000E+00 |             f\n",
      "    44 |     4362 |      4 |  0.000000E+00 |  0.000000E+00 |  0.000000E+00 |             f\n",
      "    45 |     4462 |      4 |  0.000000E+00 |  0.000000E+00 |  0.000000E+00 |             f\n",
      "    46 |     4562 |      4 |  0.000000E+00 |  0.000000E+00 |  0.000000E+00 |             f\n",
      "    47 |     4662 |      4 |  0.000000E+00 |  0.000000E+00 |  0.000000E+00 |             f\n",
      "    48 |     4762 |      4 |  0.000000E+00 |  0.000000E+00 |  0.000000E+00 |             f\n",
      "    49 |     4862 |      4 |  0.000000E+00 |  0.000000E+00 |  0.000000E+00 |             f\n",
      "    50 |     4962 |      4 |  0.000000E+00 |  0.000000E+00 |  0.000000E+00 |             f\n",
      "    51 |     5062 |      4 |  0.000000E+00 |  0.000000E+00 |  0.000000E+00 |             f\n",
      "    52 |     5162 |      4 |  0.000000E+00 |  0.000000E+00 |  0.000000E+00 |             f\n",
      "    53 |     5262 |      4 |  0.000000E+00 |  0.000000E+00 |  0.000000E+00 |             f\n",
      "    54 |     5362 |      4 |  0.000000E+00 |  0.000000E+00 |  0.000000E+00 |             f\n",
      "    55 |     5462 |      4 |  0.000000E+00 |  0.000000E+00 |  0.000000E+00 |             f\n",
      "    56 |     5562 |      4 |  0.000000E+00 |  0.000000E+00 |  0.000000E+00 |             f\n",
      "    57 |     5662 |      4 |  0.000000E+00 |  0.000000E+00 |  0.000000E+00 |             f\n",
      "    58 |     5762 |      4 |  0.000000E+00 |  0.000000E+00 |  0.000000E+00 |             f\n",
      "    59 |     5862 |      4 |  0.000000E+00 |  0.000000E+00 |  0.000000E+00 |             f\n",
      "    60 |     5962 |      4 |  0.000000E+00 |  0.000000E+00 |  0.000000E+00 |             f\n",
      "    61 |     6062 |      4 |  0.000000E+00 |  0.000000E+00 |  0.000000E+00 |             f\n",
      "    62 |     6162 |      4 |  0.000000E+00 |  0.000000E+00 |  0.000000E+00 |             f\n",
      "    63 |     6262 |      4 |  0.000000E+00 |  0.000000E+00 |  0.000000E+00 |             f\n",
      "    64 |     6362 |      4 |  0.000000E+00 |  0.000000E+00 |  0.000000E+00 |             f\n",
      "    65 |     6462 |      4 |  0.000000E+00 |  0.000000E+00 |  0.000000E+00 |             f\n",
      "    66 |     6562 |      4 |  0.000000E+00 |  0.000000E+00 |  0.000000E+00 |             f\n",
      "    67 |     6662 |      4 |  0.000000E+00 |  0.000000E+00 |  0.000000E+00 |             f\n",
      "    68 |     6762 |      4 |  0.000000E+00 |  0.000000E+00 |  0.000000E+00 |             f\n",
      "    69 |     6862 |      4 |  0.000000E+00 |  0.000000E+00 |  0.000000E+00 |             f\n",
      "    70 |     6962 |      4 |  0.000000E+00 |  0.000000E+00 |  0.000000E+00 |             f\n",
      "    71 |     7062 |      4 |  0.000000E+00 |  0.000000E+00 |  0.000000E+00 |             f\n",
      "    72 |     7162 |      4 |  0.000000E+00 |  0.000000E+00 |  0.000000E+00 |             f\n",
      "    73 |     7262 |      4 |  0.000000E+00 |  0.000000E+00 |  0.000000E+00 |             f\n",
      "    74 |     7362 |      4 |  0.000000E+00 |  0.000000E+00 |  0.000000E+00 |             f\n",
      "    75 |     7462 |      4 |  0.000000E+00 |  0.000000E+00 |  0.000000E+00 |             f\n",
      "    76 |     7562 |      4 |  0.000000E+00 |  0.000000E+00 |  0.000000E+00 |             f\n",
      "    77 |     7662 |      4 |  0.000000E+00 |  0.000000E+00 |  0.000000E+00 |             f\n",
      "    78 |     7762 |      4 |  0.000000E+00 |  0.000000E+00 |  0.000000E+00 |             f\n",
      "    79 |     7862 |      4 |  0.000000E+00 |  0.000000E+00 |  0.000000E+00 |             f\n",
      "    80 |     7962 |      4 |  0.000000E+00 |  0.000000E+00 |  0.000000E+00 |             f\n",
      "    81 |     8062 |      4 |  0.000000E+00 |  0.000000E+00 |  0.000000E+00 |             f\n",
      "    82 |     8162 |      4 |  0.000000E+00 |  0.000000E+00 |  0.000000E+00 |             f\n",
      "    83 |     8262 |      4 |  0.000000E+00 |  0.000000E+00 |  0.000000E+00 |             f\n",
      "    84 |     8362 |      4 |  0.000000E+00 |  0.000000E+00 |  0.000000E+00 |             f\n",
      "    85 |     8462 |      4 |  0.000000E+00 |  0.000000E+00 |  0.000000E+00 |             f\n",
      "    86 |     8562 |      4 |  0.000000E+00 |  0.000000E+00 |  0.000000E+00 |             f\n",
      "    87 |     8662 |      4 |  0.000000E+00 |  0.000000E+00 |  0.000000E+00 |             f\n",
      "    88 |     8762 |      4 |  0.000000E+00 |  0.000000E+00 |  0.000000E+00 |             f\n",
      "    89 |     8862 |      4 |  0.000000E+00 |  0.000000E+00 |  0.000000E+00 |             f\n",
      "    90 |     8962 |      4 |  0.000000E+00 |  0.000000E+00 |  0.000000E+00 |             f\n",
      "    91 |     9062 |      4 |  0.000000E+00 |  0.000000E+00 |  0.000000E+00 |             f\n",
      "    92 |     9162 |      4 |  0.000000E+00 |  0.000000E+00 |  0.000000E+00 |             f\n",
      "    93 |     9262 |      4 |  0.000000E+00 |  0.000000E+00 |  0.000000E+00 |             f\n",
      "    94 |     9362 |      4 |  0.000000E+00 |  0.000000E+00 |  0.000000E+00 |             f\n",
      "    95 |     9462 |      4 |  0.000000E+00 |  0.000000E+00 |  0.000000E+00 |             f\n",
      "    96 |     9562 |      4 |  0.000000E+00 |  0.000000E+00 |  0.000000E+00 |             f\n",
      "    97 |     9662 |      4 |  0.000000E+00 |  0.000000E+00 |  0.000000E+00 |             f\n",
      "    98 |     9762 |      4 |  0.000000E+00 |  0.000000E+00 |  0.000000E+00 |             f\n",
      "    99 |     9862 |      4 |  0.000000E+00 |  0.000000E+00 |  0.000000E+00 |             f\n",
      "   100 |     9962 |      4 |  0.000000E+00 |  0.000000E+00 |  0.000000E+00 |             f\n",
      "   101 |    10062 |      4 |  0.000000E+00 |  0.000000E+00 |  0.000000E+00 |             f\n",
      "The pss found in the search are \n",
      "\t [* * * * * * * * * * * * * * * * 1 1 1 1][-4.000, 0.000, ]\n",
      "\t [* * * * * * * * * * * * 1 1 1 1 * * * *][-4.000, 0.000, ]\n",
      "\t [* * * * * * * * 1 1 1 1 * * * * * * * *][-4.000, 0.000, ]\n",
      "\t [* * * * 1 1 1 1 * * * * * * * * * * * *][-4.000, 0.000, ]\n"
     ]
    }
   ],
   "source": [
    "from SimplifiedSystem.ps_search_utils import run_pymoo_algorithm_with_checks\n",
    "from pymoo.algorithms.moo.nsga2 import NSGA2\n",
    "from pymoo.algorithms.soo.nonconvex.ga import GA\n",
    "from pymoo.operators.mutation.bitflip import BitflipMutation\n",
    "from pymoo.operators.crossover.sbx import SimulatedBinaryCrossover\n",
    "from SimplifiedSystem.Operators.Sampling import LocalPSGeometricSampling\n",
    "from SimplifiedSystem.LocalPSSearchTask import LocalPSSearchTask\n",
    "\n",
    "objectives = [atomicity, dependence]\n",
    "population_size = 100\n",
    "\n",
    "ga_problem = LocalPSSearchTask(solution_to_explain=to_explain,\n",
    "                                objectives=objectives,\n",
    "                                # unexplained_mask=None,\n",
    "                                proportion_unexplained_that_needs_used=0.01,\n",
    "                                proportion_used_that_should_be_unexplained=0.01)\n",
    "\n",
    "# if there are no operators given, we have these defaults\n",
    "sampling_operator = LocalPSGeometricSampling()\n",
    "crossover_operator = SimulatedBinaryCrossover(prob=0.3)\n",
    "mutation_operator = BitflipMutation(prob=1 / ga_problem.n_var)\n",
    "\n",
    "# the next line of code is a bit odd, but it works! It uses a GA if there is one objective\n",
    "algorithm = (GA if len(objectives) < 2 else NSGA2)(pop_size=population_size,\n",
    "                                                   sampling=sampling_operator,\n",
    "                                                   crossover=crossover_operator,\n",
    "                                                   mutation=mutation_operator,\n",
    "                                                   eliminate_duplicates=True)\n",
    "\n",
    "pss = run_pymoo_algorithm_with_checks(pymoo_problem=ga_problem,\n",
    "                                      algorithm=algorithm,\n",
    "                                      reattempts_when_fail=5,\n",
    "                                      ps_budget = 10000,\n",
    "                                      verbose=True)"
   ],
   "metadata": {
    "collapsed": false,
    "ExecuteTime": {
     "end_time": "2025-04-28T11:19:03.012340900Z",
     "start_time": "2025-04-28T11:18:54.439316Z"
    }
   },
   "id": "56d8e76b65f755aa"
  },
  {
   "cell_type": "code",
   "execution_count": 20,
   "outputs": [
    {
     "data": {
      "text/plain": "<Figure size 1000x1000 with 2 Axes>",
      "image/png": "[encoded data removed]"
     },
     "metadata": {},
     "output_type": "display_data"
    }
   ],
   "source": [
    "from utils import show_matrix_with_colours\n",
    "from Core.PSMetric.Linkage.ValueSpecificMutualInformation import FasterSolutionSpecificMutualInformation\n",
    "\n",
    "mi = FasterSolutionSpecificMutualInformation()\n",
    "mi.set_pRef(pRef)\n",
    "mi.set_solution(to_explain)\n",
    "\n",
    "show_matrix_with_colours(mi.linkage_table)"
   ],
   "metadata": {
    "collapsed": false,
    "ExecuteTime": {
     "end_time": "2025-04-28T15:55:05.186703400Z",
     "start_time": "2025-04-28T15:55:04.084644800Z"
    }
   },
   "id": "539ccd78d333fac5"
  },
  {
   "cell_type": "code",
   "execution_count": 21,
   "outputs": [],
   "source": [
    "\n",
    "\n",
    "from Core.FullSolution import FullSolution\n",
    "\n",
    "univariate_counts = {(a, b) : len(pRef.fitnesses_of_observations(PS.empty(problem.search_space).with_fixed_value(a, b)))/pRef.sample_size\n",
    "                     for a, cardinality in enumerate(problem.search_space.cardinalities)\n",
    "                     for b in range(cardinality)}\n",
    "\n",
    "bivariate_counts = {(a, b, c, d) : len(pRef.fitnesses_of_observations(PS.empty(problem.search_space).with_fixed_value(a, b).with_fixed_value(c, d)))/pRef.sample_size\n",
    "                     for a, cardinality_a in enumerate(problem.search_space.cardinalities)\n",
    "                     for b in range(cardinality_a)\n",
    "                     for c, cardinality_c in enumerate(problem.search_space.cardinalities)\n",
    "                     for d in range(cardinality_c)\n",
    "                     }\n",
    "\n",
    "\n",
    "\n",
    "\n",
    "def food(solution: FullSolution):\n",
    "    return sum(univariate_counts[a, b] for a, b in enumerate(solution.values))\n",
    "\n",
    "\n",
    "all_solutions = pRef.get_evaluated_FSs()\n",
    "all_solutions.sort(key=food)"
   ],
   "metadata": {
    "collapsed": false,
    "ExecuteTime": {
     "end_time": "2025-04-28T15:55:12.439400400Z",
     "start_time": "2025-04-28T15:55:12.247209600Z"
    }
   },
   "id": "5877cf755661ac37"
  },
  {
   "cell_type": "code",
   "execution_count": 22,
   "outputs": [
    {
     "name": "stdout",
     "output_type": "stream",
     "text": [
      "(0 0 0 0 0 0 0 0 0 0 1 0 1 0 1 0 0 0 1 1), fs score = 0.00\n",
      "(0 0 0 0 0 1 0 0 1 0 0 0 0 0 1 0 0 0 0 1), fs score = 0.00\n",
      "(0 1 0 1 0 0 0 0 0 0 0 1 1 0 0 0 0 0 0 0), fs score = 0.00\n",
      "(0 0 0 0 0 0 0 0 0 0 1 0 1 0 1 0 1 0 1 1), fs score = 0.00\n",
      "(0 0 0 0 1 0 0 1 1 0 0 1 0 0 0 0 0 0 1 0), fs score = 0.00\n",
      "(0 1 0 0 0 1 0 0 1 0 0 0 1 0 0 0 0 0 0 1), fs score = 0.00\n",
      "(1 0 0 0 0 1 0 0 0 1 0 0 1 0 0 0 1 0 0 1), fs score = 0.00\n",
      "(0 0 0 0 0 0 0 0 0 1 0 0 1 1 0 0 1 1 1 1), fs score = 4.00\n",
      "(0 0 0 0 0 0 0 0 1 1 1 1 0 0 1 0 0 0 0 1), fs score = 4.00\n",
      "(0 1 0 0 0 0 0 0 0 1 1 1 0 0 1 0 0 0 1 1), fs score = 0.00\n",
      "(1 1 1 1 1 1 1 1 1 1 1 0 1 1 1 1 1 1 1 1), fs score = 16.00\n",
      "(1 1 1 1 1 1 1 1 1 0 1 1 1 1 1 1 1 1 0 1), fs score = 12.00\n",
      "(1 1 1 1 1 1 1 1 1 1 0 1 1 1 1 1 1 1 1 1), fs score = 16.00\n",
      "(1 1 1 1 1 1 1 1 1 1 1 1 1 1 1 1 1 0 1 1), fs score = 16.00\n",
      "(1 1 1 1 1 1 1 1 1 1 1 1 1 1 1 1 1 1 0 0), fs score = 16.00\n",
      "(1 1 1 1 1 1 1 1 1 1 1 1 1 1 1 1 0 1 1 1), fs score = 16.00\n",
      "(1 1 1 1 1 1 1 1 1 0 1 1 1 1 1 1 1 1 1 1), fs score = 16.00\n",
      "(1 1 1 1 1 1 1 1 1 1 1 1 1 1 1 1 1 1 1 0), fs score = 16.00\n",
      "(1 1 1 1 1 1 1 1 1 1 1 1 1 1 1 1 1 1 0 1), fs score = 16.00\n",
      "(1 1 1 1 1 1 1 1 1 1 1 1 1 1 1 1 1 1 1 1), fs score = 20.00\n"
     ]
    }
   ],
   "source": [
    "for s in all_solutions[:10]+all_solutions[-10:]:\n",
    "    print(s)"
   ],
   "metadata": {
    "collapsed": false,
    "ExecuteTime": {
     "end_time": "2025-04-28T15:55:14.859724600Z",
     "start_time": "2025-04-28T15:55:14.844788800Z"
    }
   },
   "id": "a40bab0495c17c87"
  },
  {
   "cell_type": "code",
   "execution_count": 28,
   "outputs": [
    {
     "data": {
      "text/plain": "<Figure size 1000x1000 with 2 Axes>",
      "image/png": "[encoded data removed]"
     },
     "metadata": {},
     "output_type": "display_data"
    }
   ],
   "source": [
    "from Core.PRef import PRef\n",
    "import heapq\n",
    "\n",
    "cleaned_solutions = heapq.nlargest(iterable=all_solutions, key=food, n=1000)\n",
    "cleaned_pRef = PRef.from_evaluated_full_solutions(cleaned_solutions, search_space=pRef.search_space)\n",
    "\n",
    "mi = FasterSolutionSpecificMutualInformation()\n",
    "mi.set_pRef(cleaned_pRef)\n",
    "mi.set_solution(to_explain)\n",
    "\n",
    "show_matrix_with_colours(mi.linkage_table)"
   ],
   "metadata": {
    "collapsed": false,
    "ExecuteTime": {
     "end_time": "2025-04-28T15:56:23.633107700Z",
     "start_time": "2025-04-28T15:56:22.713448400Z"
    }
   },
   "id": "16d516430b0ec947"
  },
  {
   "cell_type": "code",
   "execution_count": null,
   "outputs": [],
   "source": [],
   "metadata": {
    "collapsed": false
   },
   "id": "7b1f37d1c25efe42"
  }
 ],
 "metadata": {
  "kernelspec": {
   "display_name": "Python 3",
   "language": "python",
   "name": "python3"
  },
  "language_info": {
   "codemirror_mode": {
    "name": "ipython",
    "version": 2
   },
   "file_extension": ".py",
   "mimetype": "text/x-python",
   "name": "python",
   "nbconvert_exporter": "python",
   "pygments_lexer": "ipython2",
   "version": "2.7.6"
  }
 },
 "nbformat": 4,
 "nbformat_minor": 5
}
