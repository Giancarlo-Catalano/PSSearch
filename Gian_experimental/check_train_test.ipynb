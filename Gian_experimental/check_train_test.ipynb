{
 "cells": [
  {
   "cell_type": "code",
   "execution_count": null,
   "id": "initial_id",
   "metadata": {
    "collapsed": true
   },
   "outputs": [],
   "source": []
  },
  {
   "cell_type": "code",
   "execution_count": 4,
   "outputs": [],
   "source": [
    "import os\n",
    "\n",
    "dir_250 = r\"C:\\Users\\gac8\\PycharmProjects\\PSSearch\\data\\retail_forecasting\\250\"\n",
    "def in_250(path):\n",
    "    return os.path.join(dir_250, path)\n",
    "\n",
    "\n",
    "def read_fitness_file(file, column):\n",
    "    if column == \"all\":\n",
    "        return np.genfromtxt(file, delimiter=\",\", dtype=float)\n",
    "    return np.genfromtxt(file, delimiter=\",\", dtype=float, usecols=column)\n",
    "\n",
    "def read_vector(file):\n",
    "    return np.loadtxt(file, delimiter=\",\", dtype=int)"
   ],
   "metadata": {
    "collapsed": false,
    "ExecuteTime": {
     "end_time": "2025-05-14T08:56:39.895979900Z",
     "start_time": "2025-05-14T08:56:39.890612400Z"
    }
   },
   "id": "537d86c3ea8b7e24"
  },
  {
   "cell_type": "code",
   "execution_count": 21,
   "outputs": [],
   "source": [
    "import numpy as np\n",
    "\n",
    "train_vectors = read_vector(in_250(\"train_many_hot_vectors_250_qmc.csv\"))\n",
    "train_fitness = read_fitness_file(in_250(\"train_fitness_250_qmc.csv\"), column=\"all\")\n",
    "\n",
    "test_vectors = read_vector(in_250(\"test_many_hot_vectors_250_qmc.csv\"))\n",
    "test_fitness = read_fitness_file(in_250(\"test_fitness_250_qmc.csv\"), column=\"all\")\n",
    "\n",
    "general_vectors = read_vector(in_250(\"many_hot_vectors_250_qmc.csv\"))\n",
    "general_fitness = read_fitness_file(in_250(\"fitness_250_qmc.csv\"), column=\"all\")\n",
    "\n"
   ],
   "metadata": {
    "collapsed": false,
    "ExecuteTime": {
     "end_time": "2025-05-14T09:11:26.833795300Z",
     "start_time": "2025-05-14T09:11:22.455384Z"
    }
   },
   "id": "cfbcbde659a85cfb"
  },
  {
   "cell_type": "code",
   "execution_count": 22,
   "outputs": [
    {
     "name": "stdout",
     "output_type": "stream",
     "text": [
      "train_vectors.shape = (36794, 250)\n",
      "train_fitness.shape = (36794, 7)\n",
      "test_vectors.shape = (15832, 250)\n",
      "test_fitness.shape = (15832, 7)\n",
      "general_vectors.shape = (52626, 250)\n",
      "general_fitness.shape = (52626, 7)\n"
     ]
    }
   ],
   "source": [
    "print(f\"{train_vectors.shape = }\")\n",
    "print(f\"{train_fitness.shape = }\")\n",
    "\n",
    "print(f\"{test_vectors.shape = }\")\n",
    "print(f\"{test_fitness.shape = }\")\n",
    "\n",
    "print(f\"{general_vectors.shape = }\")\n",
    "print(f\"{general_fitness.shape = }\")"
   ],
   "metadata": {
    "collapsed": false,
    "ExecuteTime": {
     "end_time": "2025-05-14T09:11:28.151026800Z",
     "start_time": "2025-05-14T09:11:28.144084700Z"
    }
   },
   "id": "17ae91f357ca0521"
  },
  {
   "cell_type": "code",
   "execution_count": 12,
   "outputs": [
    {
     "name": "stdout",
     "output_type": "stream",
     "text": [
      "True\n",
      "False\n",
      "False\n"
     ]
    }
   ],
   "source": [
    "def verify_if_is_concat(a, b, a_plus_b):\n",
    "    def sort_rows(x):\n",
    "        # https://stackoverflow.com/questions/38277143/sort-2d-numpy-array-lexicographically\n",
    "        return x[np.lexsort(np.rot90(x))]\n",
    "    expected = np.vstack((a, b))\n",
    "    expected = sort_rows(expected)\n",
    "    return np.array_equal(sort_rows(a_plus_b), expected)\n",
    "\n",
    "\n",
    "m = np.random.random((50, 30))\n",
    "in_a = np.random.random(50) < 0.5\n",
    "\n",
    "a = m[in_a]\n",
    "b = m[~in_a]\n",
    "c = m[np.random.random(50) < 0.5]\n",
    "\n",
    "print(verify_if_is_concat(a, b, m))\n",
    "print(verify_if_is_concat(a, c, m))\n",
    "print(verify_if_is_concat(c, b, m))"
   ],
   "metadata": {
    "collapsed": false,
    "ExecuteTime": {
     "end_time": "2025-05-14T09:07:28.149980800Z",
     "start_time": "2025-05-14T09:07:28.143954700Z"
    }
   },
   "id": "478c4ba9f71bf4e6"
  },
  {
   "cell_type": "code",
   "execution_count": 23,
   "outputs": [
    {
     "name": "stdout",
     "output_type": "stream",
     "text": [
      "True\n",
      "True\n"
     ]
    }
   ],
   "source": [
    "print(verify_if_is_concat(train_vectors, test_vectors, general_vectors))\n",
    "print(verify_if_is_concat(train_fitness, test_fitness, general_fitness))"
   ],
   "metadata": {
    "collapsed": false,
    "ExecuteTime": {
     "end_time": "2025-05-14T09:11:36.801802200Z",
     "start_time": "2025-05-14T09:11:36.163492500Z"
    }
   },
   "id": "e243aa682c2f89b1"
  },
  {
   "cell_type": "code",
   "execution_count": 18,
   "outputs": [
    {
     "name": "stdout",
     "output_type": "stream",
     "text": [
      "(15832, 7)\n"
     ]
    }
   ],
   "source": [
    "print(test_vectors.shape)"
   ],
   "metadata": {
    "collapsed": false,
    "ExecuteTime": {
     "end_time": "2025-05-14T09:09:51.949838400Z",
     "start_time": "2025-05-14T09:09:51.944868900Z"
    }
   },
   "id": "2e15224d76c9efc7"
  }
 ],
 "metadata": {
  "kernelspec": {
   "display_name": "Python 3",
   "language": "python",
   "name": "python3"
  },
  "language_info": {
   "codemirror_mode": {
    "name": "ipython",
    "version": 2
   },
   "file_extension": ".py",
   "mimetype": "text/x-python",
   "name": "python",
   "nbconvert_exporter": "python",
   "pygments_lexer": "ipython2",
   "version": "2.7.6"
  }
 },
 "nbformat": 4,
 "nbformat_minor": 5
}
