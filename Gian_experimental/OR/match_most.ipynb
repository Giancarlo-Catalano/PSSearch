{
 "cells": [
  {
   "cell_type": "code",
   "execution_count": null,
   "id": "initial_id",
   "metadata": {
    "collapsed": true
   },
   "outputs": [],
   "source": [
    "\n",
    "import math\n",
    "from Core.PRef import PRef\n",
    "import numpy as np\n",
    "\n",
    "\n",
    "class SPref:\n",
    "    sessions: list[set[int]]\n",
    "    fitnesses: np.ndarray\n",
    "    \n",
    "    def __init__(self,\n",
    "                 sessions: list[set[int]],\n",
    "                 fitnesses: np.ndarray):\n",
    "        self.sessions = sessions\n",
    "        self.fitnesses = fitnesses\n",
    "        \n",
    "        \n",
    "    @classmethod\n",
    "    def from_pRef(cls, pRef: PRef):\n",
    "        def row_to_set(row):\n",
    "            return {index for index, value in row if value}\n",
    "        return cls(list(map(row_to_set, pRef.full_solution_matrix)), pRef.fitness_array)\n",
    "\n",
    "    \n",
    "    \n",
    "    def get_matching_fitnesses(self, ps: set[int], threshold: float):\n",
    "        most_leftover = math.floor(len(ps) * (1-threshold))\n",
    "        fitnesses = []\n",
    "        for session, fitness in zip(self.sessions, self.fitnesses):\n",
    "            if len(ps-session) < most_leftover:\n",
    "                fitnesses.append(fitness)\n",
    "        return np.array(fitnesses)"
   ]
  },
  {
   "cell_type": "code",
   "execution_count": null,
   "outputs": [],
   "source": [],
   "metadata": {
    "collapsed": false
   },
   "id": "14a5f7d27aeae8aa"
  }
 ],
 "metadata": {
  "kernelspec": {
   "display_name": "Python 3",
   "language": "python",
   "name": "python3"
  },
  "language_info": {
   "codemirror_mode": {
    "name": "ipython",
    "version": 2
   },
   "file_extension": ".py",
   "mimetype": "text/x-python",
   "name": "python",
   "nbconvert_exporter": "python",
   "pygments_lexer": "ipython2",
   "version": "2.7.6"
  }
 },
 "nbformat": 4,
 "nbformat_minor": 5
}
