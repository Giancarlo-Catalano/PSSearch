{
 "cells": [
  {
   "cell_type": "code",
   "execution_count": 46,
   "id": "initial_id",
   "metadata": {
    "collapsed": true,
    "ExecuteTime": {
     "end_time": "2025-06-30T07:48:55.512905300Z",
     "start_time": "2025-06-30T07:48:53.204466400Z"
    }
   },
   "outputs": [
    {
     "name": "stdout",
     "output_type": "stream",
     "text": [
      "column 2, expected to be normal fitnesses  [11.18746567 17.32204247  9.72239876 ...  6.85158873  8.78421211\n",
      " 10.7397728 ]\n",
      "column 4, expected to be HR 100 (high average = 0.547) [1. 1. 1. ... 0. 1. 1.]\n",
      "column 6, expected to be HR 20 (low average = 0.245) [1. 1. 0. ... 0. 1. 1.]\n",
      "We have partitions for 100 seeds\n"
     ]
    }
   ],
   "source": [
    "\n",
    "import utils\n",
    "from Gian_experimental.NSGAIICustom.evolving_genome_threshold import NCSolutionWithGT\n",
    "from Core.SearchSpace import SearchSpace\n",
    "from Core.PRef import PRef\n",
    "from Gian_experimental.NSGAIICustom.testing_in_vitro.SPRef import OptimisedSPref\n",
    "import json\n",
    "import numpy as np\n",
    "\n",
    "temp_vector_path = r\"C:\\Users\\gac8\\PycharmProjects\\PSSearch\\retail_forecasting_data_collection\\data\\many_hot_vectors_250_random.csv\"\n",
    "temp_fitness_path = r\"C:\\Users\\gac8\\PycharmProjects\\PSSearch\\retail_forecasting_data_collection\\data\\fitness_250_random.csv\"\n",
    "\n",
    "all_vectors = np.loadtxt(temp_vector_path, delimiter=\",\", dtype=int)\n",
    "\n",
    "# fitnesses_for_GA, hits_20, hits_100 = np.genfromtxt(temp_fitness_path, delimiter=\",\", dtype=float, usecols=(2, 4, 5))\n",
    "fitnesses_for_GA, hits_100, hits_20 = np.genfromtxt(temp_fitness_path, delimiter=\",\", dtype=float, usecols=(2, 4, 6)).T\n",
    "\n",
    "print(\"column 2, expected to be normal fitnesses \", fitnesses_for_GA)\n",
    "print(f\"column 4, expected to be HR 100 (high average = {np.average(hits_100):.3f})\", hits_100)\n",
    "print(f\"column 6, expected to be HR 20 (low average = {np.average(hits_20):.3f})\", hits_20)\n",
    "\n",
    "\n",
    "train_test_partitions_by_seed_path = r\"C:\\Users\\gac8\\PycharmProjects\\PSSearch\\retail_forecasting_data_collection\\data\\test_indices.json\"\n",
    "train_test_partitions_by_seed = json.load(open(train_test_partitions_by_seed_path, \"r\"))\n",
    "\n",
    "print(f\"We have partitions for {len(train_test_partitions_by_seed)} seeds\")\n",
    "\n",
    "\n",
    "def construct_temp_spRef(which: str, seed: int) -> OptimisedSPref:\n",
    "    # we make a pRef which is optimised (we represent a session as the set of the variables that are ones)\n",
    "    # the fitnesses in this pRef are just the index of their row [0, 1, 2,  ...]\n",
    "    \n",
    "    # this allows to get any fitness we want without having to make a lot of slow code!\n",
    "    \n",
    "    test_indices = train_test_partitions_by_seed[str(seed)]\n",
    "    if which == \"test\":\n",
    "        row_indices = test_indices\n",
    "    else:\n",
    "        row_indices = list(set(range(len(all_vectors))) - set(test_indices))\n",
    "        \n",
    "    vectors = all_vectors[row_indices]\n",
    "    trad_pRef = PRef(fitness_array=np.array(row_indices),\n",
    "                           full_solution_matrix=vectors,\n",
    "                           search_space=SearchSpace([2 for _ in range(250)]))\n",
    "    \n",
    "    sPRef = OptimisedSPref.from_pRef(trad_pRef)\n",
    "    del trad_pRef\n",
    "    \n",
    "    return sPRef\n",
    "\n",
    "\n",
    "def get_info_for_individual_ps(ps: NCSolutionWithGT, temp_test_spRef, temp_train_spRef):\n",
    "    matched_test_indices, unmatched_test_indices = temp_test_spRef.partition(ps, threshold=ps.genome_threshold)\n",
    "    \n",
    "    matched_train_indices, unmatched_train_indices = temp_train_spRef.partition(ps, threshold=ps.genome_threshold)\n",
    "    \n",
    "    average_test_HR_20 = np.average(hits_20[matched_test_indices])\n",
    "    average_test_HR_100 = np.average(hits_100[matched_test_indices])\n",
    "    univ_test = len(matched_test_indices) / (len(matched_test_indices) + len(unmatched_test_indices))\n",
    "    \n",
    "    average_train_HR_20 = np.average(hits_20[matched_train_indices])\n",
    "    average_train_HR_100 = np.average(hits_100[matched_train_indices])\n",
    "    univ_train = len(matched_train_indices) / (len(matched_train_indices) + len(unmatched_train_indices))\n",
    "    \n",
    "    return univ_test, average_test_HR_20, average_test_HR_100, univ_train, average_train_HR_20, average_train_HR_100\n",
    "    \n"
   ]
  },
  {
   "cell_type": "markdown",
   "id": "fd7998ea64286d9b",
   "metadata": {},
   "source": [
    "We will parse some json files in a folder, and we want to make a dataframe with the columns:\n",
    "* code_name (a string)\n",
    "* length (an int)\n",
    "* genome_threshold (an int)\n",
    "* test_coverage\n",
    "* test_HR_20\n",
    "* test_HR_100\n",
    "* train_coverage\n",
    "* train_HR_20\n",
    "* train_HR_100\n",
    "\n",
    "For every file in results_folder that ends in \".json\":\n",
    "* let seed = data[\"seed\"]\n",
    "* let test_sessions = construct_temp_spRef(which = \"test\", seed=seed)\n",
    "* let train_sessions = construct_temp_spRef(which = \"train\", seed=seed)\n",
    "* read data[\"data\"], which contains many runs with different settings. Iterate over each run\n",
    "    * each run has a code_name, read it in run[\"config\"][\"code_name\"]\n",
    "    * each run has a set of produced outputs, under run[\"results\"]\n",
    "        * for each output, let ps = NCSolutionWithGT(values = set(output[\"pattern\"], genome_threshold = output[\"threshold\"]\n",
    "        * then let length = len(ps)\n",
    "        * genome_threshold = ps.genome_threshold\n",
    "        * test_coverage, ..., train_HR_100  = get_info_for_individual_ps(ps, test_sessions, train_sessions)\n",
    "        * put the relevant information as a row in the dataframe mentioned in the beginning\n"
   ]
  },
  {
   "cell_type": "code",
   "execution_count": 47,
   "id": "4c0b151cc72a6450",
   "metadata": {
    "ExecuteTime": {
     "end_time": "2025-06-30T07:49:07.510800300Z",
     "start_time": "2025-06-30T07:49:07.503407300Z"
    }
   },
   "outputs": [],
   "source": [
    "from tqdm import tqdm\n",
    "import os\n",
    "import json\n",
    "import pandas as pd\n",
    "\n",
    "\n",
    "def process_results_folder(results_folder):\n",
    "    rows = []\n",
    "\n",
    "    for filename in os.listdir(results_folder):\n",
    "        print(\"processing file \", filename)\n",
    "        if not filename.endswith(\".json\"):\n",
    "            continue\n",
    "\n",
    "        filepath = os.path.join(results_folder, filename)\n",
    "        with open(filepath, 'r') as f:\n",
    "            data = json.load(f)\n",
    "\n",
    "        seed = data[\"extra_info\"][\"seed\"]\n",
    "        test_sessions = construct_temp_spRef(which=\"test\", seed=seed)\n",
    "        train_sessions = construct_temp_spRef(which=\"train\", seed=seed)\n",
    "\n",
    "        for run in data[\"data\"]:\n",
    "            code_name = run[\"config\"][\"code_name\"]\n",
    "            for output in tqdm(run[\"results\"]):\n",
    "                ps = NCSolutionWithGT(\n",
    "                    values=set(output[\"pattern\"]),\n",
    "                    genome_threshold=output[\"threshold\"]\n",
    "                )\n",
    "                length = len(ps)\n",
    "                genome_threshold = ps.genome_threshold\n",
    "\n",
    "                (\n",
    "                    test_coverage,\n",
    "                    test_HR_20,\n",
    "                    test_HR_100,\n",
    "                    train_coverage,\n",
    "                    train_HR_20,\n",
    "                    train_HR_100\n",
    "                ) = get_info_for_individual_ps(ps, test_sessions, train_sessions)\n",
    "\n",
    "                row = {\n",
    "                    \"code_name\": code_name,\n",
    "                    \"length\": length,\n",
    "                    \"genome_threshold\": genome_threshold,\n",
    "                    \"test_coverage\": test_coverage,\n",
    "                    \"test_HR_20\": test_HR_20,\n",
    "                    \"test_HR_100\": test_HR_100,\n",
    "                    \"train_coverage\": train_coverage,\n",
    "                    \"train_HR_20\": train_HR_20,\n",
    "                    \"train_HR_100\": train_HR_100,\n",
    "                }\n",
    "\n",
    "                rows.append(row)\n",
    "\n",
    "    return pd.DataFrame(rows)\n",
    "\n",
    "# Usage\n",
    "# df = process_results_folder(\"path/to/results_folder\")\n",
    "# print(df.head())\n"
   ]
  },
  {
   "cell_type": "code",
   "execution_count": 48,
   "id": "fe4a1f477010ecc5",
   "metadata": {
    "ExecuteTime": {
     "end_time": "2025-06-30T07:56:03.497899200Z",
     "start_time": "2025-06-30T07:49:14.647940300Z"
    }
   },
   "outputs": [
    {
     "name": "stdout",
     "output_type": "stream",
     "text": [
      "processing file  result_06-27-H10'm'20's43.json\n"
     ]
    },
    {
     "name": "stderr",
     "output_type": "stream",
     "text": [
      "100%|██████████| 43/43 [00:00<00:00, 472.77it/s]\n",
      "100%|██████████| 46/46 [00:00<00:00, 374.19it/s]\n",
      "100%|██████████| 5/5 [00:00<00:00, 621.86it/s]\n",
      "100%|██████████| 9/9 [00:00<00:00, 278.87it/s]\n",
      "100%|██████████| 27/27 [00:00<00:00, 382.73it/s]\n",
      "100%|██████████| 59/59 [00:00<00:00, 468.61it/s]\n",
      "100%|██████████| 72/72 [00:00<00:00, 274.07it/s]\n",
      "100%|██████████| 56/56 [00:00<00:00, 457.50it/s]\n"
     ]
    },
    {
     "name": "stdout",
     "output_type": "stream",
     "text": [
      "processing file  result_06-27-H10'm'37's43.json\n"
     ]
    },
    {
     "name": "stderr",
     "output_type": "stream",
     "text": [
      "100%|██████████| 52/52 [00:00<00:00, 467.39it/s]\n",
      "100%|██████████| 40/40 [00:00<00:00, 453.83it/s]\n",
      "100%|██████████| 7/7 [00:00<00:00, 448.02it/s]\n",
      "100%|██████████| 7/7 [00:00<00:00, 447.73it/s]\n",
      "100%|██████████| 26/26 [00:00<00:00, 332.82it/s]\n",
      "100%|██████████| 50/50 [00:00<00:00, 409.13it/s]\n",
      "100%|██████████| 59/59 [00:00<00:00, 272.94it/s]\n",
      "100%|██████████| 57/57 [00:00<00:00, 491.86it/s]\n"
     ]
    },
    {
     "name": "stdout",
     "output_type": "stream",
     "text": [
      "processing file  result_06-27-H10'm'54's37.json\n"
     ]
    },
    {
     "name": "stderr",
     "output_type": "stream",
     "text": [
      "100%|██████████| 43/43 [00:00<00:00, 474.20it/s]\n",
      "100%|██████████| 35/35 [00:00<00:00, 422.53it/s]\n",
      "100%|██████████| 10/10 [00:00<00:00, 999.10it/s]\n",
      "100%|██████████| 10/10 [00:00<00:00, 213.27it/s]\n",
      "100%|██████████| 32/32 [00:00<00:00, 378.05it/s]\n",
      "100%|██████████| 53/53 [00:00<00:00, 457.32it/s]\n",
      "100%|██████████| 73/73 [00:00<00:00, 230.70it/s]\n",
      "100%|██████████| 44/44 [00:00<00:00, 438.80it/s]\n"
     ]
    },
    {
     "name": "stdout",
     "output_type": "stream",
     "text": [
      "processing file  result_06-27-H11'm'10's55.json\n"
     ]
    },
    {
     "name": "stderr",
     "output_type": "stream",
     "text": [
      "100%|██████████| 49/49 [00:00<00:00, 440.81it/s]\n",
      "100%|██████████| 45/45 [00:00<00:00, 412.01it/s]\n",
      "100%|██████████| 10/10 [00:00<00:00, 993.58it/s]\n",
      "100%|██████████| 6/6 [00:00<00:00, 270.37it/s]\n",
      "100%|██████████| 28/28 [00:00<00:00, 385.11it/s]\n",
      "100%|██████████| 47/47 [00:00<00:00, 431.77it/s]\n",
      "100%|██████████| 73/73 [00:00<00:00, 256.38it/s]\n",
      "100%|██████████| 59/59 [00:00<00:00, 468.61it/s]\n"
     ]
    },
    {
     "name": "stdout",
     "output_type": "stream",
     "text": [
      "processing file  result_06-27-H11'm'26's57.json\n"
     ]
    },
    {
     "name": "stderr",
     "output_type": "stream",
     "text": [
      "100%|██████████| 53/53 [00:00<00:00, 422.59it/s]\n",
      "100%|██████████| 43/43 [00:00<00:00, 428.84it/s]\n",
      "100%|██████████| 5/5 [00:00<00:00, 320.08it/s]\n",
      "100%|██████████| 14/14 [00:00<00:00, 370.76it/s]\n",
      "100%|██████████| 28/28 [00:00<00:00, 358.36it/s]\n",
      "100%|██████████| 43/43 [00:00<00:00, 428.84it/s]\n",
      "100%|██████████| 87/87 [00:00<00:00, 245.76it/s]\n",
      "100%|██████████| 54/54 [00:00<00:00, 465.95it/s]\n"
     ]
    },
    {
     "name": "stdout",
     "output_type": "stream",
     "text": [
      "processing file  result_06-27-H11'm'43's22.json\n"
     ]
    },
    {
     "name": "stderr",
     "output_type": "stream",
     "text": [
      "100%|██████████| 50/50 [00:00<00:00, 458.48it/s]\n",
      "100%|██████████| 33/33 [00:00<00:00, 363.94it/s]\n",
      "100%|██████████| 11/11 [00:00<00:00, 1099.42it/s]\n",
      "100%|██████████| 7/7 [00:00<00:00, 447.98it/s]\n",
      "100%|██████████| 30/30 [00:00<00:00, 354.44it/s]\n",
      "100%|██████████| 48/48 [00:00<00:00, 414.18it/s]\n",
      "100%|██████████| 80/80 [00:00<00:00, 241.07it/s]\n",
      "100%|██████████| 45/45 [00:00<00:00, 448.77it/s]\n"
     ]
    },
    {
     "name": "stdout",
     "output_type": "stream",
     "text": [
      "processing file  result_06-27-H12'm'00's00.json\n"
     ]
    },
    {
     "name": "stderr",
     "output_type": "stream",
     "text": [
      "100%|██████████| 69/69 [00:00<00:00, 366.65it/s]\n",
      "100%|██████████| 54/54 [00:00<00:00, 487.47it/s]\n",
      "100%|██████████| 7/7 [00:00<?, ?it/s]\n",
      "100%|██████████| 11/11 [00:00<00:00, 351.99it/s]\n",
      "100%|██████████| 31/31 [00:00<00:00, 449.11it/s]\n",
      "100%|██████████| 55/55 [00:00<00:00, 517.65it/s]\n",
      "100%|██████████| 82/82 [00:00<00:00, 216.12it/s]\n",
      "100%|██████████| 55/55 [00:00<00:00, 430.29it/s]\n"
     ]
    },
    {
     "name": "stdout",
     "output_type": "stream",
     "text": [
      "processing file  result_06-27-H12'm'15's30.json\n"
     ]
    },
    {
     "name": "stderr",
     "output_type": "stream",
     "text": [
      "100%|██████████| 52/52 [00:00<00:00, 477.48it/s]\n",
      "100%|██████████| 39/39 [00:00<00:00, 470.38it/s]\n",
      "100%|██████████| 8/8 [00:00<00:00, 361.03it/s]\n",
      "100%|██████████| 8/8 [00:00<00:00, 264.36it/s]\n",
      "100%|██████████| 30/30 [00:00<00:00, 381.79it/s]\n",
      "100%|██████████| 50/50 [00:00<00:00, 397.11it/s]\n",
      "100%|██████████| 72/72 [00:00<00:00, 252.60it/s]\n",
      "100%|██████████| 48/48 [00:00<00:00, 478.73it/s]\n"
     ]
    },
    {
     "name": "stdout",
     "output_type": "stream",
     "text": [
      "processing file  result_06-27-H12'm'31's33.json\n"
     ]
    },
    {
     "name": "stderr",
     "output_type": "stream",
     "text": [
      "100%|██████████| 46/46 [00:00<00:00, 447.37it/s]\n",
      "100%|██████████| 41/41 [00:00<00:00, 441.23it/s]\n",
      "100%|██████████| 8/8 [00:00<00:00, 397.18it/s]\n",
      "100%|██████████| 7/7 [00:00<00:00, 272.98it/s]\n",
      "100%|██████████| 32/32 [00:00<00:00, 378.10it/s]\n",
      "100%|██████████| 53/53 [00:00<00:00, 457.16it/s]\n",
      "100%|██████████| 74/74 [00:00<00:00, 233.86it/s]\n",
      "100%|██████████| 46/46 [00:00<00:00, 398.20it/s]\n"
     ]
    },
    {
     "name": "stdout",
     "output_type": "stream",
     "text": [
      "processing file  result_06-27-H12'm'48's06.json\n"
     ]
    },
    {
     "name": "stderr",
     "output_type": "stream",
     "text": [
      "100%|██████████| 41/41 [00:00<00:00, 415.06it/s]\n",
      "100%|██████████| 38/38 [00:00<00:00, 384.15it/s]\n",
      "100%|██████████| 7/7 [00:00<00:00, 866.77it/s]\n",
      "100%|██████████| 9/9 [00:00<00:00, 218.04it/s]\n",
      "100%|██████████| 27/27 [00:00<00:00, 391.30it/s]\n",
      "100%|██████████| 60/60 [00:00<00:00, 456.18it/s]\n",
      "100%|██████████| 45/45 [00:00<00:00, 276.44it/s]\n",
      "100%|██████████| 45/45 [00:00<00:00, 421.47it/s]\n"
     ]
    },
    {
     "name": "stdout",
     "output_type": "stream",
     "text": [
      "processing file  result_06-27-H13'm'04's36.json\n"
     ]
    },
    {
     "name": "stderr",
     "output_type": "stream",
     "text": [
      "100%|██████████| 54/54 [00:00<00:00, 418.61it/s]\n",
      "100%|██████████| 39/39 [00:00<00:00, 394.24it/s]\n",
      "100%|██████████| 7/7 [00:00<00:00, 695.52it/s]\n",
      "100%|██████████| 8/8 [00:00<00:00, 311.93it/s]\n",
      "100%|██████████| 29/29 [00:00<00:00, 342.66it/s]\n",
      "100%|██████████| 49/49 [00:00<00:00, 422.79it/s]\n",
      "100%|██████████| 47/47 [00:00<00:00, 319.80it/s]\n",
      "100%|██████████| 55/55 [00:00<00:00, 357.93it/s]\n"
     ]
    },
    {
     "name": "stdout",
     "output_type": "stream",
     "text": [
      "processing file  result_06-27-H13'm'20's56.json\n"
     ]
    },
    {
     "name": "stderr",
     "output_type": "stream",
     "text": [
      "100%|██████████| 61/61 [00:00<00:00, 408.72it/s]\n",
      "100%|██████████| 40/40 [00:00<00:00, 439.97it/s]\n",
      "100%|██████████| 6/6 [00:00<00:00, 596.94it/s]\n",
      "100%|██████████| 6/6 [00:00<00:00, 212.96it/s]\n",
      "100%|██████████| 24/24 [00:00<00:00, 397.07it/s]\n",
      "100%|██████████| 48/48 [00:00<00:00, 432.58it/s]\n",
      "100%|██████████| 72/72 [00:00<00:00, 210.55it/s]\n",
      "100%|██████████| 53/53 [00:00<00:00, 457.33it/s]\n"
     ]
    },
    {
     "name": "stdout",
     "output_type": "stream",
     "text": [
      "processing file  result_06-27-H13'm'37's27.json\n"
     ]
    },
    {
     "name": "stderr",
     "output_type": "stream",
     "text": [
      "100%|██████████| 53/53 [00:00<00:00, 439.48it/s]\n",
      "100%|██████████| 37/37 [00:00<00:00, 446.79it/s]\n",
      "100%|██████████| 6/6 [00:00<00:00, 747.09it/s]\n",
      "100%|██████████| 7/7 [00:00<00:00, 314.80it/s]\n",
      "100%|██████████| 29/29 [00:00<00:00, 369.04it/s]\n",
      "100%|██████████| 48/48 [00:00<00:00, 467.29it/s]\n",
      "100%|██████████| 75/75 [00:00<00:00, 190.38it/s]\n",
      "100%|██████████| 42/42 [00:00<00:00, 462.54it/s]\n"
     ]
    },
    {
     "name": "stdout",
     "output_type": "stream",
     "text": [
      "processing file  result_06-27-H13'm'54's01.json\n"
     ]
    },
    {
     "name": "stderr",
     "output_type": "stream",
     "text": [
      "100%|██████████| 59/59 [00:00<00:00, 456.85it/s]\n",
      "100%|██████████| 45/45 [00:00<00:00, 412.22it/s]\n",
      "100%|██████████| 10/10 [00:00<00:00, 998.45it/s]\n",
      "100%|██████████| 8/8 [00:00<00:00, 255.87it/s]\n",
      "100%|██████████| 25/25 [00:00<00:00, 362.27it/s]\n",
      "100%|██████████| 60/60 [00:00<00:00, 517.67it/s]\n",
      "100%|██████████| 51/51 [00:00<00:00, 275.80it/s]\n",
      "100%|██████████| 63/63 [00:00<00:00, 480.22it/s]\n"
     ]
    },
    {
     "name": "stdout",
     "output_type": "stream",
     "text": [
      "processing file  result_06-27-H14'm'09's47.json\n"
     ]
    },
    {
     "name": "stderr",
     "output_type": "stream",
     "text": [
      "100%|██████████| 50/50 [00:00<00:00, 459.47it/s]\n",
      "100%|██████████| 44/44 [00:00<00:00, 510.00it/s]\n",
      "100%|██████████| 6/6 [00:00<?, ?it/s]\n",
      "100%|██████████| 14/14 [00:00<00:00, 298.72it/s]\n",
      "100%|██████████| 27/27 [00:00<00:00, 318.96it/s]\n",
      "100%|██████████| 42/42 [00:00<00:00, 496.21it/s]\n",
      "100%|██████████| 72/72 [00:00<00:00, 276.33it/s]\n",
      "100%|██████████| 46/46 [00:00<00:00, 422.92it/s]\n"
     ]
    },
    {
     "name": "stdout",
     "output_type": "stream",
     "text": [
      "processing file  result_06-27-H14'm'26's25.json\n"
     ]
    },
    {
     "name": "stderr",
     "output_type": "stream",
     "text": [
      "100%|██████████| 53/53 [00:00<00:00, 437.82it/s]\n",
      "100%|██████████| 46/46 [00:00<00:00, 465.44it/s]\n",
      "100%|██████████| 7/7 [00:00<00:00, 699.62it/s]\n",
      "100%|██████████| 12/12 [00:00<00:00, 255.91it/s]\n",
      "100%|██████████| 29/29 [00:00<00:00, 302.59it/s]\n",
      "100%|██████████| 47/47 [00:00<00:00, 450.74it/s]\n",
      "100%|██████████| 67/67 [00:00<00:00, 211.74it/s]\n",
      "100%|██████████| 46/46 [00:00<00:00, 435.93it/s]\n"
     ]
    },
    {
     "name": "stdout",
     "output_type": "stream",
     "text": [
      "processing file  result_06-27-H14'm'42's51.json\n"
     ]
    },
    {
     "name": "stderr",
     "output_type": "stream",
     "text": [
      "100%|██████████| 62/62 [00:00<00:00, 445.26it/s]\n",
      "100%|██████████| 47/47 [00:00<00:00, 431.12it/s]\n",
      "100%|██████████| 13/13 [00:00<00:00, 507.11it/s]\n",
      "100%|██████████| 6/6 [00:00<00:00, 383.94it/s]\n",
      "100%|██████████| 26/26 [00:00<00:00, 487.05it/s]\n",
      "100%|██████████| 48/48 [00:00<00:00, 414.16it/s]\n",
      "100%|██████████| 68/68 [00:00<00:00, 226.06it/s]\n",
      "100%|██████████| 49/49 [00:00<00:00, 422.81it/s]\n"
     ]
    },
    {
     "name": "stdout",
     "output_type": "stream",
     "text": [
      "processing file  result_06-27-H14'm'59's34.json\n"
     ]
    },
    {
     "name": "stderr",
     "output_type": "stream",
     "text": [
      "100%|██████████| 57/57 [00:00<00:00, 434.66it/s]\n",
      "100%|██████████| 43/43 [00:00<00:00, 447.01it/s]\n",
      "100%|██████████| 7/7 [00:00<00:00, 447.92it/s]\n",
      "100%|██████████| 6/6 [00:00<00:00, 270.96it/s]\n",
      "100%|██████████| 27/27 [00:00<00:00, 318.90it/s]\n",
      "100%|██████████| 45/45 [00:00<00:00, 448.80it/s]\n",
      "100%|██████████| 70/70 [00:00<00:00, 232.70it/s]\n",
      "100%|██████████| 56/56 [00:00<00:00, 483.71it/s]\n"
     ]
    },
    {
     "name": "stdout",
     "output_type": "stream",
     "text": [
      "processing file  result_06-27-H15'm'15's30.json\n"
     ]
    },
    {
     "name": "stderr",
     "output_type": "stream",
     "text": [
      "100%|██████████| 50/50 [00:00<00:00, 459.18it/s]\n",
      "100%|██████████| 41/41 [00:00<00:00, 373.25it/s]\n",
      "100%|██████████| 9/9 [00:00<?, ?it/s]\n",
      "100%|██████████| 9/9 [00:00<00:00, 287.95it/s]\n",
      "100%|██████████| 31/31 [00:00<00:00, 449.18it/s]\n",
      "100%|██████████| 48/48 [00:00<00:00, 478.74it/s]\n",
      "100%|██████████| 79/79 [00:00<00:00, 213.63it/s]\n",
      "100%|██████████| 47/47 [00:00<00:00, 405.55it/s]\n"
     ]
    },
    {
     "name": "stdout",
     "output_type": "stream",
     "text": [
      "processing file  result_06-27-H15'm'31's58.json\n"
     ]
    },
    {
     "name": "stderr",
     "output_type": "stream",
     "text": [
      "100%|██████████| 52/52 [00:00<00:00, 422.43it/s]\n",
      "100%|██████████| 53/53 [00:00<00:00, 444.92it/s]\n",
      "100%|██████████| 8/8 [00:00<00:00, 799.52it/s]\n",
      "100%|██████████| 13/13 [00:00<00:00, 277.25it/s]\n",
      "100%|██████████| 31/31 [00:00<00:00, 344.46it/s]\n",
      "100%|██████████| 48/48 [00:00<00:00, 382.43it/s]\n",
      "100%|██████████| 84/84 [00:00<00:00, 266.49it/s]\n",
      "100%|██████████| 49/49 [00:00<00:00, 454.64it/s]\n"
     ]
    },
    {
     "name": "stdout",
     "output_type": "stream",
     "text": [
      "processing file  result_06-27-H15'm'48's30.json\n"
     ]
    },
    {
     "name": "stderr",
     "output_type": "stream",
     "text": [
      "100%|██████████| 52/52 [00:00<00:00, 437.68it/s]\n",
      "100%|██████████| 42/42 [00:00<00:00, 424.92it/s]\n",
      "100%|██████████| 7/7 [00:00<00:00, 3442.79it/s]\n",
      "100%|██████████| 11/11 [00:00<00:00, 428.84it/s]\n",
      "100%|██████████| 32/32 [00:00<00:00, 378.10it/s]\n",
      "100%|██████████| 44/44 [00:00<00:00, 438.84it/s]\n",
      "100%|██████████| 72/72 [00:00<00:00, 291.01it/s]\n",
      "100%|██████████| 52/52 [00:00<00:00, 448.66it/s]\n"
     ]
    },
    {
     "name": "stdout",
     "output_type": "stream",
     "text": [
      "processing file  result_06-27-H16'm'05's17.json\n"
     ]
    },
    {
     "name": "stderr",
     "output_type": "stream",
     "text": [
      "100%|██████████| 49/49 [00:00<00:00, 441.58it/s]\n",
      "100%|██████████| 47/47 [00:00<00:00, 416.39it/s]\n",
      "100%|██████████| 6/6 [00:00<00:00, 595.60it/s]\n",
      "100%|██████████| 8/8 [00:00<00:00, 237.38it/s]\n",
      "100%|██████████| 32/32 [00:00<00:00, 378.10it/s]\n",
      "100%|██████████| 41/41 [00:00<00:00, 484.44it/s]\n",
      "100%|██████████| 93/93 [00:00<00:00, 200.68it/s]\n",
      "100%|██████████| 50/50 [00:00<00:00, 431.45it/s]\n"
     ]
    },
    {
     "name": "stdout",
     "output_type": "stream",
     "text": [
      "processing file  result_06-27-H16'm'21's49.json\n"
     ]
    },
    {
     "name": "stderr",
     "output_type": "stream",
     "text": [
      "100%|██████████| 44/44 [00:00<00:00, 436.61it/s]\n",
      "100%|██████████| 47/47 [00:00<00:00, 431.17it/s]\n",
      "100%|██████████| 6/6 [00:00<?, ?it/s]\n",
      "100%|██████████| 11/11 [00:00<00:00, 234.60it/s]\n",
      "100%|██████████| 26/26 [00:00<00:00, 376.70it/s]\n",
      "100%|██████████| 54/54 [00:00<00:00, 467.70it/s]\n",
      "100%|██████████| 72/72 [00:00<00:00, 196.73it/s]\n",
      "100%|██████████| 52/52 [00:00<00:00, 395.32it/s]\n"
     ]
    },
    {
     "name": "stdout",
     "output_type": "stream",
     "text": [
      "processing file  result_06-27-H16'm'38's08.json\n"
     ]
    },
    {
     "name": "stderr",
     "output_type": "stream",
     "text": [
      "100%|██████████| 48/48 [00:00<00:00, 441.18it/s]\n",
      "100%|██████████| 41/41 [00:00<00:00, 370.52it/s]\n",
      "100%|██████████| 6/6 [00:00<00:00, 383.75it/s]\n",
      "100%|██████████| 9/9 [00:00<00:00, 288.01it/s]\n",
      "100%|██████████| 23/23 [00:00<00:00, 333.21it/s]\n",
      "100%|██████████| 40/40 [00:00<00:00, 472.66it/s]\n",
      "100%|██████████| 62/62 [00:00<00:00, 267.87it/s]\n",
      "100%|██████████| 40/40 [00:00<00:00, 398.92it/s]\n"
     ]
    },
    {
     "name": "stdout",
     "output_type": "stream",
     "text": [
      "processing file  result_06-27-H16'm'54's12.json\n"
     ]
    },
    {
     "name": "stderr",
     "output_type": "stream",
     "text": [
      "100%|██████████| 53/53 [00:00<00:00, 430.34it/s]\n",
      "100%|██████████| 52/52 [00:00<00:00, 412.99it/s]\n",
      "100%|██████████| 7/7 [00:00<00:00, 447.89it/s]\n",
      "100%|██████████| 9/9 [00:00<00:00, 288.07it/s]\n",
      "100%|██████████| 27/27 [00:00<00:00, 391.21it/s]\n",
      "100%|██████████| 53/53 [00:00<00:00, 458.86it/s]\n",
      "100%|██████████| 65/65 [00:00<00:00, 241.13it/s]\n",
      "100%|██████████| 54/54 [00:00<00:00, 465.98it/s]\n"
     ]
    },
    {
     "name": "stdout",
     "output_type": "stream",
     "text": [
      "processing file  result_06-27-H17'm'09's33.json\n"
     ]
    },
    {
     "name": "stderr",
     "output_type": "stream",
     "text": [
      "100%|██████████| 46/46 [00:00<00:00, 380.82it/s]\n",
      "100%|██████████| 42/42 [00:00<00:00, 378.50it/s]\n",
      "100%|██████████| 9/9 [00:00<00:00, 1122.17it/s]\n",
      "100%|██████████| 6/6 [00:00<00:00, 185.85it/s]\n",
      "100%|██████████| 27/27 [00:00<00:00, 382.86it/s]\n",
      "100%|██████████| 57/57 [00:00<00:00, 403.96it/s]\n",
      "100%|██████████| 76/76 [00:00<00:00, 236.83it/s]\n",
      "100%|██████████| 54/54 [00:00<00:00, 428.88it/s]\n"
     ]
    },
    {
     "name": "stdout",
     "output_type": "stream",
     "text": [
      "processing file  result_06-27-H17'm'25's23.json\n"
     ]
    },
    {
     "name": "stderr",
     "output_type": "stream",
     "text": [
      "100%|██████████| 57/57 [00:00<00:00, 427.60it/s]\n",
      "100%|██████████| 49/49 [00:00<00:00, 404.41it/s]\n",
      "100%|██████████| 6/6 [00:00<00:00, 746.56it/s]\n",
      "100%|██████████| 7/7 [00:00<00:00, 273.02it/s]\n",
      "100%|██████████| 32/32 [00:00<00:00, 379.75it/s]\n",
      "100%|██████████| 47/47 [00:00<00:00, 465.20it/s]\n",
      "100%|██████████| 66/66 [00:00<00:00, 232.26it/s]\n",
      "100%|██████████| 53/53 [00:00<00:00, 457.30it/s]\n"
     ]
    },
    {
     "name": "stdout",
     "output_type": "stream",
     "text": [
      "processing file  result_06-27-H17'm'41's00.json\n"
     ]
    },
    {
     "name": "stderr",
     "output_type": "stream",
     "text": [
      "100%|██████████| 49/49 [00:00<00:00, 412.35it/s]\n",
      "100%|██████████| 41/41 [00:00<00:00, 451.30it/s]\n",
      "100%|██████████| 7/7 [00:00<00:00, 385.48it/s]\n",
      "100%|██████████| 9/9 [00:00<00:00, 319.85it/s]\n",
      "100%|██████████| 27/27 [00:00<00:00, 474.61it/s]\n",
      "100%|██████████| 53/53 [00:00<00:00, 528.59it/s]\n",
      "100%|██████████| 68/68 [00:00<00:00, 285.56it/s]\n",
      "100%|██████████| 35/35 [00:00<00:00, 349.08it/s]\n"
     ]
    },
    {
     "name": "stdout",
     "output_type": "stream",
     "text": [
      "processing file  result_06-27-H17'm'57's28.json\n"
     ]
    },
    {
     "name": "stderr",
     "output_type": "stream",
     "text": [
      "100%|██████████| 53/53 [00:00<00:00, 397.37it/s]\n",
      "100%|██████████| 34/34 [00:00<00:00, 421.01it/s]\n",
      "100%|██████████| 8/8 [00:00<00:00, 799.37it/s]\n",
      "100%|██████████| 11/11 [00:00<00:00, 351.91it/s]\n",
      "100%|██████████| 31/31 [00:00<00:00, 366.26it/s]\n",
      "100%|██████████| 59/59 [00:00<00:00, 448.63it/s]\n",
      "100%|██████████| 76/76 [00:00<00:00, 197.14it/s]\n",
      "100%|██████████| 50/50 [00:00<00:00, 431.44it/s]\n"
     ]
    },
    {
     "name": "stdout",
     "output_type": "stream",
     "text": [
      "processing file  result_06-27-H18'm'13's26.json\n"
     ]
    },
    {
     "name": "stderr",
     "output_type": "stream",
     "text": [
      "100%|██████████| 57/57 [00:00<00:00, 433.35it/s]\n",
      "100%|██████████| 46/46 [00:00<00:00, 417.11it/s]\n",
      "100%|██████████| 9/9 [00:00<00:00, 575.28it/s]\n",
      "100%|██████████| 6/6 [00:00<00:00, 192.04it/s]\n",
      "100%|██████████| 26/26 [00:00<00:00, 306.66it/s]\n",
      "100%|██████████| 53/53 [00:00<00:00, 531.24it/s]\n",
      "100%|██████████| 61/61 [00:00<00:00, 246.84it/s]\n",
      "100%|██████████| 49/49 [00:00<00:00, 458.89it/s]\n"
     ]
    },
    {
     "name": "stdout",
     "output_type": "stream",
     "text": [
      "processing file  result_06-27-H18'm'29's21.json\n"
     ]
    },
    {
     "name": "stderr",
     "output_type": "stream",
     "text": [
      "100%|██████████| 38/38 [00:00<00:00, 419.05it/s]\n",
      "100%|██████████| 43/43 [00:00<00:00, 387.49it/s]\n",
      "100%|██████████| 8/8 [00:00<00:00, 442.02it/s]\n",
      "100%|██████████| 9/9 [00:00<00:00, 234.70it/s]\n",
      "100%|██████████| 23/23 [00:00<00:00, 392.46it/s]\n",
      "100%|██████████| 48/48 [00:00<00:00, 431.74it/s]\n",
      "100%|██████████| 68/68 [00:00<00:00, 292.48it/s]\n",
      "100%|██████████| 50/50 [00:00<00:00, 413.59it/s]\n"
     ]
    },
    {
     "name": "stdout",
     "output_type": "stream",
     "text": [
      "processing file  result_06-27-H18'm'44's43.json\n"
     ]
    },
    {
     "name": "stderr",
     "output_type": "stream",
     "text": [
      "100%|██████████| 51/51 [00:00<00:00, 458.95it/s]\n",
      "100%|██████████| 48/48 [00:00<00:00, 382.02it/s]\n",
      "100%|██████████| 5/5 [00:00<?, ?it/s]\n",
      "100%|██████████| 6/6 [00:00<00:00, 191.99it/s]\n",
      "100%|██████████| 27/27 [00:00<00:00, 391.24it/s]\n",
      "100%|██████████| 62/62 [00:00<00:00, 471.43it/s]\n",
      "100%|██████████| 36/36 [00:00<00:00, 310.63it/s]\n",
      "100%|██████████| 50/50 [00:00<00:00, 480.69it/s]\n"
     ]
    },
    {
     "name": "stdout",
     "output_type": "stream",
     "text": [
      "processing file  result_06-27-H19'm'00's17.json\n"
     ]
    },
    {
     "name": "stderr",
     "output_type": "stream",
     "text": [
      "100%|██████████| 51/51 [00:00<00:00, 495.32it/s]\n",
      "100%|██████████| 38/38 [00:00<00:00, 375.83it/s]\n",
      "100%|██████████| 6/6 [00:00<00:00, 597.07it/s]\n",
      "100%|██████████| 10/10 [00:00<00:00, 329.78it/s]\n",
      "100%|██████████| 27/27 [00:00<00:00, 344.03it/s]\n",
      "100%|██████████| 49/49 [00:00<00:00, 485.02it/s]\n",
      "100%|██████████| 77/77 [00:00<00:00, 238.19it/s]\n",
      "100%|██████████| 41/41 [00:00<00:00, 496.36it/s]\n"
     ]
    },
    {
     "name": "stdout",
     "output_type": "stream",
     "text": [
      "processing file  result_06-27-H19'm'15's37.json\n"
     ]
    },
    {
     "name": "stderr",
     "output_type": "stream",
     "text": [
      "100%|██████████| 45/45 [00:00<00:00, 446.00it/s]\n",
      "100%|██████████| 40/40 [00:00<00:00, 385.48it/s]\n",
      "100%|██████████| 7/7 [00:00<00:00, 1075.78it/s]\n",
      "100%|██████████| 9/9 [00:00<00:00, 287.95it/s]\n",
      "100%|██████████| 29/29 [00:00<00:00, 342.62it/s]\n",
      "100%|██████████| 47/47 [00:00<00:00, 372.88it/s]\n",
      "100%|██████████| 73/73 [00:00<00:00, 288.65it/s]\n",
      "100%|██████████| 49/49 [00:00<00:00, 488.69it/s]\n"
     ]
    },
    {
     "name": "stdout",
     "output_type": "stream",
     "text": [
      "processing file  result_06-27-H19'm'31's19.json\n"
     ]
    },
    {
     "name": "stderr",
     "output_type": "stream",
     "text": [
      "100%|██████████| 56/56 [00:00<00:00, 505.11it/s]\n",
      "100%|██████████| 41/41 [00:00<00:00, 408.92it/s]\n",
      "100%|██████████| 10/10 [00:00<00:00, 639.73it/s]\n",
      "100%|██████████| 11/11 [00:00<00:00, 234.66it/s]\n",
      "100%|██████████| 29/29 [00:00<00:00, 420.20it/s]\n",
      "100%|██████████| 37/37 [00:00<00:00, 437.14it/s]\n",
      "100%|██████████| 69/69 [00:00<00:00, 278.98it/s]\n",
      "100%|██████████| 47/47 [00:00<00:00, 357.39it/s]\n"
     ]
    },
    {
     "name": "stdout",
     "output_type": "stream",
     "text": [
      "processing file  result_06-27-H19'm'46's58.json\n"
     ]
    },
    {
     "name": "stderr",
     "output_type": "stream",
     "text": [
      "100%|██████████| 51/51 [00:00<00:00, 413.86it/s]\n",
      "100%|██████████| 44/44 [00:00<00:00, 396.58it/s]\n",
      "100%|██████████| 7/7 [00:00<00:00, 693.40it/s]\n",
      "100%|██████████| 10/10 [00:00<00:00, 329.59it/s]\n",
      "100%|██████████| 30/30 [00:00<00:00, 381.13it/s]\n",
      "100%|██████████| 59/59 [00:00<00:00, 468.61it/s]\n",
      "100%|██████████| 75/75 [00:00<00:00, 249.34it/s]\n",
      "100%|██████████| 47/47 [00:00<00:00, 405.55it/s]\n"
     ]
    },
    {
     "name": "stdout",
     "output_type": "stream",
     "text": [
      "processing file  result_06-27-H20'm'03's09.json\n"
     ]
    },
    {
     "name": "stderr",
     "output_type": "stream",
     "text": [
      "100%|██████████| 48/48 [00:00<00:00, 442.01it/s]\n",
      "100%|██████████| 46/46 [00:00<00:00, 396.91it/s]\n",
      "100%|██████████| 13/13 [00:00<00:00, 416.02it/s]\n",
      "100%|██████████| 7/7 [00:00<00:00, 224.01it/s]\n",
      "100%|██████████| 28/28 [00:00<00:00, 405.69it/s]\n",
      "100%|██████████| 49/49 [00:00<00:00, 489.98it/s]\n",
      "100%|██████████| 64/64 [00:00<00:00, 268.48it/s]\n",
      "100%|██████████| 64/64 [00:00<00:00, 436.02it/s]\n"
     ]
    },
    {
     "name": "stdout",
     "output_type": "stream",
     "text": [
      "processing file  result_06-27-H20'm'18's14.json\n"
     ]
    },
    {
     "name": "stderr",
     "output_type": "stream",
     "text": [
      "100%|██████████| 44/44 [00:00<00:00, 436.44it/s]\n",
      "100%|██████████| 47/47 [00:00<00:00, 416.08it/s]\n",
      "100%|██████████| 8/8 [00:00<00:00, 661.47it/s]\n",
      "100%|██████████| 10/10 [00:00<00:00, 248.30it/s]\n",
      "100%|██████████| 28/28 [00:00<00:00, 347.50it/s]\n",
      "100%|██████████| 52/52 [00:00<00:00, 495.95it/s]\n",
      "100%|██████████| 90/90 [00:00<00:00, 204.10it/s]\n",
      "100%|██████████| 41/41 [00:00<00:00, 428.79it/s]\n"
     ]
    },
    {
     "name": "stdout",
     "output_type": "stream",
     "text": [
      "processing file  result_06-27-H20'm'35's31.json\n"
     ]
    },
    {
     "name": "stderr",
     "output_type": "stream",
     "text": [
      "100%|██████████| 53/53 [00:00<00:00, 486.49it/s]\n",
      "100%|██████████| 43/43 [00:00<00:00, 389.93it/s]\n",
      "100%|██████████| 7/7 [00:00<00:00, 447.77it/s]\n",
      "100%|██████████| 7/7 [00:00<00:00, 224.01it/s]\n",
      "100%|██████████| 26/26 [00:00<00:00, 376.65it/s]\n",
      "100%|██████████| 47/47 [00:00<00:00, 405.42it/s]\n",
      "100%|██████████| 71/71 [00:00<00:00, 249.05it/s]\n",
      "100%|██████████| 59/59 [00:00<00:00, 400.98it/s]\n"
     ]
    },
    {
     "name": "stdout",
     "output_type": "stream",
     "text": [
      "processing file  result_06-27-H20'm'51's57.json\n"
     ]
    },
    {
     "name": "stderr",
     "output_type": "stream",
     "text": [
      "100%|██████████| 55/55 [00:00<00:00, 454.45it/s]\n",
      "100%|██████████| 45/45 [00:00<00:00, 413.25it/s]\n",
      "100%|██████████| 8/8 [00:00<00:00, 662.75it/s]\n",
      "100%|██████████| 8/8 [00:00<00:00, 359.68it/s]\n",
      "100%|██████████| 32/32 [00:00<00:00, 352.50it/s]\n",
      "100%|██████████| 49/49 [00:00<00:00, 441.46it/s]\n",
      "100%|██████████| 74/74 [00:00<00:00, 192.74it/s]\n",
      "100%|██████████| 55/55 [00:00<00:00, 449.32it/s]\n"
     ]
    },
    {
     "name": "stdout",
     "output_type": "stream",
     "text": [
      "processing file  result_06-27-H21'm'07's20.json\n"
     ]
    },
    {
     "name": "stderr",
     "output_type": "stream",
     "text": [
      "100%|██████████| 52/52 [00:00<00:00, 429.26it/s]\n",
      "100%|██████████| 38/38 [00:00<00:00, 376.12it/s]\n",
      "100%|██████████| 8/8 [00:00<00:00, 660.39it/s]\n",
      "100%|██████████| 9/9 [00:00<00:00, 297.76it/s]\n",
      "100%|██████████| 29/29 [00:00<00:00, 301.50it/s]\n",
      "100%|██████████| 61/61 [00:00<00:00, 441.88it/s]\n",
      "100%|██████████| 80/80 [00:00<00:00, 199.68it/s]\n",
      "100%|██████████| 53/53 [00:00<00:00, 457.33it/s]\n"
     ]
    },
    {
     "name": "stdout",
     "output_type": "stream",
     "text": [
      "processing file  result_06-27-H21'm'23's24.json\n"
     ]
    },
    {
     "name": "stderr",
     "output_type": "stream",
     "text": [
      "100%|██████████| 52/52 [00:00<00:00, 395.97it/s]\n",
      "100%|██████████| 41/41 [00:00<00:00, 426.29it/s]\n",
      "100%|██████████| 13/13 [00:00<00:00, 587.04it/s]\n",
      "100%|██████████| 9/9 [00:00<00:00, 287.87it/s]\n",
      "100%|██████████| 29/29 [00:00<00:00, 342.64it/s]\n",
      "100%|██████████| 55/55 [00:00<00:00, 474.58it/s]\n",
      "100%|██████████| 80/80 [00:00<00:00, 297.16it/s]\n",
      "100%|██████████| 54/54 [00:00<00:00, 465.88it/s]\n"
     ]
    },
    {
     "name": "stdout",
     "output_type": "stream",
     "text": [
      "processing file  result_06-27-H21'm'39's38.json\n"
     ]
    },
    {
     "name": "stderr",
     "output_type": "stream",
     "text": [
      "100%|██████████| 59/59 [00:00<00:00, 435.87it/s]\n",
      "100%|██████████| 45/45 [00:00<00:00, 391.69it/s]\n",
      "100%|██████████| 13/13 [00:00<00:00, 416.02it/s]\n",
      "100%|██████████| 14/14 [00:00<00:00, 370.60it/s]\n",
      "100%|██████████| 28/28 [00:00<00:00, 279.25it/s]\n",
      "100%|██████████| 49/49 [00:00<00:00, 422.77it/s]\n",
      "100%|██████████| 61/61 [00:00<00:00, 263.63it/s]\n",
      "100%|██████████| 47/47 [00:00<00:00, 405.53it/s]\n"
     ]
    },
    {
     "name": "stdout",
     "output_type": "stream",
     "text": [
      "processing file  result_06-27-H21'm'55's11.json\n"
     ]
    },
    {
     "name": "stderr",
     "output_type": "stream",
     "text": [
      "100%|██████████| 52/52 [00:00<00:00, 437.25it/s]\n",
      "100%|██████████| 48/48 [00:00<00:00, 440.12it/s]\n",
      "100%|██████████| 10/10 [00:00<00:00, 390.05it/s]\n",
      "100%|██████████| 7/7 [00:00<00:00, 223.99it/s]\n",
      "100%|██████████| 28/28 [00:00<00:00, 405.71it/s]\n",
      "100%|██████████| 59/59 [00:00<00:00, 437.54it/s]\n",
      "100%|██████████| 69/69 [00:00<00:00, 302.26it/s]\n",
      "100%|██████████| 55/55 [00:00<00:00, 474.58it/s]\n"
     ]
    },
    {
     "name": "stdout",
     "output_type": "stream",
     "text": [
      "processing file  result_06-27-H22'm'10's58.json\n"
     ]
    },
    {
     "name": "stderr",
     "output_type": "stream",
     "text": [
      "100%|██████████| 55/55 [00:00<00:00, 441.81it/s]\n",
      "100%|██████████| 40/40 [00:00<00:00, 345.16it/s]\n",
      "100%|██████████| 7/7 [00:00<?, ?it/s]\n",
      "100%|██████████| 11/11 [00:00<00:00, 352.03it/s]\n",
      "100%|██████████| 30/30 [00:00<00:00, 354.42it/s]\n",
      "100%|██████████| 40/40 [00:00<00:00, 398.96it/s]\n",
      "100%|██████████| 53/53 [00:00<00:00, 341.72it/s]\n",
      "100%|██████████| 57/57 [00:00<00:00, 511.69it/s]\n"
     ]
    },
    {
     "name": "stdout",
     "output_type": "stream",
     "text": [
      "processing file  result_06-27-H22'm'26's57.json\n"
     ]
    },
    {
     "name": "stderr",
     "output_type": "stream",
     "text": [
      "100%|██████████| 48/48 [00:00<00:00, 421.48it/s]\n",
      "100%|██████████| 40/40 [00:00<00:00, 383.60it/s]\n",
      "100%|██████████| 13/13 [00:00<00:00, 831.38it/s]\n",
      "100%|██████████| 9/9 [00:00<00:00, 245.81it/s]\n",
      "100%|██████████| 30/30 [00:00<00:00, 379.13it/s]\n",
      "100%|██████████| 48/48 [00:00<00:00, 414.14it/s]\n",
      "100%|██████████| 50/50 [00:00<00:00, 197.13it/s]\n",
      "100%|██████████| 42/42 [00:00<00:00, 418.86it/s]\n"
     ]
    },
    {
     "name": "stdout",
     "output_type": "stream",
     "text": [
      "processing file  result_06-27-H22'm'42's58.json\n"
     ]
    },
    {
     "name": "stderr",
     "output_type": "stream",
     "text": [
      "100%|██████████| 46/46 [00:00<00:00, 495.66it/s]\n",
      "100%|██████████| 42/42 [00:00<00:00, 415.78it/s]\n",
      "100%|██████████| 10/10 [00:00<00:00, 1239.78it/s]\n",
      "100%|██████████| 14/14 [00:00<00:00, 338.23it/s]\n",
      "100%|██████████| 28/28 [00:00<00:00, 320.67it/s]\n",
      "100%|██████████| 43/43 [00:00<00:00, 543.65it/s]\n",
      "100%|██████████| 67/67 [00:00<00:00, 270.82it/s]\n",
      "100%|██████████| 47/47 [00:00<00:00, 383.96it/s]\n"
     ]
    },
    {
     "name": "stdout",
     "output_type": "stream",
     "text": [
      "processing file  result_06-27-H22'm'58's44.json\n"
     ]
    },
    {
     "name": "stderr",
     "output_type": "stream",
     "text": [
      "100%|██████████| 48/48 [00:00<00:00, 432.14it/s]\n",
      "100%|██████████| 48/48 [00:00<00:00, 379.47it/s]\n",
      "100%|██████████| 6/6 [00:00<00:00, 21112.27it/s]\n",
      "100%|██████████| 8/8 [00:00<00:00, 255.97it/s]\n",
      "100%|██████████| 30/30 [00:00<00:00, 320.00it/s]\n",
      "100%|██████████| 48/48 [00:00<00:00, 364.98it/s]\n",
      "100%|██████████| 70/70 [00:00<00:00, 216.93it/s]\n",
      "100%|██████████| 45/45 [00:00<00:00, 388.27it/s]\n"
     ]
    },
    {
     "name": "stdout",
     "output_type": "stream",
     "text": [
      "processing file  result_06-27-H23'm'14's34.json\n"
     ]
    },
    {
     "name": "stderr",
     "output_type": "stream",
     "text": [
      "100%|██████████| 52/52 [00:00<00:00, 396.38it/s]\n",
      "100%|██████████| 44/44 [00:00<00:00, 370.28it/s]\n",
      "100%|██████████| 7/7 [00:00<00:00, 872.64it/s]\n",
      "100%|██████████| 14/14 [00:00<00:00, 339.31it/s]\n",
      "100%|██████████| 26/26 [00:00<00:00, 376.77it/s]\n",
      "100%|██████████| 45/45 [00:00<00:00, 388.27it/s]\n",
      "100%|██████████| 65/65 [00:00<00:00, 233.26it/s]\n",
      "100%|██████████| 48/48 [00:00<00:00, 479.52it/s]\n"
     ]
    },
    {
     "name": "stdout",
     "output_type": "stream",
     "text": [
      "processing file  result_06-27-H23'm'30's00.json\n"
     ]
    },
    {
     "name": "stderr",
     "output_type": "stream",
     "text": [
      "100%|██████████| 46/46 [00:00<00:00, 380.11it/s]\n",
      "100%|██████████| 44/44 [00:00<00:00, 403.15it/s]\n",
      "100%|██████████| 11/11 [00:00<00:00, 1099.37it/s]\n",
      "100%|██████████| 9/9 [00:00<00:00, 288.02it/s]\n",
      "100%|██████████| 32/32 [00:00<00:00, 378.06it/s]\n",
      "100%|██████████| 40/40 [00:00<00:00, 389.72it/s]\n",
      "100%|██████████| 82/82 [00:00<00:00, 207.73it/s]\n",
      "100%|██████████| 46/46 [00:00<00:00, 455.91it/s]\n"
     ]
    },
    {
     "name": "stdout",
     "output_type": "stream",
     "text": [
      "processing file  result_06-27-H23'm'45's51.json\n"
     ]
    },
    {
     "name": "stderr",
     "output_type": "stream",
     "text": [
      "100%|██████████| 55/55 [00:00<00:00, 389.74it/s]\n",
      "100%|██████████| 38/38 [00:00<00:00, 376.56it/s]\n",
      "100%|██████████| 10/10 [00:00<00:00, 1243.68it/s]\n",
      "100%|██████████| 12/12 [00:00<00:00, 238.31it/s]\n",
      "100%|██████████| 32/32 [00:00<00:00, 363.06it/s]\n",
      "100%|██████████| 51/51 [00:00<00:00, 416.68it/s]\n",
      "100%|██████████| 84/84 [00:00<00:00, 231.30it/s]\n",
      "100%|██████████| 52/52 [00:00<00:00, 395.40it/s]\n"
     ]
    },
    {
     "name": "stdout",
     "output_type": "stream",
     "text": [
      "processing file  result_06-28-H00'm'02's30.json\n"
     ]
    },
    {
     "name": "stderr",
     "output_type": "stream",
     "text": [
      "100%|██████████| 45/45 [00:00<00:00, 446.70it/s]\n",
      "100%|██████████| 48/48 [00:00<00:00, 444.89it/s]\n",
      "100%|██████████| 17/17 [00:00<00:00, 662.97it/s]\n",
      "100%|██████████| 9/9 [00:00<00:00, 192.01it/s]\n",
      "100%|██████████| 26/26 [00:00<00:00, 307.17it/s]\n",
      "100%|██████████| 40/40 [00:00<00:00, 472.59it/s]\n",
      "100%|██████████| 71/71 [00:00<00:00, 236.12it/s]\n",
      "100%|██████████| 45/45 [00:00<00:00, 342.18it/s]\n"
     ]
    },
    {
     "name": "stdout",
     "output_type": "stream",
     "text": [
      "processing file  result_06-28-H00'm'18's23.json\n"
     ]
    },
    {
     "name": "stderr",
     "output_type": "stream",
     "text": [
      "100%|██████████| 44/44 [00:00<00:00, 350.77it/s]\n",
      "100%|██████████| 46/46 [00:00<00:00, 396.90it/s]\n",
      "100%|██████████| 7/7 [00:00<00:00, 448.05it/s]\n",
      "100%|██████████| 12/12 [00:00<00:00, 309.83it/s]\n",
      "100%|██████████| 26/26 [00:00<00:00, 323.16it/s]\n",
      "100%|██████████| 49/49 [00:00<00:00, 443.12it/s]\n",
      "100%|██████████| 84/84 [00:00<00:00, 192.63it/s]\n",
      "100%|██████████| 58/58 [00:00<00:00, 425.87it/s]\n"
     ]
    },
    {
     "name": "stdout",
     "output_type": "stream",
     "text": [
      "processing file  result_06-28-H00'm'36's04.json\n"
     ]
    },
    {
     "name": "stderr",
     "output_type": "stream",
     "text": [
      "100%|██████████| 57/57 [00:00<00:00, 470.79it/s]\n",
      "100%|██████████| 45/45 [00:00<00:00, 402.47it/s]\n",
      "100%|██████████| 8/8 [00:00<00:00, 1229.28it/s]\n",
      "100%|██████████| 9/9 [00:00<00:00, 287.91it/s]\n",
      "100%|██████████| 29/29 [00:00<00:00, 342.64it/s]\n",
      "100%|██████████| 56/56 [00:00<00:00, 452.01it/s]\n",
      "100%|██████████| 51/51 [00:00<00:00, 473.21it/s]\n",
      "100%|██████████| 46/46 [00:00<00:00, 458.77it/s]\n"
     ]
    },
    {
     "name": "stdout",
     "output_type": "stream",
     "text": [
      "processing file  result_06-28-H00'm'52's43.json\n"
     ]
    },
    {
     "name": "stderr",
     "output_type": "stream",
     "text": [
      "100%|██████████| 45/45 [00:00<00:00, 413.07it/s]\n",
      "100%|██████████| 42/42 [00:00<00:00, 453.05it/s]\n",
      "100%|██████████| 6/6 [00:00<00:00, 593.98it/s]\n",
      "100%|██████████| 8/8 [00:00<00:00, 361.13it/s]\n",
      "100%|██████████| 30/30 [00:00<00:00, 372.45it/s]\n",
      "100%|██████████| 55/55 [00:00<00:00, 358.44it/s]\n",
      "100%|██████████| 58/58 [00:00<00:00, 289.78it/s]\n",
      "100%|██████████| 46/46 [00:00<00:00, 349.77it/s]\n"
     ]
    },
    {
     "name": "stdout",
     "output_type": "stream",
     "text": [
      "processing file  result_06-28-H01'm'08's20.json\n"
     ]
    },
    {
     "name": "stderr",
     "output_type": "stream",
     "text": [
      "100%|██████████| 40/40 [00:00<00:00, 396.87it/s]\n",
      "100%|██████████| 42/42 [00:00<00:00, 425.31it/s]\n",
      "100%|██████████| 9/9 [00:00<00:00, 1119.48it/s]\n",
      "100%|██████████| 7/7 [00:00<00:00, 314.93it/s]\n",
      "100%|██████████| 28/28 [00:00<00:00, 384.81it/s]\n",
      "100%|██████████| 52/52 [00:00<00:00, 526.25it/s]\n",
      "100%|██████████| 65/65 [00:00<00:00, 266.31it/s]\n",
      "100%|██████████| 52/52 [00:00<00:00, 397.08it/s]\n"
     ]
    },
    {
     "name": "stdout",
     "output_type": "stream",
     "text": [
      "processing file  result_06-28-H01'm'24's33.json\n"
     ]
    },
    {
     "name": "stderr",
     "output_type": "stream",
     "text": [
      "100%|██████████| 49/49 [00:00<00:00, 404.48it/s]\n",
      "100%|██████████| 43/43 [00:00<00:00, 360.52it/s]\n",
      "100%|██████████| 7/7 [00:00<00:00, 699.62it/s]\n",
      "100%|██████████| 10/10 [00:00<00:00, 319.89it/s]\n",
      "100%|██████████| 29/29 [00:00<00:00, 342.61it/s]\n",
      "100%|██████████| 47/47 [00:00<00:00, 468.76it/s]\n",
      "100%|██████████| 48/48 [00:00<00:00, 260.14it/s]\n",
      "100%|██████████| 46/46 [00:00<00:00, 458.78it/s]\n"
     ]
    },
    {
     "name": "stdout",
     "output_type": "stream",
     "text": [
      "processing file  result_06-28-H01'm'40's52.json\n"
     ]
    },
    {
     "name": "stderr",
     "output_type": "stream",
     "text": [
      "100%|██████████| 46/46 [00:00<00:00, 466.22it/s]\n",
      "100%|██████████| 48/48 [00:00<00:00, 438.77it/s]\n",
      "100%|██████████| 8/8 [00:00<00:00, 799.60it/s]\n",
      "100%|██████████| 10/10 [00:00<00:00, 317.81it/s]\n",
      "100%|██████████| 24/24 [00:00<00:00, 453.83it/s]\n",
      "100%|██████████| 48/48 [00:00<00:00, 478.77it/s]\n",
      "100%|██████████| 58/58 [00:00<00:00, 220.70it/s]\n",
      "100%|██████████| 49/49 [00:00<00:00, 400.93it/s]\n"
     ]
    },
    {
     "name": "stdout",
     "output_type": "stream",
     "text": [
      "processing file  result_06-28-H01'm'56's45.json\n"
     ]
    },
    {
     "name": "stderr",
     "output_type": "stream",
     "text": [
      "100%|██████████| 57/57 [00:00<00:00, 403.28it/s]\n",
      "100%|██████████| 43/43 [00:00<00:00, 360.69it/s]\n",
      "100%|██████████| 9/9 [00:00<00:00, 1117.95it/s]\n",
      "100%|██████████| 8/8 [00:00<00:00, 189.02it/s]\n",
      "100%|██████████| 28/28 [00:00<00:00, 346.69it/s]\n",
      "100%|██████████| 51/51 [00:00<00:00, 429.30it/s]\n",
      "100%|██████████| 68/68 [00:00<00:00, 218.76it/s]\n",
      "100%|██████████| 48/48 [00:00<00:00, 432.70it/s]\n"
     ]
    },
    {
     "name": "stdout",
     "output_type": "stream",
     "text": [
      "processing file  result_06-28-H02'm'12's24.json\n"
     ]
    },
    {
     "name": "stderr",
     "output_type": "stream",
     "text": [
      "100%|██████████| 59/59 [00:00<00:00, 389.43it/s]\n",
      "100%|██████████| 47/47 [00:00<00:00, 410.68it/s]\n",
      "100%|██████████| 11/11 [00:00<00:00, 704.14it/s]\n",
      "100%|██████████| 7/7 [00:00<00:00, 149.34it/s]\n",
      "100%|██████████| 30/30 [00:00<00:00, 356.12it/s]\n",
      "100%|██████████| 62/62 [00:00<00:00, 449.21it/s]\n",
      "100%|██████████| 74/74 [00:00<00:00, 212.97it/s]\n",
      "100%|██████████| 47/47 [00:00<00:00, 405.53it/s]\n"
     ]
    },
    {
     "name": "stdout",
     "output_type": "stream",
     "text": [
      "processing file  result_06-28-H02'm'27's51.json\n"
     ]
    },
    {
     "name": "stderr",
     "output_type": "stream",
     "text": [
      "100%|██████████| 48/48 [00:00<00:00, 397.32it/s]\n",
      "100%|██████████| 41/41 [00:00<00:00, 426.37it/s]\n",
      "100%|██████████| 10/10 [00:00<00:00, 451.88it/s]\n",
      "100%|██████████| 8/8 [00:00<00:00, 255.95it/s]\n",
      "100%|██████████| 24/24 [00:00<00:00, 347.79it/s]\n",
      "100%|██████████| 60/60 [00:00<00:00, 517.68it/s]\n",
      "100%|██████████| 79/79 [00:00<00:00, 238.04it/s]\n",
      "100%|██████████| 54/54 [00:00<00:00, 465.96it/s]\n"
     ]
    },
    {
     "name": "stdout",
     "output_type": "stream",
     "text": [
      "processing file  result_06-28-H02'm'43's26.json\n"
     ]
    },
    {
     "name": "stderr",
     "output_type": "stream",
     "text": [
      "100%|██████████| 47/47 [00:00<00:00, 465.11it/s]\n",
      "100%|██████████| 49/49 [00:00<00:00, 398.39it/s]\n",
      "100%|██████████| 8/8 [00:00<00:00, 992.59it/s]\n",
      "100%|██████████| 10/10 [00:00<00:00, 389.97it/s]\n",
      "100%|██████████| 32/32 [00:00<00:00, 378.12it/s]\n",
      "100%|██████████| 50/50 [00:00<00:00, 431.44it/s]\n",
      "100%|██████████| 77/77 [00:00<00:00, 243.41it/s]\n",
      "100%|██████████| 53/53 [00:00<00:00, 402.99it/s]\n"
     ]
    },
    {
     "name": "stdout",
     "output_type": "stream",
     "text": [
      "processing file  result_06-28-H02'm'59's39.json\n"
     ]
    },
    {
     "name": "stderr",
     "output_type": "stream",
     "text": [
      "100%|██████████| 52/52 [00:00<00:00, 368.58it/s]\n",
      "100%|██████████| 43/43 [00:00<00:00, 426.23it/s]\n",
      "100%|██████████| 7/7 [00:00<00:00, 695.06it/s]\n",
      "100%|██████████| 12/12 [00:00<00:00, 283.56it/s]\n",
      "100%|██████████| 26/26 [00:00<00:00, 330.91it/s]\n",
      "100%|██████████| 55/55 [00:00<00:00, 390.00it/s]\n",
      "100%|██████████| 54/54 [00:00<00:00, 249.23it/s]\n",
      "100%|██████████| 51/51 [00:00<00:00, 387.81it/s]\n"
     ]
    },
    {
     "name": "stdout",
     "output_type": "stream",
     "text": [
      "processing file  result_06-28-H03'm'15's50.json\n"
     ]
    },
    {
     "name": "stderr",
     "output_type": "stream",
     "text": [
      "100%|██████████| 52/52 [00:00<00:00, 402.31it/s]\n",
      "100%|██████████| 38/38 [00:00<00:00, 342.28it/s]\n",
      "100%|██████████| 6/6 [00:00<00:00, 599.76it/s]\n",
      "100%|██████████| 7/7 [00:00<00:00, 223.92it/s]\n",
      "100%|██████████| 25/25 [00:00<00:00, 295.39it/s]\n",
      "100%|██████████| 46/46 [00:00<00:00, 458.76it/s]\n",
      "100%|██████████| 74/74 [00:00<00:00, 177.69it/s]\n",
      "100%|██████████| 45/45 [00:00<00:00, 448.80it/s]\n"
     ]
    },
    {
     "name": "stdout",
     "output_type": "stream",
     "text": [
      "processing file  result_06-28-H03'm'31's22.json\n"
     ]
    },
    {
     "name": "stderr",
     "output_type": "stream",
     "text": [
      "100%|██████████| 51/51 [00:00<00:00, 388.60it/s]\n",
      "100%|██████████| 43/43 [00:00<00:00, 384.62it/s]\n",
      "100%|██████████| 7/7 [00:00<00:00, 1074.99it/s]\n",
      "100%|██████████| 11/11 [00:00<00:00, 351.91it/s]\n",
      "100%|██████████| 33/33 [00:00<00:00, 389.87it/s]\n",
      "100%|██████████| 47/47 [00:00<00:00, 468.76it/s]\n",
      "100%|██████████| 84/84 [00:00<00:00, 227.13it/s]\n",
      "100%|██████████| 54/54 [00:00<00:00, 410.70it/s]\n"
     ]
    },
    {
     "name": "stdout",
     "output_type": "stream",
     "text": [
      "processing file  result_06-28-H03'm'47's25.json\n"
     ]
    },
    {
     "name": "stderr",
     "output_type": "stream",
     "text": [
      "100%|██████████| 46/46 [00:00<00:00, 422.57it/s]\n",
      "100%|██████████| 38/38 [00:00<00:00, 418.15it/s]\n",
      "100%|██████████| 12/12 [00:00<00:00, 1199.17it/s]\n",
      "100%|██████████| 7/7 [00:00<00:00, 223.93it/s]\n",
      "100%|██████████| 26/26 [00:00<00:00, 376.79it/s]\n",
      "100%|██████████| 57/57 [00:00<00:00, 491.81it/s]\n",
      "100%|██████████| 68/68 [00:00<00:00, 258.51it/s]\n",
      "100%|██████████| 49/49 [00:00<00:00, 399.67it/s]\n"
     ]
    },
    {
     "name": "stdout",
     "output_type": "stream",
     "text": [
      "processing file  result_06-28-H04'm'03's24.json\n"
     ]
    },
    {
     "name": "stderr",
     "output_type": "stream",
     "text": [
      "100%|██████████| 46/46 [00:00<00:00, 380.05it/s]\n",
      "100%|██████████| 40/40 [00:00<00:00, 402.50it/s]\n",
      "100%|██████████| 5/5 [00:00<00:00, 525.97it/s]\n",
      "100%|██████████| 8/8 [00:00<00:00, 255.91it/s]\n",
      "100%|██████████| 27/27 [00:00<00:00, 369.78it/s]\n",
      "100%|██████████| 50/50 [00:00<00:00, 380.19it/s]\n",
      "100%|██████████| 61/61 [00:00<00:00, 276.40it/s]\n",
      "100%|██████████| 48/48 [00:00<00:00, 431.02it/s]\n"
     ]
    },
    {
     "name": "stdout",
     "output_type": "stream",
     "text": [
      "processing file  result_06-28-H04'm'18's52.json\n"
     ]
    },
    {
     "name": "stderr",
     "output_type": "stream",
     "text": [
      "100%|██████████| 49/49 [00:00<00:00, 404.24it/s]\n",
      "100%|██████████| 49/49 [00:00<00:00, 412.77it/s]\n",
      "100%|██████████| 8/8 [00:00<00:00, 988.99it/s]\n",
      "100%|██████████| 9/9 [00:00<00:00, 218.11it/s]\n",
      "100%|██████████| 26/26 [00:00<00:00, 378.48it/s]\n",
      "100%|██████████| 52/52 [00:00<00:00, 390.87it/s]\n",
      "100%|██████████| 76/76 [00:00<00:00, 284.08it/s]\n",
      "100%|██████████| 59/59 [00:00<00:00, 470.79it/s]\n"
     ]
    },
    {
     "name": "stdout",
     "output_type": "stream",
     "text": [
      "processing file  result_06-28-H04'm'34's34.json\n"
     ]
    },
    {
     "name": "stderr",
     "output_type": "stream",
     "text": [
      "100%|██████████| 51/51 [00:00<00:00, 421.84it/s]\n",
      "100%|██████████| 43/43 [00:00<00:00, 339.87it/s]\n",
      "100%|██████████| 10/10 [00:00<00:00, 1051.65it/s]\n",
      "100%|██████████| 7/7 [00:00<00:00, 222.16it/s]\n",
      "100%|██████████| 28/28 [00:00<00:00, 408.71it/s]\n",
      "100%|██████████| 49/49 [00:00<00:00, 422.78it/s]\n",
      "100%|██████████| 81/81 [00:00<00:00, 194.53it/s]\n",
      "100%|██████████| 42/42 [00:00<00:00, 496.16it/s]\n"
     ]
    },
    {
     "name": "stdout",
     "output_type": "stream",
     "text": [
      "processing file  result_06-28-H04'm'50's35.json\n"
     ]
    },
    {
     "name": "stderr",
     "output_type": "stream",
     "text": [
      "100%|██████████| 52/52 [00:00<00:00, 396.32it/s]\n",
      "100%|██████████| 48/48 [00:00<00:00, 372.10it/s]\n",
      "100%|██████████| 12/12 [00:00<00:00, 1182.60it/s]\n",
      "100%|██████████| 11/11 [00:00<00:00, 260.48it/s]\n",
      "100%|██████████| 26/26 [00:00<00:00, 331.20it/s]\n",
      "100%|██████████| 48/48 [00:00<00:00, 432.22it/s]\n",
      "100%|██████████| 65/65 [00:00<00:00, 218.53it/s]\n",
      "100%|██████████| 47/47 [00:00<00:00, 405.53it/s]\n"
     ]
    },
    {
     "name": "stdout",
     "output_type": "stream",
     "text": [
      "processing file  result_06-28-H05'm'07's00.json\n"
     ]
    },
    {
     "name": "stderr",
     "output_type": "stream",
     "text": [
      "100%|██████████| 52/52 [00:00<00:00, 429.43it/s]\n",
      "100%|██████████| 48/48 [00:00<00:00, 432.99it/s]\n",
      "100%|██████████| 7/7 [00:00<00:00, 694.39it/s]\n",
      "100%|██████████| 11/11 [00:00<00:00, 287.20it/s]\n",
      "100%|██████████| 34/34 [00:00<00:00, 374.68it/s]\n",
      "100%|██████████| 50/50 [00:00<00:00, 451.45it/s]\n",
      "100%|██████████| 41/41 [00:00<00:00, 349.31it/s]\n",
      "100%|██████████| 58/58 [00:00<00:00, 394.19it/s]\n"
     ]
    },
    {
     "name": "stdout",
     "output_type": "stream",
     "text": [
      "processing file  result_06-28-H05'm'23's11.json\n"
     ]
    },
    {
     "name": "stderr",
     "output_type": "stream",
     "text": [
      "100%|██████████| 44/44 [00:00<00:00, 403.90it/s]\n",
      "100%|██████████| 37/37 [00:00<00:00, 359.77it/s]\n",
      "100%|██████████| 6/6 [00:00<00:00, 2952.70it/s]\n",
      "100%|██████████| 11/11 [00:00<00:00, 364.07it/s]\n",
      "100%|██████████| 29/29 [00:00<00:00, 369.13it/s]\n",
      "100%|██████████| 49/49 [00:00<00:00, 450.30it/s]\n",
      "100%|██████████| 65/65 [00:00<00:00, 268.10it/s]\n",
      "100%|██████████| 48/48 [00:00<00:00, 440.64it/s]\n"
     ]
    },
    {
     "name": "stdout",
     "output_type": "stream",
     "text": [
      "processing file  result_06-28-H05'm'38's59.json\n"
     ]
    },
    {
     "name": "stderr",
     "output_type": "stream",
     "text": [
      "100%|██████████| 56/56 [00:00<00:00, 426.23it/s]\n",
      "100%|██████████| 39/39 [00:00<00:00, 387.29it/s]\n",
      "100%|██████████| 9/9 [00:00<00:00, 447.62it/s]\n",
      "100%|██████████| 7/7 [00:00<00:00, 231.08it/s]\n",
      "100%|██████████| 27/27 [00:00<00:00, 382.24it/s]\n",
      "100%|██████████| 42/42 [00:00<00:00, 473.23it/s]\n",
      "100%|██████████| 82/82 [00:00<00:00, 224.49it/s]\n",
      "100%|██████████| 46/46 [00:00<00:00, 379.00it/s]\n"
     ]
    },
    {
     "name": "stdout",
     "output_type": "stream",
     "text": [
      "processing file  result_06-28-H05'm'54's24.json\n"
     ]
    },
    {
     "name": "stderr",
     "output_type": "stream",
     "text": [
      "100%|██████████| 59/59 [00:00<00:00, 478.57it/s]\n",
      "100%|██████████| 45/45 [00:00<00:00, 342.72it/s]\n",
      "100%|██████████| 7/7 [00:00<00:00, 694.57it/s]\n",
      "100%|██████████| 9/9 [00:00<00:00, 297.82it/s]\n",
      "100%|██████████| 29/29 [00:00<00:00, 358.96it/s]\n",
      "100%|██████████| 49/49 [00:00<00:00, 449.41it/s]\n",
      "100%|██████████| 78/78 [00:00<00:00, 319.22it/s]\n",
      "100%|██████████| 46/46 [00:00<00:00, 429.74it/s]\n"
     ]
    },
    {
     "name": "stdout",
     "output_type": "stream",
     "text": [
      "processing file  result_06-28-H06'm'10's50.json\n"
     ]
    },
    {
     "name": "stderr",
     "output_type": "stream",
     "text": [
      "100%|██████████| 52/52 [00:00<00:00, 396.80it/s]\n",
      "100%|██████████| 47/47 [00:00<00:00, 432.19it/s]\n",
      "100%|██████████| 8/8 [00:00<00:00, 794.75it/s]\n",
      "100%|██████████| 4/4 [00:00<00:00, 155.98it/s]\n",
      "100%|██████████| 32/32 [00:00<00:00, 378.03it/s]\n",
      "100%|██████████| 53/53 [00:00<00:00, 457.28it/s]\n",
      "100%|██████████| 62/62 [00:00<00:00, 309.18it/s]\n",
      "100%|██████████| 44/44 [00:00<00:00, 379.67it/s]\n"
     ]
    },
    {
     "name": "stdout",
     "output_type": "stream",
     "text": [
      "processing file  result_06-28-H06'm'26's23.json\n"
     ]
    },
    {
     "name": "stderr",
     "output_type": "stream",
     "text": [
      "100%|██████████| 51/51 [00:00<00:00, 421.35it/s]\n",
      "100%|██████████| 41/41 [00:00<00:00, 414.93it/s]\n",
      "100%|██████████| 8/8 [00:00<00:00, 795.41it/s]\n",
      "100%|██████████| 8/8 [00:00<00:00, 312.06it/s]\n",
      "100%|██████████| 28/28 [00:00<00:00, 330.82it/s]\n",
      "100%|██████████| 44/44 [00:00<00:00, 380.51it/s]\n",
      "100%|██████████| 79/79 [00:00<00:00, 187.23it/s]\n",
      "100%|██████████| 51/51 [00:00<00:00, 361.37it/s]\n"
     ]
    },
    {
     "name": "stdout",
     "output_type": "stream",
     "text": [
      "processing file  result_06-28-H06'm'42's21.json\n"
     ]
    },
    {
     "name": "stderr",
     "output_type": "stream",
     "text": [
      "100%|██████████| 46/46 [00:00<00:00, 386.60it/s]\n",
      "100%|██████████| 39/39 [00:00<00:00, 357.81it/s]\n",
      "100%|██████████| 11/11 [00:00<00:00, 1096.19it/s]\n",
      "100%|██████████| 6/6 [00:00<00:00, 185.95it/s]\n",
      "100%|██████████| 27/27 [00:00<00:00, 332.45it/s]\n",
      "100%|██████████| 47/47 [00:00<00:00, 431.49it/s]\n",
      "100%|██████████| 41/41 [00:00<00:00, 362.97it/s]\n",
      "100%|██████████| 47/47 [00:00<00:00, 426.20it/s]\n"
     ]
    },
    {
     "name": "stdout",
     "output_type": "stream",
     "text": [
      "processing file  result_06-28-H06'm'58's33.json\n"
     ]
    },
    {
     "name": "stderr",
     "output_type": "stream",
     "text": [
      "100%|██████████| 54/54 [00:00<00:00, 446.27it/s]\n",
      "100%|██████████| 37/37 [00:00<00:00, 367.06it/s]\n",
      "100%|██████████| 7/7 [00:00<00:00, 696.73it/s]\n",
      "100%|██████████| 8/8 [00:00<00:00, 264.09it/s]\n",
      "100%|██████████| 27/27 [00:00<00:00, 383.03it/s]\n",
      "100%|██████████| 41/41 [00:00<00:00, 415.46it/s]\n",
      "100%|██████████| 63/63 [00:00<00:00, 268.92it/s]\n",
      "100%|██████████| 51/51 [00:00<00:00, 462.46it/s]\n"
     ]
    },
    {
     "name": "stdout",
     "output_type": "stream",
     "text": [
      "processing file  result_06-28-H07'm'14's33.json\n"
     ]
    },
    {
     "name": "stderr",
     "output_type": "stream",
     "text": [
      "100%|██████████| 52/52 [00:00<00:00, 437.12it/s]\n",
      "100%|██████████| 41/41 [00:00<00:00, 362.69it/s]\n",
      "100%|██████████| 5/5 [00:00<?, ?it/s]\n",
      "100%|██████████| 8/8 [00:00<00:00, 255.92it/s]\n",
      "100%|██████████| 30/30 [00:00<00:00, 354.44it/s]\n",
      "100%|██████████| 61/61 [00:00<00:00, 463.80it/s]\n",
      "100%|██████████| 71/71 [00:00<00:00, 201.93it/s]\n",
      "100%|██████████| 52/52 [00:00<00:00, 395.39it/s]\n"
     ]
    },
    {
     "name": "stdout",
     "output_type": "stream",
     "text": [
      "processing file  result_06-28-H07'm'30's06.json\n"
     ]
    },
    {
     "name": "stderr",
     "output_type": "stream",
     "text": [
      "100%|██████████| 51/51 [00:00<00:00, 404.18it/s]\n",
      "100%|██████████| 38/38 [00:00<00:00, 405.76it/s]\n",
      "100%|██████████| 8/8 [00:00<00:00, 511.79it/s]\n",
      "100%|██████████| 6/6 [00:00<00:00, 384.01it/s]\n",
      "100%|██████████| 30/30 [00:00<00:00, 354.40it/s]\n",
      "100%|██████████| 63/63 [00:00<00:00, 428.16it/s]\n",
      "100%|██████████| 80/80 [00:00<00:00, 248.10it/s]\n",
      "100%|██████████| 56/56 [00:00<00:00, 380.57it/s]\n"
     ]
    },
    {
     "name": "stdout",
     "output_type": "stream",
     "text": [
      "processing file  result_06-28-H07'm'46's40.json\n"
     ]
    },
    {
     "name": "stderr",
     "output_type": "stream",
     "text": [
      "100%|██████████| 48/48 [00:00<00:00, 366.62it/s]\n",
      "100%|██████████| 42/42 [00:00<00:00, 353.49it/s]\n",
      "100%|██████████| 6/6 [00:00<00:00, 739.93it/s]\n",
      "100%|██████████| 7/7 [00:00<00:00, 273.02it/s]\n",
      "100%|██████████| 25/25 [00:00<00:00, 400.01it/s]\n",
      "100%|██████████| 46/46 [00:00<00:00, 543.45it/s]\n",
      "100%|██████████| 49/49 [00:00<00:00, 263.18it/s]\n",
      "100%|██████████| 42/42 [00:00<00:00, 425.21it/s]\n"
     ]
    },
    {
     "name": "stdout",
     "output_type": "stream",
     "text": [
      "processing file  result_06-28-H08'm'03's00.json\n"
     ]
    },
    {
     "name": "stderr",
     "output_type": "stream",
     "text": [
      "100%|██████████| 43/43 [00:00<00:00, 462.74it/s]\n",
      "100%|██████████| 44/44 [00:00<00:00, 403.11it/s]\n",
      "100%|██████████| 11/11 [00:00<00:00, 703.68it/s]\n",
      "100%|██████████| 7/7 [00:00<00:00, 223.34it/s]\n",
      "100%|██████████| 25/25 [00:00<00:00, 297.09it/s]\n",
      "100%|██████████| 50/50 [00:00<00:00, 431.45it/s]\n",
      "100%|██████████| 85/85 [00:00<00:00, 212.00it/s]\n",
      "100%|██████████| 45/45 [00:00<00:00, 448.80it/s]\n"
     ]
    },
    {
     "name": "stdout",
     "output_type": "stream",
     "text": [
      "processing file  result_06-28-H08'm'19's02.json\n"
     ]
    },
    {
     "name": "stderr",
     "output_type": "stream",
     "text": [
      "100%|██████████| 58/58 [00:00<00:00, 442.54it/s]\n",
      "100%|██████████| 45/45 [00:00<00:00, 343.12it/s]\n",
      "100%|██████████| 7/7 [00:00<00:00, 872.54it/s]\n",
      "100%|██████████| 9/9 [00:00<00:00, 212.26it/s]\n",
      "100%|██████████| 29/29 [00:00<00:00, 410.27it/s]\n",
      "100%|██████████| 47/47 [00:00<00:00, 431.57it/s]\n",
      "100%|██████████| 54/54 [00:00<00:00, 313.27it/s]\n",
      "100%|██████████| 54/54 [00:00<00:00, 391.29it/s]\n"
     ]
    },
    {
     "name": "stdout",
     "output_type": "stream",
     "text": [
      "processing file  result_06-28-H08'm'34's56.json\n"
     ]
    },
    {
     "name": "stderr",
     "output_type": "stream",
     "text": [
      "100%|██████████| 53/53 [00:00<00:00, 431.14it/s]\n",
      "100%|██████████| 43/43 [00:00<00:00, 384.07it/s]\n",
      "100%|██████████| 5/5 [00:00<00:00, 832.30it/s]\n",
      "100%|██████████| 9/9 [00:00<00:00, 287.91it/s]\n",
      "100%|██████████| 25/25 [00:00<00:00, 295.34it/s]\n",
      "100%|██████████| 50/50 [00:00<00:00, 498.66it/s]\n",
      "100%|██████████| 73/73 [00:00<00:00, 256.36it/s]\n",
      "100%|██████████| 48/48 [00:00<00:00, 365.00it/s]\n"
     ]
    },
    {
     "name": "stdout",
     "output_type": "stream",
     "text": [
      "processing file  result_06-28-H08'm'51's09.json\n"
     ]
    },
    {
     "name": "stderr",
     "output_type": "stream",
     "text": [
      "100%|██████████| 49/49 [00:00<00:00, 389.41it/s]\n",
      "100%|██████████| 37/37 [00:00<00:00, 440.75it/s]\n",
      "100%|██████████| 9/9 [00:00<00:00, 575.89it/s]\n",
      "100%|██████████| 10/10 [00:00<00:00, 361.73it/s]\n",
      "100%|██████████| 26/26 [00:00<00:00, 376.79it/s]\n",
      "100%|██████████| 53/53 [00:00<00:00, 457.28it/s]\n",
      "100%|██████████| 64/64 [00:00<00:00, 270.18it/s]\n",
      "100%|██████████| 51/51 [00:00<00:00, 404.72it/s]\n"
     ]
    },
    {
     "name": "stdout",
     "output_type": "stream",
     "text": [
      "processing file  result_06-28-H09'm'06's43.json\n"
     ]
    },
    {
     "name": "stderr",
     "output_type": "stream",
     "text": [
      "100%|██████████| 53/53 [00:00<00:00, 486.27it/s]\n",
      "100%|██████████| 49/49 [00:00<00:00, 398.09it/s]\n",
      "100%|██████████| 8/8 [00:00<00:00, 994.82it/s]\n",
      "100%|██████████| 7/7 [00:00<00:00, 216.54it/s]\n",
      "100%|██████████| 29/29 [00:00<00:00, 359.97it/s]\n",
      "100%|██████████| 48/48 [00:00<00:00, 397.09it/s]\n",
      "100%|██████████| 74/74 [00:00<00:00, 258.86it/s]\n",
      "100%|██████████| 47/47 [00:00<00:00, 468.68it/s]\n"
     ]
    },
    {
     "name": "stdout",
     "output_type": "stream",
     "text": [
      "processing file  result_06-28-H09'm'22's24.json\n"
     ]
    },
    {
     "name": "stderr",
     "output_type": "stream",
     "text": [
      "100%|██████████| 51/51 [00:00<00:00, 468.33it/s]\n",
      "100%|██████████| 51/51 [00:00<00:00, 501.15it/s]\n",
      "100%|██████████| 4/4 [00:00<?, ?it/s]\n",
      "100%|██████████| 7/7 [00:00<00:00, 223.97it/s]\n",
      "100%|██████████| 24/24 [00:00<00:00, 347.70it/s]\n",
      "100%|██████████| 54/54 [00:00<00:00, 465.98it/s]\n",
      "100%|██████████| 71/71 [00:00<00:00, 224.42it/s]\n",
      "100%|██████████| 56/56 [00:00<00:00, 405.74it/s]\n"
     ]
    },
    {
     "name": "stdout",
     "output_type": "stream",
     "text": [
      "processing file  result_06-28-H09'm'38's18.json\n"
     ]
    },
    {
     "name": "stderr",
     "output_type": "stream",
     "text": [
      "100%|██████████| 48/48 [00:00<00:00, 396.80it/s]\n",
      "100%|██████████| 44/44 [00:00<00:00, 403.78it/s]\n",
      "100%|██████████| 9/9 [00:00<00:00, 899.53it/s]\n",
      "100%|██████████| 8/8 [00:00<00:00, 170.65it/s]\n",
      "100%|██████████| 27/27 [00:00<00:00, 391.22it/s]\n",
      "100%|██████████| 53/53 [00:00<00:00, 450.94it/s]\n",
      "100%|██████████| 56/56 [00:00<00:00, 261.48it/s]\n",
      "100%|██████████| 45/45 [00:00<00:00, 448.79it/s]\n"
     ]
    },
    {
     "name": "stdout",
     "output_type": "stream",
     "text": [
      "processing file  result_06-28-H09'm'54's21.json\n"
     ]
    },
    {
     "name": "stderr",
     "output_type": "stream",
     "text": [
      "100%|██████████| 52/52 [00:00<00:00, 367.60it/s]\n",
      "100%|██████████| 38/38 [00:00<00:00, 410.53it/s]\n",
      "100%|██████████| 8/8 [00:00<00:00, 796.36it/s]\n",
      "100%|██████████| 14/14 [00:00<00:00, 330.67it/s]\n",
      "100%|██████████| 26/26 [00:00<00:00, 368.82it/s]\n",
      "100%|██████████| 52/52 [00:00<00:00, 402.75it/s]\n",
      "100%|██████████| 72/72 [00:00<00:00, 216.07it/s]\n",
      "100%|██████████| 48/48 [00:00<00:00, 366.37it/s]\n"
     ]
    },
    {
     "name": "stdout",
     "output_type": "stream",
     "text": [
      "processing file  result_06-28-H10'm'09's49.json\n"
     ]
    },
    {
     "name": "stderr",
     "output_type": "stream",
     "text": [
      "100%|██████████| 52/52 [00:00<00:00, 396.19it/s]\n",
      "100%|██████████| 40/40 [00:00<00:00, 444.94it/s]\n",
      "100%|██████████| 9/9 [00:00<00:00, 575.88it/s]\n",
      "100%|██████████| 9/9 [00:00<00:00, 192.00it/s]\n",
      "100%|██████████| 25/25 [00:00<00:00, 370.28it/s]\n",
      "100%|██████████| 48/48 [00:00<00:00, 478.76it/s]\n",
      "100%|██████████| 77/77 [00:00<00:00, 243.61it/s]\n",
      "100%|██████████| 57/57 [00:00<00:00, 491.83it/s]\n"
     ]
    },
    {
     "name": "stdout",
     "output_type": "stream",
     "text": [
      "processing file  result_06-28-H10'm'25's29.json\n"
     ]
    },
    {
     "name": "stderr",
     "output_type": "stream",
     "text": [
      "100%|██████████| 56/56 [00:00<00:00, 433.91it/s]\n",
      "100%|██████████| 49/49 [00:00<00:00, 381.18it/s]\n",
      "100%|██████████| 7/7 [00:00<00:00, 447.79it/s]\n",
      "100%|██████████| 6/6 [00:00<00:00, 273.54it/s]\n",
      "100%|██████████| 29/29 [00:00<00:00, 340.58it/s]\n",
      "100%|██████████| 48/48 [00:00<00:00, 478.71it/s]\n",
      "100%|██████████| 73/73 [00:00<00:00, 262.22it/s]\n",
      "100%|██████████| 50/50 [00:00<00:00, 468.31it/s]\n"
     ]
    },
    {
     "name": "stdout",
     "output_type": "stream",
     "text": [
      "processing file  result_06-28-H10'm'41's07.json\n"
     ]
    },
    {
     "name": "stderr",
     "output_type": "stream",
     "text": [
      "100%|██████████| 54/54 [00:00<00:00, 418.50it/s]\n",
      "100%|██████████| 45/45 [00:00<00:00, 437.70it/s]\n",
      "100%|██████████| 7/7 [00:00<00:00, 577.59it/s]\n",
      "100%|██████████| 12/12 [00:00<00:00, 297.08it/s]\n",
      "100%|██████████| 27/27 [00:00<00:00, 416.01it/s]\n",
      "100%|██████████| 36/36 [00:00<00:00, 425.31it/s]\n",
      "100%|██████████| 74/74 [00:00<00:00, 200.20it/s]\n",
      "100%|██████████| 51/51 [00:00<00:00, 387.76it/s]\n"
     ]
    },
    {
     "name": "stdout",
     "output_type": "stream",
     "text": [
      "processing file  result_06-28-H10'm'56's53.json\n"
     ]
    },
    {
     "name": "stderr",
     "output_type": "stream",
     "text": [
      "100%|██████████| 45/45 [00:00<00:00, 413.59it/s]\n",
      "100%|██████████| 45/45 [00:00<00:00, 371.22it/s]\n",
      "100%|██████████| 8/8 [00:00<00:00, 997.31it/s]\n",
      "100%|██████████| 10/10 [00:00<00:00, 319.90it/s]\n",
      "100%|██████████| 29/29 [00:00<00:00, 420.22it/s]\n",
      "100%|██████████| 51/51 [00:00<00:00, 440.01it/s]\n",
      "100%|██████████| 68/68 [00:00<00:00, 204.79it/s]\n",
      "100%|██████████| 43/43 [00:00<00:00, 428.86it/s]\n"
     ]
    },
    {
     "name": "stdout",
     "output_type": "stream",
     "text": [
      "processing file  result_06-28-H11'm'12's44.json\n"
     ]
    },
    {
     "name": "stderr",
     "output_type": "stream",
     "text": [
      "100%|██████████| 59/59 [00:00<00:00, 450.20it/s]\n",
      "100%|██████████| 38/38 [00:00<00:00, 395.10it/s]\n",
      "100%|██████████| 9/9 [00:00<00:00, 406.70it/s]\n",
      "100%|██████████| 12/12 [00:00<00:00, 383.85it/s]\n",
      "100%|██████████| 30/30 [00:00<00:00, 354.41it/s]\n",
      "100%|██████████| 49/49 [00:00<00:00, 422.82it/s]\n",
      "100%|██████████| 66/66 [00:00<00:00, 228.49it/s]\n",
      "100%|██████████| 51/51 [00:00<00:00, 455.82it/s]\n"
     ]
    },
    {
     "name": "stdout",
     "output_type": "stream",
     "text": [
      "processing file  result_06-28-H11'm'28's34.json\n"
     ]
    },
    {
     "name": "stderr",
     "output_type": "stream",
     "text": [
      "100%|██████████| 56/56 [00:00<00:00, 424.83it/s]\n",
      "100%|██████████| 36/36 [00:00<00:00, 420.32it/s]\n",
      "100%|██████████| 7/7 [00:00<00:00, 1074.87it/s]\n",
      "100%|██████████| 9/9 [00:00<00:00, 287.92it/s]\n",
      "100%|██████████| 28/28 [00:00<00:00, 330.77it/s]\n",
      "100%|██████████| 45/45 [00:00<00:00, 448.80it/s]\n",
      "100%|██████████| 61/61 [00:00<00:00, 248.94it/s]\n",
      "100%|██████████| 47/47 [00:00<00:00, 478.27it/s]\n"
     ]
    },
    {
     "name": "stdout",
     "output_type": "stream",
     "text": [
      "processing file  result_06-28-H11'm'44's32.json\n"
     ]
    },
    {
     "name": "stderr",
     "output_type": "stream",
     "text": [
      "100%|██████████| 49/49 [00:00<00:00, 441.64it/s]\n",
      "100%|██████████| 52/52 [00:00<00:00, 471.55it/s]\n",
      "100%|██████████| 13/13 [00:00<00:00, 831.51it/s]\n",
      "100%|██████████| 8/8 [00:00<00:00, 511.96it/s]\n",
      "100%|██████████| 29/29 [00:00<00:00, 324.45it/s]\n",
      "100%|██████████| 50/50 [00:00<00:00, 450.88it/s]\n",
      "100%|██████████| 69/69 [00:00<00:00, 289.99it/s]\n",
      "100%|██████████| 58/58 [00:00<00:00, 428.25it/s]\n"
     ]
    },
    {
     "name": "stdout",
     "output_type": "stream",
     "text": [
      "processing file  result_06-28-H12'm'00's48.json\n"
     ]
    },
    {
     "name": "stderr",
     "output_type": "stream",
     "text": [
      "100%|██████████| 52/52 [00:00<00:00, 430.03it/s]\n",
      "100%|██████████| 46/46 [00:00<00:00, 407.10it/s]\n",
      "100%|██████████| 8/8 [00:00<00:00, 995.74it/s]\n",
      "100%|██████████| 8/8 [00:00<00:00, 396.71it/s]\n",
      "100%|██████████| 32/32 [00:00<00:00, 344.14it/s]\n",
      "100%|██████████| 46/46 [00:00<00:00, 446.81it/s]\n",
      "100%|██████████| 74/74 [00:00<00:00, 203.86it/s]\n",
      "100%|██████████| 58/58 [00:00<00:00, 440.99it/s]\n"
     ]
    },
    {
     "name": "stdout",
     "output_type": "stream",
     "text": [
      "processing file  result_06-28-H12'm'16's46.json\n"
     ]
    },
    {
     "name": "stderr",
     "output_type": "stream",
     "text": [
      "100%|██████████| 49/49 [00:00<00:00, 450.18it/s]\n",
      "100%|██████████| 53/53 [00:00<00:00, 421.12it/s]\n",
      "100%|██████████| 9/9 [00:00<00:00, 576.04it/s]\n",
      "100%|██████████| 11/11 [00:00<00:00, 234.65it/s]\n",
      "100%|██████████| 36/36 [00:00<00:00, 427.84it/s]\n",
      "100%|██████████| 52/52 [00:00<00:00, 518.62it/s]\n",
      "100%|██████████| 66/66 [00:00<00:00, 236.58it/s]\n",
      "100%|██████████| 52/52 [00:00<00:00, 428.32it/s]\n"
     ]
    },
    {
     "name": "stdout",
     "output_type": "stream",
     "text": [
      "processing file  result_06-28-H12'm'32's29.json\n"
     ]
    },
    {
     "name": "stderr",
     "output_type": "stream",
     "text": [
      "100%|██████████| 48/48 [00:00<00:00, 441.34it/s]\n",
      "100%|██████████| 51/51 [00:00<00:00, 382.49it/s]\n",
      "100%|██████████| 8/8 [00:00<00:00, 990.95it/s]\n",
      "100%|██████████| 9/9 [00:00<00:00, 218.01it/s]\n",
      "100%|██████████| 33/33 [00:00<00:00, 389.89it/s]\n",
      "100%|██████████| 47/47 [00:00<00:00, 468.76it/s]\n",
      "100%|██████████| 73/73 [00:00<00:00, 277.73it/s]\n",
      "100%|██████████| 54/54 [00:00<00:00, 441.17it/s]\n"
     ]
    },
    {
     "name": "stdout",
     "output_type": "stream",
     "text": [
      "processing file  result_06-28-H12'm'48's30.json\n"
     ]
    },
    {
     "name": "stderr",
     "output_type": "stream",
     "text": [
      "100%|██████████| 58/58 [00:00<00:00, 479.51it/s]\n",
      "100%|██████████| 54/54 [00:00<00:00, 435.67it/s]\n",
      "100%|██████████| 8/8 [00:00<00:00, 512.21it/s]\n",
      "100%|██████████| 10/10 [00:00<00:00, 320.01it/s]\n",
      "100%|██████████| 29/29 [00:00<00:00, 419.20it/s]\n",
      "100%|██████████| 50/50 [00:00<00:00, 501.09it/s]\n",
      "100%|██████████| 68/68 [00:00<00:00, 214.97it/s]\n",
      "100%|██████████| 55/55 [00:00<00:00, 449.37it/s]\n"
     ]
    },
    {
     "data": {
      "text/plain": "                                     code_name  length genome_threshold  \\\n0      [CS CM CC][Len SSize MFit CAtom][GNone]       2             None   \n1      [CS CM CC][Len SSize MFit CAtom][GNone]       2             None   \n2      [CS CM CC][Len SSize MFit CAtom][GNone]       2             None   \n3      [CS CM CC][Len SSize MFit CAtom][GNone]       2             None   \n4      [CS CM CC][Len SSize MFit CAtom][GNone]       2             None   \n...                                        ...     ...              ...   \n30872  [CS CM OC][Len SSize MFit CAtom][GNone]       2             None   \n30873  [CS CM OC][Len SSize MFit CAtom][GNone]       2             None   \n30874  [CS CM OC][Len SSize MFit CAtom][GNone]       1             None   \n30875  [CS CM OC][Len SSize MFit CAtom][GNone]       2             None   \n30876  [CS CM OC][Len SSize MFit CAtom][GNone]       2             None   \n\n       test_coverage  test_HR_20  test_HR_100  train_coverage  train_HR_20  \\\n0           0.057091    0.289517     0.668885        0.056825     0.296281   \n1           0.021849    0.286957     0.552174        0.024197     0.271835   \n2           0.026788    0.322695     0.652482        0.026216     0.378623   \n3           0.025173    0.350943     0.743396        0.026999     0.338610   \n4           0.038567    0.290640     0.605911        0.042434     0.259653   \n...              ...         ...          ...             ...          ...   \n30872       0.132231    0.251437     0.591954        0.127921     0.229441   \n30873       0.053292    0.326203     0.636364        0.054260     0.316849   \n30874       0.035813    0.368700     0.673740        0.037424     0.349619   \n30875       0.031348    0.260606     0.554545        0.033910     0.285714   \n30876       0.051202    0.330241     0.651206        0.052717     0.336937   \n\n       train_HR_100  \n0          0.653991  \n1          0.580962  \n2          0.709239  \n3          0.693931  \n4          0.578623  \n...             ...  \n30872      0.571376  \n30873      0.651204  \n30874      0.664975  \n30875      0.602941  \n30876      0.659009  \n\n[30877 rows x 9 columns]",
      "text/html": "<div>\n<style scoped>\n    .dataframe tbody tr th:only-of-type {\n        vertical-align: middle;\n    }\n\n    .dataframe tbody tr th {\n        vertical-align: top;\n    }\n\n    .dataframe thead th {\n        text-align: right;\n    }\n</style>\n<table border=\"1\" class=\"dataframe\">\n  <thead>\n    <tr style=\"text-align: right;\">\n      <th></th>\n      <th>code_name</th>\n      <th>length</th>\n      <th>genome_threshold</th>\n      <th>test_coverage</th>\n      <th>test_HR_20</th>\n      <th>test_HR_100</th>\n      <th>train_coverage</th>\n      <th>train_HR_20</th>\n      <th>train_HR_100</th>\n    </tr>\n  </thead>\n  <tbody>\n    <tr>\n      <th>0</th>\n      <td>[CS CM CC][Len SSize MFit CAtom][GNone]</td>\n      <td>2</td>\n      <td>None</td>\n      <td>0.057091</td>\n      <td>0.289517</td>\n      <td>0.668885</td>\n      <td>0.056825</td>\n      <td>0.296281</td>\n      <td>0.653991</td>\n    </tr>\n    <tr>\n      <th>1</th>\n      <td>[CS CM CC][Len SSize MFit CAtom][GNone]</td>\n      <td>2</td>\n      <td>None</td>\n      <td>0.021849</td>\n      <td>0.286957</td>\n      <td>0.552174</td>\n      <td>0.024197</td>\n      <td>0.271835</td>\n      <td>0.580962</td>\n    </tr>\n    <tr>\n      <th>2</th>\n      <td>[CS CM CC][Len SSize MFit CAtom][GNone]</td>\n      <td>2</td>\n      <td>None</td>\n      <td>0.026788</td>\n      <td>0.322695</td>\n      <td>0.652482</td>\n      <td>0.026216</td>\n      <td>0.378623</td>\n      <td>0.709239</td>\n    </tr>\n    <tr>\n      <th>3</th>\n      <td>[CS CM CC][Len SSize MFit CAtom][GNone]</td>\n      <td>2</td>\n      <td>None</td>\n      <td>0.025173</td>\n      <td>0.350943</td>\n      <td>0.743396</td>\n      <td>0.026999</td>\n      <td>0.338610</td>\n      <td>0.693931</td>\n    </tr>\n    <tr>\n      <th>4</th>\n      <td>[CS CM CC][Len SSize MFit CAtom][GNone]</td>\n      <td>2</td>\n      <td>None</td>\n      <td>0.038567</td>\n      <td>0.290640</td>\n      <td>0.605911</td>\n      <td>0.042434</td>\n      <td>0.259653</td>\n      <td>0.578623</td>\n    </tr>\n    <tr>\n      <th>...</th>\n      <td>...</td>\n      <td>...</td>\n      <td>...</td>\n      <td>...</td>\n      <td>...</td>\n      <td>...</td>\n      <td>...</td>\n      <td>...</td>\n      <td>...</td>\n    </tr>\n    <tr>\n      <th>30872</th>\n      <td>[CS CM OC][Len SSize MFit CAtom][GNone]</td>\n      <td>2</td>\n      <td>None</td>\n      <td>0.132231</td>\n      <td>0.251437</td>\n      <td>0.591954</td>\n      <td>0.127921</td>\n      <td>0.229441</td>\n      <td>0.571376</td>\n    </tr>\n    <tr>\n      <th>30873</th>\n      <td>[CS CM OC][Len SSize MFit CAtom][GNone]</td>\n      <td>2</td>\n      <td>None</td>\n      <td>0.053292</td>\n      <td>0.326203</td>\n      <td>0.636364</td>\n      <td>0.054260</td>\n      <td>0.316849</td>\n      <td>0.651204</td>\n    </tr>\n    <tr>\n      <th>30874</th>\n      <td>[CS CM OC][Len SSize MFit CAtom][GNone]</td>\n      <td>1</td>\n      <td>None</td>\n      <td>0.035813</td>\n      <td>0.368700</td>\n      <td>0.673740</td>\n      <td>0.037424</td>\n      <td>0.349619</td>\n      <td>0.664975</td>\n    </tr>\n    <tr>\n      <th>30875</th>\n      <td>[CS CM OC][Len SSize MFit CAtom][GNone]</td>\n      <td>2</td>\n      <td>None</td>\n      <td>0.031348</td>\n      <td>0.260606</td>\n      <td>0.554545</td>\n      <td>0.033910</td>\n      <td>0.285714</td>\n      <td>0.602941</td>\n    </tr>\n    <tr>\n      <th>30876</th>\n      <td>[CS CM OC][Len SSize MFit CAtom][GNone]</td>\n      <td>2</td>\n      <td>None</td>\n      <td>0.051202</td>\n      <td>0.330241</td>\n      <td>0.651206</td>\n      <td>0.052717</td>\n      <td>0.336937</td>\n      <td>0.659009</td>\n    </tr>\n  </tbody>\n</table>\n<p>30877 rows × 9 columns</p>\n</div>"
     },
     "metadata": {},
     "output_type": "display_data"
    }
   ],
   "source": [
    "results_folder = r\"C:\\Users\\gac8\\PycharmProjects\\PSSearch\\retail_forecasting_data_collection\\local_results_without_gt\"\n",
    "results_df = process_results_folder(results_folder)\n",
    "\n",
    "display(results_df)"
   ]
  },
  {
   "cell_type": "code",
   "execution_count": 49,
   "id": "96bdcb25cc91c3ea",
   "metadata": {
    "ExecuteTime": {
     "end_time": "2025-06-30T08:03:59.991288100Z",
     "start_time": "2025-06-30T08:03:59.488221200Z"
    }
   },
   "outputs": [],
   "source": [
    "import utils\n",
    "\n",
    "scratch_path = r\"C:\\Users\\gac8\\PycharmProjects\\PSSearch\\retail_forecasting_data_collection\\scratch_processing\\processed_without_gt\"+utils.get_formatted_timestamp()+\".csv\"\n",
    "\n",
    "\n",
    "results_df.to_csv(scratch_path)"
   ]
  },
  {
   "cell_type": "markdown",
   "source": [
    "* read the data that has been stored as a csv, call it ps_df. \n",
    "* the columns of this df are code_name,length,genome_threshold,test_coverage,test_HR_20,test_HR_100,train_coverage,train_HR_20,train_HR_100\n",
    "* for each codename, find the mean and standard deviation of the length, test_coverage, test_HR_20, test_HR_100, train_coverage,train_HR_20,train_HR_100\n",
    "* put these results in a table, and save it as a csv where the path will be os.path.join(scratch_processing_dir, \"summary_stats_\"+utils.get_formatted_timestamp())"
   ],
   "metadata": {
    "collapsed": false
   },
   "id": "60e605169d662380"
  },
  {
   "cell_type": "code",
   "execution_count": 52,
   "outputs": [],
   "source": [
    "import pandas as pd\n",
    "import os\n",
    "import utils  # Make sure this is your own module and has get_formatted_timestamp()\n",
    "\n",
    "scratch_processing_dir = r\"C:\\Users\\gac8\\PycharmProjects\\PSSearch\\retail_forecasting_data_collection\\scratch_processing\"\n",
    "data_to_process_path = r\"C:\\Users\\gac8\\PycharmProjects\\PSSearch\\retail_forecasting_data_collection\\scratch_processing\\processed_all.csv\"\n",
    "\n",
    "# we also need to find how many pss were found for each run. At the same time, we may as well make the latex table\n",
    "\n",
    "\n",
    "if True:\n",
    "    # Read the data\n",
    "    ps_df = pd.read_csv(data_to_process_path)  # Replace with actual path\n",
    "    \n",
    "    # Define columns to compute stats on\n",
    "    metrics = [\n",
    "        \"length\", \"test_coverage\", \"test_HR_20\", \"test_HR_100\",\n",
    "        \"train_coverage\", \"train_HR_20\", \"train_HR_100\"\n",
    "    ]\n",
    "    \n",
    "    # Group by 'code_name' and compute mean and std\n",
    "    grouped = ps_df.groupby(\"code_name\")[metrics].agg([\"mean\", \"std\"])\n",
    "    \n",
    "    # Flatten MultiIndex columns\n",
    "    grouped.columns = ['_'.join(col).strip() for col in grouped.columns.values]\n",
    "    \n",
    "    # Reset index to make 'code_name' a column again\n",
    "    summary_df = grouped.reset_index()\n",
    "    \n",
    "    # Compute average quantity of items produced (count / 100)  because there's a 100 runs per settings\n",
    "    counts = ps_df['code_name'].value_counts().sort_index()\n",
    "    summary_df[\"avg_quantity\"] = counts.values / 100.0\n",
    "    \n",
    "    # Save the summary as CSV\n",
    "    output_path = os.path.join(\n",
    "        scratch_processing_dir,\n",
    "        \"summary_stats_\" + utils.get_formatted_timestamp() + \".csv\"\n",
    "    )\n",
    "    summary_df.to_csv(output_path, index=False)\n"
   ],
   "metadata": {
    "collapsed": false,
    "ExecuteTime": {
     "end_time": "2025-06-30T08:11:55.825574800Z",
     "start_time": "2025-06-30T08:11:55.583761200Z"
    }
   },
   "id": "9378ea3327142846"
  },
  {
   "cell_type": "code",
   "execution_count": 50,
   "outputs": [],
   "source": [
    "import pandas as pd\n",
    "\n",
    "# Paths to your input CSV files\n",
    "csv_path_1 = r\"C:\\Users\\gac8\\PycharmProjects\\PSSearch\\retail_forecasting_data_collection\\scratch_processing\\processed_with_gt.csv\"\n",
    "csv_path_2 = r\"C:\\Users\\gac8\\PycharmProjects\\PSSearch\\retail_forecasting_data_collection\\scratch_processing\\processed_without_gt.csv\"\n",
    "\n",
    "# Read the CSV files, treating the first column as the index\n",
    "df1 = pd.read_csv(csv_path_1, index_col=0)\n",
    "df2 = pd.read_csv(csv_path_2, index_col=0)\n",
    "\n",
    "# Concatenate the two DataFrames\n",
    "combined_df = pd.concat([df1, df2], axis=0)\n",
    "\n",
    "# Optional: reset index if you want a new sequential index\n",
    "combined_df = combined_df.reset_index(drop=True)\n",
    "\n",
    "# Save the result\n",
    "combined_df.to_csv(r\"C:\\Users\\gac8\\PycharmProjects\\PSSearch\\retail_forecasting_data_collection\\scratch_processing\\processed_all.csv\")\n"
   ],
   "metadata": {
    "collapsed": false,
    "ExecuteTime": {
     "end_time": "2025-06-30T08:05:37.937071200Z",
     "start_time": "2025-06-30T08:05:35.855083900Z"
    }
   },
   "id": "ef7d6a9d634bdb1d"
  }
 ],
 "metadata": {
  "kernelspec": {
   "display_name": "Python 3 (ipykernel)",
   "language": "python",
   "name": "python3"
  },
  "language_info": {
   "codemirror_mode": {
    "name": "ipython",
    "version": 3
   },
   "file_extension": ".py",
   "mimetype": "text/x-python",
   "name": "python",
   "nbconvert_exporter": "python",
   "pygments_lexer": "ipython3",
   "version": "3.11.5"
  }
 },
 "nbformat": 4,
 "nbformat_minor": 5
}
