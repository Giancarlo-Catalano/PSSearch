{
 "cells": [
  {
   "cell_type": "code",
   "execution_count": 2,
   "id": "initial_id",
   "metadata": {
    "collapsed": true,
    "ExecuteTime": {
     "end_time": "2025-07-04T13:27:10.165125700Z",
     "start_time": "2025-07-04T13:26:58.898651500Z"
    }
   },
   "outputs": [
    {
     "name": "stdout",
     "output_type": "stream",
     "text": [
      "column 2, expected to be normal fitnesses  [11.18746567 17.32204247  9.72239876 ...  6.85158873  8.78421211\n",
      " 10.7397728 ]\n",
      "column 4, expected to be HR 100 (high average = 0.547) [1. 1. 1. ... 0. 1. 1.]\n",
      "column 6, expected to be HR 20 (low average = 0.245) [1. 1. 0. ... 0. 1. 1.]\n",
      "We have partitions for 100 seeds\n"
     ]
    }
   ],
   "source": [
    "\n",
    "import utils\n",
    "from Gian_experimental.NSGAIICustom.evolving_genome_threshold import NCSolutionWithGT\n",
    "from Core.SearchSpace import SearchSpace\n",
    "from Core.PRef import PRef\n",
    "from Gian_experimental.NSGAIICustom.testing_in_vitro.SPRef import OptimisedSPref\n",
    "import json\n",
    "import numpy as np\n",
    "\n",
    "temp_vector_path = r\"C:\\Users\\gac8\\PycharmProjects\\PSSearch\\retail_forecasting_data_collection\\data\\many_hot_vectors_250_random.csv\"\n",
    "temp_fitness_path = r\"C:\\Users\\gac8\\PycharmProjects\\PSSearch\\retail_forecasting_data_collection\\data\\fitness_250_random.csv\"\n",
    "\n",
    "all_vectors = np.loadtxt(temp_vector_path, delimiter=\",\", dtype=int)\n",
    "\n",
    "# fitnesses_for_GA, hits_20, hits_100 = np.genfromtxt(temp_fitness_path, delimiter=\",\", dtype=float, usecols=(2, 4, 5))\n",
    "fitnesses_for_GA, hits_100, hits_20 = np.genfromtxt(temp_fitness_path, delimiter=\",\", dtype=float, usecols=(2, 4, 6)).T\n",
    "\n",
    "print(\"column 2, expected to be normal fitnesses \", fitnesses_for_GA)\n",
    "print(f\"column 4, expected to be HR 100 (high average = {np.average(hits_100):.3f})\", hits_100)\n",
    "print(f\"column 6, expected to be HR 20 (low average = {np.average(hits_20):.3f})\", hits_20)\n",
    "\n",
    "\n",
    "train_test_partitions_by_seed_path = r\"C:\\Users\\gac8\\PycharmProjects\\PSSearch\\retail_forecasting_data_collection\\data\\test_indices.json\"\n",
    "train_test_partitions_by_seed = json.load(open(train_test_partitions_by_seed_path, \"r\"))\n",
    "\n",
    "print(f\"We have partitions for {len(train_test_partitions_by_seed)} seeds\")\n",
    "\n",
    "\n",
    "def construct_temp_spRef(which: str, seed: int) -> OptimisedSPref:\n",
    "    # we make a pRef which is optimised (we represent a session as the set of the variables that are ones)\n",
    "    # the fitnesses in this pRef are just the index of their row [0, 1, 2,  ...]\n",
    "    \n",
    "    # this allows to get any fitness we want without having to make a lot of slow code!\n",
    "    \n",
    "    test_indices = train_test_partitions_by_seed[str(seed)]\n",
    "    if which == \"test\":\n",
    "        row_indices = test_indices\n",
    "    else:\n",
    "        row_indices = list(set(range(len(all_vectors))) - set(test_indices))\n",
    "        \n",
    "    vectors = all_vectors[row_indices]\n",
    "    trad_pRef = PRef(fitness_array=np.array(row_indices),\n",
    "                           full_solution_matrix=vectors,\n",
    "                           search_space=SearchSpace([2 for _ in range(250)]))\n",
    "    \n",
    "    sPRef = OptimisedSPref.from_pRef(trad_pRef)\n",
    "    del trad_pRef\n",
    "    \n",
    "    return sPRef\n",
    "\n",
    "\n",
    "def get_info_for_individual_ps(ps: NCSolutionWithGT, temp_test_spRef, temp_train_spRef):\n",
    "    matched_test_indices, unmatched_test_indices = temp_test_spRef.partition(ps, threshold=ps.genome_threshold)\n",
    "    \n",
    "    matched_train_indices, unmatched_train_indices = temp_train_spRef.partition(ps, threshold=ps.genome_threshold)\n",
    "    \n",
    "    average_test_HR_20 = np.average(hits_20[matched_test_indices])\n",
    "    average_test_HR_100 = np.average(hits_100[matched_test_indices])\n",
    "    univ_test = len(matched_test_indices) / (len(matched_test_indices) + len(unmatched_test_indices))\n",
    "    \n",
    "    average_train_HR_20 = np.average(hits_20[matched_train_indices])\n",
    "    average_train_HR_100 = np.average(hits_100[matched_train_indices])\n",
    "    univ_train = len(matched_train_indices) / (len(matched_train_indices) + len(unmatched_train_indices))\n",
    "    \n",
    "    return univ_test, average_test_HR_20, average_test_HR_100, univ_train, average_train_HR_20, average_train_HR_100\n",
    "    \n"
   ]
  },
  {
   "cell_type": "markdown",
   "id": "fd7998ea64286d9b",
   "metadata": {},
   "source": [
    "We will parse some json files in a folder, and we want to make a dataframe with the columns:\n",
    "* code_name (a string)\n",
    "* length (an int)\n",
    "* genome_threshold (an int)\n",
    "* test_coverage\n",
    "* test_HR_20\n",
    "* test_HR_100\n",
    "* train_coverage\n",
    "* train_HR_20\n",
    "* train_HR_100\n",
    "\n",
    "For every file in results_folder that ends in \".json\":\n",
    "* let seed = data[\"seed\"]\n",
    "* let test_sessions = construct_temp_spRef(which = \"test\", seed=seed)\n",
    "* let train_sessions = construct_temp_spRef(which = \"train\", seed=seed)\n",
    "* read data[\"data\"], which contains many runs with different settings. Iterate over each run\n",
    "    * each run has a code_name, read it in run[\"config\"][\"code_name\"]\n",
    "    * each run has a set of produced outputs, under run[\"results\"]\n",
    "        * for each output, let ps = NCSolutionWithGT(values = set(output[\"pattern\"], genome_threshold = output[\"threshold\"]\n",
    "        * then let length = len(ps)\n",
    "        * genome_threshold = ps.genome_threshold\n",
    "        * test_coverage, ..., train_HR_100  = get_info_for_individual_ps(ps, test_sessions, train_sessions)\n",
    "        * put the relevant information as a row in the dataframe mentioned in the beginning\n"
   ]
  },
  {
   "cell_type": "code",
   "execution_count": 3,
   "id": "4c0b151cc72a6450",
   "metadata": {
    "ExecuteTime": {
     "end_time": "2025-07-04T13:27:10.234691900Z",
     "start_time": "2025-07-04T13:27:10.182768600Z"
    }
   },
   "outputs": [],
   "source": [
    "from tqdm import tqdm\n",
    "import os\n",
    "import json\n",
    "import pandas as pd\n",
    "\n",
    "\n",
    "def process_results_folder(results_folder):\n",
    "    rows = []\n",
    "\n",
    "    for filename in os.listdir(results_folder):\n",
    "        print(\"processing file \", filename)\n",
    "        if not filename.endswith(\".json\"):\n",
    "            continue\n",
    "\n",
    "        filepath = os.path.join(results_folder, filename)\n",
    "        with open(filepath, 'r') as f:\n",
    "            data = json.load(f)\n",
    "\n",
    "        seed = data[\"extra_info\"][\"seed\"]\n",
    "        test_sessions = construct_temp_spRef(which=\"test\", seed=seed)\n",
    "        train_sessions = construct_temp_spRef(which=\"train\", seed=seed)\n",
    "\n",
    "        for run in data[\"data\"]:\n",
    "            code_name = run[\"config\"][\"code_name\"]\n",
    "            for output in tqdm(run[\"results\"]):\n",
    "                ps = NCSolutionWithGT(\n",
    "                    values=set(output[\"pattern\"]),\n",
    "                    genome_threshold=output[\"threshold\"]\n",
    "                )\n",
    "                length = len(ps)\n",
    "                genome_threshold = ps.genome_threshold\n",
    "\n",
    "                (\n",
    "                    test_coverage,\n",
    "                    test_HR_20,\n",
    "                    test_HR_100,\n",
    "                    train_coverage,\n",
    "                    train_HR_20,\n",
    "                    train_HR_100\n",
    "                ) = get_info_for_individual_ps(ps, test_sessions, train_sessions)\n",
    "\n",
    "                row = {\n",
    "                    \"code_name\": code_name,\n",
    "                    \"length\": length,\n",
    "                    \"genome_threshold\": genome_threshold,\n",
    "                    \"test_coverage\": test_coverage,\n",
    "                    \"test_HR_20\": test_HR_20,\n",
    "                    \"test_HR_100\": test_HR_100,\n",
    "                    \"train_coverage\": train_coverage,\n",
    "                    \"train_HR_20\": train_HR_20,\n",
    "                    \"train_HR_100\": train_HR_100,\n",
    "                }\n",
    "\n",
    "                rows.append(row)\n",
    "\n",
    "    return pd.DataFrame(rows)\n",
    "\n",
    "# Usage\n",
    "# df = process_results_folder(\"path/to/results_folder\")\n",
    "# print(df.head())\n"
   ]
  },
  {
   "cell_type": "code",
   "execution_count": 4,
   "id": "fe4a1f477010ecc5",
   "metadata": {
    "ExecuteTime": {
     "end_time": "2025-07-04T13:32:56.170286800Z",
     "start_time": "2025-07-04T13:27:10.203439900Z"
    }
   },
   "outputs": [
    {
     "name": "stdout",
     "output_type": "stream",
     "text": [
      "processing file  result_07-03-H12'm'46's42.json\n"
     ]
    },
    {
     "name": "stderr",
     "output_type": "stream",
     "text": [
      "100%|██████████| 9/9 [00:00<00:00, 899.34it/s]\n"
     ]
    },
    {
     "name": "stdout",
     "output_type": "stream",
     "text": [
      "processing file  result_07-03-H12'm'49's59.json\n"
     ]
    },
    {
     "name": "stderr",
     "output_type": "stream",
     "text": [
      "100%|██████████| 15/15 [00:00<00:00, 308.00it/s]\n"
     ]
    },
    {
     "name": "stdout",
     "output_type": "stream",
     "text": [
      "processing file  result_07-03-H12'm'53's06.json\n"
     ]
    },
    {
     "name": "stderr",
     "output_type": "stream",
     "text": [
      "100%|██████████| 12/12 [00:00<00:00, 313.59it/s]\n"
     ]
    },
    {
     "name": "stdout",
     "output_type": "stream",
     "text": [
      "processing file  result_07-03-H12'm'56's33.json\n"
     ]
    },
    {
     "name": "stderr",
     "output_type": "stream",
     "text": [
      "100%|██████████| 7/7 [00:00<00:00, 421.18it/s]\n"
     ]
    },
    {
     "name": "stdout",
     "output_type": "stream",
     "text": [
      "processing file  result_07-03-H12'm'59's28.json\n"
     ]
    },
    {
     "name": "stderr",
     "output_type": "stream",
     "text": [
      "100%|██████████| 12/12 [00:00<00:00, 316.98it/s]\n"
     ]
    },
    {
     "name": "stdout",
     "output_type": "stream",
     "text": [
      "processing file  result_07-03-H13'm'02's48.json\n"
     ]
    },
    {
     "name": "stderr",
     "output_type": "stream",
     "text": [
      "100%|██████████| 10/10 [00:00<00:00, 495.97it/s]\n"
     ]
    },
    {
     "name": "stdout",
     "output_type": "stream",
     "text": [
      "processing file  result_07-03-H13'm'05's31.json\n"
     ]
    },
    {
     "name": "stderr",
     "output_type": "stream",
     "text": [
      "100%|██████████| 8/8 [00:00<00:00, 481.16it/s]\n"
     ]
    },
    {
     "name": "stdout",
     "output_type": "stream",
     "text": [
      "processing file  result_07-03-H13'm'08's33.json\n"
     ]
    },
    {
     "name": "stderr",
     "output_type": "stream",
     "text": [
      "100%|██████████| 12/12 [00:00<00:00, 555.65it/s]\n"
     ]
    },
    {
     "name": "stdout",
     "output_type": "stream",
     "text": [
      "processing file  result_07-03-H13'm'11's55.json\n"
     ]
    },
    {
     "name": "stderr",
     "output_type": "stream",
     "text": [
      "100%|██████████| 10/10 [00:00<00:00, 510.77it/s]\n"
     ]
    },
    {
     "name": "stdout",
     "output_type": "stream",
     "text": [
      "processing file  result_07-03-H13'm'14's49.json\n"
     ]
    },
    {
     "name": "stderr",
     "output_type": "stream",
     "text": [
      "100%|██████████| 6/6 [00:00<00:00, 229.79it/s]\n"
     ]
    },
    {
     "name": "stdout",
     "output_type": "stream",
     "text": [
      "processing file  result_07-03-H13'm'20's00.json\n"
     ]
    },
    {
     "name": "stderr",
     "output_type": "stream",
     "text": [
      "100%|██████████| 7/7 [00:00<00:00, 447.83it/s]\n"
     ]
    },
    {
     "name": "stdout",
     "output_type": "stream",
     "text": [
      "processing file  result_07-03-H13'm'23's06.json\n"
     ]
    },
    {
     "name": "stderr",
     "output_type": "stream",
     "text": [
      "100%|██████████| 11/11 [00:00<00:00, 328.24it/s]\n"
     ]
    },
    {
     "name": "stdout",
     "output_type": "stream",
     "text": [
      "processing file  result_07-03-H13'm'27's37.json\n"
     ]
    },
    {
     "name": "stderr",
     "output_type": "stream",
     "text": [
      "100%|██████████| 13/13 [00:00<00:00, 416.01it/s]\n"
     ]
    },
    {
     "name": "stdout",
     "output_type": "stream",
     "text": [
      "processing file  result_07-03-H13'm'30's33.json\n"
     ]
    },
    {
     "name": "stderr",
     "output_type": "stream",
     "text": [
      "100%|██████████| 13/13 [00:00<00:00, 429.12it/s]\n"
     ]
    },
    {
     "name": "stdout",
     "output_type": "stream",
     "text": [
      "processing file  result_07-03-H13'm'34's06.json\n"
     ]
    },
    {
     "name": "stderr",
     "output_type": "stream",
     "text": [
      "100%|██████████| 15/15 [00:00<00:00, 297.70it/s]\n"
     ]
    },
    {
     "name": "stdout",
     "output_type": "stream",
     "text": [
      "processing file  result_07-03-H13'm'38's16.json\n"
     ]
    },
    {
     "name": "stderr",
     "output_type": "stream",
     "text": [
      "100%|██████████| 12/12 [00:00<00:00, 268.07it/s]\n"
     ]
    },
    {
     "name": "stdout",
     "output_type": "stream",
     "text": [
      "processing file  result_07-03-H13'm'41's28.json\n"
     ]
    },
    {
     "name": "stderr",
     "output_type": "stream",
     "text": [
      "100%|██████████| 6/6 [00:00<00:00, 384.05it/s]\n"
     ]
    },
    {
     "name": "stdout",
     "output_type": "stream",
     "text": [
      "processing file  result_07-03-H13'm'45's29.json\n"
     ]
    },
    {
     "name": "stderr",
     "output_type": "stream",
     "text": [
      "100%|██████████| 11/11 [00:00<00:00, 364.64it/s]\n"
     ]
    },
    {
     "name": "stdout",
     "output_type": "stream",
     "text": [
      "processing file  result_07-03-H13'm'48's56.json\n"
     ]
    },
    {
     "name": "stderr",
     "output_type": "stream",
     "text": [
      "100%|██████████| 9/9 [00:00<00:00, 497.51it/s]\n"
     ]
    },
    {
     "name": "stdout",
     "output_type": "stream",
     "text": [
      "processing file  result_07-03-H13'm'53's18.json\n"
     ]
    },
    {
     "name": "stderr",
     "output_type": "stream",
     "text": [
      "100%|██████████| 8/8 [00:00<00:00, 511.96it/s]\n"
     ]
    },
    {
     "name": "stdout",
     "output_type": "stream",
     "text": [
      "processing file  result_07-03-H13'm'56's46.json\n"
     ]
    },
    {
     "name": "stderr",
     "output_type": "stream",
     "text": [
      "100%|██████████| 8/8 [00:00<00:00, 353.52it/s]\n"
     ]
    },
    {
     "name": "stdout",
     "output_type": "stream",
     "text": [
      "processing file  result_07-03-H13'm'59's39.json\n"
     ]
    },
    {
     "name": "stderr",
     "output_type": "stream",
     "text": [
      "100%|██████████| 14/14 [00:00<00:00, 497.32it/s]\n"
     ]
    },
    {
     "name": "stdout",
     "output_type": "stream",
     "text": [
      "processing file  result_07-03-H14'm'02's34.json\n"
     ]
    },
    {
     "name": "stderr",
     "output_type": "stream",
     "text": [
      "100%|██████████| 13/13 [00:00<00:00, 449.59it/s]\n"
     ]
    },
    {
     "name": "stdout",
     "output_type": "stream",
     "text": [
      "processing file  result_07-03-H14'm'06's18.json\n"
     ]
    },
    {
     "name": "stderr",
     "output_type": "stream",
     "text": [
      "100%|██████████| 16/16 [00:00<00:00, 396.36it/s]\n"
     ]
    },
    {
     "name": "stdout",
     "output_type": "stream",
     "text": [
      "processing file  result_07-03-H14'm'10's21.json\n"
     ]
    },
    {
     "name": "stderr",
     "output_type": "stream",
     "text": [
      "100%|██████████| 13/13 [00:00<00:00, 429.59it/s]\n"
     ]
    },
    {
     "name": "stdout",
     "output_type": "stream",
     "text": [
      "processing file  result_07-03-H14'm'14's03.json\n"
     ]
    },
    {
     "name": "stderr",
     "output_type": "stream",
     "text": [
      "100%|██████████| 10/10 [00:00<00:00, 583.94it/s]\n"
     ]
    },
    {
     "name": "stdout",
     "output_type": "stream",
     "text": [
      "processing file  result_07-03-H14'm'17's22.json\n"
     ]
    },
    {
     "name": "stderr",
     "output_type": "stream",
     "text": [
      "100%|██████████| 11/11 [00:00<00:00, 222.94it/s]\n"
     ]
    },
    {
     "name": "stdout",
     "output_type": "stream",
     "text": [
      "processing file  result_07-03-H14'm'20's26.json\n"
     ]
    },
    {
     "name": "stderr",
     "output_type": "stream",
     "text": [
      "100%|██████████| 14/14 [00:00<00:00, 411.93it/s]\n"
     ]
    },
    {
     "name": "stdout",
     "output_type": "stream",
     "text": [
      "processing file  result_07-03-H14'm'27's24.json\n"
     ]
    },
    {
     "name": "stderr",
     "output_type": "stream",
     "text": [
      "100%|██████████| 12/12 [00:00<00:00, 595.16it/s]\n"
     ]
    },
    {
     "name": "stdout",
     "output_type": "stream",
     "text": [
      "processing file  result_07-03-H14'm'31's35.json\n"
     ]
    },
    {
     "name": "stderr",
     "output_type": "stream",
     "text": [
      "100%|██████████| 10/10 [00:00<00:00, 496.53it/s]\n"
     ]
    },
    {
     "name": "stdout",
     "output_type": "stream",
     "text": [
      "processing file  result_07-03-H14'm'35's09.json\n"
     ]
    },
    {
     "name": "stderr",
     "output_type": "stream",
     "text": [
      "100%|██████████| 12/12 [00:00<00:00, 693.80it/s]\n"
     ]
    },
    {
     "name": "stdout",
     "output_type": "stream",
     "text": [
      "processing file  result_07-03-H14'm'38's24.json\n"
     ]
    },
    {
     "name": "stderr",
     "output_type": "stream",
     "text": [
      "100%|██████████| 15/15 [00:00<00:00, 510.49it/s]\n"
     ]
    },
    {
     "name": "stdout",
     "output_type": "stream",
     "text": [
      "processing file  result_07-03-H14'm'44's29.json\n"
     ]
    },
    {
     "name": "stderr",
     "output_type": "stream",
     "text": [
      "100%|██████████| 12/12 [00:00<00:00, 297.59it/s]\n"
     ]
    },
    {
     "name": "stdout",
     "output_type": "stream",
     "text": [
      "processing file  result_07-03-H14'm'48's03.json\n"
     ]
    },
    {
     "name": "stderr",
     "output_type": "stream",
     "text": [
      "100%|██████████| 9/9 [00:00<00:00, 522.19it/s]\n"
     ]
    },
    {
     "name": "stdout",
     "output_type": "stream",
     "text": [
      "processing file  result_07-03-H14'm'51's27.json\n"
     ]
    },
    {
     "name": "stderr",
     "output_type": "stream",
     "text": [
      "100%|██████████| 12/12 [00:00<00:00, 256.02it/s]\n"
     ]
    },
    {
     "name": "stdout",
     "output_type": "stream",
     "text": [
      "processing file  result_07-03-H14'm'54's57.json\n"
     ]
    },
    {
     "name": "stderr",
     "output_type": "stream",
     "text": [
      "100%|██████████| 9/9 [00:00<00:00, 496.49it/s]\n"
     ]
    },
    {
     "name": "stdout",
     "output_type": "stream",
     "text": [
      "processing file  result_07-03-H14'm'58's49.json\n"
     ]
    },
    {
     "name": "stderr",
     "output_type": "stream",
     "text": [
      "100%|██████████| 14/14 [00:00<00:00, 410.22it/s]\n"
     ]
    },
    {
     "name": "stdout",
     "output_type": "stream",
     "text": [
      "processing file  result_07-03-H15'm'02's40.json\n"
     ]
    },
    {
     "name": "stderr",
     "output_type": "stream",
     "text": [
      "100%|██████████| 6/6 [00:00<00:00, 564.89it/s]\n"
     ]
    },
    {
     "name": "stdout",
     "output_type": "stream",
     "text": [
      "processing file  result_07-03-H15'm'05's50.json\n"
     ]
    },
    {
     "name": "stderr",
     "output_type": "stream",
     "text": [
      "100%|██████████| 12/12 [00:00<00:00, 335.31it/s]\n"
     ]
    },
    {
     "name": "stdout",
     "output_type": "stream",
     "text": [
      "processing file  result_07-03-H15'm'10's04.json\n"
     ]
    },
    {
     "name": "stderr",
     "output_type": "stream",
     "text": [
      "100%|██████████| 10/10 [00:00<00:00, 999.19it/s]\n"
     ]
    },
    {
     "name": "stdout",
     "output_type": "stream",
     "text": [
      "processing file  result_07-03-H15'm'14's03.json\n"
     ]
    },
    {
     "name": "stderr",
     "output_type": "stream",
     "text": [
      "100%|██████████| 11/11 [00:00<00:00, 659.63it/s]\n"
     ]
    },
    {
     "name": "stdout",
     "output_type": "stream",
     "text": [
      "processing file  result_07-03-H15'm'18's10.json\n"
     ]
    },
    {
     "name": "stderr",
     "output_type": "stream",
     "text": [
      "100%|██████████| 13/13 [00:00<00:00, 747.28it/s]\n"
     ]
    },
    {
     "name": "stdout",
     "output_type": "stream",
     "text": [
      "processing file  result_07-03-H15'm'22's03.json\n"
     ]
    },
    {
     "name": "stderr",
     "output_type": "stream",
     "text": [
      "100%|██████████| 7/7 [00:00<00:00, 344.15it/s]\n"
     ]
    },
    {
     "name": "stdout",
     "output_type": "stream",
     "text": [
      "processing file  result_07-03-H15'm'25's30.json\n"
     ]
    },
    {
     "name": "stderr",
     "output_type": "stream",
     "text": [
      "100%|██████████| 7/7 [00:00<00:00, 379.77it/s]\n"
     ]
    },
    {
     "name": "stdout",
     "output_type": "stream",
     "text": [
      "processing file  result_07-03-H15'm'28's56.json\n"
     ]
    },
    {
     "name": "stderr",
     "output_type": "stream",
     "text": [
      "100%|██████████| 13/13 [00:00<00:00, 430.76it/s]\n"
     ]
    },
    {
     "name": "stdout",
     "output_type": "stream",
     "text": [
      "processing file  result_07-03-H15'm'32's26.json\n"
     ]
    },
    {
     "name": "stderr",
     "output_type": "stream",
     "text": [
      "100%|██████████| 9/9 [00:00<00:00, 496.61it/s]\n"
     ]
    },
    {
     "name": "stdout",
     "output_type": "stream",
     "text": [
      "processing file  result_07-03-H15'm'36's07.json\n"
     ]
    },
    {
     "name": "stderr",
     "output_type": "stream",
     "text": [
      "100%|██████████| 12/12 [00:00<00:00, 541.54it/s]\n"
     ]
    },
    {
     "name": "stdout",
     "output_type": "stream",
     "text": [
      "processing file  result_07-03-H15'm'39's34.json\n"
     ]
    },
    {
     "name": "stderr",
     "output_type": "stream",
     "text": [
      "100%|██████████| 9/9 [00:00<00:00, 293.55it/s]\n"
     ]
    },
    {
     "name": "stdout",
     "output_type": "stream",
     "text": [
      "processing file  result_07-03-H15'm'42's55.json\n"
     ]
    },
    {
     "name": "stderr",
     "output_type": "stream",
     "text": [
      "100%|██████████| 10/10 [00:00<00:00, 497.40it/s]\n"
     ]
    },
    {
     "name": "stdout",
     "output_type": "stream",
     "text": [
      "processing file  result_07-03-H15'm'46's53.json\n"
     ]
    },
    {
     "name": "stderr",
     "output_type": "stream",
     "text": [
      "100%|██████████| 9/9 [00:00<00:00, 563.79it/s]\n"
     ]
    },
    {
     "name": "stdout",
     "output_type": "stream",
     "text": [
      "processing file  result_07-03-H15'm'50's05.json\n"
     ]
    },
    {
     "name": "stderr",
     "output_type": "stream",
     "text": [
      "100%|██████████| 10/10 [00:00<00:00, 552.26it/s]\n"
     ]
    },
    {
     "name": "stdout",
     "output_type": "stream",
     "text": [
      "processing file  result_07-03-H15'm'53's17.json\n"
     ]
    },
    {
     "name": "stderr",
     "output_type": "stream",
     "text": [
      "100%|██████████| 11/11 [00:00<00:00, 529.97it/s]\n"
     ]
    },
    {
     "name": "stdout",
     "output_type": "stream",
     "text": [
      "processing file  result_07-03-H15'm'56's13.json\n"
     ]
    },
    {
     "name": "stderr",
     "output_type": "stream",
     "text": [
      "100%|██████████| 12/12 [00:00<00:00, 312.40it/s]\n"
     ]
    },
    {
     "name": "stdout",
     "output_type": "stream",
     "text": [
      "processing file  result_07-03-H15'm'59's52.json\n"
     ]
    },
    {
     "name": "stderr",
     "output_type": "stream",
     "text": [
      "100%|██████████| 13/13 [00:00<00:00, 322.13it/s]\n"
     ]
    },
    {
     "name": "stdout",
     "output_type": "stream",
     "text": [
      "processing file  result_07-03-H16'm'03's12.json\n"
     ]
    },
    {
     "name": "stderr",
     "output_type": "stream",
     "text": [
      "100%|██████████| 10/10 [00:00<00:00, 449.31it/s]\n"
     ]
    },
    {
     "name": "stdout",
     "output_type": "stream",
     "text": [
      "processing file  result_07-03-H16'm'06's59.json\n"
     ]
    },
    {
     "name": "stderr",
     "output_type": "stream",
     "text": [
      "100%|██████████| 13/13 [00:00<00:00, 642.13it/s]\n"
     ]
    },
    {
     "name": "stdout",
     "output_type": "stream",
     "text": [
      "processing file  result_07-03-H16'm'09's58.json\n"
     ]
    },
    {
     "name": "stderr",
     "output_type": "stream",
     "text": [
      "100%|██████████| 7/7 [00:00<00:00, 857.81it/s]\n"
     ]
    },
    {
     "name": "stdout",
     "output_type": "stream",
     "text": [
      "processing file  result_07-03-H16'm'13's37.json\n"
     ]
    },
    {
     "name": "stderr",
     "output_type": "stream",
     "text": [
      "100%|██████████| 9/9 [00:00<00:00, 576.04it/s]\n"
     ]
    },
    {
     "name": "stdout",
     "output_type": "stream",
     "text": [
      "processing file  result_07-03-H16'm'17's22.json\n"
     ]
    },
    {
     "name": "stderr",
     "output_type": "stream",
     "text": [
      "100%|██████████| 13/13 [00:00<00:00, 348.63it/s]\n"
     ]
    },
    {
     "name": "stdout",
     "output_type": "stream",
     "text": [
      "processing file  result_07-03-H16'm'20's29.json\n"
     ]
    },
    {
     "name": "stderr",
     "output_type": "stream",
     "text": [
      "100%|██████████| 11/11 [00:00<00:00, 605.94it/s]\n"
     ]
    },
    {
     "name": "stdout",
     "output_type": "stream",
     "text": [
      "processing file  result_07-03-H16'm'24's04.json\n"
     ]
    },
    {
     "name": "stderr",
     "output_type": "stream",
     "text": [
      "100%|██████████| 11/11 [00:00<00:00, 351.92it/s]\n"
     ]
    },
    {
     "name": "stdout",
     "output_type": "stream",
     "text": [
      "processing file  result_07-03-H16'm'27's44.json\n"
     ]
    },
    {
     "name": "stderr",
     "output_type": "stream",
     "text": [
      "100%|██████████| 7/7 [00:00<00:00, 1393.13it/s]\n"
     ]
    },
    {
     "name": "stdout",
     "output_type": "stream",
     "text": [
      "processing file  result_07-03-H16'm'31's31.json\n"
     ]
    },
    {
     "name": "stderr",
     "output_type": "stream",
     "text": [
      "100%|██████████| 10/10 [00:00<00:00, 561.73it/s]\n"
     ]
    },
    {
     "name": "stdout",
     "output_type": "stream",
     "text": [
      "processing file  result_07-03-H16'm'35's21.json\n"
     ]
    },
    {
     "name": "stderr",
     "output_type": "stream",
     "text": [
      "100%|██████████| 8/8 [00:00<00:00, 511.95it/s]\n"
     ]
    },
    {
     "name": "stdout",
     "output_type": "stream",
     "text": [
      "processing file  result_07-03-H16'm'39's45.json\n"
     ]
    },
    {
     "name": "stderr",
     "output_type": "stream",
     "text": [
      "100%|██████████| 6/6 [00:00<00:00, 595.15it/s]\n"
     ]
    },
    {
     "name": "stdout",
     "output_type": "stream",
     "text": [
      "processing file  result_07-03-H16'm'42's59.json\n"
     ]
    },
    {
     "name": "stderr",
     "output_type": "stream",
     "text": [
      "100%|██████████| 11/11 [00:00<00:00, 271.84it/s]\n"
     ]
    },
    {
     "name": "stdout",
     "output_type": "stream",
     "text": [
      "processing file  result_07-03-H16'm'46's38.json\n"
     ]
    },
    {
     "name": "stderr",
     "output_type": "stream",
     "text": [
      "100%|██████████| 9/9 [00:00<00:00, 475.56it/s]\n"
     ]
    },
    {
     "name": "stdout",
     "output_type": "stream",
     "text": [
      "processing file  result_07-03-H16'm'49's36.json\n"
     ]
    },
    {
     "name": "stderr",
     "output_type": "stream",
     "text": [
      "100%|██████████| 8/8 [00:00<00:00, 441.97it/s]\n"
     ]
    },
    {
     "name": "stdout",
     "output_type": "stream",
     "text": [
      "processing file  result_07-03-H16'm'53's50.json\n"
     ]
    },
    {
     "name": "stderr",
     "output_type": "stream",
     "text": [
      "100%|██████████| 13/13 [00:00<00:00, 396.98it/s]\n"
     ]
    },
    {
     "name": "stdout",
     "output_type": "stream",
     "text": [
      "processing file  result_07-03-H16'm'58's07.json\n"
     ]
    },
    {
     "name": "stderr",
     "output_type": "stream",
     "text": [
      "100%|██████████| 11/11 [00:00<00:00, 339.63it/s]\n"
     ]
    },
    {
     "name": "stdout",
     "output_type": "stream",
     "text": [
      "processing file  result_07-03-H17'm'01's46.json\n"
     ]
    },
    {
     "name": "stderr",
     "output_type": "stream",
     "text": [
      "100%|██████████| 6/6 [00:00<?, ?it/s]\n"
     ]
    },
    {
     "name": "stdout",
     "output_type": "stream",
     "text": [
      "processing file  result_07-03-H17'm'05's08.json\n"
     ]
    },
    {
     "name": "stderr",
     "output_type": "stream",
     "text": [
      "100%|██████████| 14/14 [00:00<00:00, 347.71it/s]\n"
     ]
    },
    {
     "name": "stdout",
     "output_type": "stream",
     "text": [
      "processing file  result_07-03-H17'm'09's41.json\n"
     ]
    },
    {
     "name": "stderr",
     "output_type": "stream",
     "text": [
      "100%|██████████| 9/9 [00:00<00:00, 222.75it/s]\n"
     ]
    },
    {
     "name": "stdout",
     "output_type": "stream",
     "text": [
      "processing file  result_07-03-H17'm'13's06.json\n"
     ]
    },
    {
     "name": "stderr",
     "output_type": "stream",
     "text": [
      "100%|██████████| 6/6 [00:00<00:00, 590.80it/s]\n"
     ]
    },
    {
     "name": "stdout",
     "output_type": "stream",
     "text": [
      "processing file  result_07-03-H17'm'16's54.json\n"
     ]
    },
    {
     "name": "stderr",
     "output_type": "stream",
     "text": [
      "100%|██████████| 9/9 [00:00<00:00, 890.11it/s]\n"
     ]
    },
    {
     "name": "stdout",
     "output_type": "stream",
     "text": [
      "processing file  result_07-03-H17'm'20's08.json\n"
     ]
    },
    {
     "name": "stderr",
     "output_type": "stream",
     "text": [
      "100%|██████████| 9/9 [00:00<00:00, 376.23it/s]\n"
     ]
    },
    {
     "name": "stdout",
     "output_type": "stream",
     "text": [
      "processing file  result_07-03-H17'm'24's03.json\n"
     ]
    },
    {
     "name": "stderr",
     "output_type": "stream",
     "text": [
      "100%|██████████| 8/8 [00:00<00:00, 794.96it/s]\n"
     ]
    },
    {
     "name": "stdout",
     "output_type": "stream",
     "text": [
      "processing file  result_07-03-H17'm'28's23.json\n"
     ]
    },
    {
     "name": "stderr",
     "output_type": "stream",
     "text": [
      "100%|██████████| 8/8 [00:00<00:00, 397.93it/s]\n"
     ]
    },
    {
     "name": "stdout",
     "output_type": "stream",
     "text": [
      "processing file  result_07-03-H17'm'31's15.json\n"
     ]
    },
    {
     "name": "stderr",
     "output_type": "stream",
     "text": [
      "100%|██████████| 12/12 [00:00<00:00, 462.16it/s]\n"
     ]
    },
    {
     "name": "stdout",
     "output_type": "stream",
     "text": [
      "processing file  result_07-03-H17'm'35's31.json\n"
     ]
    },
    {
     "name": "stderr",
     "output_type": "stream",
     "text": [
      "100%|██████████| 7/7 [00:00<00:00, 692.82it/s]\n"
     ]
    },
    {
     "name": "stdout",
     "output_type": "stream",
     "text": [
      "processing file  result_07-03-H17'm'38's56.json\n"
     ]
    },
    {
     "name": "stderr",
     "output_type": "stream",
     "text": [
      "100%|██████████| 8/8 [00:00<00:00, 658.15it/s]\n"
     ]
    },
    {
     "name": "stdout",
     "output_type": "stream",
     "text": [
      "processing file  result_07-03-H17'm'42's21.json\n"
     ]
    },
    {
     "name": "stderr",
     "output_type": "stream",
     "text": [
      "100%|██████████| 10/10 [00:00<00:00, 282.95it/s]\n"
     ]
    },
    {
     "name": "stdout",
     "output_type": "stream",
     "text": [
      "processing file  result_07-03-H17'm'46's31.json\n"
     ]
    },
    {
     "name": "stderr",
     "output_type": "stream",
     "text": [
      "100%|██████████| 5/5 [00:00<00:00, 423.94it/s]\n"
     ]
    },
    {
     "name": "stdout",
     "output_type": "stream",
     "text": [
      "processing file  result_07-03-H17'm'49's47.json\n"
     ]
    },
    {
     "name": "stderr",
     "output_type": "stream",
     "text": [
      "100%|██████████| 13/13 [00:00<00:00, 429.06it/s]\n"
     ]
    },
    {
     "name": "stdout",
     "output_type": "stream",
     "text": [
      "processing file  result_07-03-H17'm'53's44.json\n"
     ]
    },
    {
     "name": "stderr",
     "output_type": "stream",
     "text": [
      "100%|██████████| 13/13 [00:00<00:00, 295.92it/s]\n"
     ]
    },
    {
     "name": "stdout",
     "output_type": "stream",
     "text": [
      "processing file  result_07-03-H17'm'57's19.json\n"
     ]
    },
    {
     "name": "stderr",
     "output_type": "stream",
     "text": [
      "100%|██████████| 9/9 [00:00<00:00, 255.57it/s]\n"
     ]
    },
    {
     "name": "stdout",
     "output_type": "stream",
     "text": [
      "processing file  result_07-03-H18'm'00's57.json\n"
     ]
    },
    {
     "name": "stderr",
     "output_type": "stream",
     "text": [
      "100%|██████████| 7/7 [00:00<00:00, 545.79it/s]\n"
     ]
    },
    {
     "name": "stdout",
     "output_type": "stream",
     "text": [
      "processing file  result_07-03-H18'm'04's55.json\n"
     ]
    },
    {
     "name": "stderr",
     "output_type": "stream",
     "text": [
      "100%|██████████| 9/9 [00:00<00:00, 497.72it/s]\n"
     ]
    },
    {
     "name": "stdout",
     "output_type": "stream",
     "text": [
      "processing file  result_07-03-H18'm'07's53.json\n"
     ]
    },
    {
     "name": "stderr",
     "output_type": "stream",
     "text": [
      "100%|██████████| 10/10 [00:00<00:00, 1063.79it/s]\n"
     ]
    },
    {
     "name": "stdout",
     "output_type": "stream",
     "text": [
      "processing file  result_07-03-H18'm'11's16.json\n"
     ]
    },
    {
     "name": "stderr",
     "output_type": "stream",
     "text": [
      "100%|██████████| 12/12 [00:00<00:00, 393.47it/s]\n"
     ]
    },
    {
     "name": "stdout",
     "output_type": "stream",
     "text": [
      "processing file  result_07-03-H18'm'15's02.json\n"
     ]
    },
    {
     "name": "stderr",
     "output_type": "stream",
     "text": [
      "100%|██████████| 11/11 [00:00<00:00, 694.06it/s]\n"
     ]
    },
    {
     "name": "stdout",
     "output_type": "stream",
     "text": [
      "processing file  result_07-03-H18'm'18's52.json\n"
     ]
    },
    {
     "name": "stderr",
     "output_type": "stream",
     "text": [
      "100%|██████████| 7/7 [00:00<00:00, 869.34it/s]\n"
     ]
    },
    {
     "name": "stdout",
     "output_type": "stream",
     "text": [
      "processing file  result_07-03-H18'm'22's11.json\n"
     ]
    },
    {
     "name": "stderr",
     "output_type": "stream",
     "text": [
      "100%|██████████| 10/10 [00:00<00:00, 317.74it/s]\n"
     ]
    },
    {
     "name": "stdout",
     "output_type": "stream",
     "text": [
      "processing file  result_07-03-H18'm'25's01.json\n"
     ]
    },
    {
     "name": "stderr",
     "output_type": "stream",
     "text": [
      "100%|██████████| 12/12 [00:00<00:00, 452.61it/s]\n"
     ]
    },
    {
     "name": "stdout",
     "output_type": "stream",
     "text": [
      "processing file  result_07-03-H18'm'28's28.json\n"
     ]
    },
    {
     "name": "stderr",
     "output_type": "stream",
     "text": [
      "100%|██████████| 9/9 [00:00<00:00, 297.86it/s]\n"
     ]
    },
    {
     "name": "stdout",
     "output_type": "stream",
     "text": [
      "processing file  result_07-03-H18'm'31's36.json\n"
     ]
    },
    {
     "name": "stderr",
     "output_type": "stream",
     "text": [
      "100%|██████████| 10/10 [00:00<00:00, 354.66it/s]\n"
     ]
    },
    {
     "name": "stdout",
     "output_type": "stream",
     "text": [
      "processing file  result_07-03-H18'm'34's43.json\n"
     ]
    },
    {
     "name": "stderr",
     "output_type": "stream",
     "text": [
      "100%|██████████| 15/15 [00:00<00:00, 391.83it/s]\n"
     ]
    },
    {
     "name": "stdout",
     "output_type": "stream",
     "text": [
      "processing file  result_07-03-H18'm'37's58.json\n"
     ]
    },
    {
     "name": "stderr",
     "output_type": "stream",
     "text": [
      "100%|██████████| 17/17 [00:00<00:00, 561.93it/s]\n"
     ]
    },
    {
     "name": "stdout",
     "output_type": "stream",
     "text": [
      "processing file  result_07-03-H18'm'41's17.json\n"
     ]
    },
    {
     "name": "stderr",
     "output_type": "stream",
     "text": [
      "100%|██████████| 14/14 [00:00<00:00, 277.91it/s]\n"
     ]
    },
    {
     "name": "stdout",
     "output_type": "stream",
     "text": [
      "processing file  result_07-03-H18'm'44's15.json\n"
     ]
    },
    {
     "name": "stderr",
     "output_type": "stream",
     "text": [
      "100%|██████████| 13/13 [00:00<00:00, 637.61it/s]\n"
     ]
    },
    {
     "data": {
      "text/plain": "                              code_name  length genome_threshold  \\\n0     [OS OM OC][Len MFit CAtom][GNone]       2             None   \n1     [OS OM OC][Len MFit CAtom][GNone]       3             None   \n2     [OS OM OC][Len MFit CAtom][GNone]       2             None   \n3     [OS OM OC][Len MFit CAtom][GNone]       2             None   \n4     [OS OM OC][Len MFit CAtom][GNone]       2             None   \n...                                 ...     ...              ...   \n1038  [OS OM OC][Len MFit CAtom][GNone]       2             None   \n1039  [OS OM OC][Len MFit CAtom][GNone]       1             None   \n1040  [OS OM OC][Len MFit CAtom][GNone]       2             None   \n1041  [OS OM OC][Len MFit CAtom][GNone]       2             None   \n1042  [OS OM OC][Len MFit CAtom][GNone]       2             None   \n\n      test_coverage  test_HR_20  test_HR_100  train_coverage  train_HR_20  \\\n0          0.025933    0.391941     0.677656        0.026501     0.355735   \n1          0.028023    0.335593     0.661017        0.028139     0.319831   \n2          0.031063    0.336391     0.663609        0.033031     0.350827   \n3          0.023938    0.365079     0.686508        0.026073     0.389800   \n4          0.026028    0.321168     0.682482        0.027261     0.343206   \n...             ...         ...          ...             ...          ...   \n1038       0.023463    0.392713     0.692308        0.024482     0.375364   \n1039       0.035813    0.368700     0.673740        0.037424     0.349619   \n1040       0.023653    0.401606     0.682731        0.027142     0.370954   \n1041       0.025838    0.136029     0.338235        0.024649     0.157996   \n1042       0.029448    0.383871     0.722581        0.031226     0.370342   \n\n      train_HR_100  \n0         0.687276  \n1         0.657384  \n2         0.681524  \n3         0.705829  \n4         0.648955  \n...            ...  \n1038      0.712900  \n1039      0.664975  \n1040      0.704287  \n1041      0.374759  \n1042      0.708745  \n\n[1043 rows x 9 columns]",
      "text/html": "<div>\n<style scoped>\n    .dataframe tbody tr th:only-of-type {\n        vertical-align: middle;\n    }\n\n    .dataframe tbody tr th {\n        vertical-align: top;\n    }\n\n    .dataframe thead th {\n        text-align: right;\n    }\n</style>\n<table border=\"1\" class=\"dataframe\">\n  <thead>\n    <tr style=\"text-align: right;\">\n      <th></th>\n      <th>code_name</th>\n      <th>length</th>\n      <th>genome_threshold</th>\n      <th>test_coverage</th>\n      <th>test_HR_20</th>\n      <th>test_HR_100</th>\n      <th>train_coverage</th>\n      <th>train_HR_20</th>\n      <th>train_HR_100</th>\n    </tr>\n  </thead>\n  <tbody>\n    <tr>\n      <th>0</th>\n      <td>[OS OM OC][Len MFit CAtom][GNone]</td>\n      <td>2</td>\n      <td>None</td>\n      <td>0.025933</td>\n      <td>0.391941</td>\n      <td>0.677656</td>\n      <td>0.026501</td>\n      <td>0.355735</td>\n      <td>0.687276</td>\n    </tr>\n    <tr>\n      <th>1</th>\n      <td>[OS OM OC][Len MFit CAtom][GNone]</td>\n      <td>3</td>\n      <td>None</td>\n      <td>0.028023</td>\n      <td>0.335593</td>\n      <td>0.661017</td>\n      <td>0.028139</td>\n      <td>0.319831</td>\n      <td>0.657384</td>\n    </tr>\n    <tr>\n      <th>2</th>\n      <td>[OS OM OC][Len MFit CAtom][GNone]</td>\n      <td>2</td>\n      <td>None</td>\n      <td>0.031063</td>\n      <td>0.336391</td>\n      <td>0.663609</td>\n      <td>0.033031</td>\n      <td>0.350827</td>\n      <td>0.681524</td>\n    </tr>\n    <tr>\n      <th>3</th>\n      <td>[OS OM OC][Len MFit CAtom][GNone]</td>\n      <td>2</td>\n      <td>None</td>\n      <td>0.023938</td>\n      <td>0.365079</td>\n      <td>0.686508</td>\n      <td>0.026073</td>\n      <td>0.389800</td>\n      <td>0.705829</td>\n    </tr>\n    <tr>\n      <th>4</th>\n      <td>[OS OM OC][Len MFit CAtom][GNone]</td>\n      <td>2</td>\n      <td>None</td>\n      <td>0.026028</td>\n      <td>0.321168</td>\n      <td>0.682482</td>\n      <td>0.027261</td>\n      <td>0.343206</td>\n      <td>0.648955</td>\n    </tr>\n    <tr>\n      <th>...</th>\n      <td>...</td>\n      <td>...</td>\n      <td>...</td>\n      <td>...</td>\n      <td>...</td>\n      <td>...</td>\n      <td>...</td>\n      <td>...</td>\n      <td>...</td>\n    </tr>\n    <tr>\n      <th>1038</th>\n      <td>[OS OM OC][Len MFit CAtom][GNone]</td>\n      <td>2</td>\n      <td>None</td>\n      <td>0.023463</td>\n      <td>0.392713</td>\n      <td>0.692308</td>\n      <td>0.024482</td>\n      <td>0.375364</td>\n      <td>0.712900</td>\n    </tr>\n    <tr>\n      <th>1039</th>\n      <td>[OS OM OC][Len MFit CAtom][GNone]</td>\n      <td>1</td>\n      <td>None</td>\n      <td>0.035813</td>\n      <td>0.368700</td>\n      <td>0.673740</td>\n      <td>0.037424</td>\n      <td>0.349619</td>\n      <td>0.664975</td>\n    </tr>\n    <tr>\n      <th>1040</th>\n      <td>[OS OM OC][Len MFit CAtom][GNone]</td>\n      <td>2</td>\n      <td>None</td>\n      <td>0.023653</td>\n      <td>0.401606</td>\n      <td>0.682731</td>\n      <td>0.027142</td>\n      <td>0.370954</td>\n      <td>0.704287</td>\n    </tr>\n    <tr>\n      <th>1041</th>\n      <td>[OS OM OC][Len MFit CAtom][GNone]</td>\n      <td>2</td>\n      <td>None</td>\n      <td>0.025838</td>\n      <td>0.136029</td>\n      <td>0.338235</td>\n      <td>0.024649</td>\n      <td>0.157996</td>\n      <td>0.374759</td>\n    </tr>\n    <tr>\n      <th>1042</th>\n      <td>[OS OM OC][Len MFit CAtom][GNone]</td>\n      <td>2</td>\n      <td>None</td>\n      <td>0.029448</td>\n      <td>0.383871</td>\n      <td>0.722581</td>\n      <td>0.031226</td>\n      <td>0.370342</td>\n      <td>0.708745</td>\n    </tr>\n  </tbody>\n</table>\n<p>1043 rows × 9 columns</p>\n</div>"
     },
     "metadata": {},
     "output_type": "display_data"
    }
   ],
   "source": [
    "results_folder = r\"C:\\Users\\gac8\\PycharmProjects\\PSSearch\\retail_forecasting_data_collection\\local_results_baseline\"\n",
    "results_df = process_results_folder(results_folder)\n",
    "\n",
    "display(results_df)"
   ]
  },
  {
   "cell_type": "code",
   "execution_count": 5,
   "id": "96bdcb25cc91c3ea",
   "metadata": {
    "ExecuteTime": {
     "end_time": "2025-07-04T13:32:56.251225200Z",
     "start_time": "2025-07-04T13:32:56.174371700Z"
    }
   },
   "outputs": [],
   "source": [
    "import utils\n",
    "\n",
    "scratch_path = r\"C:\\Users\\gac8\\PycharmProjects\\PSSearch\\retail_forecasting_data_collection\\scratch_processing\\processed_baseline.csv\"\n",
    "\n",
    "\n",
    "results_df.to_csv(scratch_path)"
   ]
  },
  {
   "cell_type": "markdown",
   "source": [
    "* read the data that has been stored as a csv, call it ps_df. \n",
    "* the columns of this df are code_name,length,genome_threshold,test_coverage,test_HR_20,test_HR_100,train_coverage,train_HR_20,train_HR_100\n",
    "* for each codename, find the mean and standard deviation of the length, test_coverage, test_HR_20, test_HR_100, train_coverage,train_HR_20,train_HR_100\n",
    "* put these results in a table, and save it as a csv where the path will be os.path.join(scratch_processing_dir, \"summary_stats_\"+utils.get_formatted_timestamp())"
   ],
   "metadata": {
    "collapsed": false
   },
   "id": "60e605169d662380"
  },
  {
   "cell_type": "code",
   "execution_count": 6,
   "outputs": [],
   "source": [
    "import pandas as pd\n",
    "import os\n",
    "import utils  # Make sure this is your own module and has get_formatted_timestamp()\n",
    "\n",
    "scratch_processing_dir = r\"C:\\Users\\gac8\\PycharmProjects\\PSSearch\\retail_forecasting_data_collection\\scratch_processing\"\n",
    "data_to_process_path = r\"C:\\Users\\gac8\\PycharmProjects\\PSSearch\\retail_forecasting_data_collection\\scratch_processing\\processed_baseline.csv\"\n",
    "\n",
    "# we also need to find how many pss were found for each run. At the same time, we may as well make the latex table\n",
    "\n",
    "\n",
    "if True:\n",
    "    # Read the data\n",
    "    ps_df = pd.read_csv(data_to_process_path)  # Replace with actual path\n",
    "    \n",
    "    # Define columns to compute stats on\n",
    "    metrics = [\n",
    "        \"length\", \"test_coverage\", \"test_HR_20\", \"test_HR_100\",\n",
    "        \"train_coverage\", \"train_HR_20\", \"train_HR_100\"\n",
    "    ]\n",
    "    \n",
    "    # Group by 'code_name' and compute mean and std\n",
    "    grouped = ps_df.groupby(\"code_name\")[metrics].agg([\"mean\", \"std\"])\n",
    "    \n",
    "    # Flatten MultiIndex columns\n",
    "    grouped.columns = ['_'.join(col).strip() for col in grouped.columns.values]\n",
    "    \n",
    "    # Reset index to make 'code_name' a column again\n",
    "    summary_df = grouped.reset_index()\n",
    "    \n",
    "    # Compute average quantity of items produced (count / 100)  because there's a 100 runs per settings\n",
    "    counts = ps_df['code_name'].value_counts().sort_index()\n",
    "    summary_df[\"avg_quantity\"] = counts.values / 100.0\n",
    "    \n",
    "    # Save the summary as CSV\n",
    "    output_path = os.path.join(\n",
    "        scratch_processing_dir,\n",
    "        \"summary_stats_\" + utils.get_formatted_timestamp() + \".csv\"\n",
    "    )\n",
    "    summary_df.to_csv(output_path, index=False)\n"
   ],
   "metadata": {
    "collapsed": false,
    "ExecuteTime": {
     "end_time": "2025-07-04T13:32:56.304166200Z",
     "start_time": "2025-07-04T13:32:56.223044700Z"
    }
   },
   "id": "9378ea3327142846"
  },
  {
   "cell_type": "code",
   "execution_count": 7,
   "outputs": [],
   "source": [
    "import pandas as pd\n",
    "\n",
    "\n",
    "if False:\n",
    "    # Paths to your input CSV files\n",
    "    csv_path_1 = r\"C:\\Users\\gac8\\PycharmProjects\\PSSearch\\retail_forecasting_data_collection\\scratch_processing\\processed_with_gt.csv\"\n",
    "    csv_path_2 = r\"C:\\Users\\gac8\\PycharmProjects\\PSSearch\\retail_forecasting_data_collection\\scratch_processing\\processed_without_gt.csv\"\n",
    "    \n",
    "    # Read the CSV files, treating the first column as the index\n",
    "    df1 = pd.read_csv(csv_path_1, index_col=0)\n",
    "    df2 = pd.read_csv(csv_path_2, index_col=0)\n",
    "    \n",
    "    # Concatenate the two DataFrames\n",
    "    combined_df = pd.concat([df1, df2], axis=0)\n",
    "    \n",
    "    # Optional: reset index if you want a new sequential index\n",
    "    combined_df = combined_df.reset_index(drop=True)\n",
    "    \n",
    "    # Save the result\n",
    "    combined_df.to_csv(r\"C:\\Users\\gac8\\PycharmProjects\\PSSearch\\retail_forecasting_data_collection\\scratch_processing\\processed_all.csv\")\n"
   ],
   "metadata": {
    "collapsed": false,
    "ExecuteTime": {
     "end_time": "2025-07-04T13:32:56.304166200Z",
     "start_time": "2025-07-04T13:32:56.257586700Z"
    }
   },
   "id": "ef7d6a9d634bdb1d"
  }
 ],
 "metadata": {
  "kernelspec": {
   "display_name": "Python 3 (ipykernel)",
   "language": "python",
   "name": "python3"
  },
  "language_info": {
   "codemirror_mode": {
    "name": "ipython",
    "version": 3
   },
   "file_extension": ".py",
   "mimetype": "text/x-python",
   "name": "python",
   "nbconvert_exporter": "python",
   "pygments_lexer": "ipython3",
   "version": "3.11.5"
  }
 },
 "nbformat": 4,
 "nbformat_minor": 5
}
