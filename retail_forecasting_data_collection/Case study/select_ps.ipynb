{
 "cells": [
  {
   "cell_type": "markdown",
   "id": "3457928f4b702936",
   "metadata": {},
   "source": [
    "reading pss:\n",
    "\n",
    "Inputs:\n",
    "* filename\n",
    "* codename\n",
    "\n",
    "outputs:\n",
    "* list of pss\n",
    "\n",
    "assigning metrics to pss:\n",
    "outputs:\n",
    "* a pandas dataframe with the right columns\n",
    "    ps, threshold, size, session_count, mean fitness, difference of fitness, atomicity \n",
    "\n",
    "\n",
    "Make plot showing \n",
    "* tradeoff between size and mean fitness\n",
    "* tradeoff between commonality and mean fitness\n",
    "\n",
    "Then I can decide which pss to convert into the use case. And i can get plots\n",
    "* partition the pref, based on the fitness (HR 100 maybe?)\n",
    "* plot the two distributions"
   ]
  },
  {
   "cell_type": "code",
   "execution_count": 59,
   "id": "be4a927581572b5d",
   "metadata": {
    "ExecuteTime": {
     "end_time": "2025-07-03T16:00:55.421816400Z",
     "start_time": "2025-07-03T16:00:55.400662200Z"
    }
   },
   "outputs": [],
   "source": [
    "# load the pss\n",
    "import json\n",
    "\n",
    "import pandas as pd\n",
    "\n",
    "chosen_filename = r\"C:\\Users\\gac8\\PycharmProjects\\PSSearch\\retail_forecasting_data_collection\\local_results\\result_06-22-H18'm'27's37.json\"\n",
    "chosen_codename = \"[CS CM CC][Len SSize MFit CAtom][G3]\"\n",
    "\n",
    "def read_pss_from_file(filename: str, codename: str):\n",
    "    with open(filename, \"r\") as file:\n",
    "        json_data = json.load(file)\n",
    "    \n",
    "    matching_codenames = [results_for_config[\"results\"] for results_for_config in json_data[\"data\"] if results_for_config[\"config\"][\"code_name\"] == codename]\n",
    "    results_list = matching_codenames[0]\n",
    "    \n",
    "    \n",
    "    return [(set(item[\"pattern\"]), item[\"threshold\"]) for item in results_list]\n",
    "\n",
    "\n",
    "pss = read_pss_from_file(chosen_filename, chosen_codename)\n"
   ]
  },
  {
   "cell_type": "code",
   "execution_count": 72,
   "id": "9e66fdefaca635f7",
   "metadata": {
    "ExecuteTime": {
     "end_time": "2025-07-04T08:50:49.365412600Z",
     "start_time": "2025-07-04T08:50:44.000212300Z"
    }
   },
   "outputs": [
    {
     "name": "stdout",
     "output_type": "stream",
     "text": [
      "PRef with 52639 samples, mean = 7.64\n",
      "quantity_of_zeros = 0, quantity_of_ones = 0, quantity_of_other = 52639\n",
      "Similarities has shape (250, 250)\n"
     ]
    }
   ],
   "source": [
    "from PolishSystem.OperatorsBasedOnSimilarities.similarities_utils import gian_get_similarities\n",
    "from Gian_experimental.NSGAIICustom.testing_in_vitro.SPRef import OptimisedSPref\n",
    "# load the dataset\n",
    "\n",
    "import numpy as np\n",
    "from retail_forecasting_data_collection.data_file_names import vector_path, fitness_values_path\n",
    "from PolishSystem.read_data import get_pRef_from_vectors\n",
    "\n",
    "chosen_pRef = get_pRef_from_vectors(name_of_vectors_file=r\"C:\\Users\\gac8\\PycharmProjects\\PSSearch\\retail_forecasting_data_collection\\data\\many_hot_vectors_250_random.csv\",\n",
    "                                          name_of_fitness_file=r\"C:\\Users\\gac8\\PycharmProjects\\PSSearch\\retail_forecasting_data_collection\\data\\fitness_250_random.csv\",\n",
    "                                          column_in_fitness_file=2) # col 4 should be HR 100\n",
    "\n",
    "chosen_SPref = OptimisedSPref.from_pRef(chosen_pRef)\n",
    "\n",
    "print(chosen_pRef)\n",
    "\n",
    "# sanity check on fitness\n",
    "quantity_of_ones = np.sum(chosen_pRef.fitness_array == 1.0)\n",
    "quantity_of_zeros = np.sum(chosen_pRef.fitness_array == 0.0)\n",
    "quantity_of_other = len(chosen_pRef.fitness_array) - quantity_of_zeros - quantity_of_ones\n",
    "print(f\"{quantity_of_zeros = }, {quantity_of_ones = }, {quantity_of_other = }\")\n",
    "\n",
    "\n",
    "similarities = gian_get_similarities(r\"C:\\Users\\gac8\\PycharmProjects\\PSSearch\\retail_forecasting_data_collection\\data\\cluster_info_250_random.pkl\")\n",
    "print(f\"Similarities has shape {similarities.shape}\")"
   ]
  },
  {
   "cell_type": "code",
   "execution_count": 49,
   "id": "582ae35a82a869cd",
   "metadata": {
    "ExecuteTime": {
     "end_time": "2025-07-03T15:52:08.223479900Z",
     "start_time": "2025-07-03T15:52:08.154003500Z"
    }
   },
   "outputs": [
    {
     "name": "stdout",
     "output_type": "stream",
     "text": [
      "pattern_str {129, 132, 134, 11, 142, 17, 24, 154, 158, 161, 36, 38, 168, 171, 174, 181, 182, 190, 67, 196, 204, 77, 84, 230, 232, 106, 234, 108, 112, 113, 241, 242, 116, 120, 125}\n",
      "threshold 3\n",
      "len 35\n",
      "mf 0.5690389703574151\n",
      "mfd 0.0385841252684237\n",
      "atomicity 0.5987716\n",
      "generality 0.42362126940101447\n"
     ]
    }
   ],
   "source": [
    "import itertools\n",
    "from Gian_experimental.NSGAIICustom.evolving_genome_threshold import NCSolutionWithGT\n",
    "from Core.PRef import PRef\n",
    "\n",
    "\n",
    "# we find the metrics:\n",
    "\n",
    "def atomicity_based_on_similarity(ps):\n",
    "    if len(ps) < 2:\n",
    "        return -1000\n",
    "    else:\n",
    "        linkages = [similarities[a, b] for a, b in itertools.combinations(ps, r=2)]\n",
    "        return np.average(linkages)\n",
    "atomicity = atomicity_based_on_similarity\n",
    "\n",
    "def get_metrics(pattern, threshold, sPRef: OptimisedSPref):\n",
    "    real_ps = NCSolutionWithGT(pattern, threshold)\n",
    "    \n",
    "    matches, non_matches = sPRef.partition_using_threshold(real_ps, threshold)\n",
    "    \n",
    "    return {\"pattern_str\": repr(pattern),\n",
    "            \"threshold\": threshold,\n",
    "            \"len\": len(real_ps),\n",
    "            \"mf\": np.average(matches),\n",
    "            \"mfd\": np.average(matches) - np.average(non_matches),\n",
    "            \"atomicity\": atomicity_based_on_similarity(real_ps),\n",
    "            \"generality\": len(matches) / (len(sPRef.fitnesses))}\n",
    "\n",
    "\n",
    "\n",
    "example_ps, example_threshold = pss[4]\n",
    "example_metrics = get_metrics(example_ps, example_threshold, chosen_SPref)\n",
    "for key, value in example_metrics.items():\n",
    "    print(key, value)"
   ]
  },
  {
   "cell_type": "code",
   "execution_count": 60,
   "id": "a1845fbcb615d0a0",
   "metadata": {
    "ExecuteTime": {
     "end_time": "2025-07-03T16:01:04.039377Z",
     "start_time": "2025-07-03T16:01:01.991060400Z"
    }
   },
   "outputs": [
    {
     "data": {
      "text/plain": "                                          pattern_str  threshold  len  \\\n0    {0, 32, 38, 82, 242, 212, 86, 247, 62, 220, 190}          3   11   \n1   {35, 100, 134, 6, 169, 139, 171, 13, 236, 150,...          3   13   \n2           {98, 228, 202, 43, 50, 181, 87, 184, 124}          3    9   \n3                         {66, 109, 82, 213, 247, 27}          3    6   \n4                   {134, 167, 211, 212, 52, 220, 29}          3    7   \n..                                                ...        ...  ...   \n88    {103, 171, 145, 82, 116, 53, 217, 218, 31, 223}          3   10   \n89                   {196, 7, 137, 180, 85, 120, 249}          3    7   \n90                        {69, 233, 47, 181, 25, 188}          3    6   \n91                       {66, 228, 132, 133, 181, 27}          3    6   \n92  {1, 138, 139, 14, 15, 16, 145, 146, 19, 147, 2...          3   33   \n\n          mf       mfd  atomicity  generality  \n0   0.613565  0.076541   0.491311    0.127719  \n1   0.628429  0.096775   0.778440    0.156500  \n2   0.666984  0.130608   0.517781    0.079808  \n3   0.544865 -0.002006   2.182548    0.035145  \n4   0.661286  0.122873   0.427432    0.068257  \n..       ...       ...        ...         ...  \n88  0.609098  0.069109   0.659067    0.098558  \n89  0.743706  0.202876   0.409169    0.029427  \n90  0.620232  0.080707   0.933120    0.090142  \n91  0.696833  0.154575  -0.004083    0.029389  \n92  0.564667  0.028675   0.635310    0.376907  \n\n[93 rows x 7 columns]",
      "text/html": "<div>\n<style scoped>\n    .dataframe tbody tr th:only-of-type {\n        vertical-align: middle;\n    }\n\n    .dataframe tbody tr th {\n        vertical-align: top;\n    }\n\n    .dataframe thead th {\n        text-align: right;\n    }\n</style>\n<table border=\"1\" class=\"dataframe\">\n  <thead>\n    <tr style=\"text-align: right;\">\n      <th></th>\n      <th>pattern_str</th>\n      <th>threshold</th>\n      <th>len</th>\n      <th>mf</th>\n      <th>mfd</th>\n      <th>atomicity</th>\n      <th>generality</th>\n    </tr>\n  </thead>\n  <tbody>\n    <tr>\n      <th>0</th>\n      <td>{0, 32, 38, 82, 242, 212, 86, 247, 62, 220, 190}</td>\n      <td>3</td>\n      <td>11</td>\n      <td>0.613565</td>\n      <td>0.076541</td>\n      <td>0.491311</td>\n      <td>0.127719</td>\n    </tr>\n    <tr>\n      <th>1</th>\n      <td>{35, 100, 134, 6, 169, 139, 171, 13, 236, 150,...</td>\n      <td>3</td>\n      <td>13</td>\n      <td>0.628429</td>\n      <td>0.096775</td>\n      <td>0.778440</td>\n      <td>0.156500</td>\n    </tr>\n    <tr>\n      <th>2</th>\n      <td>{98, 228, 202, 43, 50, 181, 87, 184, 124}</td>\n      <td>3</td>\n      <td>9</td>\n      <td>0.666984</td>\n      <td>0.130608</td>\n      <td>0.517781</td>\n      <td>0.079808</td>\n    </tr>\n    <tr>\n      <th>3</th>\n      <td>{66, 109, 82, 213, 247, 27}</td>\n      <td>3</td>\n      <td>6</td>\n      <td>0.544865</td>\n      <td>-0.002006</td>\n      <td>2.182548</td>\n      <td>0.035145</td>\n    </tr>\n    <tr>\n      <th>4</th>\n      <td>{134, 167, 211, 212, 52, 220, 29}</td>\n      <td>3</td>\n      <td>7</td>\n      <td>0.661286</td>\n      <td>0.122873</td>\n      <td>0.427432</td>\n      <td>0.068257</td>\n    </tr>\n    <tr>\n      <th>...</th>\n      <td>...</td>\n      <td>...</td>\n      <td>...</td>\n      <td>...</td>\n      <td>...</td>\n      <td>...</td>\n      <td>...</td>\n    </tr>\n    <tr>\n      <th>88</th>\n      <td>{103, 171, 145, 82, 116, 53, 217, 218, 31, 223}</td>\n      <td>3</td>\n      <td>10</td>\n      <td>0.609098</td>\n      <td>0.069109</td>\n      <td>0.659067</td>\n      <td>0.098558</td>\n    </tr>\n    <tr>\n      <th>89</th>\n      <td>{196, 7, 137, 180, 85, 120, 249}</td>\n      <td>3</td>\n      <td>7</td>\n      <td>0.743706</td>\n      <td>0.202876</td>\n      <td>0.409169</td>\n      <td>0.029427</td>\n    </tr>\n    <tr>\n      <th>90</th>\n      <td>{69, 233, 47, 181, 25, 188}</td>\n      <td>3</td>\n      <td>6</td>\n      <td>0.620232</td>\n      <td>0.080707</td>\n      <td>0.933120</td>\n      <td>0.090142</td>\n    </tr>\n    <tr>\n      <th>91</th>\n      <td>{66, 228, 132, 133, 181, 27}</td>\n      <td>3</td>\n      <td>6</td>\n      <td>0.696833</td>\n      <td>0.154575</td>\n      <td>-0.004083</td>\n      <td>0.029389</td>\n    </tr>\n    <tr>\n      <th>92</th>\n      <td>{1, 138, 139, 14, 15, 16, 145, 146, 19, 147, 2...</td>\n      <td>3</td>\n      <td>33</td>\n      <td>0.564667</td>\n      <td>0.028675</td>\n      <td>0.635310</td>\n      <td>0.376907</td>\n    </tr>\n  </tbody>\n</table>\n<p>93 rows × 7 columns</p>\n</div>"
     },
     "metadata": {},
     "output_type": "display_data"
    }
   ],
   "source": [
    "import pandas as pd\n",
    "\n",
    "ps_df = pd.DataFrame([get_metrics(pattern, threshold, chosen_SPref) for pattern, threshold in pss])\n",
    "display(ps_df)"
   ]
  },
  {
   "cell_type": "code",
   "execution_count": 70,
   "id": "1fd6ce7ec1cb9a1d",
   "metadata": {
    "ExecuteTime": {
     "end_time": "2025-07-04T08:06:47.222707Z",
     "start_time": "2025-07-04T08:06:47.169595Z"
    }
   },
   "outputs": [
    {
     "data": {
      "text/plain": "                           pattern_str  threshold  len        mf       mfd  \\\n4    {134, 167, 211, 212, 52, 220, 29}          3    7  0.661286  0.122873   \n6          {134, 9, 237, 13, 143, 191}          3    6  0.703586  0.160615   \n8              {71, 208, 248, 155, 93}          3    5  0.689365  0.146195   \n13             {204, 146, 181, 86, 60}          3    5  0.708333  0.165999   \n29          {38, 13, 79, 49, 177, 155}          3    6  0.694507  0.152888   \n31         {3, 211, 180, 119, 92, 190}          3    6  0.675231  0.132244   \n32          {171, 53, 24, 25, 156, 95}          3    6  0.667449  0.124687   \n52             {32, 42, 145, 209, 188}          3    5  0.634059  0.091656   \n61         {68, 13, 82, 116, 184, 249}          3    6  0.619625  0.076795   \n72            {100, 169, 19, 247, 188}          3    5  0.637017  0.094985   \n76                      {91, 212, 158}          3    3  0.677649  0.134813   \n79       {230, 103, 77, 209, 219, 127}          3    6  0.687970  0.146347   \n81  {165, 38, 166, 171, 177, 148, 213}          3    7  0.634520  0.091225   \n87        {196, 202, 43, 142, 53, 220}          3    6  0.640105  0.100596   \n89    {196, 7, 137, 180, 85, 120, 249}          3    7  0.743706  0.202876   \n90         {69, 233, 47, 181, 25, 188}          3    6  0.620232  0.080707   \n\n    atomicity  generality  \n4    0.427432    0.068257  \n6    1.229850    0.023842  \n8    0.652119    0.024829  \n13   0.517477    0.026900  \n29   2.284779    0.033891  \n31   1.241469    0.028838  \n32   1.937239    0.032390  \n52   1.022864    0.047968  \n61   1.121531    0.051692  \n72   0.647536    0.050191  \n76   1.124525    0.029408  \n79   0.275734    0.035373  \n81   0.830159    0.038413  \n87   0.608660    0.072475  \n89   0.409169    0.029427  \n90   0.933120    0.090142  ",
      "text/html": "<div>\n<style scoped>\n    .dataframe tbody tr th:only-of-type {\n        vertical-align: middle;\n    }\n\n    .dataframe tbody tr th {\n        vertical-align: top;\n    }\n\n    .dataframe thead th {\n        text-align: right;\n    }\n</style>\n<table border=\"1\" class=\"dataframe\">\n  <thead>\n    <tr style=\"text-align: right;\">\n      <th></th>\n      <th>pattern_str</th>\n      <th>threshold</th>\n      <th>len</th>\n      <th>mf</th>\n      <th>mfd</th>\n      <th>atomicity</th>\n      <th>generality</th>\n    </tr>\n  </thead>\n  <tbody>\n    <tr>\n      <th>4</th>\n      <td>{134, 167, 211, 212, 52, 220, 29}</td>\n      <td>3</td>\n      <td>7</td>\n      <td>0.661286</td>\n      <td>0.122873</td>\n      <td>0.427432</td>\n      <td>0.068257</td>\n    </tr>\n    <tr>\n      <th>6</th>\n      <td>{134, 9, 237, 13, 143, 191}</td>\n      <td>3</td>\n      <td>6</td>\n      <td>0.703586</td>\n      <td>0.160615</td>\n      <td>1.229850</td>\n      <td>0.023842</td>\n    </tr>\n    <tr>\n      <th>8</th>\n      <td>{71, 208, 248, 155, 93}</td>\n      <td>3</td>\n      <td>5</td>\n      <td>0.689365</td>\n      <td>0.146195</td>\n      <td>0.652119</td>\n      <td>0.024829</td>\n    </tr>\n    <tr>\n      <th>13</th>\n      <td>{204, 146, 181, 86, 60}</td>\n      <td>3</td>\n      <td>5</td>\n      <td>0.708333</td>\n      <td>0.165999</td>\n      <td>0.517477</td>\n      <td>0.026900</td>\n    </tr>\n    <tr>\n      <th>29</th>\n      <td>{38, 13, 79, 49, 177, 155}</td>\n      <td>3</td>\n      <td>6</td>\n      <td>0.694507</td>\n      <td>0.152888</td>\n      <td>2.284779</td>\n      <td>0.033891</td>\n    </tr>\n    <tr>\n      <th>31</th>\n      <td>{3, 211, 180, 119, 92, 190}</td>\n      <td>3</td>\n      <td>6</td>\n      <td>0.675231</td>\n      <td>0.132244</td>\n      <td>1.241469</td>\n      <td>0.028838</td>\n    </tr>\n    <tr>\n      <th>32</th>\n      <td>{171, 53, 24, 25, 156, 95}</td>\n      <td>3</td>\n      <td>6</td>\n      <td>0.667449</td>\n      <td>0.124687</td>\n      <td>1.937239</td>\n      <td>0.032390</td>\n    </tr>\n    <tr>\n      <th>52</th>\n      <td>{32, 42, 145, 209, 188}</td>\n      <td>3</td>\n      <td>5</td>\n      <td>0.634059</td>\n      <td>0.091656</td>\n      <td>1.022864</td>\n      <td>0.047968</td>\n    </tr>\n    <tr>\n      <th>61</th>\n      <td>{68, 13, 82, 116, 184, 249}</td>\n      <td>3</td>\n      <td>6</td>\n      <td>0.619625</td>\n      <td>0.076795</td>\n      <td>1.121531</td>\n      <td>0.051692</td>\n    </tr>\n    <tr>\n      <th>72</th>\n      <td>{100, 169, 19, 247, 188}</td>\n      <td>3</td>\n      <td>5</td>\n      <td>0.637017</td>\n      <td>0.094985</td>\n      <td>0.647536</td>\n      <td>0.050191</td>\n    </tr>\n    <tr>\n      <th>76</th>\n      <td>{91, 212, 158}</td>\n      <td>3</td>\n      <td>3</td>\n      <td>0.677649</td>\n      <td>0.134813</td>\n      <td>1.124525</td>\n      <td>0.029408</td>\n    </tr>\n    <tr>\n      <th>79</th>\n      <td>{230, 103, 77, 209, 219, 127}</td>\n      <td>3</td>\n      <td>6</td>\n      <td>0.687970</td>\n      <td>0.146347</td>\n      <td>0.275734</td>\n      <td>0.035373</td>\n    </tr>\n    <tr>\n      <th>81</th>\n      <td>{165, 38, 166, 171, 177, 148, 213}</td>\n      <td>3</td>\n      <td>7</td>\n      <td>0.634520</td>\n      <td>0.091225</td>\n      <td>0.830159</td>\n      <td>0.038413</td>\n    </tr>\n    <tr>\n      <th>87</th>\n      <td>{196, 202, 43, 142, 53, 220}</td>\n      <td>3</td>\n      <td>6</td>\n      <td>0.640105</td>\n      <td>0.100596</td>\n      <td>0.608660</td>\n      <td>0.072475</td>\n    </tr>\n    <tr>\n      <th>89</th>\n      <td>{196, 7, 137, 180, 85, 120, 249}</td>\n      <td>3</td>\n      <td>7</td>\n      <td>0.743706</td>\n      <td>0.202876</td>\n      <td>0.409169</td>\n      <td>0.029427</td>\n    </tr>\n    <tr>\n      <th>90</th>\n      <td>{69, 233, 47, 181, 25, 188}</td>\n      <td>3</td>\n      <td>6</td>\n      <td>0.620232</td>\n      <td>0.080707</td>\n      <td>0.933120</td>\n      <td>0.090142</td>\n    </tr>\n  </tbody>\n</table>\n</div>"
     },
     "metadata": {},
     "output_type": "display_data"
    },
    {
     "name": "stdout",
     "output_type": "stream",
     "text": [
      "{139, 204, 86, 184, 57, 221, 62, 63} 3\n"
     ]
    }
   ],
   "source": [
    "\n",
    "len_is_small = ps_df[\"len\"] < 8\n",
    "mfd_is_high = ps_df[\"mfd\"] > 0.0\n",
    "generality_is_high = ps_df[\"generality\"] >= 0.0\n",
    "atomicity_is_positive = ps_df[\"atomicity\"] > 0\n",
    "\n",
    "acceptable_ps_df = ps_df[len_is_small & mfd_is_high & generality_is_high & atomicity_is_positive]\n",
    "display(acceptable_ps_df)\n",
    "\n",
    "\n",
    "winner_pattern, winner_threshold = ({139, 204, 86, 184, 57, 221, 62, 63}, 3)\n",
    "print(winner_pattern, winner_threshold)\n"
   ]
  },
  {
   "cell_type": "code",
   "execution_count": 71,
   "id": "4970974e9c712985",
   "metadata": {
    "ExecuteTime": {
     "end_time": "2025-07-04T08:48:20.162858500Z",
     "start_time": "2025-07-04T08:48:20.131106100Z"
    }
   },
   "outputs": [
    {
     "name": "stdout",
     "output_type": "stream",
     "text": [
      "[1. 1. 1. ... 0. 0. 1.]\n",
      "[1. 1. 1. ... 0. 1. 1.]\n",
      "If you match at least 3 clusters out of \n",
      "{139, 204, 86, 184, 57, 221, 62, 63}, then\n",
      "The hit rate is 0.6401608219790038, whereas the average overall is 0.5467999012139289\n",
      "This pattern occurrs 0.08505100780789909 of the time\n"
     ]
    }
   ],
   "source": [
    "winner_real_ps = NCSolutionWithGT(winner_pattern, winner_threshold)\n",
    "    \n",
    "# the fitness column should be 4 for this\n",
    "matches, non_matches = chosen_SPref.partition_using_threshold(winner_real_ps, winner_threshold)\n",
    "\n",
    "print(matches)\n",
    "print(non_matches)\n",
    "\n",
    "## here is the explanation\n",
    "print(f\"If you match at least {winner_threshold} clusters out of \\n{winner_pattern}, then\")\n",
    "print(f\"The hit rate is {np.average(matches)}, whereas the average overall is {np.average(chosen_SPref.fitnesses)}\")\n",
    "print(f\"This pattern occurrs {len(matches) / len(chosen_SPref.fitnesses)} of the time\")\n",
    "\n"
   ]
  },
  {
   "cell_type": "code",
   "execution_count": 93,
   "outputs": [],
   "source": [
    "import os\n",
    "\n",
    "# the fitness column should be 2 for this\n",
    "winner_real_ps = NCSolutionWithGT(winner_pattern, winner_threshold)\n",
    "    \n",
    "# the fitness column should be 4 for this\n",
    "matches, non_matches = chosen_SPref.partition_using_threshold(winner_real_ps, winner_threshold)\n",
    "\n",
    "import matplotlib.pyplot as plt\n",
    "import numpy as np\n",
    "\n",
    "def make_distribution_comparison_plot(values_a, values_b, bins, x_label, y_label,\n",
    "                                      title, legend_names, file_destination, figsize,\n",
    "                                      normalise=False):\n",
    "    \"\"\"\n",
    "    Plots two overlapping histograms comparing the distributions of two datasets.\n",
    "    When normalise=True, shows frequency percentages on y-axis.\n",
    "    \"\"\"\n",
    "    plt.figure(figsize=figsize)\n",
    "\n",
    "    if normalise:\n",
    "        # Use the same bin edges for both histograms\n",
    "        counts_a, bin_edges = np.histogram(values_a, bins=bins, density=True)\n",
    "        counts_b, _ = np.histogram(values_b, bins=bin_edges, density=True)\n",
    "\n",
    "        # Convert density to percentages\n",
    "        counts_a *= 100\n",
    "        counts_b *= 100\n",
    "\n",
    "        bin_centers = (bin_edges[:-1] + bin_edges[1:]) / 2\n",
    "        width = bin_edges[1] - bin_edges[0]\n",
    "\n",
    "        # Plot overlapping bars at the same positions\n",
    "        plt.bar(bin_centers, counts_a, width=width, alpha=0.5,\n",
    "                label=legend_names[0], color='steelblue', edgecolor='black')\n",
    "        plt.bar(bin_centers, counts_b, width=width, alpha=0.5,\n",
    "                label=legend_names[1], color='darkorange', edgecolor='black')\n",
    "\n",
    "        plt.ylabel('Frequency (%)')\n",
    "    else:\n",
    "        plt.hist(values_a, bins=bins, alpha=0.6,\n",
    "                 label=legend_names[0], color='steelblue', edgecolor='black')\n",
    "        plt.hist(values_b, bins=bins, alpha=0.6,\n",
    "                 label=legend_names[1], color='darkorange', edgecolor='black')\n",
    "        plt.ylabel(y_label)\n",
    "\n",
    "    plt.xlabel(x_label)\n",
    "    plt.xlim((0, 25))\n",
    "    plt.title(title)\n",
    "    plt.legend()\n",
    "    plt.grid(True)\n",
    "    plt.tight_layout()\n",
    "\n",
    "    if file_destination:\n",
    "        plt.savefig(file_destination)\n",
    "    else:\n",
    "        plt.show()\n",
    "\n",
    "    plt.close()\n",
    "\n",
    "\n",
    "case_study_folder = r\"C:\\Users\\gac8\\PycharmProjects\\PSSearch\\retail_forecasting_data_collection\\Case study\"\n",
    "normalised_distributions_destination = os.path.join(case_study_folder, \"normalised_distribution.pdf\")\n",
    "make_distribution_comparison_plot(matches, non_matches, \n",
    "                                  bins=30, \n",
    "                                  x_label=\"$\\mathregular{f_2}\\ value$\", \n",
    "                                  y_label=\"frequency\", \n",
    "                                  title=\"Comparison of fitness distributions\", \n",
    "                                  legend_names=(\"with pattern\", \"without pattern\"), \n",
    "                                  file_destination=normalised_distributions_destination, \n",
    "                                  figsize=(6, 3), \n",
    "                                  normalise=True)\n"
   ],
   "metadata": {
    "collapsed": false,
    "ExecuteTime": {
     "end_time": "2025-07-04T09:23:49.506606300Z",
     "start_time": "2025-07-04T09:23:48.997940900Z"
    }
   },
   "id": "2b8cb237ae03d766"
  }
 ],
 "metadata": {
  "kernelspec": {
   "display_name": "Python 3 (ipykernel)",
   "language": "python",
   "name": "python3"
  },
  "language_info": {
   "codemirror_mode": {
    "name": "ipython",
    "version": 3
   },
   "file_extension": ".py",
   "mimetype": "text/x-python",
   "name": "python",
   "nbconvert_exporter": "python",
   "pygments_lexer": "ipython3",
   "version": "3.11.5"
  }
 },
 "nbformat": 4,
 "nbformat_minor": 5
}
