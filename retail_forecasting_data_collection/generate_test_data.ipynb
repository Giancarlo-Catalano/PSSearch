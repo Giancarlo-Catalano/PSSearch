{
 "cells": [
  {
   "cell_type": "code",
   "execution_count": 1,
   "id": "initial_id",
   "metadata": {
    "collapsed": true,
    "ExecuteTime": {
     "end_time": "2025-06-23T08:20:21.056386400Z",
     "start_time": "2025-06-23T08:20:11.752185Z"
    }
   },
   "outputs": [],
   "source": [
    "\n",
    "\n",
    "import random\n",
    "from retail_forecasting_data_collection.data_file_names import vector_path, fitness_values_path\n",
    "from PolishSystem.read_data import get_pRef_from_vectors\n",
    "\n",
    "temp_vector_path = r\"C:\\Users\\gac8\\PycharmProjects\\PSSearch\\retail_forecasting_data_collection\\data\\many_hot_vectors_250_random.csv\"\n",
    "temp_fitness_path = r\"C:\\Users\\gac8\\PycharmProjects\\PSSearch\\retail_forecasting_data_collection\\data\\fitness_250_random.csv\"\n",
    "\n",
    "\n",
    "original_pRef = get_pRef_from_vectors(name_of_vectors_file=temp_vector_path,\n",
    "                                      name_of_fitness_file=temp_fitness_path,\n",
    "                                      column_in_fitness_file=2)\n",
    "\n",
    "original_sample_size = original_pRef.sample_size\n",
    "\n",
    "\n",
    "def get_indices_for_seed(test_size: float, seed: int):\n",
    "    random.seed(seed)\n",
    "    return random.sample(range(original_sample_size), int(original_sample_size * test_size))\n",
    "\n",
    "\n",
    "seeds = list(range(100))\n",
    "\n",
    "partitions_by_seed = {seed: get_indices_for_seed(0.2, seed) for seed in seeds}"
   ]
  },
  {
   "cell_type": "code",
   "execution_count": 3,
   "outputs": [
    {
     "name": "stdout",
     "output_type": "stream",
     "text": [
      "Wrote the indices to the file\n"
     ]
    }
   ],
   "source": [
    "import json\n",
    "import utils\n",
    "\n",
    "test_indices_path = r\"C:\\Users\\gac8\\PycharmProjects\\PSSearch\\retail_forecasting_data_collection\\data\\test_indices.json\"\n",
    "\n",
    "with utils.open_and_make_directories(test_indices_path) as file:\n",
    "    json.dump(partitions_by_seed, file)\n",
    "    \n",
    "print(\"Wrote the indices to the file\")"
   ],
   "metadata": {
    "collapsed": false,
    "ExecuteTime": {
     "end_time": "2025-06-23T08:22:25.167190400Z",
     "start_time": "2025-06-23T08:22:23.925261Z"
    }
   },
   "id": "8848e0f2f9c97f07"
  }
 ],
 "metadata": {
  "kernelspec": {
   "display_name": "Python 3",
   "language": "python",
   "name": "python3"
  },
  "language_info": {
   "codemirror_mode": {
    "name": "ipython",
    "version": 2
   },
   "file_extension": ".py",
   "mimetype": "text/x-python",
   "name": "python",
   "nbconvert_exporter": "python",
   "pygments_lexer": "ipython2",
   "version": "2.7.6"
  }
 },
 "nbformat": 4,
 "nbformat_minor": 5
}
